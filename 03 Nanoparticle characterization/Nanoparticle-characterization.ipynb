{
 "cells": [
  {
   "cell_type": "code",
   "execution_count": 1,
   "metadata": {},
   "outputs": [],
   "source": [
    "import sys"
   ]
  },
  {
   "cell_type": "code",
   "execution_count": 6,
   "metadata": {},
   "outputs": [],
   "source": [
    "from urllib.request import urlretrieve\n",
    "import os\n",
    "\n",
    "import itk\n",
    "import imagej\n",
    "import numpy as np\n",
    "\n",
    "\n",
    "import argparse\n",
    "\n"
   ]
  },
  {
   "cell_type": "code",
   "execution_count": null,
   "metadata": {},
   "outputs": [],
   "source": [
    "#from itkwidgets import view # interactive view\n",
    "from itkwidgets import view"
   ]
  },
  {
   "cell_type": "code",
   "execution_count": 3,
   "metadata": {},
   "outputs": [
    {
     "name": "stdout",
     "output_type": "stream",
     "text": [
      "2.14.0/1.54f\n"
     ]
    }
   ],
   "source": [
    "# Initialize imagej\n",
    "ij = imagej.init('/Applications/Fiji.app')\n",
    "print(ij.getVersion())"
   ]
  },
  {
   "cell_type": "code",
   "execution_count": 9,
   "metadata": {},
   "outputs": [
    {
     "ename": "AttributeError",
     "evalue": "module 'itk' has no attribute 'ctype'",
     "output_type": "error",
     "traceback": [
      "\u001b[0;31m---------------------------------------------------------------------------\u001b[0m",
      "\u001b[0;31mAttributeError\u001b[0m                            Traceback (most recent call last)",
      "Cell \u001b[0;32mIn[9], line 6\u001b[0m\n\u001b[1;32m      4\u001b[0m     urlretrieve(url, file_name)\n\u001b[1;32m      5\u001b[0m \u001b[38;5;66;03m#ImageType = itk.Image[itk.UC, 2]\u001b[39;00m\n\u001b[0;32m----> 6\u001b[0m PixelType \u001b[38;5;241m=\u001b[39m \u001b[43mitk\u001b[49m\u001b[38;5;241;43m.\u001b[39;49m\u001b[43mctype\u001b[49m(\u001b[38;5;124m\"\u001b[39m\u001b[38;5;124munsigned char\u001b[39m\u001b[38;5;124m\"\u001b[39m)\n",
      "\u001b[0;31mAttributeError\u001b[0m: module 'itk' has no attribute 'ctype'"
     ]
    }
   ],
   "source": [
    "file_name = 'General_EduRes_Heart_BloodVessels_0.jpg'\n",
    "if not os.path.exists(file_name):\n",
    "    url = 'https://data.kitware.com/api/v1/file/5afe74408d777f15ebe1d701/download'\n",
    "    urlretrieve(url, file_name)\n",
    "#ImageType = itk.Image[itk.UC, 2]\n",
    "PixelType = itk.ctype(\"unsigned char\")\n"
   ]
  },
  {
   "cell_type": "code",
   "execution_count": 7,
   "metadata": {},
   "outputs": [
    {
     "name": "stderr",
     "output_type": "stream",
     "text": [
      "usage: ipykernel_launcher.py [-h] input_image\n",
      "ipykernel_launcher.py: error: the following arguments are required: input_image\n"
     ]
    },
    {
     "ename": "SystemExit",
     "evalue": "2",
     "output_type": "error",
     "traceback": [
      "An exception has occurred, use %tb to see the full traceback.\n",
      "\u001b[0;31mSystemExit\u001b[0m\u001b[0;31m:\u001b[0m 2\n"
     ]
    },
    {
     "name": "stderr",
     "output_type": "stream",
     "text": [
      "/Users/vschastlivaia/miniforge3/envs/data-analysis/lib/python3.11/site-packages/IPython/core/interactiveshell.py:3561: UserWarning: To exit: use 'exit', 'quit', or Ctrl-D.\n",
      "  warn(\"To exit: use 'exit', 'quit', or Ctrl-D.\", stacklevel=1)\n"
     ]
    }
   ],
   "source": [
    "parser = argparse.ArgumentParser(description=\"Read An Image.\")\n",
    "parser.add_argument(\"input_image\")\n",
    "args = parser.parse_args()\n",
    "image_try = \n",
    "image = itk.imread(args.input_image)"
   ]
  },
  {
   "cell_type": "code",
   "execution_count": 5,
   "metadata": {},
   "outputs": [
    {
     "ename": "AttributeError",
     "evalue": "module 'itk' has no attribute 'imread'",
     "output_type": "error",
     "traceback": [
      "\u001b[0;31m---------------------------------------------------------------------------\u001b[0m",
      "\u001b[0;31mAttributeError\u001b[0m                            Traceback (most recent call last)",
      "Cell \u001b[0;32mIn[5], line 1\u001b[0m\n\u001b[0;32m----> 1\u001b[0m image \u001b[38;5;241m=\u001b[39m \u001b[43mitk\u001b[49m\u001b[38;5;241;43m.\u001b[39;49m\u001b[43mimread\u001b[49m(file_name, itk\u001b[38;5;241m.\u001b[39mctype(\u001b[38;5;124m'\u001b[39m\u001b[38;5;124mfloat\u001b[39m\u001b[38;5;124m'\u001b[39m))\n",
      "\u001b[0;31mAttributeError\u001b[0m: module 'itk' has no attribute 'imread'"
     ]
    }
   ],
   "source": [
    "image = itk.imread(file_name, itk.ctype('float'))\n"
   ]
  },
  {
   "cell_type": "code",
   "execution_count": null,
   "metadata": {},
   "outputs": [],
   "source": [
    "view(image)"
   ]
  },
  {
   "cell_type": "code",
   "execution_count": null,
   "metadata": {},
   "outputs": [],
   "source": [
    "print(type(image))\n",
    "\n",
    "image_arr = itk.array_view_from_image(image)\n",
    "print(type(image_arr))\n",
    "\n",
    "image_java = ij.py.to_java(image_arr)\n",
    "print(type(image_java))"
   ]
  },
  {
   "cell_type": "code",
   "execution_count": null,
   "metadata": {},
   "outputs": [],
   "source": [
    "# Invoke the Frangi vesselness op.\n",
    "vessels = np.zeros(image_arr.shape, dtype=np.float32)\n",
    "ij.op().filter().frangiVesselness(ij.py.to_java(vessels),\n",
    "                                  image_java,\n",
    "                                  [1, 1],\n",
    "                                  20)"
   ]
  },
  {
   "cell_type": "code",
   "execution_count": null,
   "metadata": {},
   "outputs": [],
   "source": [
    "view(vessels)"
   ]
  },
  {
   "cell_type": "code",
   "execution_count": null,
   "metadata": {},
   "outputs": [],
   "source": [
    "import imagej\n",
    "import os\n",
    "\n"
   ]
  },
  {
   "cell_type": "code",
   "execution_count": null,
   "metadata": {},
   "outputs": [],
   "source": [
    "# Initialize ImageJ\n",
    "ij = imagej.init('/Applications/Fiji.app')"
   ]
  },
  {
   "cell_type": "code",
   "execution_count": null,
   "metadata": {},
   "outputs": [],
   "source": [
    "\n",
    "# Set the directory and file paths\n",
    "dir_path = \"/Users/vschastlivaia/Library/CloudStorage/OneDrive-IBEC/Documents/GitHub/lab-data-analysis/Nanoparticle characterization/\"\n",
    "pla_data_file = \"25%AP2_PEGPDPA.txt\"\n",
    "cells_count_file = \"cells_count.csv\"\n",
    "\n",
    "# Create specific folders for cells and PLA images\n",
    "os.makedirs(os.path.join(dir_path, \"cells_images\"), exist_ok=True)\n",
    "os.makedirs(os.path.join(dir_path, \"PLA_images\"), exist_ok=True)\n",
    "\n",
    "# Open the PLA data file for writing\n",
    "with open(os.path.join(dir_path, pla_data_file), \"w\") as f:\n",
    "\tf.write(\"Filename,Raw_PLA_signal,dx,dy,dz,Image_Volume_um3\\n\")\n",
    "\n",
    "# Set the measurements\n",
    "ij.run(\"Set Measurements...\", \"area mean integrated redirect=None decimal=3\")\n",
    "\n",
    "# Loop through the images\n",
    "images = nImages\n",
    "for i in range(images):\n",
    "\ttitle = getTitle()\n",
    "\tout = title.replace('/', ' - ')  # Sanitize input filename\n",
    "\tdx, dy, dz, um = getInfo(\"voxel.size\").split(\",\")\n",
    "\twidth, height, channels, slices, frames = getDimensions()\n",
    "\n",
    "\t# Split channels\n",
    "\tij.run(\"Split Channels\")\n",
    "\n",
    "\t# Cells counting\n",
    "\tij.selectWindow('C2-' + title)\n",
    "\tij.run(\"Z Project...\", \"projection=[Sum Slices]\")\n",
    "\tij.run(\"Convert to Mask\")\n",
    "\tij.run(\"Smooth\")\n",
    "\tij.run(\"Convert to Mask\")\n",
    "\tij.run(\"Erode\")\n",
    "\tij.run(\"Dilate\")\n",
    "\tij.run(\"Analyze Particles...\", \"size=10-Infinity circularity=0.00-0.90 show=Outlines clear summarize\")\n",
    "\tij.close('C2-' + title)\n",
    "\tij.selectWindow('Drawing of SUM_C2-' + title)\n",
    "\tij.rename(\"MAX\")\n",
    "\tij.selectWindow('SUM_C2-' + title)\n",
    "\tij.rename(\"MASK\")\n",
    "\tij.run(\"Combine...\", \"stack1=MAX stack2=MASK\")\n",
    "\tij.saveAs(\"PNG\", os.path.join(dir_path, \"cells_images\", out + \"_count.png\"))\n",
    "\tij.close()\n",
    "\tij.close('C2-' + title)\n",
    "\n",
    "\t# PLA analysis\n",
    "\tij.selectWindow('C1-' + title)\n",
    "\tij.run(\"Z Project...\", \"projection=[Sum Slices]\")\n",
    "\tij.selectWindow('SUM_C1-' + title)\n",
    "\t# Use the line below for bright datasets (for your samples)\n",
    "\t# ij.setAutoThreshold()\n",
    "\t# Use the line below for Negative Controls\n",
    "\tij.setAutoThreshold(\"MaxEntropy dark\")\n",
    "\tij.run(\"Convert to Mask\")\n",
    "\tij.run(\"Measure\")\n",
    "\tsignal = ij.getResult(\"RawIntDen\", 0)\n",
    "\tvolume = width * height * slices * float(dx) * float(dy) * float(dz)\n",
    "\twith open(os.path.join(dir_path, pla_data_file), \"a\") as f:\n",
    "\t\tf.write(f\"{title}.tif,{signal},{dx},{dy},{dz},{volume}\\n\")\n",
    "\tij.run(\"Invert LUT\")\n",
    "\tij.rename(\"mask\")\n",
    "\tij.selectWindow('C1-' + title)\n",
    "\tij.run(\"Z Project...\", \"projection=[Sum Slices]\")\n",
    "\tij.selectWindow('C1-' + title)\n",
    "\tij.close()\n",
    "\tij.selectWindow('SUM_C1-' + title)\n",
    "\tij.rename(\"original\")\n",
    "\tij.run(\"8-bit\")\n",
    "\tname1 = \"SUM_C1-\" + title + \"-1\"\n",
    "\tname2 = \"SUM_C1-\" + title\n",
    "\tij.run(\"Combine...\", \"stack1=original stack2=mask\")\n",
    "\tij.saveAs(\"PNG\", os.path.join(dir_path, \"PLA_images\", out + \"_analysed.png\"))\n",
    "\tij.close()\n",
    "\n",
    "# Saving cells counting as csv file\n",
    "if ij.isOpen(\"Results\"):\n",
    "\tij.selectWindow(\"Results\")\n",
    "\tij.run(\"Close\")\n",
    "ij.selectWindow(\"Summary\")\n",
    "ij.saveAs(\"Results\", os.path.join(dir_path, \"cells_images\", cells_count_file))\n",
    "ij.close(cells_count_file)\n",
    "\n",
    "\n",
    "##PLEASE TAKE IN MIND THAT IN THIS MACRO THE CHANNEL 2 REFERS TO THE NUCLEI STAINING!!!!!!!!!!!!!\n",
    "\n",
    "images = nImages;\n",
    "dir=getInfo(\"image.directory\");\n",
    "\n",
    "##create specific folders for cells and PLA images\n",
    "File.makeDirectory(dir + \"cells_images\");\n",
    "File.makeDirectory(dir + \"PLA_images\");\n",
    "\n",
    "f = File.open(dir + \"PLA_data.txt\");\n",
    "f = File.append(\"Filename,Raw_PLA_signal,dx,dy,dz,Image_Volume_um3\", dir + \"PLA_data.txt\");\n",
    "run(\"Set Measurements...\", \"area mean integrated redirect=None decimal=3\");\n",
    "\n",
    "for (i=0; i<images; i++) {\n",
    "\ttitle = getTitle();\n",
    "\tout = replace(title, '/', ' - '); //Sanitise input filename\n",
    "\tgetVoxelSize(dx,dy,dz,um);\n",
    "\tStack.getDimensions(width,height,channels,slices,frames);\n",
    "\trun(\"Split Channels\");\n",
    "\t\n",
    "\t//Cells counting\n",
    "\tselectWindow('C2-' + title);\n",
    "\trun(\"Z Project...\", \"projection=[Sum Slices]\");\n",
    "\trun(\"Convert to Mask\");\n",
    "\trun(\"Smooth\");\n",
    "\trun(\"Convert to Mask\");\n",
    "\trun(\"Erode\");\n",
    "\trun(\"Dilate\");\n",
    "\trun(\"Analyze Particles...\", \"size=10-Infinity circularity=0.00-0.90 show=Outlines clear summarize\");\n",
    "\tclose('C2-' + title);\n",
    "\tselectWindow('Drawing of SUM_C2-' + title);\n",
    "\trename(\"MAX\");\n",
    "\tselectWindow('SUM_C2-' + title);\n",
    "\trename(\"MASK\");\n",
    "\t//make the composite to compare masks\n",
    "\trun(\"Combine...\", \"stack1=MAX stack2=MASK\");\n",
    "\tsaveAs(\"PNG\", dir + \"cells_images/\" + out + \"_count.png\");\n",
    "\tclose();\n",
    "\tclose('C2-' + title);\n",
    "\t\n",
    "\t//PLA analysis\n",
    "\tselectWindow('C1-' + title);\n",
    "\trun(\"Z Project...\", \"projection=[Sum Slices]\");\n",
    "\tselectWindow('SUM_C1-' + title);\n",
    "\t// Use the line below for bright datasets (for your samples)\n",
    "\t//setAutoThreshold();\n",
    "\t// Use the line below for Negative Controls\n",
    "\tsetAutoThreshold(\"MaxEntropy dark\");\n",
    "\trun(\"Convert to Mask\");\n",
    "\trun(\"Measure\");\n",
    "\tsignal = getResult(\"RawIntDen\", 0);\n",
    "\tvolume = width*height*slices*dx*dy*dz;\n",
    "\tf = File.append(title + \".tif,\" + signal + \",\" + dx + \",\" + dy + \",\" + dz + \",\" + volume, dir + \"PLA_data.txt\");\n",
    "\trun(\"Invert LUT\");\n",
    "\trename(\"mask\");\n",
    "\tselectWindow('C1-' + title);\n",
    "\trun(\"Z Project...\", \"projection=[Sum Slices]\");\n",
    "\tselectWindow('C1-' + title);\n",
    "\tclose();\n",
    "\tselectWindow('SUM_C1-' + title);\n",
    "\trename(\"original\");\n",
    "\trun(\"8-bit\");\n",
    "\tname1=\"SUM_C1-\" + title + \"-1\";\n",
    "\tname2=\"SUM_C1-\" + title;\n",
    "\trun(\"Combine...\", \"stack1=original stack2=mask\");\n",
    "\tsaveAs(\"PNG\", dir + \"PLA_images/\" + out + \"_analysed.png\");\n",
    "\tclose();\n",
    "}\n",
    "//Saving cells counting as csv file \n",
    "if (isOpen(\"Results\")) {\n",
    "    selectWindow(\"Results\");\n",
    "    run(\"Close\");\n",
    "}\n",
    "selectWindow(\"Summary\");\n",
    "saveAs(\"Results\", dir + \"cells_images/\" + \"cells_count.csv\");\n",
    "close(\"cells_count.csv\");\n"
   ]
  }
 ],
 "metadata": {
  "kernelspec": {
   "display_name": "data-analysis",
   "language": "python",
   "name": "python3"
  },
  "language_info": {
   "codemirror_mode": {
    "name": "ipython",
    "version": 3
   },
   "file_extension": ".py",
   "mimetype": "text/x-python",
   "name": "python",
   "nbconvert_exporter": "python",
   "pygments_lexer": "ipython3",
   "version": "3.11.0"
  }
 },
 "nbformat": 4,
 "nbformat_minor": 2
}
