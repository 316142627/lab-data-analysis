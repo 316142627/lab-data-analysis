{
 "cells": [
  {
   "cell_type": "markdown",
   "metadata": {},
   "source": [
    "# Custom model implementation and validation"
   ]
  },
  {
   "cell_type": "markdown",
   "metadata": {},
   "source": [
    "## Introduction"
   ]
  },
  {
   "cell_type": "markdown",
   "metadata": {},
   "source": [
    "#### **Custom model training**\n",
    "\n",
    "We will be using [Scikit-learn](https://scikit-learn.org/stable/) python library API to use our model so that it can work like a standard scikit-learn model.\n",
    "\n",
    "That's convenient, because Scikit-learn provides:\n",
    "- feature preprocessing trasforms (e.g. Onehot encoding, label encoding, feauture scaling, etc);\n",
    "- most of the core algorithms (Random Forests, Logistic/Linear regression, GBMs, etc);\n",
    "- metrics and other convenience functions for tracking model performance.\n",
    "\n",
    "\n",
    "#### **Machine learning vocab**\n",
    "\n",
    "**Function** $f(\\vec{x})$ which is approximating our (experimental) data is often called a **\"model\"**,\n",
    "\n",
    "The **parameters** of a function may be interchangeably used with the term **\"weights\"** (of a model),\n",
    "\n",
    "**Indepenent variables** (input) $x_1, x_2, ..., x_n$ of a function (model) are often called **\"features\"**, and by default vectorized into n-dementional space as a vector $\\vec{x} = (x_1, x_2, ..., x_n)$,\n",
    "\n",
    "**Dependent variable** (output) $y$ of a function (model) is sometimes called **\"target\"**, or **\"label\"**, or **\"ground truth\"**, especially, if it's derived from experiments.\n",
    "\n",
    "**Predictions** are simply the values calculated from our function (model) $\\hat{y} = f(\\vec{x})$\n",
    "\n",
    "#### **Feature selection**\n",
    "\n",
    "Feature selection is a problem-specific task (in most general case classification or regression), \n",
    "we will be using two approaches for regression models feature selection:\n",
    "- F-statistics\n",
    "- cross-validated scores (less optimal)\n",
    "\n",
    "Later we may introduce other techniques\n",
    "\n",
    "\n",
    "**Dimentionality reduction**\n",
    "\n",
    "We will implenet PCA and t-NSE templates with visualization on a publicly available dataset"
   ]
  },
  {
   "cell_type": "markdown",
   "metadata": {},
   "source": [
    "## Technical detail\n"
   ]
  },
  {
   "cell_type": "markdown",
   "metadata": {},
   "source": [
    "### Prep: importing libraries"
   ]
  },
  {
   "cell_type": "code",
   "execution_count": 8,
   "metadata": {},
   "outputs": [],
   "source": [
    "import pandas as pd\n",
    "import numpy as np\n",
    "\n",
    "\n",
    "#import matplotlib.pyplot as plt # uncomment if you prefer matplotlib\n",
    "import plotly.graph_objects as go # use this if you prefer interactive plotly graphs\n",
    "import plotly.express as px # also interactive plots, allows more compact notation but more demanding on the input data format\n",
    "from plotly.subplots import make_subplots # to plot several plots in one figure\n",
    "\n",
    "from scipy.optimize import curve_fit #for fitting a curve to data\n",
    "from scipy.optimize import minimize\n",
    "from scipy.optimize import basinhopping, brute\n",
    "\n",
    "import statsmodels.api as sm\n",
    "\n",
    "from sklearn import datasets #to show an example\n",
    "#from sklearn.datasets import make_regression # to show an example of feature selection\n",
    "\n",
    "from sklearn.preprocessing import StandardScaler\n",
    "from sklearn.preprocessing import PolynomialFeatures # use if you want to add polynomial features\n",
    "#from sklearn.preprocessing import OneHotEncoder # uncomment this use if if you have binary features and want to use them in your model\n",
    "\n",
    "from sklearn.model_selection import train_test_split\n",
    "\n",
    "from sklearn.base import BaseEstimator, ClassifierMixin, RegressorMixin\n",
    "from sklearn.metrics import mean_squared_error\n",
    "from sklearn.metrics import r2_score\n",
    "\n",
    "\n",
    "from sklearn.linear_model import LogisticRegression\n",
    "from sklearn.feature_selection import SelectKBest, mutual_info_regression, f_regression, SelectFromModel\n",
    "from sklearn.model_selection import GridSearchCV, GroupKFold, cross_val_predict, cross_val_score, KFold\n",
    "\n",
    "from sklearn.decomposition import PCA\n",
    "from sklearn.manifold import TSNE   \n",
    "\n",
    "import latexify\n",
    "\n"
   ]
  },
  {
   "cell_type": "markdown",
   "metadata": {},
   "source": [
    "## Prep: Data"
   ]
  },
  {
   "cell_type": "markdown",
   "metadata": {},
   "source": [
    "### Data import"
   ]
  },
  {
   "cell_type": "markdown",
   "metadata": {},
   "source": [
    "Import your data from an excel file or csv, indicating the path"
   ]
  },
  {
   "cell_type": "code",
   "execution_count": null,
   "metadata": {},
   "outputs": [],
   "source": [
    "'''\n",
    "# Read the Excel file with experiment values into a dataframe (df)\n",
    "df = pd.read_excel('path/to/excel/file.xlsx', sheet_name='experiment') # in case of xls file\n",
    "# df=pd.read_csv('experiment.csv') # in case of csv file\n",
    "'''"
   ]
  },
  {
   "cell_type": "markdown",
   "metadata": {},
   "source": [
    "### Data split"
   ]
  },
  {
   "cell_type": "markdown",
   "metadata": {},
   "source": [
    "We need to split the data into:\n",
    "- trian set - on which we train our model\n",
    "- test set - on which we extimate the performance of our model"
   ]
  },
  {
   "cell_type": "code",
   "execution_count": null,
   "metadata": {},
   "outputs": [],
   "source": [
    "''''\n",
    "# Isolate feature vector\n",
    "X = df.drop('y', axis=1)\n",
    "\n",
    "# Isolate target\n",
    "y = df['y']\n",
    "\n",
    "# Split the data into train, test (and in special cases another validation) sets\n",
    "X_train, X_test, y_train, y_test = train_test_split(X, y, test_size=0.2, random_state=42) # First we take 80% for training and 20% set apart in test set\n",
    "\n",
    "# Have a look at the shapes of the datasets\n",
    "print(\"Train set shape:\", X_train.shape)\n",
    "print(\"Test set shape:\", X_test.shape)\n",
    "'''\n"
   ]
  },
  {
   "cell_type": "markdown",
   "metadata": {},
   "source": [
    "### Data preprocessing"
   ]
  },
  {
   "cell_type": "markdown",
   "metadata": {},
   "source": [
    "Skip for now\n",
    "\n",
    "Feature scaling is used in case of distance based algorithms (e.g. k-NN, SVM, PCA, LDA) and in case of gradient descent based algorithms (e.g. linear regression, logistic regression, neural networks)\n",
    "\n",
    "It is not necessary for decision trees, random forests, naive bayes, k-means, apriori, eclat, FP-growth, etc.\n",
    "\n",
    "It is also not necessary for linear regression if we use the normal equation to find the weights\n",
    "\n",
    "It is also not necessary for logistic regression if we use the maximum likelihood estimation to find the weights\n",
    "\n",
    "\n",
    "Log or third root trasform is applied in case of a skewed distribution of the target variable, but then predictions should be transformed back.\n",
    "\n",
    "Other preprocessing steps can be applied here, such as standardization, normalization, adding polynomial features, as well as feature selection at this point\n"
   ]
  },
  {
   "cell_type": "code",
   "execution_count": null,
   "metadata": {},
   "outputs": [],
   "source": [
    "''''\n",
    "sc      = StandardScaler() # Standardize features by centralizing mean to 0 the mean and scaling to unit variance\n",
    "X_train = sc.fit_transform(X_train) # fit and transform the training set\n",
    "X_test  = sc.transform(X_test) # transform the test set by the SAME parameters as the TRAINING set\n",
    "'''"
   ]
  },
  {
   "cell_type": "markdown",
   "metadata": {},
   "source": [
    "## Model Encoding"
   ]
  },
  {
   "cell_type": "markdown",
   "metadata": {},
   "source": [
    "### Regression model"
   ]
  },
  {
   "cell_type": "markdown",
   "metadata": {},
   "source": [
    "Template is the following\n",
    "\n",
    "\n",
    "´´´\n",
    "    \n",
    "    class Name_of_Custom_Regressor(BaseEstimator, RegressorMixin):\n",
    "        \n",
    "        def __init__(self, param1=1, param2=2):\n",
    "            self.param1 = param1\n",
    "            self.param2 = param2\n",
    "        \n",
    "        # Fit the model to the training data\n",
    "        def fit(self, X, y=None):\n",
    "            pass\n",
    "            \n",
    "        # Use the fitted model to make predictions on new data\n",
    "        def predict(self, X, y=None):\n",
    "            pass\n",
    "        \n",
    "        # Calculate the model's performance on the given data and labels\n",
    "        def score(self, X, y):\n",
    "        pass\n",
    "´´´"
   ]
  },
  {
   "cell_type": "markdown",
   "metadata": {},
   "source": [
    "#### Example on an exponential decay curve"
   ]
  },
  {
   "cell_type": "markdown",
   "metadata": {},
   "source": [
    "Assume our custom model is exponential decay function\n",
    "$$ f(x) = a e^{-kx}+b $$"
   ]
  },
  {
   "cell_type": "code",
   "execution_count": 9,
   "metadata": {},
   "outputs": [],
   "source": [
    "# Let's define a custom estimator class\n",
    "class Name_of_Custom_Regressor(BaseEstimator, RegressorMixin):\n",
    "    def __init__(self, starting_values=[1.,1.e-5,1.], **kwargs,): # Initial guess for a faster convergiance of the optimization\n",
    "        self.starting_values = starting_values\n",
    "        self.kwargs = kwargs\n",
    "        self.params = None\n",
    "    \n",
    "    def fit(self, X, y=None):\n",
    "            self.params, _ = curve_fit(self.exp_decay_f, X, y, p0=self.starting_values)\n",
    "            self.coef_ = self.params \n",
    "    \n",
    "    def predict(self, X, y=None):\n",
    "        return self.exp_decay_f(X, *self.params)\n",
    "    \n",
    "    def score(self, X, y):\n",
    "        # Calculate the model's performance on the given data and labels\n",
    "        cv_score = cross_val_score(self, X, y, cv=3, scoring='neg_mean_squared_error')        \n",
    "        # If not defiened, it's by default r-squared error https://scikit-learn.org/stable/modules/generated/sklearn.metrics.r2_score.html#sklearn.metrics.r2_score\n",
    "\n",
    "        r2 = r2_score(y, self.predict(X))\n",
    "        return cv_score.mean(), r2\n",
    "\n",
    "    @staticmethod\n",
    "    def exp_decay_f(X, a, k, b):\n",
    "        return a * np.exp(-k*X) + b  # Exponential decay function   "
   ]
  },
  {
   "cell_type": "markdown",
   "metadata": {},
   "source": [
    "Here is another usefull [Quantile Regression example](https://github.com/conormm/blog/blob/master/_notebooks/2021-04-11-lesser-known-data-scienec-techniques.ipynb)"
   ]
  },
  {
   "cell_type": "markdown",
   "metadata": {},
   "source": [
    "### Classification model (to be added later if needed)"
   ]
  },
  {
   "cell_type": "markdown",
   "metadata": {},
   "source": [
    "## Model usage"
   ]
  },
  {
   "cell_type": "markdown",
   "metadata": {},
   "source": [
    "Assume we have a ground truth model with the following parameters (which we don't know and would like to derive from our experiments)\n",
    "\n",
    "$$ f(x) = 2 e^{-0.5x}+1 $$\n",
    "\n",
    "We performed an experiment, and obtained some dataset with some noise"
   ]
  },
  {
   "cell_type": "code",
   "execution_count": 10,
   "metadata": {},
   "outputs": [],
   "source": [
    "# A ground truth model with the following parameters\n",
    "X = np.linspace(0, 10, 100) # Generate 100 evenly spaced numbers between 0 and 10\n",
    "a = 2\n",
    "k = 0.5\n",
    "b = 1\n",
    "Y = a * np.exp(-k*X) + b\n",
    "\n",
    "# We performed an experiment, and obtained some dataset with some noise (adding gaussian noise to the ground truth data)\n",
    "noise = np.random.normal(0, 0.1, len(Y))\n",
    "Y_with_noise = Y + noise\n",
    "\n",
    "# Split the data into train and test sets\n",
    "X_train, X_test, Y_train, Y_test = train_test_split(X, Y_with_noise, test_size=0.2, random_state=42)\n"
   ]
  },
  {
   "cell_type": "code",
   "execution_count": 11,
   "metadata": {},
   "outputs": [
    {
     "data": {
      "application/vnd.plotly.v1+json": {
       "config": {
        "plotlyServerURL": "https://plot.ly"
       },
       "data": [
        {
         "mode": "markers",
         "type": "scatter",
         "x": [
          0,
          0.10101010101010101,
          0.20202020202020202,
          0.30303030303030304,
          0.40404040404040403,
          0.5050505050505051,
          0.6060606060606061,
          0.7070707070707071,
          0.8080808080808081,
          0.9090909090909091,
          1.0101010101010102,
          1.1111111111111112,
          1.2121212121212122,
          1.3131313131313131,
          1.4141414141414141,
          1.5151515151515151,
          1.6161616161616161,
          1.7171717171717171,
          1.8181818181818181,
          1.9191919191919191,
          2.0202020202020203,
          2.121212121212121,
          2.2222222222222223,
          2.323232323232323,
          2.4242424242424243,
          2.525252525252525,
          2.6262626262626263,
          2.727272727272727,
          2.8282828282828283,
          2.929292929292929,
          3.0303030303030303,
          3.131313131313131,
          3.2323232323232323,
          3.3333333333333335,
          3.4343434343434343,
          3.5353535353535355,
          3.6363636363636362,
          3.7373737373737375,
          3.8383838383838382,
          3.9393939393939394,
          4.040404040404041,
          4.141414141414141,
          4.242424242424242,
          4.343434343434343,
          4.444444444444445,
          4.545454545454545,
          4.646464646464646,
          4.747474747474747,
          4.848484848484849,
          4.94949494949495,
          5.05050505050505,
          5.151515151515151,
          5.252525252525253,
          5.353535353535354,
          5.454545454545454,
          5.555555555555555,
          5.656565656565657,
          5.757575757575758,
          5.858585858585858,
          5.959595959595959,
          6.0606060606060606,
          6.161616161616162,
          6.262626262626262,
          6.363636363636363,
          6.4646464646464645,
          6.565656565656566,
          6.666666666666667,
          6.767676767676767,
          6.8686868686868685,
          6.96969696969697,
          7.070707070707071,
          7.171717171717171,
          7.2727272727272725,
          7.373737373737374,
          7.474747474747475,
          7.575757575757575,
          7.6767676767676765,
          7.777777777777778,
          7.878787878787879,
          7.979797979797979,
          8.080808080808081,
          8.181818181818182,
          8.282828282828282,
          8.383838383838384,
          8.484848484848484,
          8.585858585858587,
          8.686868686868687,
          8.787878787878787,
          8.88888888888889,
          8.98989898989899,
          9.09090909090909,
          9.191919191919192,
          9.292929292929292,
          9.393939393939394,
          9.494949494949495,
          9.595959595959595,
          9.696969696969697,
          9.797979797979798,
          9.8989898989899,
          10
         ],
         "y": [
          3.1621301032377294,
          2.882426911260417,
          2.872975000933508,
          2.701840773999476,
          2.544982801858891,
          2.633341185232917,
          2.5364678318538525,
          2.3527358219228036,
          2.234541107728447,
          2.3491370500864446,
          2.132826029089081,
          2.2135798818867976,
          1.9904121928344405,
          2.1177392914077795,
          1.9720049967925386,
          1.9540507744191584,
          1.8361047137708213,
          1.885489314555087,
          1.9475277774135065,
          1.8081187919828543,
          1.7957858369013748,
          1.9162281731249964,
          1.784465831998252,
          1.498848364924453,
          1.6756987044415246,
          1.4857744870338043,
          1.4278239039097425,
          1.6207866407470002,
          1.4387284351789864,
          1.3543993767674365,
          1.426064777166123,
          1.3805262665384057,
          1.3375467159533814,
          1.2816965862191176,
          1.4486227201690478,
          1.4343600178328075,
          1.2443284909135732,
          1.453478835412635,
          1.314514116922619,
          1.0957330613692904,
          1.3049771653185638,
          1.3416341701803522,
          1.3564210664131138,
          1.317401970408432,
          1.1498382115744936,
          1.2399927214989943,
          1.2171569273779745,
          1.1667413919634064,
          1.1421539971262455,
          1.252032574836906,
          1.1736744801625196,
          1.28439602075028,
          0.8569210646561849,
          1.0997433592949386,
          1.343228724488636,
          1.144772935905775,
          1.050921595818785,
          1.007595173844177,
          1.0877013100487591,
          1.0593609305479008,
          1.0203583233304971,
          0.9742909346434638,
          1.0373993149502463,
          1.3065913998405603,
          1.012030769499443,
          1.1946952220704283,
          1.0500633852627677,
          0.8330365401643601,
          0.9316862842017484,
          1.0751423490186858,
          1.15972852874518,
          0.9206892185049479,
          1.0991764079755642,
          1.110234730592598,
          0.9984159297243436,
          1.1887741108795395,
          0.945410331723209,
          1.1295062775997362,
          0.9927091763712358,
          1.1336517022223596,
          0.9625558823697664,
          0.8338218654008526,
          0.8325625412832133,
          1.126812493308892,
          1.0488408075440847,
          0.8741420842095579,
          0.9911649494479241,
          0.9621449831525655,
          0.8420972815405582,
          1.095086668824786,
          1.1173894678398117,
          1.122944608753216,
          1.2072816732363838,
          0.8126718280491307,
          1.0189184834197744,
          1.1439431672774854,
          1.0131464819379254,
          1.0369303668537602,
          0.8763096229894118,
          0.890162106096555
         ]
        }
       ],
       "layout": {
        "template": {
         "data": {
          "bar": [
           {
            "error_x": {
             "color": "#2a3f5f"
            },
            "error_y": {
             "color": "#2a3f5f"
            },
            "marker": {
             "line": {
              "color": "#E5ECF6",
              "width": 0.5
             },
             "pattern": {
              "fillmode": "overlay",
              "size": 10,
              "solidity": 0.2
             }
            },
            "type": "bar"
           }
          ],
          "barpolar": [
           {
            "marker": {
             "line": {
              "color": "#E5ECF6",
              "width": 0.5
             },
             "pattern": {
              "fillmode": "overlay",
              "size": 10,
              "solidity": 0.2
             }
            },
            "type": "barpolar"
           }
          ],
          "carpet": [
           {
            "aaxis": {
             "endlinecolor": "#2a3f5f",
             "gridcolor": "white",
             "linecolor": "white",
             "minorgridcolor": "white",
             "startlinecolor": "#2a3f5f"
            },
            "baxis": {
             "endlinecolor": "#2a3f5f",
             "gridcolor": "white",
             "linecolor": "white",
             "minorgridcolor": "white",
             "startlinecolor": "#2a3f5f"
            },
            "type": "carpet"
           }
          ],
          "choropleth": [
           {
            "colorbar": {
             "outlinewidth": 0,
             "ticks": ""
            },
            "type": "choropleth"
           }
          ],
          "contour": [
           {
            "colorbar": {
             "outlinewidth": 0,
             "ticks": ""
            },
            "colorscale": [
             [
              0,
              "#0d0887"
             ],
             [
              0.1111111111111111,
              "#46039f"
             ],
             [
              0.2222222222222222,
              "#7201a8"
             ],
             [
              0.3333333333333333,
              "#9c179e"
             ],
             [
              0.4444444444444444,
              "#bd3786"
             ],
             [
              0.5555555555555556,
              "#d8576b"
             ],
             [
              0.6666666666666666,
              "#ed7953"
             ],
             [
              0.7777777777777778,
              "#fb9f3a"
             ],
             [
              0.8888888888888888,
              "#fdca26"
             ],
             [
              1,
              "#f0f921"
             ]
            ],
            "type": "contour"
           }
          ],
          "contourcarpet": [
           {
            "colorbar": {
             "outlinewidth": 0,
             "ticks": ""
            },
            "type": "contourcarpet"
           }
          ],
          "heatmap": [
           {
            "colorbar": {
             "outlinewidth": 0,
             "ticks": ""
            },
            "colorscale": [
             [
              0,
              "#0d0887"
             ],
             [
              0.1111111111111111,
              "#46039f"
             ],
             [
              0.2222222222222222,
              "#7201a8"
             ],
             [
              0.3333333333333333,
              "#9c179e"
             ],
             [
              0.4444444444444444,
              "#bd3786"
             ],
             [
              0.5555555555555556,
              "#d8576b"
             ],
             [
              0.6666666666666666,
              "#ed7953"
             ],
             [
              0.7777777777777778,
              "#fb9f3a"
             ],
             [
              0.8888888888888888,
              "#fdca26"
             ],
             [
              1,
              "#f0f921"
             ]
            ],
            "type": "heatmap"
           }
          ],
          "heatmapgl": [
           {
            "colorbar": {
             "outlinewidth": 0,
             "ticks": ""
            },
            "colorscale": [
             [
              0,
              "#0d0887"
             ],
             [
              0.1111111111111111,
              "#46039f"
             ],
             [
              0.2222222222222222,
              "#7201a8"
             ],
             [
              0.3333333333333333,
              "#9c179e"
             ],
             [
              0.4444444444444444,
              "#bd3786"
             ],
             [
              0.5555555555555556,
              "#d8576b"
             ],
             [
              0.6666666666666666,
              "#ed7953"
             ],
             [
              0.7777777777777778,
              "#fb9f3a"
             ],
             [
              0.8888888888888888,
              "#fdca26"
             ],
             [
              1,
              "#f0f921"
             ]
            ],
            "type": "heatmapgl"
           }
          ],
          "histogram": [
           {
            "marker": {
             "pattern": {
              "fillmode": "overlay",
              "size": 10,
              "solidity": 0.2
             }
            },
            "type": "histogram"
           }
          ],
          "histogram2d": [
           {
            "colorbar": {
             "outlinewidth": 0,
             "ticks": ""
            },
            "colorscale": [
             [
              0,
              "#0d0887"
             ],
             [
              0.1111111111111111,
              "#46039f"
             ],
             [
              0.2222222222222222,
              "#7201a8"
             ],
             [
              0.3333333333333333,
              "#9c179e"
             ],
             [
              0.4444444444444444,
              "#bd3786"
             ],
             [
              0.5555555555555556,
              "#d8576b"
             ],
             [
              0.6666666666666666,
              "#ed7953"
             ],
             [
              0.7777777777777778,
              "#fb9f3a"
             ],
             [
              0.8888888888888888,
              "#fdca26"
             ],
             [
              1,
              "#f0f921"
             ]
            ],
            "type": "histogram2d"
           }
          ],
          "histogram2dcontour": [
           {
            "colorbar": {
             "outlinewidth": 0,
             "ticks": ""
            },
            "colorscale": [
             [
              0,
              "#0d0887"
             ],
             [
              0.1111111111111111,
              "#46039f"
             ],
             [
              0.2222222222222222,
              "#7201a8"
             ],
             [
              0.3333333333333333,
              "#9c179e"
             ],
             [
              0.4444444444444444,
              "#bd3786"
             ],
             [
              0.5555555555555556,
              "#d8576b"
             ],
             [
              0.6666666666666666,
              "#ed7953"
             ],
             [
              0.7777777777777778,
              "#fb9f3a"
             ],
             [
              0.8888888888888888,
              "#fdca26"
             ],
             [
              1,
              "#f0f921"
             ]
            ],
            "type": "histogram2dcontour"
           }
          ],
          "mesh3d": [
           {
            "colorbar": {
             "outlinewidth": 0,
             "ticks": ""
            },
            "type": "mesh3d"
           }
          ],
          "parcoords": [
           {
            "line": {
             "colorbar": {
              "outlinewidth": 0,
              "ticks": ""
             }
            },
            "type": "parcoords"
           }
          ],
          "pie": [
           {
            "automargin": true,
            "type": "pie"
           }
          ],
          "scatter": [
           {
            "fillpattern": {
             "fillmode": "overlay",
             "size": 10,
             "solidity": 0.2
            },
            "type": "scatter"
           }
          ],
          "scatter3d": [
           {
            "line": {
             "colorbar": {
              "outlinewidth": 0,
              "ticks": ""
             }
            },
            "marker": {
             "colorbar": {
              "outlinewidth": 0,
              "ticks": ""
             }
            },
            "type": "scatter3d"
           }
          ],
          "scattercarpet": [
           {
            "marker": {
             "colorbar": {
              "outlinewidth": 0,
              "ticks": ""
             }
            },
            "type": "scattercarpet"
           }
          ],
          "scattergeo": [
           {
            "marker": {
             "colorbar": {
              "outlinewidth": 0,
              "ticks": ""
             }
            },
            "type": "scattergeo"
           }
          ],
          "scattergl": [
           {
            "marker": {
             "colorbar": {
              "outlinewidth": 0,
              "ticks": ""
             }
            },
            "type": "scattergl"
           }
          ],
          "scattermapbox": [
           {
            "marker": {
             "colorbar": {
              "outlinewidth": 0,
              "ticks": ""
             }
            },
            "type": "scattermapbox"
           }
          ],
          "scatterpolar": [
           {
            "marker": {
             "colorbar": {
              "outlinewidth": 0,
              "ticks": ""
             }
            },
            "type": "scatterpolar"
           }
          ],
          "scatterpolargl": [
           {
            "marker": {
             "colorbar": {
              "outlinewidth": 0,
              "ticks": ""
             }
            },
            "type": "scatterpolargl"
           }
          ],
          "scatterternary": [
           {
            "marker": {
             "colorbar": {
              "outlinewidth": 0,
              "ticks": ""
             }
            },
            "type": "scatterternary"
           }
          ],
          "surface": [
           {
            "colorbar": {
             "outlinewidth": 0,
             "ticks": ""
            },
            "colorscale": [
             [
              0,
              "#0d0887"
             ],
             [
              0.1111111111111111,
              "#46039f"
             ],
             [
              0.2222222222222222,
              "#7201a8"
             ],
             [
              0.3333333333333333,
              "#9c179e"
             ],
             [
              0.4444444444444444,
              "#bd3786"
             ],
             [
              0.5555555555555556,
              "#d8576b"
             ],
             [
              0.6666666666666666,
              "#ed7953"
             ],
             [
              0.7777777777777778,
              "#fb9f3a"
             ],
             [
              0.8888888888888888,
              "#fdca26"
             ],
             [
              1,
              "#f0f921"
             ]
            ],
            "type": "surface"
           }
          ],
          "table": [
           {
            "cells": {
             "fill": {
              "color": "#EBF0F8"
             },
             "line": {
              "color": "white"
             }
            },
            "header": {
             "fill": {
              "color": "#C8D4E3"
             },
             "line": {
              "color": "white"
             }
            },
            "type": "table"
           }
          ]
         },
         "layout": {
          "annotationdefaults": {
           "arrowcolor": "#2a3f5f",
           "arrowhead": 0,
           "arrowwidth": 1
          },
          "autotypenumbers": "strict",
          "coloraxis": {
           "colorbar": {
            "outlinewidth": 0,
            "ticks": ""
           }
          },
          "colorscale": {
           "diverging": [
            [
             0,
             "#8e0152"
            ],
            [
             0.1,
             "#c51b7d"
            ],
            [
             0.2,
             "#de77ae"
            ],
            [
             0.3,
             "#f1b6da"
            ],
            [
             0.4,
             "#fde0ef"
            ],
            [
             0.5,
             "#f7f7f7"
            ],
            [
             0.6,
             "#e6f5d0"
            ],
            [
             0.7,
             "#b8e186"
            ],
            [
             0.8,
             "#7fbc41"
            ],
            [
             0.9,
             "#4d9221"
            ],
            [
             1,
             "#276419"
            ]
           ],
           "sequential": [
            [
             0,
             "#0d0887"
            ],
            [
             0.1111111111111111,
             "#46039f"
            ],
            [
             0.2222222222222222,
             "#7201a8"
            ],
            [
             0.3333333333333333,
             "#9c179e"
            ],
            [
             0.4444444444444444,
             "#bd3786"
            ],
            [
             0.5555555555555556,
             "#d8576b"
            ],
            [
             0.6666666666666666,
             "#ed7953"
            ],
            [
             0.7777777777777778,
             "#fb9f3a"
            ],
            [
             0.8888888888888888,
             "#fdca26"
            ],
            [
             1,
             "#f0f921"
            ]
           ],
           "sequentialminus": [
            [
             0,
             "#0d0887"
            ],
            [
             0.1111111111111111,
             "#46039f"
            ],
            [
             0.2222222222222222,
             "#7201a8"
            ],
            [
             0.3333333333333333,
             "#9c179e"
            ],
            [
             0.4444444444444444,
             "#bd3786"
            ],
            [
             0.5555555555555556,
             "#d8576b"
            ],
            [
             0.6666666666666666,
             "#ed7953"
            ],
            [
             0.7777777777777778,
             "#fb9f3a"
            ],
            [
             0.8888888888888888,
             "#fdca26"
            ],
            [
             1,
             "#f0f921"
            ]
           ]
          },
          "colorway": [
           "#636efa",
           "#EF553B",
           "#00cc96",
           "#ab63fa",
           "#FFA15A",
           "#19d3f3",
           "#FF6692",
           "#B6E880",
           "#FF97FF",
           "#FECB52"
          ],
          "font": {
           "color": "#2a3f5f"
          },
          "geo": {
           "bgcolor": "white",
           "lakecolor": "white",
           "landcolor": "#E5ECF6",
           "showlakes": true,
           "showland": true,
           "subunitcolor": "white"
          },
          "hoverlabel": {
           "align": "left"
          },
          "hovermode": "closest",
          "mapbox": {
           "style": "light"
          },
          "paper_bgcolor": "white",
          "plot_bgcolor": "#E5ECF6",
          "polar": {
           "angularaxis": {
            "gridcolor": "white",
            "linecolor": "white",
            "ticks": ""
           },
           "bgcolor": "#E5ECF6",
           "radialaxis": {
            "gridcolor": "white",
            "linecolor": "white",
            "ticks": ""
           }
          },
          "scene": {
           "xaxis": {
            "backgroundcolor": "#E5ECF6",
            "gridcolor": "white",
            "gridwidth": 2,
            "linecolor": "white",
            "showbackground": true,
            "ticks": "",
            "zerolinecolor": "white"
           },
           "yaxis": {
            "backgroundcolor": "#E5ECF6",
            "gridcolor": "white",
            "gridwidth": 2,
            "linecolor": "white",
            "showbackground": true,
            "ticks": "",
            "zerolinecolor": "white"
           },
           "zaxis": {
            "backgroundcolor": "#E5ECF6",
            "gridcolor": "white",
            "gridwidth": 2,
            "linecolor": "white",
            "showbackground": true,
            "ticks": "",
            "zerolinecolor": "white"
           }
          },
          "shapedefaults": {
           "line": {
            "color": "#2a3f5f"
           }
          },
          "ternary": {
           "aaxis": {
            "gridcolor": "white",
            "linecolor": "white",
            "ticks": ""
           },
           "baxis": {
            "gridcolor": "white",
            "linecolor": "white",
            "ticks": ""
           },
           "bgcolor": "#E5ECF6",
           "caxis": {
            "gridcolor": "white",
            "linecolor": "white",
            "ticks": ""
           }
          },
          "title": {
           "x": 0.05
          },
          "xaxis": {
           "automargin": true,
           "gridcolor": "white",
           "linecolor": "white",
           "ticks": "",
           "title": {
            "standoff": 15
           },
           "zerolinecolor": "white",
           "zerolinewidth": 2
          },
          "yaxis": {
           "automargin": true,
           "gridcolor": "white",
           "linecolor": "white",
           "ticks": "",
           "title": {
            "standoff": 15
           },
           "zerolinecolor": "white",
           "zerolinewidth": 2
          }
         }
        },
        "title": {
         "text": "Noisy Experiment Data before splitting into train and test set and before fitting the model"
        },
        "width": 900,
        "xaxis": {
         "title": {
          "text": "X"
         }
        },
        "yaxis": {
         "title": {
          "text": "Y"
         }
        }
       }
      }
     },
     "metadata": {},
     "output_type": "display_data"
    }
   ],
   "source": [
    "fig = go.Figure()\n",
    "\n",
    "fig.add_trace(go.Scatter(x=X, y=Y_with_noise, mode='markers'))\n",
    "\n",
    "fig.update_layout(title='Noisy Experiment Data before splitting into train and test set and before fitting the model',\n",
    "                  xaxis_title='X',\n",
    "                  yaxis_title='Y',\n",
    "                  width=900)\n",
    "\n",
    "fig.show()"
   ]
  },
  {
   "cell_type": "markdown",
   "metadata": {},
   "source": [
    "Once we have implemented the class, we can create an instance of the estimator and use it like any other scikit-learn estimator with fit, predict, score funtions"
   ]
  },
  {
   "cell_type": "code",
   "execution_count": 12,
   "metadata": {},
   "outputs": [],
   "source": [
    "model = Name_of_Custom_Regressor()\n",
    "model.fit(X_train, Y_train) # training our model on training dataset to obtain parameters (weights) of the model\n",
    "predictions = model.predict(X_test) # making predictions on the test dataset to evaluate the model performance\n",
    "score = model.score(X_test, Y_test) # evaluating the model performance on the test dataset"
   ]
  },
  {
   "cell_type": "markdown",
   "metadata": {},
   "source": [
    "Extract the parameters of the trained model and get some datapoints for visualisation"
   ]
  },
  {
   "cell_type": "code",
   "execution_count": 13,
   "metadata": {},
   "outputs": [],
   "source": [
    "a_fit = model.params[0]\n",
    "k_fit = model.params[1]\n",
    "b_fit = model.params[2]\n",
    "X_fit = np.linspace(0, 10, 100)\n",
    "Y_fit = model.predict(X_fit)"
   ]
  },
  {
   "cell_type": "code",
   "execution_count": 14,
   "metadata": {},
   "outputs": [
    {
     "data": {
      "application/vnd.plotly.v1+json": {
       "config": {
        "plotlyServerURL": "https://plot.ly"
       },
       "data": [
        {
         "marker": {
          "color": "rgb(93, 105, 177)"
         },
         "mode": "markers",
         "name": "Test Data",
         "type": "scatter",
         "x": [
          8.383838383838384,
          5.353535353535354,
          7.070707070707071,
          4.545454545454545,
          4.444444444444445,
          3.9393939393939394,
          2.2222222222222223,
          8.080808080808081,
          1.0101010101010102,
          0,
          1.8181818181818181,
          3.0303030303030303,
          7.373737373737374,
          3.3333333333333335,
          9.09090909090909,
          0.40404040404040403,
          7.6767676767676765,
          7.777777777777778,
          1.2121212121212122,
          3.131313131313131
         ],
         "y": [
          1.126812493308892,
          1.0997433592949386,
          1.15972852874518,
          1.2399927214989943,
          1.1498382115744936,
          1.0957330613692904,
          1.784465831998252,
          0.9625558823697664,
          2.132826029089081,
          3.1621301032377294,
          1.9475277774135065,
          1.426064777166123,
          1.110234730592598,
          1.2816965862191176,
          1.1173894678398117,
          2.544982801858891,
          0.945410331723209,
          1.1295062775997362,
          1.9904121928344405,
          1.3805262665384057
         ]
        },
        {
         "marker": {
          "color": "rgb(229, 134, 6)"
         },
         "mode": "markers",
         "name": "Train Data",
         "type": "scatter",
         "x": [
          5.555555555555555,
          8.88888888888889,
          2.6262626262626263,
          4.242424242424242,
          6.96969696969697,
          1.5151515151515151,
          4.040404040404041,
          9.696969696969697,
          0.9090909090909091,
          7.2727272727272725,
          1.1111111111111112,
          4.747474747474747,
          8.585858585858587,
          2.8282828282828283,
          9.393939393939394,
          0.5050505050505051,
          6.666666666666667,
          6.565656565656566,
          3.5353535353535355,
          1.6161616161616161,
          4.94949494949495,
          3.4343434343434343,
          0.7070707070707071,
          9.595959595959595,
          2.727272727272727,
          1.9191919191919191,
          8.181818181818182,
          2.525252525252525,
          6.262626262626262,
          1.3131313131313131,
          2.4242424242424243,
          0.30303030303030304,
          1.7171717171717171,
          3.8383838383838382,
          0.8080808080808081,
          7.878787878787879,
          0.6060606060606061,
          6.4646464646464645,
          3.6363636363636362,
          8.98989898989899,
          5.656565656565657,
          10,
          5.454545454545454,
          4.343434343434343,
          5.05050505050505,
          6.767676767676767,
          4.646464646464646,
          6.8686868686868685,
          6.161616161616162,
          9.797979797979798,
          7.979797979797979,
          4.141414141414141,
          5.858585858585858,
          4.848484848484849,
          9.8989898989899,
          5.757575757575758,
          7.575757575757575,
          3.2323232323232323,
          9.494949494949495,
          5.959595959595959,
          6.363636363636363,
          8.484848484848484,
          3.7373737373737375,
          2.929292929292929,
          0.10101010101010101,
          5.252525252525253,
          2.121212121212121,
          0.20202020202020202,
          2.323232323232323,
          8.787878787878787,
          9.191919191919192,
          7.474747474747475,
          8.686868686868687,
          8.282828282828282,
          2.0202020202020203,
          6.0606060606060606,
          7.171717171717171,
          1.4141414141414141,
          9.292929292929292,
          5.151515151515151
         ],
         "y": [
          1.144772935905775,
          0.8420972815405582,
          1.4278239039097425,
          1.3564210664131138,
          1.0751423490186858,
          1.9540507744191584,
          1.3049771653185638,
          1.0131464819379254,
          2.3491370500864446,
          1.0991764079755642,
          2.2135798818867976,
          1.1667413919634064,
          0.8741420842095579,
          1.4387284351789864,
          0.8126718280491307,
          2.633341185232917,
          1.0500633852627677,
          1.1946952220704283,
          1.4343600178328075,
          1.8361047137708213,
          1.252032574836906,
          1.4486227201690478,
          2.3527358219228036,
          1.1439431672774854,
          1.6207866407470002,
          1.8081187919828543,
          0.8338218654008526,
          1.4857744870338043,
          1.0373993149502463,
          2.1177392914077795,
          1.6756987044415246,
          2.701840773999476,
          1.885489314555087,
          1.314514116922619,
          2.234541107728447,
          0.9927091763712358,
          2.5364678318538525,
          1.012030769499443,
          1.2443284909135732,
          1.095086668824786,
          1.050921595818785,
          0.890162106096555,
          1.343228724488636,
          1.317401970408432,
          1.1736744801625196,
          0.8330365401643601,
          1.2171569273779745,
          0.9316862842017484,
          0.9742909346434638,
          1.0369303668537602,
          1.1336517022223596,
          1.3416341701803522,
          1.0877013100487591,
          1.1421539971262455,
          0.8763096229894118,
          1.007595173844177,
          1.1887741108795395,
          1.3375467159533814,
          1.0189184834197744,
          1.0593609305479008,
          1.3065913998405603,
          1.0488408075440847,
          1.453478835412635,
          1.3543993767674365,
          2.882426911260417,
          0.8569210646561849,
          1.9162281731249964,
          2.872975000933508,
          1.498848364924453,
          0.9621449831525655,
          1.122944608753216,
          0.9984159297243436,
          0.9911649494479241,
          0.8325625412832133,
          1.7957858369013748,
          1.0203583233304971,
          0.9206892185049479,
          1.9720049967925386,
          1.2072816732363838,
          1.28439602075028
         ]
        },
        {
         "mode": "lines",
         "name": "Fitted Curve",
         "type": "scatter",
         "x": [
          0,
          0.10101010101010101,
          0.20202020202020202,
          0.30303030303030304,
          0.40404040404040403,
          0.5050505050505051,
          0.6060606060606061,
          0.7070707070707071,
          0.8080808080808081,
          0.9090909090909091,
          1.0101010101010102,
          1.1111111111111112,
          1.2121212121212122,
          1.3131313131313131,
          1.4141414141414141,
          1.5151515151515151,
          1.6161616161616161,
          1.7171717171717171,
          1.8181818181818181,
          1.9191919191919191,
          2.0202020202020203,
          2.121212121212121,
          2.2222222222222223,
          2.323232323232323,
          2.4242424242424243,
          2.525252525252525,
          2.6262626262626263,
          2.727272727272727,
          2.8282828282828283,
          2.929292929292929,
          3.0303030303030303,
          3.131313131313131,
          3.2323232323232323,
          3.3333333333333335,
          3.4343434343434343,
          3.5353535353535355,
          3.6363636363636362,
          3.7373737373737375,
          3.8383838383838382,
          3.9393939393939394,
          4.040404040404041,
          4.141414141414141,
          4.242424242424242,
          4.343434343434343,
          4.444444444444445,
          4.545454545454545,
          4.646464646464646,
          4.747474747474747,
          4.848484848484849,
          4.94949494949495,
          5.05050505050505,
          5.151515151515151,
          5.252525252525253,
          5.353535353535354,
          5.454545454545454,
          5.555555555555555,
          5.656565656565657,
          5.757575757575758,
          5.858585858585858,
          5.959595959595959,
          6.0606060606060606,
          6.161616161616162,
          6.262626262626262,
          6.363636363636363,
          6.4646464646464645,
          6.565656565656566,
          6.666666666666667,
          6.767676767676767,
          6.8686868686868685,
          6.96969696969697,
          7.070707070707071,
          7.171717171717171,
          7.2727272727272725,
          7.373737373737374,
          7.474747474747475,
          7.575757575757575,
          7.6767676767676765,
          7.777777777777778,
          7.878787878787879,
          7.979797979797979,
          8.080808080808081,
          8.181818181818182,
          8.282828282828282,
          8.383838383838384,
          8.484848484848484,
          8.585858585858587,
          8.686868686868687,
          8.787878787878787,
          8.88888888888889,
          8.98989898989899,
          9.09090909090909,
          9.191919191919192,
          9.292929292929292,
          9.393939393939394,
          9.494949494949495,
          9.595959595959595,
          9.696969696969697,
          9.797979797979798,
          9.8989898989899,
          10
         ],
         "y": [
          2.9922332255901436,
          2.8994631653415235,
          2.810924795960872,
          2.7264250895730964,
          2.64577982323752,
          2.568813177312264,
          2.4953573521391688,
          2.425252202213574,
          2.3583448870413752,
          2.2944895379221872,
          2.233546939932129,
          2.175384228412918,
          2.119874599305561,
          2.066897032697122,
          2.0163360289778662,
          1.9680813570335471,
          1.922027813923858,
          1.878074995523117,
          1.8361270776231353,
          1.7960926070210421,
          1.757884302136604,
          1.7214188627243532,
          1.6866167882656633,
          1.6534022046448427,
          1.6217026987313652,
          1.5914491605076113,
          1.562575632397919,
          1.5350191654704703,
          1.508719682198501,
          1.4836198454816383,
          1.4596649336418062,
          1.436802721121172,
          1.414983364622037,
          1.3941592944404373,
          1.3742851107565424,
          1.355317484655752,
          1.3372150636646993,
          1.3199383815962116,
          1.3034497725066794,
          1.2877132885782463,
          1.2726946217467887,
          1.258361028904821,
          1.24468126051626,
          1.2316254924874126,
          1.2191652611456592,
          1.2072734011840731,
          1.1959239864366837,
          1.1850922733552693,
          1.174754647064445,
          1.1648885698774383,
          1.1554725321603108,
          1.146486005437498,
          1.1379093976364338,
          1.129724010373684,
          1.1219119981894645,
          1.1144563296416705,
          1.1073407501745964,
          1.100549746681392,
          1.0940685136829953,
          1.0878829210498089,
          1.081979483195747,
          1.0763453296774903,
          1.0709681771348507,
          1.065836302511072,
          1.0609385174946815,
          1.0562641441271743,
          1.051802991523346,
          1.047545333653526,
          1.0434818881392698,
          1.039603796016281,
          1.0359026024204463,
          1.032370238154873,
          1.0289990020977424,
          1.0257815444126261,
          1.022710850524663,
          1.0197802258276563,
          1.016983281088758,
          1.0143139185189143,
          1.0117663184787036,
          1.0093349267905898,
          1.0070144426299201,
          1.0047998069682778,
          1.002686191543985,
          1.0006689883357176,
          0.9987437995162777,
          0.9969064278646235,
          0.9951528676152528,
          0.9934792957249907,
          0.9918820635381408,
          0.9903576888318295,
          0.9889028482242,
          0.9875143699289068,
          0.9861892268401103,
          0.9849245299329006,
          0.9837175219647587,
          0.9825655714643241,
          0.9814661669943651,
          0.9804169116764413,
          0.9794155179653239,
          0.9784598026617792
         ]
        },
        {
         "line": {
          "color": "gray",
          "dash": "dash"
         },
         "mode": "lines",
         "name": "Ground Truth Curve",
         "type": "scatter",
         "x": [
          0,
          0.10101010101010101,
          0.20202020202020202,
          0.30303030303030304,
          0.40404040404040403,
          0.5050505050505051,
          0.6060606060606061,
          0.7070707070707071,
          0.8080808080808081,
          0.9090909090909091,
          1.0101010101010102,
          1.1111111111111112,
          1.2121212121212122,
          1.3131313131313131,
          1.4141414141414141,
          1.5151515151515151,
          1.6161616161616161,
          1.7171717171717171,
          1.8181818181818181,
          1.9191919191919191,
          2.0202020202020203,
          2.121212121212121,
          2.2222222222222223,
          2.323232323232323,
          2.4242424242424243,
          2.525252525252525,
          2.6262626262626263,
          2.727272727272727,
          2.8282828282828283,
          2.929292929292929,
          3.0303030303030303,
          3.131313131313131,
          3.2323232323232323,
          3.3333333333333335,
          3.4343434343434343,
          3.5353535353535355,
          3.6363636363636362,
          3.7373737373737375,
          3.8383838383838382,
          3.9393939393939394,
          4.040404040404041,
          4.141414141414141,
          4.242424242424242,
          4.343434343434343,
          4.444444444444445,
          4.545454545454545,
          4.646464646464646,
          4.747474747474747,
          4.848484848484849,
          4.94949494949495,
          5.05050505050505,
          5.151515151515151,
          5.252525252525253,
          5.353535353535354,
          5.454545454545454,
          5.555555555555555,
          5.656565656565657,
          5.757575757575758,
          5.858585858585858,
          5.959595959595959,
          6.0606060606060606,
          6.161616161616162,
          6.262626262626262,
          6.363636363636363,
          6.4646464646464645,
          6.565656565656566,
          6.666666666666667,
          6.767676767676767,
          6.8686868686868685,
          6.96969696969697,
          7.070707070707071,
          7.171717171717171,
          7.2727272727272725,
          7.373737373737374,
          7.474747474747475,
          7.575757575757575,
          7.6767676767676765,
          7.777777777777778,
          7.878787878787879,
          7.979797979797979,
          8.080808080808081,
          8.181818181818182,
          8.282828282828282,
          8.383838383838384,
          8.484848484848484,
          8.585858585858587,
          8.686868686868687,
          8.787878787878787,
          8.88888888888889,
          8.98989898989899,
          9.09090909090909,
          9.191919191919192,
          9.292929292929292,
          9.393939393939394,
          9.494949494949495,
          9.595959595959595,
          9.696969696969697,
          9.797979797979798,
          9.8989898989899,
          10
         ],
         "y": [
          3,
          2.901498253793868,
          2.8078478045905646,
          2.718809721777019,
          2.6341568422814627,
          2.553673191011751,
          2.477153429837596,
          2.404402333710906,
          2.3352342925876606,
          2.2694728378805635,
          2.206950192234319,
          2.1475068414748657,
          2.090991127640487,
          2.0372588620564946,
          1.9861729574663196,
          1.9376030782804707,
          1.8914253080510353,
          1.847521833323352,
          1.8057806430582661,
          1.7660952428580965,
          1.72836438326723,
          1.6924918014541426,
          1.6583859756158112,
          1.6259598914779185,
          1.5951308202951306,
          1.5658201077850518,
          1.537952973457367,
          1.5114583198262013,
          1.4862685510189337,
          1.4623194003186886,
          1.4395497662005072,
          1.4179015564428838,
          1.3973195399169416,
          1.3777512056751235,
          1.3591466289798881,
          1.3414583439306056,
          1.3246412223636963,
          1.3086523587170378,
          1.293450960564903,
          1.2789982445441481,
          1.265257337406126,
          1.25219318194188,
          1.2397724475406018,
          1.2279634451531682,
          1.2167360464437917,
          1.2060616069235284,
          1.195912892869524,
          1.1862640118435523,
          1.1770903466325775,
          1.1683684924427986,
          1.1600761971869438,
          1.1521923047124683,
          1.1446967008258113,
          1.137570261975007,
          1.1307948064597204,
          1.1243530480442328,
          1.1182285518550266,
          1.1124056924504555,
          1.1068696139555159,
          1.101606192160019,
          1.0966019984834603,
          1.0918442657146488,
          1.0873208554386924,
          1.08302022706823,
          1.078931408399905,
          1.075043967620955,
          1.0713479866945048,
          1.0678340360556544,
          1.0644931505538087,
          1.0613168065798662,
          1.0582969003199159,
          1.0554257270799576,
          1.0526959616288976,
          1.0501006395096686,
          1.0476331392707954,
          1.0452871655730689,
          1.043056733128232,
          1.040936151428701,
          1.038920010229358,
          1.037003165744382,
          1.0351807275238938,
          1.0334480459769408,
          1.031800700508985,
          1.0302344882436285,
          1.0287454132998053,
          1.0273296765970814,
          1.0259836661630508,
          1.024703947918102,
          1.0234872569140427,
          1.0223304890042302,
          1.0212306929239534,
          1.0201850627608655,
          1.0191909307962528,
          1.0182457606988768,
          1.0173471410540276,
          1.0164927792112746,
          1.0156804954352232,
          1.0149082173443498,
          1.0141739746237304,
          1.013475893998171
         ]
        }
       ],
       "layout": {
        "annotations": [
         {
          "font": {
           "color": "rgb(93, 105, 177)"
          },
          "showarrow": false,
          "text": "Cross-validated MSE: -0.0128",
          "x": 5,
          "y": 2
         },
         {
          "font": {
           "color": "rgb(93, 105, 177)"
          },
          "showarrow": false,
          "text": "R2 Score: 0.9663",
          "x": 5,
          "y": 1.5
         },
         {
          "font": {
           "color": "rgb(229, 134, 6)"
          },
          "showarrow": false,
          "text": "Fitted Parameters: a=2.03, k=0.46, b=0.96",
          "x": 5,
          "y": 2.5
         },
         {
          "showarrow": false,
          "text": "Ground truth Parameters: a=2.00, k=0.50, b=1.00",
          "x": 5,
          "y": 3
         }
        ],
        "template": {
         "data": {
          "bar": [
           {
            "error_x": {
             "color": "#2a3f5f"
            },
            "error_y": {
             "color": "#2a3f5f"
            },
            "marker": {
             "line": {
              "color": "#E5ECF6",
              "width": 0.5
             },
             "pattern": {
              "fillmode": "overlay",
              "size": 10,
              "solidity": 0.2
             }
            },
            "type": "bar"
           }
          ],
          "barpolar": [
           {
            "marker": {
             "line": {
              "color": "#E5ECF6",
              "width": 0.5
             },
             "pattern": {
              "fillmode": "overlay",
              "size": 10,
              "solidity": 0.2
             }
            },
            "type": "barpolar"
           }
          ],
          "carpet": [
           {
            "aaxis": {
             "endlinecolor": "#2a3f5f",
             "gridcolor": "white",
             "linecolor": "white",
             "minorgridcolor": "white",
             "startlinecolor": "#2a3f5f"
            },
            "baxis": {
             "endlinecolor": "#2a3f5f",
             "gridcolor": "white",
             "linecolor": "white",
             "minorgridcolor": "white",
             "startlinecolor": "#2a3f5f"
            },
            "type": "carpet"
           }
          ],
          "choropleth": [
           {
            "colorbar": {
             "outlinewidth": 0,
             "ticks": ""
            },
            "type": "choropleth"
           }
          ],
          "contour": [
           {
            "colorbar": {
             "outlinewidth": 0,
             "ticks": ""
            },
            "colorscale": [
             [
              0,
              "#0d0887"
             ],
             [
              0.1111111111111111,
              "#46039f"
             ],
             [
              0.2222222222222222,
              "#7201a8"
             ],
             [
              0.3333333333333333,
              "#9c179e"
             ],
             [
              0.4444444444444444,
              "#bd3786"
             ],
             [
              0.5555555555555556,
              "#d8576b"
             ],
             [
              0.6666666666666666,
              "#ed7953"
             ],
             [
              0.7777777777777778,
              "#fb9f3a"
             ],
             [
              0.8888888888888888,
              "#fdca26"
             ],
             [
              1,
              "#f0f921"
             ]
            ],
            "type": "contour"
           }
          ],
          "contourcarpet": [
           {
            "colorbar": {
             "outlinewidth": 0,
             "ticks": ""
            },
            "type": "contourcarpet"
           }
          ],
          "heatmap": [
           {
            "colorbar": {
             "outlinewidth": 0,
             "ticks": ""
            },
            "colorscale": [
             [
              0,
              "#0d0887"
             ],
             [
              0.1111111111111111,
              "#46039f"
             ],
             [
              0.2222222222222222,
              "#7201a8"
             ],
             [
              0.3333333333333333,
              "#9c179e"
             ],
             [
              0.4444444444444444,
              "#bd3786"
             ],
             [
              0.5555555555555556,
              "#d8576b"
             ],
             [
              0.6666666666666666,
              "#ed7953"
             ],
             [
              0.7777777777777778,
              "#fb9f3a"
             ],
             [
              0.8888888888888888,
              "#fdca26"
             ],
             [
              1,
              "#f0f921"
             ]
            ],
            "type": "heatmap"
           }
          ],
          "heatmapgl": [
           {
            "colorbar": {
             "outlinewidth": 0,
             "ticks": ""
            },
            "colorscale": [
             [
              0,
              "#0d0887"
             ],
             [
              0.1111111111111111,
              "#46039f"
             ],
             [
              0.2222222222222222,
              "#7201a8"
             ],
             [
              0.3333333333333333,
              "#9c179e"
             ],
             [
              0.4444444444444444,
              "#bd3786"
             ],
             [
              0.5555555555555556,
              "#d8576b"
             ],
             [
              0.6666666666666666,
              "#ed7953"
             ],
             [
              0.7777777777777778,
              "#fb9f3a"
             ],
             [
              0.8888888888888888,
              "#fdca26"
             ],
             [
              1,
              "#f0f921"
             ]
            ],
            "type": "heatmapgl"
           }
          ],
          "histogram": [
           {
            "marker": {
             "pattern": {
              "fillmode": "overlay",
              "size": 10,
              "solidity": 0.2
             }
            },
            "type": "histogram"
           }
          ],
          "histogram2d": [
           {
            "colorbar": {
             "outlinewidth": 0,
             "ticks": ""
            },
            "colorscale": [
             [
              0,
              "#0d0887"
             ],
             [
              0.1111111111111111,
              "#46039f"
             ],
             [
              0.2222222222222222,
              "#7201a8"
             ],
             [
              0.3333333333333333,
              "#9c179e"
             ],
             [
              0.4444444444444444,
              "#bd3786"
             ],
             [
              0.5555555555555556,
              "#d8576b"
             ],
             [
              0.6666666666666666,
              "#ed7953"
             ],
             [
              0.7777777777777778,
              "#fb9f3a"
             ],
             [
              0.8888888888888888,
              "#fdca26"
             ],
             [
              1,
              "#f0f921"
             ]
            ],
            "type": "histogram2d"
           }
          ],
          "histogram2dcontour": [
           {
            "colorbar": {
             "outlinewidth": 0,
             "ticks": ""
            },
            "colorscale": [
             [
              0,
              "#0d0887"
             ],
             [
              0.1111111111111111,
              "#46039f"
             ],
             [
              0.2222222222222222,
              "#7201a8"
             ],
             [
              0.3333333333333333,
              "#9c179e"
             ],
             [
              0.4444444444444444,
              "#bd3786"
             ],
             [
              0.5555555555555556,
              "#d8576b"
             ],
             [
              0.6666666666666666,
              "#ed7953"
             ],
             [
              0.7777777777777778,
              "#fb9f3a"
             ],
             [
              0.8888888888888888,
              "#fdca26"
             ],
             [
              1,
              "#f0f921"
             ]
            ],
            "type": "histogram2dcontour"
           }
          ],
          "mesh3d": [
           {
            "colorbar": {
             "outlinewidth": 0,
             "ticks": ""
            },
            "type": "mesh3d"
           }
          ],
          "parcoords": [
           {
            "line": {
             "colorbar": {
              "outlinewidth": 0,
              "ticks": ""
             }
            },
            "type": "parcoords"
           }
          ],
          "pie": [
           {
            "automargin": true,
            "type": "pie"
           }
          ],
          "scatter": [
           {
            "fillpattern": {
             "fillmode": "overlay",
             "size": 10,
             "solidity": 0.2
            },
            "type": "scatter"
           }
          ],
          "scatter3d": [
           {
            "line": {
             "colorbar": {
              "outlinewidth": 0,
              "ticks": ""
             }
            },
            "marker": {
             "colorbar": {
              "outlinewidth": 0,
              "ticks": ""
             }
            },
            "type": "scatter3d"
           }
          ],
          "scattercarpet": [
           {
            "marker": {
             "colorbar": {
              "outlinewidth": 0,
              "ticks": ""
             }
            },
            "type": "scattercarpet"
           }
          ],
          "scattergeo": [
           {
            "marker": {
             "colorbar": {
              "outlinewidth": 0,
              "ticks": ""
             }
            },
            "type": "scattergeo"
           }
          ],
          "scattergl": [
           {
            "marker": {
             "colorbar": {
              "outlinewidth": 0,
              "ticks": ""
             }
            },
            "type": "scattergl"
           }
          ],
          "scattermapbox": [
           {
            "marker": {
             "colorbar": {
              "outlinewidth": 0,
              "ticks": ""
             }
            },
            "type": "scattermapbox"
           }
          ],
          "scatterpolar": [
           {
            "marker": {
             "colorbar": {
              "outlinewidth": 0,
              "ticks": ""
             }
            },
            "type": "scatterpolar"
           }
          ],
          "scatterpolargl": [
           {
            "marker": {
             "colorbar": {
              "outlinewidth": 0,
              "ticks": ""
             }
            },
            "type": "scatterpolargl"
           }
          ],
          "scatterternary": [
           {
            "marker": {
             "colorbar": {
              "outlinewidth": 0,
              "ticks": ""
             }
            },
            "type": "scatterternary"
           }
          ],
          "surface": [
           {
            "colorbar": {
             "outlinewidth": 0,
             "ticks": ""
            },
            "colorscale": [
             [
              0,
              "#0d0887"
             ],
             [
              0.1111111111111111,
              "#46039f"
             ],
             [
              0.2222222222222222,
              "#7201a8"
             ],
             [
              0.3333333333333333,
              "#9c179e"
             ],
             [
              0.4444444444444444,
              "#bd3786"
             ],
             [
              0.5555555555555556,
              "#d8576b"
             ],
             [
              0.6666666666666666,
              "#ed7953"
             ],
             [
              0.7777777777777778,
              "#fb9f3a"
             ],
             [
              0.8888888888888888,
              "#fdca26"
             ],
             [
              1,
              "#f0f921"
             ]
            ],
            "type": "surface"
           }
          ],
          "table": [
           {
            "cells": {
             "fill": {
              "color": "#EBF0F8"
             },
             "line": {
              "color": "white"
             }
            },
            "header": {
             "fill": {
              "color": "#C8D4E3"
             },
             "line": {
              "color": "white"
             }
            },
            "type": "table"
           }
          ]
         },
         "layout": {
          "annotationdefaults": {
           "arrowcolor": "#2a3f5f",
           "arrowhead": 0,
           "arrowwidth": 1
          },
          "autotypenumbers": "strict",
          "coloraxis": {
           "colorbar": {
            "outlinewidth": 0,
            "ticks": ""
           }
          },
          "colorscale": {
           "diverging": [
            [
             0,
             "#8e0152"
            ],
            [
             0.1,
             "#c51b7d"
            ],
            [
             0.2,
             "#de77ae"
            ],
            [
             0.3,
             "#f1b6da"
            ],
            [
             0.4,
             "#fde0ef"
            ],
            [
             0.5,
             "#f7f7f7"
            ],
            [
             0.6,
             "#e6f5d0"
            ],
            [
             0.7,
             "#b8e186"
            ],
            [
             0.8,
             "#7fbc41"
            ],
            [
             0.9,
             "#4d9221"
            ],
            [
             1,
             "#276419"
            ]
           ],
           "sequential": [
            [
             0,
             "#0d0887"
            ],
            [
             0.1111111111111111,
             "#46039f"
            ],
            [
             0.2222222222222222,
             "#7201a8"
            ],
            [
             0.3333333333333333,
             "#9c179e"
            ],
            [
             0.4444444444444444,
             "#bd3786"
            ],
            [
             0.5555555555555556,
             "#d8576b"
            ],
            [
             0.6666666666666666,
             "#ed7953"
            ],
            [
             0.7777777777777778,
             "#fb9f3a"
            ],
            [
             0.8888888888888888,
             "#fdca26"
            ],
            [
             1,
             "#f0f921"
            ]
           ],
           "sequentialminus": [
            [
             0,
             "#0d0887"
            ],
            [
             0.1111111111111111,
             "#46039f"
            ],
            [
             0.2222222222222222,
             "#7201a8"
            ],
            [
             0.3333333333333333,
             "#9c179e"
            ],
            [
             0.4444444444444444,
             "#bd3786"
            ],
            [
             0.5555555555555556,
             "#d8576b"
            ],
            [
             0.6666666666666666,
             "#ed7953"
            ],
            [
             0.7777777777777778,
             "#fb9f3a"
            ],
            [
             0.8888888888888888,
             "#fdca26"
            ],
            [
             1,
             "#f0f921"
            ]
           ]
          },
          "colorway": [
           "#636efa",
           "#EF553B",
           "#00cc96",
           "#ab63fa",
           "#FFA15A",
           "#19d3f3",
           "#FF6692",
           "#B6E880",
           "#FF97FF",
           "#FECB52"
          ],
          "font": {
           "color": "#2a3f5f"
          },
          "geo": {
           "bgcolor": "white",
           "lakecolor": "white",
           "landcolor": "#E5ECF6",
           "showlakes": true,
           "showland": true,
           "subunitcolor": "white"
          },
          "hoverlabel": {
           "align": "left"
          },
          "hovermode": "closest",
          "mapbox": {
           "style": "light"
          },
          "paper_bgcolor": "white",
          "plot_bgcolor": "#E5ECF6",
          "polar": {
           "angularaxis": {
            "gridcolor": "white",
            "linecolor": "white",
            "ticks": ""
           },
           "bgcolor": "#E5ECF6",
           "radialaxis": {
            "gridcolor": "white",
            "linecolor": "white",
            "ticks": ""
           }
          },
          "scene": {
           "xaxis": {
            "backgroundcolor": "#E5ECF6",
            "gridcolor": "white",
            "gridwidth": 2,
            "linecolor": "white",
            "showbackground": true,
            "ticks": "",
            "zerolinecolor": "white"
           },
           "yaxis": {
            "backgroundcolor": "#E5ECF6",
            "gridcolor": "white",
            "gridwidth": 2,
            "linecolor": "white",
            "showbackground": true,
            "ticks": "",
            "zerolinecolor": "white"
           },
           "zaxis": {
            "backgroundcolor": "#E5ECF6",
            "gridcolor": "white",
            "gridwidth": 2,
            "linecolor": "white",
            "showbackground": true,
            "ticks": "",
            "zerolinecolor": "white"
           }
          },
          "shapedefaults": {
           "line": {
            "color": "#2a3f5f"
           }
          },
          "ternary": {
           "aaxis": {
            "gridcolor": "white",
            "linecolor": "white",
            "ticks": ""
           },
           "baxis": {
            "gridcolor": "white",
            "linecolor": "white",
            "ticks": ""
           },
           "bgcolor": "#E5ECF6",
           "caxis": {
            "gridcolor": "white",
            "linecolor": "white",
            "ticks": ""
           }
          },
          "title": {
           "x": 0.05
          },
          "xaxis": {
           "automargin": true,
           "gridcolor": "white",
           "linecolor": "white",
           "ticks": "",
           "title": {
            "standoff": 15
           },
           "zerolinecolor": "white",
           "zerolinewidth": 2
          },
          "yaxis": {
           "automargin": true,
           "gridcolor": "white",
           "linecolor": "white",
           "ticks": "",
           "title": {
            "standoff": 15
           },
           "zerolinecolor": "white",
           "zerolinewidth": 2
          }
         }
        },
        "title": {
         "text": "Custom model (exponential decay function) fitted to experimental data on the train set and validated on the test set"
        },
        "width": 1100,
        "xaxis": {
         "title": {
          "text": "X"
         }
        },
        "yaxis": {
         "title": {
          "text": "Y"
         }
        }
       }
      }
     },
     "metadata": {},
     "output_type": "display_data"
    }
   ],
   "source": [
    "fig = go.Figure()\n",
    "\n",
    "fig.add_trace(go.Scatter(x=X_test, \n",
    "                         y=Y_test, \n",
    "                         mode='markers', \n",
    "                         name='Test Data',\n",
    "                         marker=dict(color='rgb(93, 105, 177)')))\n",
    "                                     \n",
    "fig.add_trace(go.Scatter(x=X_train, \n",
    "                         y=Y_train, \n",
    "                         mode='markers', \n",
    "                         name='Train Data', \n",
    "                         marker=dict(color='rgb(229, 134, 6)')))\n",
    "\n",
    "fig.add_trace(go.Scatter(x=X_fit, y=Y_fit, mode='lines', name='Fitted Curve'))\n",
    "fig.add_trace(go.Scatter(x=X_fit, y=Y, mode='lines', name='Ground Truth Curve', line=dict(color='gray', dash='dash')))\n",
    "\n",
    "fig.update_layout(title='Custom model (exponential decay function) fitted to experimental data on the train set and validated on the test set',\n",
    "                  xaxis_title='X',\n",
    "                  yaxis_title='Y',\n",
    "                  width=1100,\n",
    "                  annotations=[dict(x=5, y=2, text=\"Cross-validated MSE: {:.4f}\".format(score[0]), showarrow=False, font=dict(color='rgb(93, 105, 177)')),\n",
    "                               dict(x=5, y=1.5, text=\"R2 Score: {:.4f}\".format(score[1]), showarrow=False, font=dict(color='rgb(93, 105, 177)')),\n",
    "                               dict(x=5, y=2.5, text=\"Fitted Parameters: a={:.2f}, k={:.2f}, b={:.2f}\".format(a_fit, k_fit, b_fit), showarrow=False, font=dict(color='rgb(229, 134, 6)')),\n",
    "                               dict(x=5, y=3, text=\"Ground truth Parameters: a={:.2f}, k={:.2f}, b={:.2f}\".format(a, k, b), showarrow=False)])\n",
    "fig.show()"
   ]
  },
  {
   "cell_type": "markdown",
   "metadata": {},
   "source": [
    "It is recommended to also implement additional methods such as get_params and  set_params to make your estimator compatible with scikit-learn's hyperparameter tuning utilities. \n",
    "More information and examples of custom regressors in [the scikit-learn documentation](https://scikit-learn.org/stable/developers/contributing.html#rolling-your-own-estimator)\n"
   ]
  },
  {
   "cell_type": "markdown",
   "metadata": {},
   "source": [
    "### Any other functions are welcome"
   ]
  },
  {
   "cell_type": "code",
   "execution_count": 15,
   "metadata": {},
   "outputs": [],
   "source": [
    "# This is the model function, e.g., an exponential decay\n",
    "def model(x, a, b):\n",
    "    return a * np.exp(-b * x)\n",
    "\n",
    "#shifted exponential decay\n",
    "def exp_func(x, a, b):\n",
    "    return a * np.exp(-b * x)\n",
    "\n",
    "#shifted squared exponential decay\n",
    "def exp_squared_func(x, a, b, c):\n",
    "    return a * np.exp(-b * x*x) + c\n",
    "\n",
    "#linear function\n",
    "def linear_func(x, a, b):\n",
    "    return a*x + b\n"
   ]
  },
  {
   "cell_type": "markdown",
   "metadata": {},
   "source": [
    "Have a look at the functions in a more convenient way"
   ]
  },
  {
   "cell_type": "code",
   "execution_count": 16,
   "metadata": {},
   "outputs": [
    {
     "data": {
      "text/latex": [
       "$$ \\displaystyle \\mathrm{model\\_show}(x, a, b) = a e^{-b x} $$"
      ],
      "text/plain": [
       "<latexify.ipython_wrappers.LatexifiedFunction at 0x306c57950>"
      ]
     },
     "execution_count": 16,
     "metadata": {},
     "output_type": "execute_result"
    }
   ],
   "source": [
    "@latexify.function\n",
    "def model_show(x, a, b):\n",
    "    return a * e**(-b * x)\n",
    "\n",
    "model_show # Displays the expression."
   ]
  },
  {
   "cell_type": "code",
   "execution_count": 17,
   "metadata": {},
   "outputs": [
    {
     "data": {
      "text/latex": [
       "$$ \\displaystyle \\mathrm{exp\\_func\\_show}(x, a, b, c) = a e^{-b x} + c $$"
      ],
      "text/plain": [
       "<latexify.ipython_wrappers.LatexifiedFunction at 0x306258190>"
      ]
     },
     "execution_count": 17,
     "metadata": {},
     "output_type": "execute_result"
    }
   ],
   "source": [
    "@latexify.function\n",
    "def exp_func_show(x, a, b, c):\n",
    "    return a * e**(-b * x) + c\n",
    "\n",
    "exp_func_show # Displays the expression."
   ]
  },
  {
   "cell_type": "code",
   "execution_count": 18,
   "metadata": {},
   "outputs": [
    {
     "data": {
      "text/latex": [
       "$$ \\displaystyle \\mathrm{exp\\_squared\\_func\\_show}(x, a, b, c) = a e^{-b x^{2}} + c $$"
      ],
      "text/plain": [
       "<latexify.ipython_wrappers.LatexifiedFunction at 0x306c771d0>"
      ]
     },
     "execution_count": 18,
     "metadata": {},
     "output_type": "execute_result"
    }
   ],
   "source": [
    "@latexify.function\n",
    "def exp_squared_func_show(x, a, b, c):\n",
    "    return a * e**(-b * x**2) + c\n",
    "\n",
    "exp_squared_func_show\n"
   ]
  },
  {
   "cell_type": "code",
   "execution_count": 19,
   "metadata": {},
   "outputs": [
    {
     "data": {
      "text/latex": [
       "$$ \\displaystyle \\mathrm{linear\\_func\\_show}(x, a, b) = a x + b $$"
      ],
      "text/plain": [
       "<latexify.ipython_wrappers.LatexifiedFunction at 0x306c759d0>"
      ]
     },
     "execution_count": 19,
     "metadata": {},
     "output_type": "execute_result"
    }
   ],
   "source": [
    "@latexify.function\n",
    "\n",
    "def linear_func_show(x, a, b):\n",
    "    return a*x + b\n",
    "\n",
    "linear_func_show"
   ]
  },
  {
   "cell_type": "markdown",
   "metadata": {},
   "source": [
    "### Polynomial function\n"
   ]
  },
  {
   "cell_type": "code",
   "execution_count": 51,
   "metadata": {},
   "outputs": [
    {
     "name": "stdout",
     "output_type": "stream",
     "text": [
      "[-0.50821901  0.74475361 -0.4310122   1.13218467]\n"
     ]
    }
   ],
   "source": [
    "coefficients = np.polynomial.polynomial.Polynomial.fit(X_train, Y_train, 3)\n",
    "\n",
    "\n",
    "print(coefficients.coef[::-1]) # The coefficients are in the reverse order, so we reverse them to get the correct order\n"
   ]
  },
  {
   "cell_type": "code",
   "execution_count": 57,
   "metadata": {},
   "outputs": [
    {
     "data": {
      "application/vnd.plotly.v1+json": {
       "config": {
        "plotlyServerURL": "https://plot.ly"
       },
       "data": [
        {
         "mode": "lines",
         "type": "scatter",
         "x": [
          0,
          0.10101010101010101,
          0.20202020202020202,
          0.30303030303030304,
          0.40404040404040403,
          0.5050505050505051,
          0.6060606060606061,
          0.7070707070707071,
          0.8080808080808081,
          0.9090909090909091,
          1.0101010101010102,
          1.1111111111111112,
          1.2121212121212122,
          1.3131313131313131,
          1.4141414141414141,
          1.5151515151515151,
          1.6161616161616161,
          1.7171717171717171,
          1.8181818181818181,
          1.9191919191919191,
          2.0202020202020203,
          2.121212121212121,
          2.2222222222222223,
          2.323232323232323,
          2.4242424242424243,
          2.525252525252525,
          2.6262626262626263,
          2.727272727272727,
          2.8282828282828283,
          2.929292929292929,
          3.0303030303030303,
          3.131313131313131,
          3.2323232323232323,
          3.3333333333333335,
          3.4343434343434343,
          3.5353535353535355,
          3.6363636363636362,
          3.7373737373737375,
          3.8383838383838382,
          3.9393939393939394,
          4.040404040404041,
          4.141414141414141,
          4.242424242424242,
          4.343434343434343,
          4.444444444444445,
          4.545454545454545,
          4.646464646464646,
          4.747474747474747,
          4.848484848484849,
          4.94949494949495,
          5.05050505050505,
          5.151515151515151,
          5.252525252525253,
          5.353535353535354,
          5.454545454545454,
          5.555555555555555,
          5.656565656565657,
          5.757575757575758,
          5.858585858585858,
          5.959595959595959,
          6.0606060606060606,
          6.161616161616162,
          6.262626262626262,
          6.363636363636363,
          6.4646464646464645,
          6.565656565656566,
          6.666666666666667,
          6.767676767676767,
          6.8686868686868685,
          6.96969696969697,
          7.070707070707071,
          7.171717171717171,
          7.2727272727272725,
          7.373737373737374,
          7.474747474747475,
          7.575757575757575,
          7.6767676767676765,
          7.777777777777778,
          7.878787878787879,
          7.979797979797979,
          8.080808080808081,
          8.181818181818182,
          8.282828282828282,
          8.383838383838384,
          8.484848484848484,
          8.585858585858587,
          8.686868686868687,
          8.787878787878787,
          8.88888888888889,
          8.98989898989899,
          9.09090909090909,
          9.191919191919192,
          9.292929292929292,
          9.393939393939394,
          9.494949494949495,
          9.595959595959595,
          9.696969696969697,
          9.797979797979798,
          9.8989898989899,
          10
         ],
         "y": [
          1.1321846652230292,
          1.095723054548645,
          1.0713162922914417,
          1.0558217244206265,
          1.0460966969054069,
          1.0389985557149894,
          1.0313846468185814,
          1.0201123161853902,
          1.0020389097846227,
          0.9740217735854859,
          0.9329182535571869,
          0.8755856956689332,
          0.7988814458899314,
          0.6996628501893889,
          0.5747872545365125,
          0.4211120049005098,
          0.23549444725058755,
          0.014791927555952933,
          -0.2441382082141872,
          -0.5444386140906254,
          -0.8892519441041551,
          -1.2817208522855674,
          -1.7249879926656582,
          -2.2221960192752173,
          -2.776487586145041,
          -3.391005347305918,
          -4.068891956788645,
          -4.813290068624011,
          -5.627342336842817,
          -6.514191415475843,
          -7.476979958553894,
          -8.518850620107754,
          -9.642946054168224,
          -10.852408914766096,
          -12.150381855932151,
          -13.540007531697196,
          -15.024428596092012,
          -16.606787703147404,
          -18.290227506894162,
          -20.077890661363075,
          -21.972919820584934,
          -23.978457638590523,
          -26.097646769410662,
          -28.33362986707613,
          -30.68954958561772,
          -33.16854857906621,
          -35.77376950145241,
          -38.508355006807136,
          -41.37544774916113,
          -44.37819038254522,
          -47.51972556099015,
          -50.80319593852679,
          -54.231744169185895,
          -57.80851290699825,
          -61.53664480599462,
          -65.41928252020588,
          -69.45956870366277,
          -73.66064601039608,
          -78.02565709443658,
          -82.55774460981513,
          -87.2600512105625,
          -92.13571955070944,
          -97.18789228428676,
          -102.41971206532529,
          -107.83432154785581,
          -113.43486338590913,
          -119.22448023351598,
          -125.20631474470713,
          -131.38350957351346,
          -137.75920737396578,
          -144.3365508000948,
          -151.11868250593133,
          -158.10874514550622,
          -165.30988137285024,
          -172.72523384199414,
          -180.35794520696874,
          -188.21115812180483,
          -196.2880152405332,
          -204.59165921718468,
          -213.12523270578998,
          -221.89187836038008,
          -230.89473883498545,
          -240.1369567836371,
          -249.62167486036594,
          -259.3520357192025,
          -269.3311820141778,
          -279.5622563993224,
          -290.0484015286672,
          -300.7927600562432,
          -311.7984746360808,
          -323.06868792221104,
          -334.6065425686648,
          -346.4151812294725,
          -358.4977465586654,
          -370.85738121027396,
          -383.49722783832897,
          -396.4204290968616,
          -409.63012763990207,
          -423.1294661214818,
          -436.921587195631
         ]
        },
        {
         "marker": {
          "color": "rgb(93, 105, 177)"
         },
         "mode": "markers",
         "name": "Test Data",
         "type": "scatter",
         "x": [
          8.383838383838384,
          5.353535353535354,
          7.070707070707071,
          4.545454545454545,
          4.444444444444445,
          3.9393939393939394,
          2.2222222222222223,
          8.080808080808081,
          1.0101010101010102,
          0,
          1.8181818181818181,
          3.0303030303030303,
          7.373737373737374,
          3.3333333333333335,
          9.09090909090909,
          0.40404040404040403,
          7.6767676767676765,
          7.777777777777778,
          1.2121212121212122,
          3.131313131313131
         ],
         "y": [
          1.126812493308892,
          1.0997433592949386,
          1.15972852874518,
          1.2399927214989943,
          1.1498382115744936,
          1.0957330613692904,
          1.784465831998252,
          0.9625558823697664,
          2.132826029089081,
          3.1621301032377294,
          1.9475277774135065,
          1.426064777166123,
          1.110234730592598,
          1.2816965862191176,
          1.1173894678398117,
          2.544982801858891,
          0.945410331723209,
          1.1295062775997362,
          1.9904121928344405,
          1.3805262665384057
         ]
        },
        {
         "marker": {
          "color": "rgb(229, 134, 6)"
         },
         "mode": "markers",
         "name": "Train Data",
         "type": "scatter",
         "x": [
          5.555555555555555,
          8.88888888888889,
          2.6262626262626263,
          4.242424242424242,
          6.96969696969697,
          1.5151515151515151,
          4.040404040404041,
          9.696969696969697,
          0.9090909090909091,
          7.2727272727272725,
          1.1111111111111112,
          4.747474747474747,
          8.585858585858587,
          2.8282828282828283,
          9.393939393939394,
          0.5050505050505051,
          6.666666666666667,
          6.565656565656566,
          3.5353535353535355,
          1.6161616161616161,
          4.94949494949495,
          3.4343434343434343,
          0.7070707070707071,
          9.595959595959595,
          2.727272727272727,
          1.9191919191919191,
          8.181818181818182,
          2.525252525252525,
          6.262626262626262,
          1.3131313131313131,
          2.4242424242424243,
          0.30303030303030304,
          1.7171717171717171,
          3.8383838383838382,
          0.8080808080808081,
          7.878787878787879,
          0.6060606060606061,
          6.4646464646464645,
          3.6363636363636362,
          8.98989898989899,
          5.656565656565657,
          10,
          5.454545454545454,
          4.343434343434343,
          5.05050505050505,
          6.767676767676767,
          4.646464646464646,
          6.8686868686868685,
          6.161616161616162,
          9.797979797979798,
          7.979797979797979,
          4.141414141414141,
          5.858585858585858,
          4.848484848484849,
          9.8989898989899,
          5.757575757575758,
          7.575757575757575,
          3.2323232323232323,
          9.494949494949495,
          5.959595959595959,
          6.363636363636363,
          8.484848484848484,
          3.7373737373737375,
          2.929292929292929,
          0.10101010101010101,
          5.252525252525253,
          2.121212121212121,
          0.20202020202020202,
          2.323232323232323,
          8.787878787878787,
          9.191919191919192,
          7.474747474747475,
          8.686868686868687,
          8.282828282828282,
          2.0202020202020203,
          6.0606060606060606,
          7.171717171717171,
          1.4141414141414141,
          9.292929292929292,
          5.151515151515151
         ],
         "y": [
          1.144772935905775,
          0.8420972815405582,
          1.4278239039097425,
          1.3564210664131138,
          1.0751423490186858,
          1.9540507744191584,
          1.3049771653185638,
          1.0131464819379254,
          2.3491370500864446,
          1.0991764079755642,
          2.2135798818867976,
          1.1667413919634064,
          0.8741420842095579,
          1.4387284351789864,
          0.8126718280491307,
          2.633341185232917,
          1.0500633852627677,
          1.1946952220704283,
          1.4343600178328075,
          1.8361047137708213,
          1.252032574836906,
          1.4486227201690478,
          2.3527358219228036,
          1.1439431672774854,
          1.6207866407470002,
          1.8081187919828543,
          0.8338218654008526,
          1.4857744870338043,
          1.0373993149502463,
          2.1177392914077795,
          1.6756987044415246,
          2.701840773999476,
          1.885489314555087,
          1.314514116922619,
          2.234541107728447,
          0.9927091763712358,
          2.5364678318538525,
          1.012030769499443,
          1.2443284909135732,
          1.095086668824786,
          1.050921595818785,
          0.890162106096555,
          1.343228724488636,
          1.317401970408432,
          1.1736744801625196,
          0.8330365401643601,
          1.2171569273779745,
          0.9316862842017484,
          0.9742909346434638,
          1.0369303668537602,
          1.1336517022223596,
          1.3416341701803522,
          1.0877013100487591,
          1.1421539971262455,
          0.8763096229894118,
          1.007595173844177,
          1.1887741108795395,
          1.3375467159533814,
          1.0189184834197744,
          1.0593609305479008,
          1.3065913998405603,
          1.0488408075440847,
          1.453478835412635,
          1.3543993767674365,
          2.882426911260417,
          0.8569210646561849,
          1.9162281731249964,
          2.872975000933508,
          1.498848364924453,
          0.9621449831525655,
          1.122944608753216,
          0.9984159297243436,
          0.9911649494479241,
          0.8325625412832133,
          1.7957858369013748,
          1.0203583233304971,
          0.9206892185049479,
          1.9720049967925386,
          1.2072816732363838,
          1.28439602075028
         ]
        }
       ],
       "layout": {
        "template": {
         "data": {
          "bar": [
           {
            "error_x": {
             "color": "#2a3f5f"
            },
            "error_y": {
             "color": "#2a3f5f"
            },
            "marker": {
             "line": {
              "color": "#E5ECF6",
              "width": 0.5
             },
             "pattern": {
              "fillmode": "overlay",
              "size": 10,
              "solidity": 0.2
             }
            },
            "type": "bar"
           }
          ],
          "barpolar": [
           {
            "marker": {
             "line": {
              "color": "#E5ECF6",
              "width": 0.5
             },
             "pattern": {
              "fillmode": "overlay",
              "size": 10,
              "solidity": 0.2
             }
            },
            "type": "barpolar"
           }
          ],
          "carpet": [
           {
            "aaxis": {
             "endlinecolor": "#2a3f5f",
             "gridcolor": "white",
             "linecolor": "white",
             "minorgridcolor": "white",
             "startlinecolor": "#2a3f5f"
            },
            "baxis": {
             "endlinecolor": "#2a3f5f",
             "gridcolor": "white",
             "linecolor": "white",
             "minorgridcolor": "white",
             "startlinecolor": "#2a3f5f"
            },
            "type": "carpet"
           }
          ],
          "choropleth": [
           {
            "colorbar": {
             "outlinewidth": 0,
             "ticks": ""
            },
            "type": "choropleth"
           }
          ],
          "contour": [
           {
            "colorbar": {
             "outlinewidth": 0,
             "ticks": ""
            },
            "colorscale": [
             [
              0,
              "#0d0887"
             ],
             [
              0.1111111111111111,
              "#46039f"
             ],
             [
              0.2222222222222222,
              "#7201a8"
             ],
             [
              0.3333333333333333,
              "#9c179e"
             ],
             [
              0.4444444444444444,
              "#bd3786"
             ],
             [
              0.5555555555555556,
              "#d8576b"
             ],
             [
              0.6666666666666666,
              "#ed7953"
             ],
             [
              0.7777777777777778,
              "#fb9f3a"
             ],
             [
              0.8888888888888888,
              "#fdca26"
             ],
             [
              1,
              "#f0f921"
             ]
            ],
            "type": "contour"
           }
          ],
          "contourcarpet": [
           {
            "colorbar": {
             "outlinewidth": 0,
             "ticks": ""
            },
            "type": "contourcarpet"
           }
          ],
          "heatmap": [
           {
            "colorbar": {
             "outlinewidth": 0,
             "ticks": ""
            },
            "colorscale": [
             [
              0,
              "#0d0887"
             ],
             [
              0.1111111111111111,
              "#46039f"
             ],
             [
              0.2222222222222222,
              "#7201a8"
             ],
             [
              0.3333333333333333,
              "#9c179e"
             ],
             [
              0.4444444444444444,
              "#bd3786"
             ],
             [
              0.5555555555555556,
              "#d8576b"
             ],
             [
              0.6666666666666666,
              "#ed7953"
             ],
             [
              0.7777777777777778,
              "#fb9f3a"
             ],
             [
              0.8888888888888888,
              "#fdca26"
             ],
             [
              1,
              "#f0f921"
             ]
            ],
            "type": "heatmap"
           }
          ],
          "heatmapgl": [
           {
            "colorbar": {
             "outlinewidth": 0,
             "ticks": ""
            },
            "colorscale": [
             [
              0,
              "#0d0887"
             ],
             [
              0.1111111111111111,
              "#46039f"
             ],
             [
              0.2222222222222222,
              "#7201a8"
             ],
             [
              0.3333333333333333,
              "#9c179e"
             ],
             [
              0.4444444444444444,
              "#bd3786"
             ],
             [
              0.5555555555555556,
              "#d8576b"
             ],
             [
              0.6666666666666666,
              "#ed7953"
             ],
             [
              0.7777777777777778,
              "#fb9f3a"
             ],
             [
              0.8888888888888888,
              "#fdca26"
             ],
             [
              1,
              "#f0f921"
             ]
            ],
            "type": "heatmapgl"
           }
          ],
          "histogram": [
           {
            "marker": {
             "pattern": {
              "fillmode": "overlay",
              "size": 10,
              "solidity": 0.2
             }
            },
            "type": "histogram"
           }
          ],
          "histogram2d": [
           {
            "colorbar": {
             "outlinewidth": 0,
             "ticks": ""
            },
            "colorscale": [
             [
              0,
              "#0d0887"
             ],
             [
              0.1111111111111111,
              "#46039f"
             ],
             [
              0.2222222222222222,
              "#7201a8"
             ],
             [
              0.3333333333333333,
              "#9c179e"
             ],
             [
              0.4444444444444444,
              "#bd3786"
             ],
             [
              0.5555555555555556,
              "#d8576b"
             ],
             [
              0.6666666666666666,
              "#ed7953"
             ],
             [
              0.7777777777777778,
              "#fb9f3a"
             ],
             [
              0.8888888888888888,
              "#fdca26"
             ],
             [
              1,
              "#f0f921"
             ]
            ],
            "type": "histogram2d"
           }
          ],
          "histogram2dcontour": [
           {
            "colorbar": {
             "outlinewidth": 0,
             "ticks": ""
            },
            "colorscale": [
             [
              0,
              "#0d0887"
             ],
             [
              0.1111111111111111,
              "#46039f"
             ],
             [
              0.2222222222222222,
              "#7201a8"
             ],
             [
              0.3333333333333333,
              "#9c179e"
             ],
             [
              0.4444444444444444,
              "#bd3786"
             ],
             [
              0.5555555555555556,
              "#d8576b"
             ],
             [
              0.6666666666666666,
              "#ed7953"
             ],
             [
              0.7777777777777778,
              "#fb9f3a"
             ],
             [
              0.8888888888888888,
              "#fdca26"
             ],
             [
              1,
              "#f0f921"
             ]
            ],
            "type": "histogram2dcontour"
           }
          ],
          "mesh3d": [
           {
            "colorbar": {
             "outlinewidth": 0,
             "ticks": ""
            },
            "type": "mesh3d"
           }
          ],
          "parcoords": [
           {
            "line": {
             "colorbar": {
              "outlinewidth": 0,
              "ticks": ""
             }
            },
            "type": "parcoords"
           }
          ],
          "pie": [
           {
            "automargin": true,
            "type": "pie"
           }
          ],
          "scatter": [
           {
            "fillpattern": {
             "fillmode": "overlay",
             "size": 10,
             "solidity": 0.2
            },
            "type": "scatter"
           }
          ],
          "scatter3d": [
           {
            "line": {
             "colorbar": {
              "outlinewidth": 0,
              "ticks": ""
             }
            },
            "marker": {
             "colorbar": {
              "outlinewidth": 0,
              "ticks": ""
             }
            },
            "type": "scatter3d"
           }
          ],
          "scattercarpet": [
           {
            "marker": {
             "colorbar": {
              "outlinewidth": 0,
              "ticks": ""
             }
            },
            "type": "scattercarpet"
           }
          ],
          "scattergeo": [
           {
            "marker": {
             "colorbar": {
              "outlinewidth": 0,
              "ticks": ""
             }
            },
            "type": "scattergeo"
           }
          ],
          "scattergl": [
           {
            "marker": {
             "colorbar": {
              "outlinewidth": 0,
              "ticks": ""
             }
            },
            "type": "scattergl"
           }
          ],
          "scattermapbox": [
           {
            "marker": {
             "colorbar": {
              "outlinewidth": 0,
              "ticks": ""
             }
            },
            "type": "scattermapbox"
           }
          ],
          "scatterpolar": [
           {
            "marker": {
             "colorbar": {
              "outlinewidth": 0,
              "ticks": ""
             }
            },
            "type": "scatterpolar"
           }
          ],
          "scatterpolargl": [
           {
            "marker": {
             "colorbar": {
              "outlinewidth": 0,
              "ticks": ""
             }
            },
            "type": "scatterpolargl"
           }
          ],
          "scatterternary": [
           {
            "marker": {
             "colorbar": {
              "outlinewidth": 0,
              "ticks": ""
             }
            },
            "type": "scatterternary"
           }
          ],
          "surface": [
           {
            "colorbar": {
             "outlinewidth": 0,
             "ticks": ""
            },
            "colorscale": [
             [
              0,
              "#0d0887"
             ],
             [
              0.1111111111111111,
              "#46039f"
             ],
             [
              0.2222222222222222,
              "#7201a8"
             ],
             [
              0.3333333333333333,
              "#9c179e"
             ],
             [
              0.4444444444444444,
              "#bd3786"
             ],
             [
              0.5555555555555556,
              "#d8576b"
             ],
             [
              0.6666666666666666,
              "#ed7953"
             ],
             [
              0.7777777777777778,
              "#fb9f3a"
             ],
             [
              0.8888888888888888,
              "#fdca26"
             ],
             [
              1,
              "#f0f921"
             ]
            ],
            "type": "surface"
           }
          ],
          "table": [
           {
            "cells": {
             "fill": {
              "color": "#EBF0F8"
             },
             "line": {
              "color": "white"
             }
            },
            "header": {
             "fill": {
              "color": "#C8D4E3"
             },
             "line": {
              "color": "white"
             }
            },
            "type": "table"
           }
          ]
         },
         "layout": {
          "annotationdefaults": {
           "arrowcolor": "#2a3f5f",
           "arrowhead": 0,
           "arrowwidth": 1
          },
          "autotypenumbers": "strict",
          "coloraxis": {
           "colorbar": {
            "outlinewidth": 0,
            "ticks": ""
           }
          },
          "colorscale": {
           "diverging": [
            [
             0,
             "#8e0152"
            ],
            [
             0.1,
             "#c51b7d"
            ],
            [
             0.2,
             "#de77ae"
            ],
            [
             0.3,
             "#f1b6da"
            ],
            [
             0.4,
             "#fde0ef"
            ],
            [
             0.5,
             "#f7f7f7"
            ],
            [
             0.6,
             "#e6f5d0"
            ],
            [
             0.7,
             "#b8e186"
            ],
            [
             0.8,
             "#7fbc41"
            ],
            [
             0.9,
             "#4d9221"
            ],
            [
             1,
             "#276419"
            ]
           ],
           "sequential": [
            [
             0,
             "#0d0887"
            ],
            [
             0.1111111111111111,
             "#46039f"
            ],
            [
             0.2222222222222222,
             "#7201a8"
            ],
            [
             0.3333333333333333,
             "#9c179e"
            ],
            [
             0.4444444444444444,
             "#bd3786"
            ],
            [
             0.5555555555555556,
             "#d8576b"
            ],
            [
             0.6666666666666666,
             "#ed7953"
            ],
            [
             0.7777777777777778,
             "#fb9f3a"
            ],
            [
             0.8888888888888888,
             "#fdca26"
            ],
            [
             1,
             "#f0f921"
            ]
           ],
           "sequentialminus": [
            [
             0,
             "#0d0887"
            ],
            [
             0.1111111111111111,
             "#46039f"
            ],
            [
             0.2222222222222222,
             "#7201a8"
            ],
            [
             0.3333333333333333,
             "#9c179e"
            ],
            [
             0.4444444444444444,
             "#bd3786"
            ],
            [
             0.5555555555555556,
             "#d8576b"
            ],
            [
             0.6666666666666666,
             "#ed7953"
            ],
            [
             0.7777777777777778,
             "#fb9f3a"
            ],
            [
             0.8888888888888888,
             "#fdca26"
            ],
            [
             1,
             "#f0f921"
            ]
           ]
          },
          "colorway": [
           "#636efa",
           "#EF553B",
           "#00cc96",
           "#ab63fa",
           "#FFA15A",
           "#19d3f3",
           "#FF6692",
           "#B6E880",
           "#FF97FF",
           "#FECB52"
          ],
          "font": {
           "color": "#2a3f5f"
          },
          "geo": {
           "bgcolor": "white",
           "lakecolor": "white",
           "landcolor": "#E5ECF6",
           "showlakes": true,
           "showland": true,
           "subunitcolor": "white"
          },
          "hoverlabel": {
           "align": "left"
          },
          "hovermode": "closest",
          "mapbox": {
           "style": "light"
          },
          "paper_bgcolor": "white",
          "plot_bgcolor": "#E5ECF6",
          "polar": {
           "angularaxis": {
            "gridcolor": "white",
            "linecolor": "white",
            "ticks": ""
           },
           "bgcolor": "#E5ECF6",
           "radialaxis": {
            "gridcolor": "white",
            "linecolor": "white",
            "ticks": ""
           }
          },
          "scene": {
           "xaxis": {
            "backgroundcolor": "#E5ECF6",
            "gridcolor": "white",
            "gridwidth": 2,
            "linecolor": "white",
            "showbackground": true,
            "ticks": "",
            "zerolinecolor": "white"
           },
           "yaxis": {
            "backgroundcolor": "#E5ECF6",
            "gridcolor": "white",
            "gridwidth": 2,
            "linecolor": "white",
            "showbackground": true,
            "ticks": "",
            "zerolinecolor": "white"
           },
           "zaxis": {
            "backgroundcolor": "#E5ECF6",
            "gridcolor": "white",
            "gridwidth": 2,
            "linecolor": "white",
            "showbackground": true,
            "ticks": "",
            "zerolinecolor": "white"
           }
          },
          "shapedefaults": {
           "line": {
            "color": "#2a3f5f"
           }
          },
          "ternary": {
           "aaxis": {
            "gridcolor": "white",
            "linecolor": "white",
            "ticks": ""
           },
           "baxis": {
            "gridcolor": "white",
            "linecolor": "white",
            "ticks": ""
           },
           "bgcolor": "#E5ECF6",
           "caxis": {
            "gridcolor": "white",
            "linecolor": "white",
            "ticks": ""
           }
          },
          "title": {
           "x": 0.05
          },
          "xaxis": {
           "automargin": true,
           "gridcolor": "white",
           "linecolor": "white",
           "ticks": "",
           "title": {
            "standoff": 15
           },
           "zerolinecolor": "white",
           "zerolinewidth": 2
          },
          "yaxis": {
           "automargin": true,
           "gridcolor": "white",
           "linecolor": "white",
           "ticks": "",
           "title": {
            "standoff": 15
           },
           "zerolinecolor": "white",
           "zerolinewidth": 2
          }
         }
        },
        "title": {
         "text": "Fitted Polynomial"
        },
        "xaxis": {
         "title": {
          "text": "x"
         }
        },
        "yaxis": {
         "title": {
          "text": "y"
         }
        }
       }
      }
     },
     "metadata": {},
     "output_type": "display_data"
    }
   ],
   "source": [
    "\n",
    "# fitted values\n",
    "X_fit_poly = np.linspace(0, 10, 100)\n",
    "Y_fit_poly  = np.polyval(coefficients.coef[::-1], X_fit_poly)\n",
    "\n",
    "\n",
    "# the fitted curve\n",
    "fig = go.Figure()\n",
    "\n",
    "fig.add_trace(go.Scatter(x=X_fit_poly, y=Y_fit_poly, mode='lines'))\n",
    "\n",
    "# the experimental data\n",
    "fig.add_trace(go.Scatter(x=X_test, \n",
    "                         y=Y_test, \n",
    "                         mode='markers', \n",
    "                         name='Test Data',\n",
    "                         marker=dict(color='rgb(93, 105, 177)')))\n",
    "                                     \n",
    "fig.add_trace(go.Scatter(x=X_train, \n",
    "                         y=Y_train, \n",
    "                         mode='markers', \n",
    "                         name='Train Data', \n",
    "                         marker=dict(color='rgb(229, 134, 6)')))\n",
    "\n",
    "\n",
    "# Set the axis labels and title\n",
    "fig.update_layout(\n",
    "    xaxis_title='x',\n",
    "    yaxis_title='y',\n",
    "    title='Fitted Polynomial'\n",
    ")\n",
    "\n",
    "# Show the plot\n",
    "fig.show()\n"
   ]
  },
  {
   "cell_type": "markdown",
   "metadata": {},
   "source": [
    "### Example on real world data (regression)"
   ]
  },
  {
   "cell_type": "markdown",
   "metadata": {},
   "source": [
    "[Diabetes dataset](https://scikit-learn.org/stable/modules/generated/sklearn.datasets.load_diabetes.html#sklearn.datasets.load_diabetes)\n",
    "\n",
    "Ten baseline variables, age, sex, body mass index, average blood pressure, and six blood serum measurements were obtained for each of n = 442 diabetes patients, as well as the response of interest, a quantitative measure of disease progression one year after baseline.\n",
    "\n",
    "Features:\n",
    "- age age in years\n",
    "- sex\n",
    "- bmi body mass index\n",
    "- bp average blood pressure\n",
    "- s1 tc, total serum cholesterol\n",
    "- s2 ldl, low-density lipoproteins\n",
    "- s3 hdl, high-density lipoproteins\n",
    "- s4 tch, total cholesterol / HDL\n",
    "- s5 ltg, possibly log of serum triglycerides level\n",
    "- s6 glu, blood sugar level\n",
    "\n",
    "\n",
    "Target:\n",
    "Column 11 is a quantitative measure of disease progression one year after baseline\n",
    "\n",
    "Original [source](https://www4.stat.ncsu.edu/~boos/var.select/diabetes.html)"
   ]
  },
  {
   "cell_type": "code",
   "execution_count": 26,
   "metadata": {},
   "outputs": [],
   "source": [
    "diab = datasets.load_diabetes()\n",
    "\n",
    "X_diab = diab.data\n",
    "y_diab = diab.target\n",
    "\n",
    "W_diab = np.zeros(X_diab.shape[1]) #zero weights for each feature"
   ]
  },
  {
   "cell_type": "markdown",
   "metadata": {},
   "source": [
    "Split the dataset into training and test sets"
   ]
  },
  {
   "cell_type": "code",
   "execution_count": 27,
   "metadata": {},
   "outputs": [],
   "source": [
    "X_train_diab, X_test_diab, y_train_diab, y_test_diab = train_test_split(X_diab, y_diab, test_size=0.2, random_state=1234)"
   ]
  },
  {
   "cell_type": "markdown",
   "metadata": {},
   "source": [
    "It's a good practice is to normalize the feature vector for a linear regression\n",
    "$$ x' = \\frac{x - \\mu}{\\sigma} $$\n",
    "\n",
    "**NB:** $\\mu$ and $\\sigma$ are calculated from the train set and aplied to the test set\n"
   ]
  },
  {
   "cell_type": "code",
   "execution_count": 28,
   "metadata": {},
   "outputs": [],
   "source": [
    "sc      = StandardScaler() # Standardize features by centralizing mesn to 0 the mean and scaling to unit variance\n",
    "X_train_diab = sc.fit_transform(X_train_diab) # fit and transform the training set\n",
    "X_test_diab  = sc.transform(X_test_diab) # transform the test set by the SAME parameters as the TRAINING set"
   ]
  },
  {
   "cell_type": "markdown",
   "metadata": {},
   "source": [
    "## Features' prediction power estimation"
   ]
  },
  {
   "cell_type": "markdown",
   "metadata": {},
   "source": [
    "We may select features that explain the most variance in our dependant vaiable"
   ]
  },
  {
   "cell_type": "markdown",
   "metadata": {},
   "source": [
    "How to use our encoded exponential function on X, Y dataset"
   ]
  },
  {
   "cell_type": "code",
   "execution_count": 29,
   "metadata": {},
   "outputs": [],
   "source": [
    "model = Name_of_Custom_Regressor() \n",
    "model.fit(X_train, Y_train) # training our model on training dataset to obtain parameters (weights) of the model\n",
    "predictions = model.predict(X_test) # making predictions on the test dataset to evaluate the model performance\n",
    "score = model.score(X_test, Y_test) # evaluating the model performance on the test dataset, returns the cross-validated MSE and R2 score"
   ]
  },
  {
   "cell_type": "markdown",
   "metadata": {},
   "source": [
    "We encoded our model performance metrix to be cross-validated MSE and R2 score. Here are the values of our model for exponential function"
   ]
  },
  {
   "cell_type": "code",
   "execution_count": 30,
   "metadata": {},
   "outputs": [
    {
     "name": "stdout",
     "output_type": "stream",
     "text": [
      "Cross-validated MSE: -0.0128\n",
      "R2 score: 0.9663\n"
     ]
    }
   ],
   "source": [
    "print(f'Cross-validated MSE: {score[0]:.4f}')\n",
    "print(f'R2 score: {score[1]:.4f}')"
   ]
  },
  {
   "cell_type": "markdown",
   "metadata": {},
   "source": [
    "But what's the predictive power of the parameters of the model"
   ]
  },
  {
   "cell_type": "code",
   "execution_count": 31,
   "metadata": {},
   "outputs": [],
   "source": [
    "# Instantiate the feature_selection_method object\n",
    "feature_selection_method = SelectKBest(score_func=f_regression, k=10)\n",
    "\n",
    "# Get the scores of the features\n",
    "feature_selection_method.fit(X_test_diab, y_test_diab)\n",
    "\n",
    "# Extract the names of the features from the initial dataset\n",
    "feature_names = diab.feature_names\n",
    "\n",
    "# Get the scores of the features\n",
    "feature_scores = feature_selection_method.scores_\n",
    "\n",
    "# Sort the features and scores in descending order\n",
    "sorted_indices = sorted(range(len(feature_scores)), key=lambda k: feature_scores[k], reverse=True)\n",
    "sorted_feature_names = [feature_names[i] for i in sorted_indices]\n",
    "sorted_feature_scores = [feature_scores[i] for i in sorted_indices]\n",
    "\n",
    "# legend with feature explanations\n",
    "feature_explanations = {\n",
    "    'age': 'age in years',\n",
    "    'sex': 'sex',\n",
    "    'bmi': 'body mass index',\n",
    "    'bp': 'average blood pressure',\n",
    "    's1': 'tc, total serum cholesterol',\n",
    "    's2': 'ldl, low-density lipoproteins',\n",
    "    's3': 'hdl, high-density lipoproteins',\n",
    "    's4': 'tch, total cholesterol / HDL',\n",
    "    's5': 'ltg, serum triglycerides level',\n",
    "    's6': 'glu, blood sugar level'\n",
    "}\n"
   ]
  },
  {
   "cell_type": "code",
   "execution_count": 32,
   "metadata": {},
   "outputs": [
    {
     "data": {
      "application/vnd.plotly.v1+json": {
       "config": {
        "plotlyServerURL": "https://plot.ly"
       },
       "data": [
        {
         "type": "bar",
         "x": [
          "s5",
          "bmi",
          "bp",
          "s4",
          "s6",
          "s3",
          "age",
          "s1",
          "sex",
          "s2"
         ],
         "y": [
          45.860999418466356,
          40.21781586330624,
          21.677598903405258,
          11.972062376280933,
          10.864154574885799,
          8.588890169696342,
          7.738626648383797,
          4.258334844247307,
          3.8114134494018588,
          2.078851388601728
         ]
        }
       ],
       "layout": {
        "annotations": [
         {
          "font": {
           "size": 10
          },
          "showarrow": false,
          "text": "ltg, serum triglycerides level",
          "textangle": -45,
          "x": "s5",
          "y": 55.860999418466356
         },
         {
          "font": {
           "size": 10
          },
          "showarrow": false,
          "text": "body mass index",
          "textangle": -45,
          "x": "bmi",
          "y": 50.21781586330624
         },
         {
          "font": {
           "size": 10
          },
          "showarrow": false,
          "text": "average blood pressure",
          "textangle": -45,
          "x": "bp",
          "y": 31.677598903405258
         },
         {
          "font": {
           "size": 10
          },
          "showarrow": false,
          "text": "tch, total cholesterol / HDL",
          "textangle": -45,
          "x": "s4",
          "y": 21.97206237628093
         },
         {
          "font": {
           "size": 10
          },
          "showarrow": false,
          "text": "glu, blood sugar level",
          "textangle": -45,
          "x": "s6",
          "y": 20.8641545748858
         },
         {
          "font": {
           "size": 10
          },
          "showarrow": false,
          "text": "hdl, high-density lipoproteins",
          "textangle": -45,
          "x": "s3",
          "y": 18.58889016969634
         },
         {
          "font": {
           "size": 10
          },
          "showarrow": false,
          "text": "age in years",
          "textangle": -45,
          "x": "age",
          "y": 17.738626648383796
         },
         {
          "font": {
           "size": 10
          },
          "showarrow": false,
          "text": "tc, total serum cholesterol",
          "textangle": -45,
          "x": "s1",
          "y": 14.258334844247308
         },
         {
          "font": {
           "size": 10
          },
          "showarrow": false,
          "text": "sex",
          "textangle": -45,
          "x": "sex",
          "y": 13.811413449401858
         },
         {
          "font": {
           "size": 10
          },
          "showarrow": false,
          "text": "ldl, low-density lipoproteins",
          "textangle": -45,
          "x": "s2",
          "y": 12.078851388601727
         }
        ],
        "template": {
         "data": {
          "bar": [
           {
            "error_x": {
             "color": "#2a3f5f"
            },
            "error_y": {
             "color": "#2a3f5f"
            },
            "marker": {
             "line": {
              "color": "#E5ECF6",
              "width": 0.5
             },
             "pattern": {
              "fillmode": "overlay",
              "size": 10,
              "solidity": 0.2
             }
            },
            "type": "bar"
           }
          ],
          "barpolar": [
           {
            "marker": {
             "line": {
              "color": "#E5ECF6",
              "width": 0.5
             },
             "pattern": {
              "fillmode": "overlay",
              "size": 10,
              "solidity": 0.2
             }
            },
            "type": "barpolar"
           }
          ],
          "carpet": [
           {
            "aaxis": {
             "endlinecolor": "#2a3f5f",
             "gridcolor": "white",
             "linecolor": "white",
             "minorgridcolor": "white",
             "startlinecolor": "#2a3f5f"
            },
            "baxis": {
             "endlinecolor": "#2a3f5f",
             "gridcolor": "white",
             "linecolor": "white",
             "minorgridcolor": "white",
             "startlinecolor": "#2a3f5f"
            },
            "type": "carpet"
           }
          ],
          "choropleth": [
           {
            "colorbar": {
             "outlinewidth": 0,
             "ticks": ""
            },
            "type": "choropleth"
           }
          ],
          "contour": [
           {
            "colorbar": {
             "outlinewidth": 0,
             "ticks": ""
            },
            "colorscale": [
             [
              0,
              "#0d0887"
             ],
             [
              0.1111111111111111,
              "#46039f"
             ],
             [
              0.2222222222222222,
              "#7201a8"
             ],
             [
              0.3333333333333333,
              "#9c179e"
             ],
             [
              0.4444444444444444,
              "#bd3786"
             ],
             [
              0.5555555555555556,
              "#d8576b"
             ],
             [
              0.6666666666666666,
              "#ed7953"
             ],
             [
              0.7777777777777778,
              "#fb9f3a"
             ],
             [
              0.8888888888888888,
              "#fdca26"
             ],
             [
              1,
              "#f0f921"
             ]
            ],
            "type": "contour"
           }
          ],
          "contourcarpet": [
           {
            "colorbar": {
             "outlinewidth": 0,
             "ticks": ""
            },
            "type": "contourcarpet"
           }
          ],
          "heatmap": [
           {
            "colorbar": {
             "outlinewidth": 0,
             "ticks": ""
            },
            "colorscale": [
             [
              0,
              "#0d0887"
             ],
             [
              0.1111111111111111,
              "#46039f"
             ],
             [
              0.2222222222222222,
              "#7201a8"
             ],
             [
              0.3333333333333333,
              "#9c179e"
             ],
             [
              0.4444444444444444,
              "#bd3786"
             ],
             [
              0.5555555555555556,
              "#d8576b"
             ],
             [
              0.6666666666666666,
              "#ed7953"
             ],
             [
              0.7777777777777778,
              "#fb9f3a"
             ],
             [
              0.8888888888888888,
              "#fdca26"
             ],
             [
              1,
              "#f0f921"
             ]
            ],
            "type": "heatmap"
           }
          ],
          "heatmapgl": [
           {
            "colorbar": {
             "outlinewidth": 0,
             "ticks": ""
            },
            "colorscale": [
             [
              0,
              "#0d0887"
             ],
             [
              0.1111111111111111,
              "#46039f"
             ],
             [
              0.2222222222222222,
              "#7201a8"
             ],
             [
              0.3333333333333333,
              "#9c179e"
             ],
             [
              0.4444444444444444,
              "#bd3786"
             ],
             [
              0.5555555555555556,
              "#d8576b"
             ],
             [
              0.6666666666666666,
              "#ed7953"
             ],
             [
              0.7777777777777778,
              "#fb9f3a"
             ],
             [
              0.8888888888888888,
              "#fdca26"
             ],
             [
              1,
              "#f0f921"
             ]
            ],
            "type": "heatmapgl"
           }
          ],
          "histogram": [
           {
            "marker": {
             "pattern": {
              "fillmode": "overlay",
              "size": 10,
              "solidity": 0.2
             }
            },
            "type": "histogram"
           }
          ],
          "histogram2d": [
           {
            "colorbar": {
             "outlinewidth": 0,
             "ticks": ""
            },
            "colorscale": [
             [
              0,
              "#0d0887"
             ],
             [
              0.1111111111111111,
              "#46039f"
             ],
             [
              0.2222222222222222,
              "#7201a8"
             ],
             [
              0.3333333333333333,
              "#9c179e"
             ],
             [
              0.4444444444444444,
              "#bd3786"
             ],
             [
              0.5555555555555556,
              "#d8576b"
             ],
             [
              0.6666666666666666,
              "#ed7953"
             ],
             [
              0.7777777777777778,
              "#fb9f3a"
             ],
             [
              0.8888888888888888,
              "#fdca26"
             ],
             [
              1,
              "#f0f921"
             ]
            ],
            "type": "histogram2d"
           }
          ],
          "histogram2dcontour": [
           {
            "colorbar": {
             "outlinewidth": 0,
             "ticks": ""
            },
            "colorscale": [
             [
              0,
              "#0d0887"
             ],
             [
              0.1111111111111111,
              "#46039f"
             ],
             [
              0.2222222222222222,
              "#7201a8"
             ],
             [
              0.3333333333333333,
              "#9c179e"
             ],
             [
              0.4444444444444444,
              "#bd3786"
             ],
             [
              0.5555555555555556,
              "#d8576b"
             ],
             [
              0.6666666666666666,
              "#ed7953"
             ],
             [
              0.7777777777777778,
              "#fb9f3a"
             ],
             [
              0.8888888888888888,
              "#fdca26"
             ],
             [
              1,
              "#f0f921"
             ]
            ],
            "type": "histogram2dcontour"
           }
          ],
          "mesh3d": [
           {
            "colorbar": {
             "outlinewidth": 0,
             "ticks": ""
            },
            "type": "mesh3d"
           }
          ],
          "parcoords": [
           {
            "line": {
             "colorbar": {
              "outlinewidth": 0,
              "ticks": ""
             }
            },
            "type": "parcoords"
           }
          ],
          "pie": [
           {
            "automargin": true,
            "type": "pie"
           }
          ],
          "scatter": [
           {
            "fillpattern": {
             "fillmode": "overlay",
             "size": 10,
             "solidity": 0.2
            },
            "type": "scatter"
           }
          ],
          "scatter3d": [
           {
            "line": {
             "colorbar": {
              "outlinewidth": 0,
              "ticks": ""
             }
            },
            "marker": {
             "colorbar": {
              "outlinewidth": 0,
              "ticks": ""
             }
            },
            "type": "scatter3d"
           }
          ],
          "scattercarpet": [
           {
            "marker": {
             "colorbar": {
              "outlinewidth": 0,
              "ticks": ""
             }
            },
            "type": "scattercarpet"
           }
          ],
          "scattergeo": [
           {
            "marker": {
             "colorbar": {
              "outlinewidth": 0,
              "ticks": ""
             }
            },
            "type": "scattergeo"
           }
          ],
          "scattergl": [
           {
            "marker": {
             "colorbar": {
              "outlinewidth": 0,
              "ticks": ""
             }
            },
            "type": "scattergl"
           }
          ],
          "scattermapbox": [
           {
            "marker": {
             "colorbar": {
              "outlinewidth": 0,
              "ticks": ""
             }
            },
            "type": "scattermapbox"
           }
          ],
          "scatterpolar": [
           {
            "marker": {
             "colorbar": {
              "outlinewidth": 0,
              "ticks": ""
             }
            },
            "type": "scatterpolar"
           }
          ],
          "scatterpolargl": [
           {
            "marker": {
             "colorbar": {
              "outlinewidth": 0,
              "ticks": ""
             }
            },
            "type": "scatterpolargl"
           }
          ],
          "scatterternary": [
           {
            "marker": {
             "colorbar": {
              "outlinewidth": 0,
              "ticks": ""
             }
            },
            "type": "scatterternary"
           }
          ],
          "surface": [
           {
            "colorbar": {
             "outlinewidth": 0,
             "ticks": ""
            },
            "colorscale": [
             [
              0,
              "#0d0887"
             ],
             [
              0.1111111111111111,
              "#46039f"
             ],
             [
              0.2222222222222222,
              "#7201a8"
             ],
             [
              0.3333333333333333,
              "#9c179e"
             ],
             [
              0.4444444444444444,
              "#bd3786"
             ],
             [
              0.5555555555555556,
              "#d8576b"
             ],
             [
              0.6666666666666666,
              "#ed7953"
             ],
             [
              0.7777777777777778,
              "#fb9f3a"
             ],
             [
              0.8888888888888888,
              "#fdca26"
             ],
             [
              1,
              "#f0f921"
             ]
            ],
            "type": "surface"
           }
          ],
          "table": [
           {
            "cells": {
             "fill": {
              "color": "#EBF0F8"
             },
             "line": {
              "color": "white"
             }
            },
            "header": {
             "fill": {
              "color": "#C8D4E3"
             },
             "line": {
              "color": "white"
             }
            },
            "type": "table"
           }
          ]
         },
         "layout": {
          "annotationdefaults": {
           "arrowcolor": "#2a3f5f",
           "arrowhead": 0,
           "arrowwidth": 1
          },
          "autotypenumbers": "strict",
          "coloraxis": {
           "colorbar": {
            "outlinewidth": 0,
            "ticks": ""
           }
          },
          "colorscale": {
           "diverging": [
            [
             0,
             "#8e0152"
            ],
            [
             0.1,
             "#c51b7d"
            ],
            [
             0.2,
             "#de77ae"
            ],
            [
             0.3,
             "#f1b6da"
            ],
            [
             0.4,
             "#fde0ef"
            ],
            [
             0.5,
             "#f7f7f7"
            ],
            [
             0.6,
             "#e6f5d0"
            ],
            [
             0.7,
             "#b8e186"
            ],
            [
             0.8,
             "#7fbc41"
            ],
            [
             0.9,
             "#4d9221"
            ],
            [
             1,
             "#276419"
            ]
           ],
           "sequential": [
            [
             0,
             "#0d0887"
            ],
            [
             0.1111111111111111,
             "#46039f"
            ],
            [
             0.2222222222222222,
             "#7201a8"
            ],
            [
             0.3333333333333333,
             "#9c179e"
            ],
            [
             0.4444444444444444,
             "#bd3786"
            ],
            [
             0.5555555555555556,
             "#d8576b"
            ],
            [
             0.6666666666666666,
             "#ed7953"
            ],
            [
             0.7777777777777778,
             "#fb9f3a"
            ],
            [
             0.8888888888888888,
             "#fdca26"
            ],
            [
             1,
             "#f0f921"
            ]
           ],
           "sequentialminus": [
            [
             0,
             "#0d0887"
            ],
            [
             0.1111111111111111,
             "#46039f"
            ],
            [
             0.2222222222222222,
             "#7201a8"
            ],
            [
             0.3333333333333333,
             "#9c179e"
            ],
            [
             0.4444444444444444,
             "#bd3786"
            ],
            [
             0.5555555555555556,
             "#d8576b"
            ],
            [
             0.6666666666666666,
             "#ed7953"
            ],
            [
             0.7777777777777778,
             "#fb9f3a"
            ],
            [
             0.8888888888888888,
             "#fdca26"
            ],
            [
             1,
             "#f0f921"
            ]
           ]
          },
          "colorway": [
           "#636efa",
           "#EF553B",
           "#00cc96",
           "#ab63fa",
           "#FFA15A",
           "#19d3f3",
           "#FF6692",
           "#B6E880",
           "#FF97FF",
           "#FECB52"
          ],
          "font": {
           "color": "#2a3f5f"
          },
          "geo": {
           "bgcolor": "white",
           "lakecolor": "white",
           "landcolor": "#E5ECF6",
           "showlakes": true,
           "showland": true,
           "subunitcolor": "white"
          },
          "hoverlabel": {
           "align": "left"
          },
          "hovermode": "closest",
          "mapbox": {
           "style": "light"
          },
          "paper_bgcolor": "white",
          "plot_bgcolor": "#E5ECF6",
          "polar": {
           "angularaxis": {
            "gridcolor": "white",
            "linecolor": "white",
            "ticks": ""
           },
           "bgcolor": "#E5ECF6",
           "radialaxis": {
            "gridcolor": "white",
            "linecolor": "white",
            "ticks": ""
           }
          },
          "scene": {
           "xaxis": {
            "backgroundcolor": "#E5ECF6",
            "gridcolor": "white",
            "gridwidth": 2,
            "linecolor": "white",
            "showbackground": true,
            "ticks": "",
            "zerolinecolor": "white"
           },
           "yaxis": {
            "backgroundcolor": "#E5ECF6",
            "gridcolor": "white",
            "gridwidth": 2,
            "linecolor": "white",
            "showbackground": true,
            "ticks": "",
            "zerolinecolor": "white"
           },
           "zaxis": {
            "backgroundcolor": "#E5ECF6",
            "gridcolor": "white",
            "gridwidth": 2,
            "linecolor": "white",
            "showbackground": true,
            "ticks": "",
            "zerolinecolor": "white"
           }
          },
          "shapedefaults": {
           "line": {
            "color": "#2a3f5f"
           }
          },
          "ternary": {
           "aaxis": {
            "gridcolor": "white",
            "linecolor": "white",
            "ticks": ""
           },
           "baxis": {
            "gridcolor": "white",
            "linecolor": "white",
            "ticks": ""
           },
           "bgcolor": "#E5ECF6",
           "caxis": {
            "gridcolor": "white",
            "linecolor": "white",
            "ticks": ""
           }
          },
          "title": {
           "x": 0.05
          },
          "xaxis": {
           "automargin": true,
           "gridcolor": "white",
           "linecolor": "white",
           "ticks": "",
           "title": {
            "standoff": 15
           },
           "zerolinecolor": "white",
           "zerolinewidth": 2
          },
          "yaxis": {
           "automargin": true,
           "gridcolor": "white",
           "linecolor": "white",
           "ticks": "",
           "title": {
            "standoff": 15
           },
           "zerolinecolor": "white",
           "zerolinewidth": 2
          }
         }
        },
        "title": {
         "text": "Feature Scores"
        },
        "xaxis": {
         "title": {
          "text": "Features"
         }
        },
        "yaxis": {
         "title": {
          "text": "Score, F-value"
         }
        }
       }
      }
     },
     "metadata": {},
     "output_type": "display_data"
    }
   ],
   "source": [
    "fig = go.Figure(\n",
    "    data=[go.Bar(x=sorted_feature_names, y=sorted_feature_scores)],\n",
    "    layout=dict(\n",
    "        title='Feature Scores', \n",
    "        xaxis_title='Features', \n",
    "        yaxis_title='Score, F-value',\n",
    "    )\n",
    ")\n",
    "\n",
    "for i, feature_name in enumerate(sorted_feature_names):\n",
    "    fig.add_annotation(\n",
    "        x=feature_name,\n",
    "        y=sorted_feature_scores[i] + 10,\n",
    "        text=feature_explanations.get(feature_name, 'Unknown'),\n",
    "        textangle = -45,\n",
    "        showarrow=False,\n",
    "        font=dict(size=10)\n",
    "    )\n",
    "\n",
    "fig.show()"
   ]
  },
  {
   "cell_type": "markdown",
   "metadata": {},
   "source": [
    "Feature inportance estimation with kfold cross validation.\n",
    "\n",
    "For that we should train and evaluate our model on different subsets of our trainin gdata and calculate the feature importance for each subset.\n",
    "\n",
    "The importance of the feature in this case is the avarage absolute value of its corresponding weight over all splits. For linear regression the weights are \n"
   ]
  },
  {
   "cell_type": "markdown",
   "metadata": {},
   "source": [
    "Example on our custom exp decay model"
   ]
  },
  {
   "cell_type": "markdown",
   "metadata": {},
   "source": [
    "NB: in case of error doublecheck the X dataset (might appear as global variable several times)"
   ]
  },
  {
   "cell_type": "code",
   "execution_count": 33,
   "metadata": {},
   "outputs": [
    {
     "name": "stdout",
     "output_type": "stream",
     "text": [
      "Feature 0: 2.042\n",
      "Feature 2: 0.977\n",
      "Feature 1: 0.486\n"
     ]
    }
   ],
   "source": [
    "# call KFold object from \n",
    "kf = KFold(n_splits=5, shuffle=True, random_state=1) # 5 splits, shuffle the data, and set the random state for reproducibility\n",
    "\n",
    "# Our custom model (exponential decay in the exanple above)\n",
    "model = Name_of_Custom_Regressor() \n",
    "\n",
    "# An empty list to hold the feature importances\n",
    "feature_importances = []\n",
    "\n",
    "# Iteration over each split\n",
    "for train_index, test_index in kf.split(X):\n",
    "    # Split the data\n",
    "    X_train_cv, X_test_cv = X[train_index], X[test_index]\n",
    "    Y_train_cv, Y_test_cv = Y_with_noise[train_index], Y_with_noise[test_index]\n",
    "\n",
    "    # Fit the model\n",
    "    model.fit(X_train_cv, Y_train_cv)\n",
    "\n",
    "    # Calculate the feature importances and append to the list\n",
    "    feature_importances.append(np.abs(model.coef_))\n",
    "\n",
    "# Average the feature importances over all splits\n",
    "average_importance = np.mean(feature_importances, axis=0)\n",
    "\n",
    "\n",
    "# Print the feature importances\n",
    "sorted_indices = np.argsort(average_importance)[::-1]  # Sort the indices in descending order\n",
    "for i in sorted_indices:\n",
    "    print(f'Feature {i}: {average_importance[i]:.3f}')"
   ]
  },
  {
   "cell_type": "markdown",
   "metadata": {},
   "source": [
    "### Why correlation doesn't help"
   ]
  },
  {
   "cell_type": "code",
   "execution_count": 34,
   "metadata": {},
   "outputs": [
    {
     "data": {
      "application/vnd.plotly.v1+json": {
       "config": {
        "plotlyServerURL": "https://plot.ly"
       },
       "data": [
        {
         "mode": "markers",
         "type": "scatter",
         "x": [
          0.038075906433423026,
          -0.0018820165277906047,
          0.08529890629667548,
          -0.0890629393522567,
          0.005383060374248237,
          -0.09269547780327612,
          -0.045472477940023646,
          0.06350367559055897,
          0.04170844488444244,
          -0.07090024709715959,
          -0.09632801625429555,
          0.027178291080364757,
          0.016280675727306498,
          0.005383060374248237,
          0.04534098333546186,
          -0.052737554842062495,
          -0.005514554978810025,
          0.0707687524925978,
          -0.03820740103798481,
          -0.027309785684926546,
          -0.04910501639104307,
          -0.08543040090123728,
          -0.08543040090123728,
          0.04534098333546186,
          -0.06363517019512076,
          -0.06726770864614018,
          -0.1072256316073538,
          -0.02367724723390713,
          0.0526060602375007,
          0.06713621404157838,
          -0.06000263174410134,
          -0.02367724723390713,
          0.0344433679824036,
          0.03081082953138418,
          0.016280675727306498,
          0.04897352178648128,
          0.012648137276287077,
          -0.009147093429829445,
          -0.0018820165277906047,
          -0.0018820165277906047,
          0.005383060374248237,
          -0.09996055470531495,
          -0.06000263174410134,
          0.01991321417832592,
          0.04534098333546186,
          0.027178291080364757,
          -0.056370093293081916,
          -0.07816532399919843,
          0.06713621404157838,
          -0.04183993948900423,
          0.0344433679824036,
          0.059871137139539544,
          -0.052737554842062495,
          -0.009147093429829445,
          -0.04910501639104307,
          -0.04183993948900423,
          -0.04183993948900423,
          -0.027309785684926546,
          0.04170844488444244,
          0.06350367559055897,
          -0.07090024709715959,
          -0.04183993948900423,
          -0.027309785684926546,
          -0.03457486258696539,
          0.06713621404157838,
          -0.045472477940023646,
          -0.009147093429829445,
          0.04170844488444244,
          0.038075906433423026,
          0.016280675727306498,
          -0.0018820165277906047,
          -0.0018820165277906047,
          0.06350367559055897,
          0.012648137276287077,
          0.012648137276287077,
          -0.009147093429829445,
          -0.030942324135945967,
          -0.09632801625429555,
          0.005383060374248237,
          -0.10359309315633439,
          0.0707687524925978,
          0.012648137276287077,
          -0.016412170331868287,
          -0.03820740103798481,
          0.001750521923228816,
          0.04534098333546186,
          -0.07090024709715959,
          0.04534098333546186,
          -0.052737554842062495,
          -0.045472477940023646,
          0.012648137276287077,
          0.04534098333546186,
          -0.020044708782887707,
          -0.04910501639104307,
          -0.07816532399919843,
          -0.07090024709715959,
          0.056238598688520124,
          -0.027309785684926546,
          0.001750521923228816,
          -0.0018820165277906047,
          0.016280675727306498,
          0.016280675727306498,
          -0.09269547780327612,
          0.059871137139539544,
          -0.027309785684926546,
          0.02354575262934534,
          -0.09632801625429555,
          0.027178291080364757,
          0.01991321417832592,
          0.038075906433423026,
          0.04170844488444244,
          0.01991321417832592,
          -0.08543040090123728,
          0.01991321417832592,
          0.02354575262934534,
          -0.030942324135945967,
          0.04897352178648128,
          0.059871137139539544,
          -0.056370093293081916,
          0.016280675727306498,
          -0.04910501639104307,
          0.06350367559055897,
          0.04897352178648128,
          0.005383060374248237,
          -0.005514554978810025,
          -0.005514554978810025,
          -0.0890629393522567,
          0.0344433679824036,
          -0.052737554842062495,
          0.009015598825267658,
          -0.06363517019512076,
          -0.09632801625429555,
          0.016280675727306498,
          -0.04183993948900423,
          -0.074532785548179,
          -0.005514554978810025,
          -0.09269547780327612,
          0.005383060374248237,
          0.0344433679824036,
          0.02354575262934534,
          0.04170844488444244,
          -0.027309785684926546,
          0.04170844488444244,
          -0.030942324135945967,
          0.03081082953138418,
          -0.04183993948900423,
          -0.030942324135945967,
          -0.056370093293081916,
          -0.06000263174410134,
          -0.04910501639104307,
          0.02354575262934534,
          0.001750521923228816,
          -0.03457486258696539,
          0.04170844488444244,
          0.06713621404157838,
          -0.027309785684926546,
          -0.016412170331868287,
          -0.0018820165277906047,
          -0.012779631880848867,
          -0.005514554978810025,
          -0.009147093429829445,
          -0.045472477940023646,
          -0.052737554842062495,
          0.016280675727306498,
          0.04534098333546186,
          -0.04183993948900423,
          -0.056370093293081916,
          0.0707687524925978,
          0.001750521923228816,
          -0.0018820165277906047,
          0.02354575262934534,
          -0.020044708782887707,
          0.04170844488444244,
          -0.06363517019512076,
          0.016280675727306498,
          0.06713621404157838,
          0.04534098333546186,
          0.04897352178648128,
          0.04170844488444244,
          -0.02367724723390713,
          -0.03820740103798481,
          0.04897352178648128,
          0.04534098333546186,
          0.04534098333546186,
          0.016280675727306498,
          -0.074532785548179,
          -0.08179786245021785,
          -0.06726770864614018,
          0.005383060374248237,
          -0.0018820165277906047,
          0.009015598825267658,
          -0.005514554978810025,
          0.056238598688520124,
          0.009015598825267658,
          -0.06726770864614018,
          0.027178291080364757,
          -0.02367724723390713,
          0.04897352178648128,
          -0.052737554842062495,
          0.04170844488444244,
          0.056238598688520124,
          -0.03457486258696539,
          0.08166636784565606,
          -0.0018820165277906047,
          0.11072667545381144,
          -0.030942324135945967,
          0.001750521923228816,
          0.009015598825267658,
          0.03081082953138418,
          0.038075906433423026,
          0.009015598825267658,
          0.09256398319871433,
          0.06713621404157838,
          0.001750521923228816,
          0.03081082953138418,
          0.027178291080364757,
          0.012648137276287077,
          0.07440129094361722,
          -0.04183993948900423,
          -0.0890629393522567,
          0.02354575262934534,
          -0.045472477940023646,
          -0.02367724723390713,
          -0.09996055470531495,
          -0.027309785684926546,
          0.03081082953138418,
          -0.10359309315633439,
          0.06713621404157838,
          -0.052737554842062495,
          -0.027309785684926546,
          -0.03820740103798481,
          0.009015598825267658,
          0.012648137276287077,
          0.06713621404157838,
          0.04534098333546186,
          0.06713621404157838,
          0.027178291080364757,
          0.056238598688520124,
          0.0344433679824036,
          0.02354575262934534,
          0.04897352178648128,
          0.03081082953138418,
          -0.10359309315633439,
          0.016280675727306498,
          -0.06000263174410134,
          -0.027309785684926546,
          0.04170844488444244,
          -0.08179786245021785,
          -0.04183993948900423,
          -0.012779631880848867,
          0.06713621404157838,
          -0.052737554842062495,
          0.005383060374248237,
          0.08166636784565606,
          0.03081082953138418,
          0.001750521923228816,
          -0.04910501639104307,
          -0.027309785684926546,
          0.07803382939463664,
          0.012648137276287077,
          0.04170844488444244,
          0.04897352178648128,
          -0.016412170331868287,
          -0.074532785548179,
          0.0344433679824036,
          -0.03457486258696539,
          -0.052737554842062495,
          0.059871137139539544,
          0.06350367559055897,
          0.009015598825267658,
          0.005383060374248237,
          0.038075906433423026,
          0.012648137276287077,
          0.07440129094361722,
          0.016280675727306498,
          -0.005514554978810025,
          0.012648137276287077,
          -0.03457486258696539,
          0.06713621404157838,
          0.038075906433423026,
          0.009015598825267658,
          -0.09269547780327612,
          0.0707687524925978,
          -0.016412170331868287,
          0.04170844488444244,
          0.012648137276287077,
          -0.03820740103798481,
          0.04534098333546186,
          0.0707687524925978,
          -0.074532785548179,
          0.059871137139539544,
          0.07440129094361722,
          0.009015598825267658,
          -0.07090024709715959,
          0.02354575262934534,
          -0.052737554842062495,
          0.06713621404157838,
          0.001750521923228816,
          0.02354575262934534,
          0.038075906433423026,
          0.016280675727306498,
          -0.0018820165277906047,
          0.012648137276287077,
          0.07440129094361722,
          0.04170844488444244,
          -0.009147093429829445,
          0.009015598825267658,
          0.06713621404157838,
          0.001750521923228816,
          -0.009147093429829445,
          -0.005514554978810025,
          0.09619652164973376,
          -0.074532785548179,
          0.059871137139539544,
          -0.02367724723390713,
          0.009015598825267658,
          0.016280675727306498,
          0.01991321417832592,
          0.0889314447476949,
          0.01991321417832592,
          -0.02367724723390713,
          0.09619652164973376,
          0.02354575262934534,
          0.0707687524925978,
          0.03081082953138418,
          -0.0018820165277906047,
          0.04534098333546186,
          0.07440129094361722,
          -0.03820740103798481,
          -0.012779631880848867,
          0.009015598825267658,
          0.08166636784565606,
          0.03081082953138418,
          0.027178291080364757,
          -0.06000263174410134,
          0.005383060374248237,
          -0.020044708782887707,
          0.01991321417832592,
          -0.06363517019512076,
          0.027178291080364757,
          -0.016412170331868287,
          0.03081082953138418,
          0.056238598688520124,
          -0.020044708782887707,
          -0.1072256316073538,
          0.08166636784565606,
          0.005383060374248237,
          0.038075906433423026,
          0.03081082953138418,
          0.001750521923228816,
          -0.027309785684926546,
          -0.08543040090123728,
          0.012648137276287077,
          -0.052737554842062495,
          -0.02367724723390713,
          -0.074532785548179,
          -0.005514554978810025,
          -0.06000263174410134,
          -0.020044708782887707,
          0.038075906433423026,
          0.016280675727306498,
          0.04170844488444244,
          0.01991321417832592,
          -0.04910501639104307,
          0.001750521923228816,
          0.0344433679824036,
          -0.045472477940023646,
          -0.009147093429829445,
          -0.016412170331868287,
          -0.009147093429829445,
          0.01991321417832592,
          0.0526060602375007,
          -0.027309785684926546,
          -0.074532785548179,
          -0.1072256316073538,
          0.04534098333546186,
          -0.0018820165277906047,
          0.01991321417832592,
          0.016280675727306498,
          -0.0018820165277906047,
          0.016280675727306498,
          -0.07090024709715959,
          0.04897352178648128,
          0.005383060374248237,
          0.0344433679824036,
          0.02354575262934534,
          0.01991321417832592,
          -0.045472477940023646,
          0.0526060602375007,
          -0.005514554978810025,
          0.009015598825267658,
          -0.02367724723390713,
          -0.04183993948900423,
          -0.074532785548179,
          0.0344433679824036,
          -0.06000263174410134,
          -0.08543040090123728,
          0.0526060602375007,
          0.012648137276287077,
          0.059871137139539544,
          -0.02367724723390713,
          0.016280675727306498,
          0.11072667545381144,
          -0.020044708782887707,
          -0.016412170331868287,
          0.04897352178648128,
          -0.056370093293081916,
          0.027178291080364757,
          0.06350367559055897,
          -0.052737554842062495,
          -0.009147093429829445,
          0.005383060374248237,
          0.07440129094361722,
          -0.052737554842062495,
          0.08166636784565606,
          -0.005514554978810025,
          -0.027309785684926546,
          -0.052737554842062495,
          0.009015598825267658,
          -0.020044708782887707,
          0.02354575262934534,
          0.038075906433423026,
          -0.07816532399919843,
          0.009015598825267658,
          0.001750521923228816,
          -0.07816532399919843,
          0.03081082953138418,
          -0.03457486258696539,
          0.04897352178648128,
          -0.04183993948900423,
          -0.009147093429829445,
          0.0707687524925978,
          0.009015598825267658,
          -0.027309785684926546,
          0.016280675727306498,
          -0.012779631880848867,
          -0.056370093293081916,
          0.04170844488444244,
          -0.005514554978810025,
          0.04170844488444244,
          -0.045472477940023646,
          -0.045472477940023646
         ],
         "xaxis": "x",
         "y": [
          151,
          75,
          141,
          206,
          135,
          97,
          138,
          63,
          110,
          310,
          101,
          69,
          179,
          185,
          118,
          171,
          166,
          144,
          97,
          168,
          68,
          49,
          68,
          245,
          184,
          202,
          137,
          85,
          131,
          283,
          129,
          59,
          341,
          87,
          65,
          102,
          265,
          276,
          252,
          90,
          100,
          55,
          61,
          92,
          259,
          53,
          190,
          142,
          75,
          142,
          155,
          225,
          59,
          104,
          182,
          128,
          52,
          37,
          170,
          170,
          61,
          144,
          52,
          128,
          71,
          163,
          150,
          97,
          160,
          178,
          48,
          270,
          202,
          111,
          85,
          42,
          170,
          200,
          252,
          113,
          143,
          51,
          52,
          210,
          65,
          141,
          55,
          134,
          42,
          111,
          98,
          164,
          48,
          96,
          90,
          162,
          150,
          279,
          92,
          83,
          128,
          102,
          302,
          198,
          95,
          53,
          134,
          144,
          232,
          81,
          104,
          59,
          246,
          297,
          258,
          229,
          275,
          281,
          179,
          200,
          200,
          173,
          180,
          84,
          121,
          161,
          99,
          109,
          115,
          268,
          274,
          158,
          107,
          83,
          103,
          272,
          85,
          280,
          336,
          281,
          118,
          317,
          235,
          60,
          174,
          259,
          178,
          128,
          96,
          126,
          288,
          88,
          292,
          71,
          197,
          186,
          25,
          84,
          96,
          195,
          53,
          217,
          172,
          131,
          214,
          59,
          70,
          220,
          268,
          152,
          47,
          74,
          295,
          101,
          151,
          127,
          237,
          225,
          81,
          151,
          107,
          64,
          138,
          185,
          265,
          101,
          137,
          143,
          141,
          79,
          292,
          178,
          91,
          116,
          86,
          122,
          72,
          129,
          142,
          90,
          158,
          39,
          196,
          222,
          277,
          99,
          196,
          202,
          155,
          77,
          191,
          70,
          73,
          49,
          65,
          263,
          248,
          296,
          214,
          185,
          78,
          93,
          252,
          150,
          77,
          208,
          77,
          108,
          160,
          53,
          220,
          154,
          259,
          90,
          246,
          124,
          67,
          72,
          257,
          262,
          275,
          177,
          71,
          47,
          187,
          125,
          78,
          51,
          258,
          215,
          303,
          243,
          91,
          150,
          310,
          153,
          346,
          63,
          89,
          50,
          39,
          103,
          308,
          116,
          145,
          74,
          45,
          115,
          264,
          87,
          202,
          127,
          182,
          241,
          66,
          94,
          283,
          64,
          102,
          200,
          265,
          94,
          230,
          181,
          156,
          233,
          60,
          219,
          80,
          68,
          332,
          248,
          84,
          200,
          55,
          85,
          89,
          31,
          129,
          83,
          275,
          65,
          198,
          236,
          253,
          124,
          44,
          172,
          114,
          142,
          109,
          180,
          144,
          163,
          147,
          97,
          220,
          190,
          109,
          191,
          122,
          230,
          242,
          248,
          249,
          192,
          131,
          237,
          78,
          135,
          244,
          199,
          270,
          164,
          72,
          96,
          306,
          91,
          214,
          95,
          216,
          263,
          178,
          113,
          200,
          139,
          139,
          88,
          148,
          88,
          243,
          71,
          77,
          109,
          272,
          60,
          54,
          221,
          90,
          311,
          281,
          182,
          321,
          58,
          262,
          206,
          233,
          242,
          123,
          167,
          63,
          197,
          71,
          168,
          140,
          217,
          121,
          235,
          245,
          40,
          52,
          104,
          132,
          88,
          69,
          219,
          72,
          201,
          110,
          51,
          277,
          63,
          118,
          69,
          273,
          258,
          43,
          198,
          242,
          232,
          175,
          93,
          168,
          275,
          293,
          281,
          72,
          140,
          189,
          181,
          209,
          136,
          261,
          113,
          131,
          174,
          257,
          55,
          84,
          42,
          146,
          212,
          233,
          91,
          111,
          152,
          120,
          67,
          310,
          94,
          183,
          66,
          173,
          72,
          49,
          64,
          48,
          178,
          104,
          132,
          220,
          57
         ],
         "yaxis": "y"
        },
        {
         "mode": "markers",
         "type": "scatter",
         "x": [
          0.05068011873981862,
          -0.044641636506989144,
          0.05068011873981862,
          -0.044641636506989144,
          -0.044641636506989144,
          -0.044641636506989144,
          0.05068011873981862,
          0.05068011873981862,
          0.05068011873981862,
          -0.044641636506989144,
          -0.044641636506989144,
          0.05068011873981862,
          -0.044641636506989144,
          0.05068011873981862,
          -0.044641636506989144,
          0.05068011873981862,
          -0.044641636506989144,
          0.05068011873981862,
          -0.044641636506989144,
          -0.044641636506989144,
          -0.044641636506989144,
          0.05068011873981862,
          -0.044641636506989144,
          0.05068011873981862,
          -0.044641636506989144,
          0.05068011873981862,
          -0.044641636506989144,
          -0.044641636506989144,
          -0.044641636506989144,
          0.05068011873981862,
          -0.044641636506989144,
          -0.044641636506989144,
          0.05068011873981862,
          -0.044641636506989144,
          -0.044641636506989144,
          0.05068011873981862,
          -0.044641636506989144,
          -0.044641636506989144,
          0.05068011873981862,
          0.05068011873981862,
          0.05068011873981862,
          -0.044641636506989144,
          0.05068011873981862,
          -0.044641636506989144,
          0.05068011873981862,
          0.05068011873981862,
          -0.044641636506989144,
          -0.044641636506989144,
          0.05068011873981862,
          0.05068011873981862,
          -0.044641636506989144,
          0.05068011873981862,
          -0.044641636506989144,
          -0.044641636506989144,
          -0.044641636506989144,
          -0.044641636506989144,
          -0.044641636506989144,
          -0.044641636506989144,
          -0.044641636506989144,
          0.05068011873981862,
          -0.044641636506989144,
          0.05068011873981862,
          0.05068011873981862,
          -0.044641636506989144,
          0.05068011873981862,
          0.05068011873981862,
          0.05068011873981862,
          0.05068011873981862,
          0.05068011873981862,
          -0.044641636506989144,
          -0.044641636506989144,
          -0.044641636506989144,
          0.05068011873981862,
          0.05068011873981862,
          0.05068011873981862,
          0.05068011873981862,
          0.05068011873981862,
          -0.044641636506989144,
          -0.044641636506989144,
          -0.044641636506989144,
          -0.044641636506989144,
          0.05068011873981862,
          -0.044641636506989144,
          -0.044641636506989144,
          -0.044641636506989144,
          -0.044641636506989144,
          0.05068011873981862,
          -0.044641636506989144,
          0.05068011873981862,
          -0.044641636506989144,
          -0.044641636506989144,
          -0.044641636506989144,
          -0.044641636506989144,
          -0.044641636506989144,
          -0.044641636506989144,
          -0.044641636506989144,
          0.05068011873981862,
          -0.044641636506989144,
          0.05068011873981862,
          -0.044641636506989144,
          -0.044641636506989144,
          0.05068011873981862,
          -0.044641636506989144,
          0.05068011873981862,
          -0.044641636506989144,
          0.05068011873981862,
          -0.044641636506989144,
          -0.044641636506989144,
          0.05068011873981862,
          0.05068011873981862,
          0.05068011873981862,
          -0.044641636506989144,
          -0.044641636506989144,
          0.05068011873981862,
          -0.044641636506989144,
          0.05068011873981862,
          0.05068011873981862,
          -0.044641636506989144,
          0.05068011873981862,
          -0.044641636506989144,
          -0.044641636506989144,
          -0.044641636506989144,
          0.05068011873981862,
          0.05068011873981862,
          -0.044641636506989144,
          0.05068011873981862,
          -0.044641636506989144,
          0.05068011873981862,
          -0.044641636506989144,
          -0.044641636506989144,
          0.05068011873981862,
          -0.044641636506989144,
          0.05068011873981862,
          0.05068011873981862,
          -0.044641636506989144,
          -0.044641636506989144,
          -0.044641636506989144,
          -0.044641636506989144,
          0.05068011873981862,
          -0.044641636506989144,
          0.05068011873981862,
          -0.044641636506989144,
          0.05068011873981862,
          -0.044641636506989144,
          0.05068011873981862,
          -0.044641636506989144,
          0.05068011873981862,
          -0.044641636506989144,
          0.05068011873981862,
          0.05068011873981862,
          -0.044641636506989144,
          -0.044641636506989144,
          0.05068011873981862,
          0.05068011873981862,
          0.05068011873981862,
          0.05068011873981862,
          -0.044641636506989144,
          0.05068011873981862,
          -0.044641636506989144,
          -0.044641636506989144,
          -0.044641636506989144,
          0.05068011873981862,
          -0.044641636506989144,
          0.05068011873981862,
          -0.044641636506989144,
          -0.044641636506989144,
          0.05068011873981862,
          -0.044641636506989144,
          0.05068011873981862,
          -0.044641636506989144,
          0.05068011873981862,
          -0.044641636506989144,
          0.05068011873981862,
          0.05068011873981862,
          0.05068011873981862,
          -0.044641636506989144,
          0.05068011873981862,
          -0.044641636506989144,
          -0.044641636506989144,
          -0.044641636506989144,
          0.05068011873981862,
          -0.044641636506989144,
          0.05068011873981862,
          0.05068011873981862,
          -0.044641636506989144,
          0.05068011873981862,
          0.05068011873981862,
          -0.044641636506989144,
          -0.044641636506989144,
          -0.044641636506989144,
          -0.044641636506989144,
          0.05068011873981862,
          0.05068011873981862,
          0.05068011873981862,
          -0.044641636506989144,
          0.05068011873981862,
          -0.044641636506989144,
          0.05068011873981862,
          -0.044641636506989144,
          -0.044641636506989144,
          -0.044641636506989144,
          0.05068011873981862,
          0.05068011873981862,
          0.05068011873981862,
          0.05068011873981862,
          -0.044641636506989144,
          0.05068011873981862,
          -0.044641636506989144,
          -0.044641636506989144,
          0.05068011873981862,
          -0.044641636506989144,
          -0.044641636506989144,
          -0.044641636506989144,
          -0.044641636506989144,
          -0.044641636506989144,
          0.05068011873981862,
          0.05068011873981862,
          -0.044641636506989144,
          -0.044641636506989144,
          -0.044641636506989144,
          0.05068011873981862,
          -0.044641636506989144,
          0.05068011873981862,
          -0.044641636506989144,
          -0.044641636506989144,
          0.05068011873981862,
          0.05068011873981862,
          0.05068011873981862,
          -0.044641636506989144,
          0.05068011873981862,
          0.05068011873981862,
          -0.044641636506989144,
          0.05068011873981862,
          -0.044641636506989144,
          -0.044641636506989144,
          0.05068011873981862,
          -0.044641636506989144,
          -0.044641636506989144,
          0.05068011873981862,
          -0.044641636506989144,
          0.05068011873981862,
          0.05068011873981862,
          0.05068011873981862,
          0.05068011873981862,
          0.05068011873981862,
          -0.044641636506989144,
          -0.044641636506989144,
          -0.044641636506989144,
          -0.044641636506989144,
          -0.044641636506989144,
          -0.044641636506989144,
          0.05068011873981862,
          -0.044641636506989144,
          -0.044641636506989144,
          0.05068011873981862,
          -0.044641636506989144,
          -0.044641636506989144,
          0.05068011873981862,
          0.05068011873981862,
          -0.044641636506989144,
          -0.044641636506989144,
          -0.044641636506989144,
          0.05068011873981862,
          0.05068011873981862,
          0.05068011873981862,
          0.05068011873981862,
          0.05068011873981862,
          -0.044641636506989144,
          0.05068011873981862,
          -0.044641636506989144,
          0.05068011873981862,
          0.05068011873981862,
          -0.044641636506989144,
          0.05068011873981862,
          -0.044641636506989144,
          0.05068011873981862,
          -0.044641636506989144,
          -0.044641636506989144,
          0.05068011873981862,
          0.05068011873981862,
          0.05068011873981862,
          0.05068011873981862,
          -0.044641636506989144,
          -0.044641636506989144,
          0.05068011873981862,
          -0.044641636506989144,
          -0.044641636506989144,
          -0.044641636506989144,
          0.05068011873981862,
          0.05068011873981862,
          0.05068011873981862,
          -0.044641636506989144,
          -0.044641636506989144,
          -0.044641636506989144,
          0.05068011873981862,
          0.05068011873981862,
          -0.044641636506989144,
          -0.044641636506989144,
          0.05068011873981862,
          0.05068011873981862,
          -0.044641636506989144,
          0.05068011873981862,
          -0.044641636506989144,
          -0.044641636506989144,
          0.05068011873981862,
          0.05068011873981862,
          0.05068011873981862,
          0.05068011873981862,
          -0.044641636506989144,
          0.05068011873981862,
          -0.044641636506989144,
          -0.044641636506989144,
          -0.044641636506989144,
          0.05068011873981862,
          -0.044641636506989144,
          -0.044641636506989144,
          0.05068011873981862,
          -0.044641636506989144,
          -0.044641636506989144,
          -0.044641636506989144,
          -0.044641636506989144,
          -0.044641636506989144,
          0.05068011873981862,
          0.05068011873981862,
          -0.044641636506989144,
          -0.044641636506989144,
          0.05068011873981862,
          -0.044641636506989144,
          -0.044641636506989144,
          0.05068011873981862,
          0.05068011873981862,
          0.05068011873981862,
          -0.044641636506989144,
          0.05068011873981862,
          0.05068011873981862,
          -0.044641636506989144,
          -0.044641636506989144,
          0.05068011873981862,
          -0.044641636506989144,
          -0.044641636506989144,
          -0.044641636506989144,
          0.05068011873981862,
          0.05068011873981862,
          -0.044641636506989144,
          -0.044641636506989144,
          0.05068011873981862,
          0.05068011873981862,
          0.05068011873981862,
          -0.044641636506989144,
          0.05068011873981862,
          0.05068011873981862,
          0.05068011873981862,
          0.05068011873981862,
          -0.044641636506989144,
          0.05068011873981862,
          0.05068011873981862,
          0.05068011873981862,
          0.05068011873981862,
          -0.044641636506989144,
          0.05068011873981862,
          -0.044641636506989144,
          -0.044641636506989144,
          0.05068011873981862,
          0.05068011873981862,
          0.05068011873981862,
          -0.044641636506989144,
          0.05068011873981862,
          0.05068011873981862,
          0.05068011873981862,
          -0.044641636506989144,
          -0.044641636506989144,
          0.05068011873981862,
          0.05068011873981862,
          -0.044641636506989144,
          -0.044641636506989144,
          0.05068011873981862,
          -0.044641636506989144,
          0.05068011873981862,
          0.05068011873981862,
          -0.044641636506989144,
          -0.044641636506989144,
          0.05068011873981862,
          -0.044641636506989144,
          0.05068011873981862,
          0.05068011873981862,
          0.05068011873981862,
          -0.044641636506989144,
          -0.044641636506989144,
          0.05068011873981862,
          0.05068011873981862,
          0.05068011873981862,
          -0.044641636506989144,
          0.05068011873981862,
          -0.044641636506989144,
          -0.044641636506989144,
          -0.044641636506989144,
          0.05068011873981862,
          -0.044641636506989144,
          -0.044641636506989144,
          0.05068011873981862,
          -0.044641636506989144,
          -0.044641636506989144,
          0.05068011873981862,
          -0.044641636506989144,
          -0.044641636506989144,
          0.05068011873981862,
          -0.044641636506989144,
          -0.044641636506989144,
          -0.044641636506989144,
          0.05068011873981862,
          0.05068011873981862,
          -0.044641636506989144,
          -0.044641636506989144,
          -0.044641636506989144,
          0.05068011873981862,
          -0.044641636506989144,
          -0.044641636506989144,
          -0.044641636506989144,
          -0.044641636506989144,
          -0.044641636506989144,
          -0.044641636506989144,
          0.05068011873981862,
          0.05068011873981862,
          0.05068011873981862,
          0.05068011873981862,
          -0.044641636506989144,
          0.05068011873981862,
          0.05068011873981862,
          0.05068011873981862,
          -0.044641636506989144,
          -0.044641636506989144,
          0.05068011873981862,
          -0.044641636506989144,
          -0.044641636506989144,
          -0.044641636506989144,
          -0.044641636506989144,
          -0.044641636506989144,
          0.05068011873981862,
          0.05068011873981862,
          0.05068011873981862,
          -0.044641636506989144,
          -0.044641636506989144
         ],
         "xaxis": "x2",
         "y": [
          151,
          75,
          141,
          206,
          135,
          97,
          138,
          63,
          110,
          310,
          101,
          69,
          179,
          185,
          118,
          171,
          166,
          144,
          97,
          168,
          68,
          49,
          68,
          245,
          184,
          202,
          137,
          85,
          131,
          283,
          129,
          59,
          341,
          87,
          65,
          102,
          265,
          276,
          252,
          90,
          100,
          55,
          61,
          92,
          259,
          53,
          190,
          142,
          75,
          142,
          155,
          225,
          59,
          104,
          182,
          128,
          52,
          37,
          170,
          170,
          61,
          144,
          52,
          128,
          71,
          163,
          150,
          97,
          160,
          178,
          48,
          270,
          202,
          111,
          85,
          42,
          170,
          200,
          252,
          113,
          143,
          51,
          52,
          210,
          65,
          141,
          55,
          134,
          42,
          111,
          98,
          164,
          48,
          96,
          90,
          162,
          150,
          279,
          92,
          83,
          128,
          102,
          302,
          198,
          95,
          53,
          134,
          144,
          232,
          81,
          104,
          59,
          246,
          297,
          258,
          229,
          275,
          281,
          179,
          200,
          200,
          173,
          180,
          84,
          121,
          161,
          99,
          109,
          115,
          268,
          274,
          158,
          107,
          83,
          103,
          272,
          85,
          280,
          336,
          281,
          118,
          317,
          235,
          60,
          174,
          259,
          178,
          128,
          96,
          126,
          288,
          88,
          292,
          71,
          197,
          186,
          25,
          84,
          96,
          195,
          53,
          217,
          172,
          131,
          214,
          59,
          70,
          220,
          268,
          152,
          47,
          74,
          295,
          101,
          151,
          127,
          237,
          225,
          81,
          151,
          107,
          64,
          138,
          185,
          265,
          101,
          137,
          143,
          141,
          79,
          292,
          178,
          91,
          116,
          86,
          122,
          72,
          129,
          142,
          90,
          158,
          39,
          196,
          222,
          277,
          99,
          196,
          202,
          155,
          77,
          191,
          70,
          73,
          49,
          65,
          263,
          248,
          296,
          214,
          185,
          78,
          93,
          252,
          150,
          77,
          208,
          77,
          108,
          160,
          53,
          220,
          154,
          259,
          90,
          246,
          124,
          67,
          72,
          257,
          262,
          275,
          177,
          71,
          47,
          187,
          125,
          78,
          51,
          258,
          215,
          303,
          243,
          91,
          150,
          310,
          153,
          346,
          63,
          89,
          50,
          39,
          103,
          308,
          116,
          145,
          74,
          45,
          115,
          264,
          87,
          202,
          127,
          182,
          241,
          66,
          94,
          283,
          64,
          102,
          200,
          265,
          94,
          230,
          181,
          156,
          233,
          60,
          219,
          80,
          68,
          332,
          248,
          84,
          200,
          55,
          85,
          89,
          31,
          129,
          83,
          275,
          65,
          198,
          236,
          253,
          124,
          44,
          172,
          114,
          142,
          109,
          180,
          144,
          163,
          147,
          97,
          220,
          190,
          109,
          191,
          122,
          230,
          242,
          248,
          249,
          192,
          131,
          237,
          78,
          135,
          244,
          199,
          270,
          164,
          72,
          96,
          306,
          91,
          214,
          95,
          216,
          263,
          178,
          113,
          200,
          139,
          139,
          88,
          148,
          88,
          243,
          71,
          77,
          109,
          272,
          60,
          54,
          221,
          90,
          311,
          281,
          182,
          321,
          58,
          262,
          206,
          233,
          242,
          123,
          167,
          63,
          197,
          71,
          168,
          140,
          217,
          121,
          235,
          245,
          40,
          52,
          104,
          132,
          88,
          69,
          219,
          72,
          201,
          110,
          51,
          277,
          63,
          118,
          69,
          273,
          258,
          43,
          198,
          242,
          232,
          175,
          93,
          168,
          275,
          293,
          281,
          72,
          140,
          189,
          181,
          209,
          136,
          261,
          113,
          131,
          174,
          257,
          55,
          84,
          42,
          146,
          212,
          233,
          91,
          111,
          152,
          120,
          67,
          310,
          94,
          183,
          66,
          173,
          72,
          49,
          64,
          48,
          178,
          104,
          132,
          220,
          57
         ],
         "yaxis": "y2"
        },
        {
         "mode": "markers",
         "type": "scatter",
         "x": [
          0.061696206518683294,
          -0.051474061238800654,
          0.04445121333659049,
          -0.011595014505211082,
          -0.03638469220446948,
          -0.040695940499992665,
          -0.047162812943277475,
          -0.0018947058402839008,
          0.061696206518683294,
          0.039062152967186486,
          -0.08380842345522464,
          0.0175059114895705,
          -0.028840007687303888,
          -0.0018947058402839008,
          -0.02560657146566148,
          -0.018061886948495892,
          0.0422955891888289,
          0.012116851120166501,
          -0.010517202431330305,
          -0.018061886948495892,
          -0.05686312160820465,
          -0.022373135244019075,
          -0.004050329988045492,
          0.06061839444480248,
          0.03582871674554409,
          -0.012672826579091896,
          -0.07734155101193986,
          0.05954058237092167,
          -0.0212953231701383,
          -0.006205954135807083,
          0.04445121333659049,
          -0.06548561819925106,
          0.12528711887765046,
          -0.050396249164919873,
          -0.06332999405148947,
          -0.03099563183506548,
          0.022894971858974496,
          0.011039039046285686,
          0.07139651518361048,
          0.014272475267928093,
          -0.008361578283568675,
          -0.06764124234701265,
          -0.010517202431330305,
          -0.023450947317899894,
          0.0681630789619681,
          -0.035306880130588664,
          -0.011595014505211082,
          -0.07303030271641665,
          -0.041773752573873474,
          0.014272475267928093,
          -0.007283766209687899,
          0.016428099415689682,
          -0.00943939035744949,
          -0.015906262800734303,
          0.02505059600673609,
          -0.049318437091039065,
          0.04121777711494808,
          -0.06332999405148947,
          -0.06440780612537028,
          -0.02560657146566148,
          -0.004050329988045492,
          0.004572166603000912,
          -0.007283766209687899,
          -0.03746250427835029,
          -0.02560657146566148,
          -0.02452875939178067,
          -0.018061886948495892,
          -0.014828450726853487,
          -0.029917819761184662,
          -0.04608500086939666,
          -0.06979686649477428,
          0.03367309259778249,
          -0.004050329988045492,
          -0.020217511096257485,
          0.002416542455239321,
          -0.03099563183506548,
          0.028284032228378497,
          -0.03638469220446948,
          -0.05794093368208547,
          -0.03746250427835029,
          0.012116851120166501,
          -0.022373135244019075,
          -0.035306880130588664,
          0.009961226972404908,
          -0.039618128426111884,
          0.07139651518361048,
          -0.07518592686417827,
          -0.006205954135807083,
          -0.040695940499992665,
          -0.048240625017158284,
          -0.02560657146566148,
          0.05199589785375607,
          0.004572166603000912,
          -0.06440780612537028,
          -0.01698407487461508,
          -0.05794093368208547,
          0.009961226972404908,
          0.08864150836570328,
          -0.0051281420619263066,
          -0.06440780612537028,
          0.0175059114895705,
          -0.04500718879551588,
          0.028284032228378497,
          0.04121777711494808,
          0.06492964274032566,
          -0.0320734439089463,
          -0.07626373893805906,
          0.04984027370599448,
          0.045529025410471304,
          -0.00943939035744949,
          -0.0320734439089463,
          0.004572166603000912,
          0.020739347711212906,
          0.014272475267928093,
          0.11019774984331929,
          0.0013387303813585058,
          0.05846277029704089,
          -0.0212953231701383,
          -0.010517202431330305,
          -0.047162812943277475,
          0.004572166603000912,
          0.0175059114895705,
          0.08109682384853766,
          0.03475090467166331,
          0.023972783932855315,
          -0.008361578283568675,
          -0.061174369903727877,
          -0.0018947058402839008,
          -0.06225218197760866,
          0.016428099415689682,
          0.09618619288286882,
          -0.06979686649477428,
          -0.0212953231701383,
          -0.05362968538656229,
          0.04337340126270967,
          0.0563071461492793,
          -0.08165279930746305,
          0.04984027370599448,
          0.11127556191720007,
          0.061696206518683294,
          0.014272475267928093,
          0.04768464955823289,
          0.012116851120166501,
          0.005649978676881689,
          0.04660683748435208,
          0.12852055509929283,
          0.05954058237092167,
          0.09295275666122646,
          0.015350287341808908,
          -0.0051281420619263066,
          0.07031870310972965,
          -0.004050329988045492,
          -0.0008168937664030856,
          -0.04392937672163507,
          0.020739347711212906,
          0.06061839444480248,
          -0.010517202431330305,
          -0.033151255982827074,
          -0.06548561819925106,
          0.04337340126270967,
          -0.06225218197760866,
          0.06385183066644486,
          0.030439656376140087,
          0.0724743272574913,
          -0.01913969902237667,
          -0.06656343027313188,
          -0.06009655782984706,
          0.06924089103584885,
          0.05954058237092167,
          -0.0266843835395423,
          -0.020217511096257485,
          -0.04608500086939666,
          0.07139651518361048,
          -0.07949717515970146,
          0.009961226972404908,
          -0.03854031635223107,
          0.01966153563733209,
          0.027206220154497678,
          -0.008361578283568675,
          -0.015906262800734303,
          0.004572166603000912,
          -0.04285156464775429,
          0.005649978676881689,
          -0.035306880130588664,
          0.023972783932855315,
          -0.018061886948495892,
          0.0422955891888289,
          -0.05470749746044306,
          -0.002972517914164677,
          -0.06656343027313188,
          -0.012672826579091896,
          -0.041773752573873474,
          -0.03099563183506548,
          -0.0051281420619263066,
          -0.05901874575596628,
          0.02505059600673609,
          -0.04608500086939666,
          0.0034943545291200974,
          0.05415152200151766,
          -0.04500718879551588,
          -0.05794093368208547,
          -0.05578530953432388,
          0.0013387303813585058,
          0.030439656376140087,
          0.006727790750762504,
          0.04660683748435208,
          0.026128408080616904,
          0.045529025410471304,
          0.04013996504106731,
          -0.018061886948495892,
          0.014272475267928093,
          0.0369065288194249,
          0.0034943545291200974,
          -0.07087467856865506,
          -0.033151255982827074,
          0.09403056873510728,
          0.03582871674554409,
          0.031517468450020895,
          -0.06548561819925106,
          -0.041773752573873474,
          -0.039618128426111884,
          -0.03854031635223107,
          -0.02560657146566148,
          -0.023450947317899894,
          -0.06656343027313188,
          0.032595280523901676,
          -0.04608500086939666,
          -0.029917819761184662,
          -0.012672826579091896,
          -0.015906262800734303,
          0.07139651518361048,
          -0.03099563183506548,
          0.00026091830747769084,
          0.0369065288194249,
          0.039062152967186486,
          -0.014828450726853487,
          0.006727790750762504,
          -0.06871905442089347,
          -0.00943939035744949,
          0.01966153563733209,
          0.07462995140525285,
          -0.008361578283568675,
          -0.023450947317899894,
          -0.04608500086939666,
          0.05415152200151766,
          -0.035306880130588664,
          -0.0320734439089463,
          -0.08165279930746305,
          0.04768464955823289,
          0.06061839444480248,
          0.0563071461492793,
          0.09834181703063047,
          0.05954058237092167,
          0.03367309259778249,
          0.0563071461492793,
          -0.06548561819925106,
          0.16085491731571683,
          -0.05578530953432388,
          -0.02452875939178067,
          -0.03638469220446948,
          -0.008361578283568675,
          -0.041773752573873474,
          0.1274427430254121,
          -0.07734155101193986,
          0.028284032228378497,
          -0.02560657146566148,
          -0.06225218197760866,
          -0.0008168937664030856,
          0.08864150836570328,
          -0.0320734439089463,
          0.030439656376140087,
          0.008883414898524095,
          0.006727790750762504,
          -0.020217511096257485,
          -0.02452875939178067,
          -0.011595014505211082,
          0.026128408080616904,
          -0.05901874575596628,
          -0.03638469220446948,
          -0.02452875939178067,
          0.018583723563451313,
          -0.09027529589850945,
          -0.0051281420619263066,
          -0.05255187331268147,
          -0.022373135244019075,
          -0.020217511096257485,
          -0.05470749746044306,
          -0.006205954135807083,
          -0.01698407487461508,
          0.055229334075398484,
          0.07678557555301448,
          0.018583723563451313,
          -0.022373135244019075,
          0.09295275666122646,
          -0.03099563183506548,
          0.039062152967186486,
          -0.061174369903727877,
          -0.008361578283568675,
          -0.03746250427835029,
          -0.013750638652972673,
          0.0735521393313721,
          -0.02452875939178067,
          0.03367309259778249,
          0.03475090467166331,
          -0.03854031635223107,
          -0.039618128426111884,
          -0.0018947058402839008,
          -0.03099563183506548,
          -0.04608500086939666,
          0.0013387303813585058,
          0.06492964274032566,
          0.04013996504106731,
          -0.023450947317899894,
          0.053073709927636895,
          0.04013996504106731,
          -0.020217511096257485,
          0.014272475267928093,
          -0.03422906805670789,
          0.006727790750762504,
          0.004572166603000912,
          0.030439656376140087,
          0.05199589785375607,
          0.061696206518683294,
          -0.007283766209687899,
          0.005649978676881689,
          0.05415152200151766,
          -0.008361578283568675,
          0.11450899813884247,
          0.0670852668880873,
          -0.05578530953432388,
          0.030439656376140087,
          -0.02560657146566148,
          0.10480868947391528,
          -0.006205954135807083,
          -0.047162812943277475,
          -0.048240625017158284,
          0.08540807214406083,
          -0.012672826579091896,
          -0.033151255982827074,
          -0.007283766209687899,
          -0.013750638652972673,
          0.05954058237092167,
          0.021817159785093684,
          0.018583723563451313,
          -0.011595014505211082,
          -0.002972517914164677,
          0.0175059114895705,
          -0.029917819761184662,
          -0.020217511096257485,
          -0.05794093368208547,
          0.06061839444480248,
          -0.040695940499992665,
          -0.07195249064253588,
          -0.05578530953432388,
          0.045529025410471304,
          -0.00943939035744949,
          -0.033151255982827074,
          0.04984027370599448,
          -0.08488623552910546,
          0.005649978676881689,
          0.020739347711212906,
          -0.007283766209687899,
          0.10480868947391528,
          -0.02452875939178067,
          -0.006205954135807083,
          -0.03854031635223107,
          0.13714305169033927,
          0.17055522598064407,
          0.002416542455239321,
          0.03798434089330568,
          -0.05794093368208547,
          -0.00943939035744949,
          -0.023450947317899894,
          -0.010517202431330305,
          -0.03422906805670789,
          -0.002972517914164677,
          0.0681630789619681,
          0.009961226972404908,
          0.002416542455239321,
          -0.03854031635223107,
          0.026128408080616904,
          -0.08919748382462865,
          0.06061839444480248,
          -0.028840007687303888,
          -0.029917819761184662,
          -0.01913969902237667,
          -0.040695940499992665,
          0.015350287341808908,
          -0.02452875939178067,
          0.0013387303813585058,
          0.06924089103584885,
          -0.06979686649477428,
          -0.029917819761184662,
          -0.04608500086939666,
          0.018583723563451313,
          0.0013387303813585058,
          -0.03099563183506548,
          -0.004050329988045492,
          0.015350287341808908,
          0.022894971858974496,
          0.045529025410471304,
          -0.04500718879551588,
          -0.033151255982827074,
          0.09726400495674965,
          0.05415152200151766,
          0.12313149472988882,
          -0.08057498723358228,
          0.09295275666122646,
          -0.050396249164919873,
          -0.011595014505211082,
          -0.027762195613423073,
          0.05846277029704089,
          0.08540807214406083,
          -0.0008168937664030856,
          0.006727790750762504,
          0.008883414898524095,
          0.08001901177465684,
          0.07139651518361048,
          -0.02452875939178067,
          -0.05470749746044306,
          -0.03638469220446948,
          0.016428099415689682,
          0.07786338762689529,
          -0.039618128426111884,
          0.011039039046285686,
          -0.040695940499992665,
          -0.03422906805670789,
          0.005649978676881689,
          0.08864150836570328,
          -0.033151255982827074,
          -0.05686312160820465,
          -0.03099563183506548,
          0.055229334075398484,
          -0.06009655782984706,
          0.0013387303813585058,
          -0.023450947317899894,
          -0.07410811479029747,
          0.01966153563733209,
          -0.015906262800734303,
          -0.015906262800734303,
          0.039062152967186486,
          -0.07303030271641665
         ],
         "xaxis": "x3",
         "y": [
          151,
          75,
          141,
          206,
          135,
          97,
          138,
          63,
          110,
          310,
          101,
          69,
          179,
          185,
          118,
          171,
          166,
          144,
          97,
          168,
          68,
          49,
          68,
          245,
          184,
          202,
          137,
          85,
          131,
          283,
          129,
          59,
          341,
          87,
          65,
          102,
          265,
          276,
          252,
          90,
          100,
          55,
          61,
          92,
          259,
          53,
          190,
          142,
          75,
          142,
          155,
          225,
          59,
          104,
          182,
          128,
          52,
          37,
          170,
          170,
          61,
          144,
          52,
          128,
          71,
          163,
          150,
          97,
          160,
          178,
          48,
          270,
          202,
          111,
          85,
          42,
          170,
          200,
          252,
          113,
          143,
          51,
          52,
          210,
          65,
          141,
          55,
          134,
          42,
          111,
          98,
          164,
          48,
          96,
          90,
          162,
          150,
          279,
          92,
          83,
          128,
          102,
          302,
          198,
          95,
          53,
          134,
          144,
          232,
          81,
          104,
          59,
          246,
          297,
          258,
          229,
          275,
          281,
          179,
          200,
          200,
          173,
          180,
          84,
          121,
          161,
          99,
          109,
          115,
          268,
          274,
          158,
          107,
          83,
          103,
          272,
          85,
          280,
          336,
          281,
          118,
          317,
          235,
          60,
          174,
          259,
          178,
          128,
          96,
          126,
          288,
          88,
          292,
          71,
          197,
          186,
          25,
          84,
          96,
          195,
          53,
          217,
          172,
          131,
          214,
          59,
          70,
          220,
          268,
          152,
          47,
          74,
          295,
          101,
          151,
          127,
          237,
          225,
          81,
          151,
          107,
          64,
          138,
          185,
          265,
          101,
          137,
          143,
          141,
          79,
          292,
          178,
          91,
          116,
          86,
          122,
          72,
          129,
          142,
          90,
          158,
          39,
          196,
          222,
          277,
          99,
          196,
          202,
          155,
          77,
          191,
          70,
          73,
          49,
          65,
          263,
          248,
          296,
          214,
          185,
          78,
          93,
          252,
          150,
          77,
          208,
          77,
          108,
          160,
          53,
          220,
          154,
          259,
          90,
          246,
          124,
          67,
          72,
          257,
          262,
          275,
          177,
          71,
          47,
          187,
          125,
          78,
          51,
          258,
          215,
          303,
          243,
          91,
          150,
          310,
          153,
          346,
          63,
          89,
          50,
          39,
          103,
          308,
          116,
          145,
          74,
          45,
          115,
          264,
          87,
          202,
          127,
          182,
          241,
          66,
          94,
          283,
          64,
          102,
          200,
          265,
          94,
          230,
          181,
          156,
          233,
          60,
          219,
          80,
          68,
          332,
          248,
          84,
          200,
          55,
          85,
          89,
          31,
          129,
          83,
          275,
          65,
          198,
          236,
          253,
          124,
          44,
          172,
          114,
          142,
          109,
          180,
          144,
          163,
          147,
          97,
          220,
          190,
          109,
          191,
          122,
          230,
          242,
          248,
          249,
          192,
          131,
          237,
          78,
          135,
          244,
          199,
          270,
          164,
          72,
          96,
          306,
          91,
          214,
          95,
          216,
          263,
          178,
          113,
          200,
          139,
          139,
          88,
          148,
          88,
          243,
          71,
          77,
          109,
          272,
          60,
          54,
          221,
          90,
          311,
          281,
          182,
          321,
          58,
          262,
          206,
          233,
          242,
          123,
          167,
          63,
          197,
          71,
          168,
          140,
          217,
          121,
          235,
          245,
          40,
          52,
          104,
          132,
          88,
          69,
          219,
          72,
          201,
          110,
          51,
          277,
          63,
          118,
          69,
          273,
          258,
          43,
          198,
          242,
          232,
          175,
          93,
          168,
          275,
          293,
          281,
          72,
          140,
          189,
          181,
          209,
          136,
          261,
          113,
          131,
          174,
          257,
          55,
          84,
          42,
          146,
          212,
          233,
          91,
          111,
          152,
          120,
          67,
          310,
          94,
          183,
          66,
          173,
          72,
          49,
          64,
          48,
          178,
          104,
          132,
          220,
          57
         ],
         "yaxis": "y3"
        },
        {
         "mode": "markers",
         "type": "scatter",
         "x": [
          0.0218723855140367,
          -0.02632752814785296,
          -0.00567042229275739,
          -0.03665608107540074,
          0.0218723855140367,
          -0.019441826196154435,
          -0.015998975220305175,
          0.0666294482000771,
          -0.04009893205125,
          -0.03321323009955148,
          0.008100981610639655,
          -0.03321323009955148,
          -0.009113273268606652,
          0.008100981610639655,
          -0.012556124244455912,
          0.08040085210347414,
          0.049415193320830796,
          0.056300895272529315,
          -0.03665608107540074,
          -0.04009893205125,
          -0.04354178302709927,
          0.0012152796589411327,
          -0.009113273268606652,
          0.031064797619554236,
          -0.0228846771720037,
          -0.04009893205125,
          -0.02632752814785296,
          -0.04009893205125,
          -0.07452744180974262,
          0.06318659722422783,
          -0.019441826196154435,
          -0.08141314376144114,
          0.028758087465735226,
          -0.002227571316908129,
          -0.057313186930496314,
          -0.04929134415676754,
          0.052858044296680055,
          -0.057313186930496314,
          0.09761510698272045,
          -0.07452744180974262,
          0.0218723855140367,
          -0.10895595156823522,
          -0.014862834398274925,
          -0.07108459083389335,
          0.008100981610639655,
          0.03220093844158448,
          -0.03321323009955148,
          -0.057313186930496314,
          0.011543832586488917,
          -0.00567042229275739,
          0.014986683562338177,
          0.028758087465735226,
          -0.00567042229275739,
          0.07007229917592636,
          0.008100981610639655,
          -0.03665608107540074,
          -0.02632752814785296,
          -0.05042748497879779,
          0.03564378941743375,
          0.011543832586488917,
          -0.04009893205125,
          -0.05387033595464705,
          -0.04009893205125,
          -0.060756037906345574,
          -0.04009893205125,
          0.059743746248378575,
          -0.03321323009955148,
          -0.017135116042335426,
          -0.04009893205125,
          -0.00567042229275739,
          -0.012556124244455912,
          0.12515791478951455,
          -0.012556124244455912,
          -0.002227571316908129,
          0.056300895272529315,
          -0.02632752814785296,
          0.07007229917592636,
          -0.07452744180974262,
          -0.0228846771720037,
          -0.02632752814785296,
          0.04252949136913227,
          -0.029770379123702218,
          -0.02632752814785296,
          -0.04698463400294853,
          -0.10093410879450646,
          0.0012152796589411327,
          -0.04009893205125,
          0.011543832586488917,
          -0.06764173985804409,
          -0.019441826196154435,
          -0.04009893205125,
          -0.05387033595464705,
          0.09761510698272045,
          -0.10207024961653671,
          -0.012556124244455912,
          -0.08141314376144114,
          0.049415193320830796,
          -0.02519138732582271,
          -0.012556124244455912,
          0.011543832586488917,
          -0.0228846771720037,
          0.06318659722422783,
          -0.015998975220305175,
          0.011543832586488917,
          -0.002227571316908129,
          -0.04009893205125,
          -0.04354178302709927,
          -0.0550064767766773,
          0.029894228287765473,
          0.002351420480971383,
          -0.0228846771720037,
          -0.02632752814785296,
          -0.02632752814785296,
          0.06318659722422783,
          0.06318659722422783,
          -0.00567042229275739,
          0.07007229917592636,
          0.08728655405517267,
          0.02531523648988596,
          -0.002227571316908129,
          0.011543832586488917,
          0.0218723855140367,
          0.0218723855140367,
          -0.0010914304948778783,
          0.008100981610639655,
          -0.002227571316908129,
          -0.02632752814785296,
          -0.012556124244455912,
          -0.02632752814785296,
          0.004658130634790395,
          0.10450080893441897,
          -0.06764173985804409,
          -0.009113273268606652,
          -0.04009893205125,
          -0.03321323009955148,
          -0.03665608107540074,
          -0.057313186930496314,
          0.09761510698272045,
          0.07695800112762488,
          0.052858044296680055,
          0.04252949136913227,
          -0.04698463400294853,
          0.03908664039328301,
          -0.009113273268606652,
          -0.015998975220305175,
          0.06318659722422783,
          0.0012152796589411327,
          -0.019441826196154435,
          -0.019441826196154435,
          -0.04698463400294853,
          0.02531523648988596,
          -0.00567042229275739,
          0.07007229917592636,
          0.06318659722422783,
          -0.00567042229275739,
          0.049415193320830796,
          0.0012152796589411327,
          -0.018305685374124185,
          -0.0699484500118631,
          0.08728655405517267,
          -0.07452744180974262,
          0.07007229917592636,
          -0.07452744180974262,
          0.07695800112762488,
          0.0218723855140367,
          -0.04698463400294853,
          -0.03665608107540074,
          0.03795049957125276,
          -0.002227571316908129,
          0.049415193320830796,
          -0.03665608107540074,
          -0.09862739864068745,
          0.008100981610639655,
          -0.00567042229275739,
          -0.04354178302709927,
          -0.02632752814785296,
          0.03908664039328301,
          -0.02519138732582271,
          -0.02632752814785296,
          -0.012556124244455912,
          0.03564378941743375,
          -0.05387033595464705,
          0.056300895272529315,
          0.06318659722422783,
          -0.0228846771720037,
          0.008100981610639655,
          -0.019441826196154435,
          -0.02632752814785296,
          0.049415193320830796,
          0.0012152796589411327,
          0.028758087465735226,
          -0.04354178302709927,
          0.008100981610639655,
          -0.06419888888219483,
          0.03220093844158448,
          0.014986683562338177,
          -0.03321323009955148,
          0.07007229917592636,
          -0.02632752814785296,
          0.03450764859540349,
          -0.0079771324465764,
          -0.015998975220305175,
          0.03564378941743375,
          0.052858044296680055,
          0.028758087465735226,
          0.014986683562338177,
          -0.009113273268606652,
          0.028758087465735226,
          0.07695800112762488,
          0.0666294482000771,
          0.014986683562338177,
          0.0218723855140367,
          0.03564378941743375,
          -0.0228846771720037,
          -0.0228846771720037,
          0.09761510698272045,
          0.049415193320830796,
          0.10105795795856971,
          -0.04009893205125,
          -0.019441826196154435,
          -0.00567042229275739,
          -0.02632752814785296,
          0.04252949136913227,
          -0.06419888888219483,
          -0.11239880254408448,
          0.049415193320830796,
          -0.02632752814785296,
          0.05743703609455957,
          -0.060756037906345574,
          -0.029770379123702218,
          -0.057313186930496314,
          0.0218723855140367,
          -0.011419983422425662,
          -0.05042748497879779,
          0.04597234234498153,
          0.05860760542634833,
          0.03564378941743375,
          -0.06877788068007434,
          0.059743746248378575,
          -0.012556124244455912,
          0.0666294482000771,
          0.004658130634790395,
          -0.0228846771720037,
          0.011543832586488917,
          -0.019441826196154435,
          -0.029770379123702218,
          -0.06189217872837582,
          -0.04009893205125,
          0.059743746248378575,
          0.052858044296680055,
          0.07351515015177562,
          0.08728655405517267,
          -0.05617704610846606,
          0.008100981610639655,
          0.07695800112762488,
          -0.00567042229275739,
          -0.04698463400294853,
          0.02531523648988596,
          -0.04240564220506902,
          0.04252949136913227,
          -0.057313186930496314,
          0.10450080893441897,
          0.09761510698272045,
          -0.04698463400294853,
          -0.03321323009955148,
          -0.017135116042335426,
          0.011543832586488917,
          -0.0848559947372904,
          0.07007229917592636,
          -0.02632752814785296,
          0.08384370307932341,
          0.04252949136913227,
          -0.05617704610846606,
          0.04597234234498153,
          0.03564378941743375,
          0.011543832586488917,
          0.06318659722422783,
          0.0012152796589411327,
          -0.0848559947372904,
          0.004658130634790395,
          0.03908664039328301,
          -0.057313186930496314,
          -0.00567042229275739,
          -0.03321323009955148,
          0.028758087465735226,
          -0.015998975220305175,
          -0.07797029278559188,
          -0.015998975220305175,
          0.0218723855140367,
          -0.04009893205125,
          0.02531523648988596,
          0.06318659722422783,
          -0.03207708927752123,
          0.012679973408519169,
          -0.00567042229275739,
          -0.04009893205125,
          -0.04009893205125,
          -0.06419888888219483,
          -0.04698463400294853,
          -0.015998975220305175,
          -0.04123507287328025,
          0.052858044296680055,
          0.03333707926361473,
          0.0941722560068712,
          0.052858044296680055,
          -0.04009893205125,
          0.0218723855140367,
          0.004658130634790395,
          -0.03321323009955148,
          -0.002227571316908129,
          0.03564378941743375,
          -0.057313186930496314,
          -0.00567042229275739,
          0.052858044296680055,
          -0.012556124244455912,
          -0.05387033595464705,
          0.0012152796589411327,
          0.05516475445049906,
          0.02531523648988596,
          0.04597234234498153,
          -0.00567042229275739,
          0.0792647112814439,
          0.06205045640219759,
          0.049415193320830796,
          0.011543832586488917,
          -0.06650559903601384,
          -0.03321323009955148,
          0.028758087465735226,
          -0.060756037906345574,
          -0.002227571316908129,
          0.04252949136913227,
          -0.03665608107540074,
          0.07695800112762488,
          0.028758087465735226,
          -0.0228846771720037,
          -0.012556124244455912,
          -0.03665608107540074,
          0.07007229917592636,
          -0.03321323009955148,
          -0.05042748497879779,
          0.13204361674121307,
          0.056300895272529315,
          0.056300895272529315,
          0.09072940503102193,
          -0.04009893205125,
          -0.03321323009955148,
          0.03220093844158448,
          -0.07452744180974262,
          -0.00567042229275739,
          -0.04354178302709927,
          0.10794365991026823,
          -0.03321323009955148,
          -0.04698463400294853,
          -0.03665608107540074,
          0.0218723855140367,
          0.014986683562338177,
          -0.015998975220305175,
          0.01842953453818744,
          -0.02632752814785296,
          0.03220093844158448,
          0.0218723855140367,
          0.028758087465735226,
          0.07007229917592636,
          0.00007913883691088233,
          -0.019441826196154435,
          -0.012556124244455912,
          -0.015998975220305175,
          0.014986683562338177,
          0.014986683562338177,
          -0.04009893205125,
          -0.057313186930496314,
          0.049415193320830796,
          -0.015998975220305175,
          -0.00567042229275739,
          -0.06764173985804409,
          0.10794365991026823,
          -0.00567042229275739,
          0.01842953453818744,
          -0.00567042229275739,
          0.0218723855140367,
          0.05860760542634833,
          -0.07452744180974262,
          -0.0228846771720037,
          -0.009113273268606652,
          0.004658130634790395,
          0.049415193320830796,
          -0.015998975220305175,
          -0.07452744180974262,
          0.056300895272529315,
          -0.0848559947372904,
          0.059743746248378575,
          -0.06419888888219483,
          -0.002227571316908129,
          -0.04354178302709927,
          0.056300895272529315,
          -0.029770379123702218,
          -0.0228846771720037,
          -0.03090651994573247,
          -0.03321323009955148,
          0.049415193320830796,
          0.09072940503102193,
          -0.057313186930496314,
          -0.0228846771720037,
          -0.00567042229275739,
          0.07007229917592636,
          0.08384370307932341,
          -0.0848559947372904,
          -0.0527341951326168,
          0.10794365991026823,
          0.056300895272529315,
          0.008100981610639655,
          -0.04354178302709927,
          0.06318659722422783,
          -0.02632752814785296,
          -0.00453428147072714,
          -0.05042748497879779,
          0.0987512478047507,
          -0.07452744180974262,
          -0.02632752814785296,
          -0.05387033595464705,
          0.00007913883691088233,
          0.0218723855140367,
          0.052858044296680055,
          0.028758087465735226,
          -0.019441826196154435,
          -0.08141314376144114,
          0.04366563219116252,
          -0.00567042229275739,
          0.08728655405517267,
          -0.0228846771720037,
          -0.05042748497879779,
          0.0218723855140367,
          -0.00567042229275739,
          -0.029770379123702218,
          0.008100981610639655,
          -0.04009893205125,
          -0.05042748497879779,
          0.059743746248378575,
          -0.06764173985804409,
          0.01729339371615719,
          0.0012152796589411327,
          -0.08141314376144114
         ],
         "xaxis": "x4",
         "y": [
          151,
          75,
          141,
          206,
          135,
          97,
          138,
          63,
          110,
          310,
          101,
          69,
          179,
          185,
          118,
          171,
          166,
          144,
          97,
          168,
          68,
          49,
          68,
          245,
          184,
          202,
          137,
          85,
          131,
          283,
          129,
          59,
          341,
          87,
          65,
          102,
          265,
          276,
          252,
          90,
          100,
          55,
          61,
          92,
          259,
          53,
          190,
          142,
          75,
          142,
          155,
          225,
          59,
          104,
          182,
          128,
          52,
          37,
          170,
          170,
          61,
          144,
          52,
          128,
          71,
          163,
          150,
          97,
          160,
          178,
          48,
          270,
          202,
          111,
          85,
          42,
          170,
          200,
          252,
          113,
          143,
          51,
          52,
          210,
          65,
          141,
          55,
          134,
          42,
          111,
          98,
          164,
          48,
          96,
          90,
          162,
          150,
          279,
          92,
          83,
          128,
          102,
          302,
          198,
          95,
          53,
          134,
          144,
          232,
          81,
          104,
          59,
          246,
          297,
          258,
          229,
          275,
          281,
          179,
          200,
          200,
          173,
          180,
          84,
          121,
          161,
          99,
          109,
          115,
          268,
          274,
          158,
          107,
          83,
          103,
          272,
          85,
          280,
          336,
          281,
          118,
          317,
          235,
          60,
          174,
          259,
          178,
          128,
          96,
          126,
          288,
          88,
          292,
          71,
          197,
          186,
          25,
          84,
          96,
          195,
          53,
          217,
          172,
          131,
          214,
          59,
          70,
          220,
          268,
          152,
          47,
          74,
          295,
          101,
          151,
          127,
          237,
          225,
          81,
          151,
          107,
          64,
          138,
          185,
          265,
          101,
          137,
          143,
          141,
          79,
          292,
          178,
          91,
          116,
          86,
          122,
          72,
          129,
          142,
          90,
          158,
          39,
          196,
          222,
          277,
          99,
          196,
          202,
          155,
          77,
          191,
          70,
          73,
          49,
          65,
          263,
          248,
          296,
          214,
          185,
          78,
          93,
          252,
          150,
          77,
          208,
          77,
          108,
          160,
          53,
          220,
          154,
          259,
          90,
          246,
          124,
          67,
          72,
          257,
          262,
          275,
          177,
          71,
          47,
          187,
          125,
          78,
          51,
          258,
          215,
          303,
          243,
          91,
          150,
          310,
          153,
          346,
          63,
          89,
          50,
          39,
          103,
          308,
          116,
          145,
          74,
          45,
          115,
          264,
          87,
          202,
          127,
          182,
          241,
          66,
          94,
          283,
          64,
          102,
          200,
          265,
          94,
          230,
          181,
          156,
          233,
          60,
          219,
          80,
          68,
          332,
          248,
          84,
          200,
          55,
          85,
          89,
          31,
          129,
          83,
          275,
          65,
          198,
          236,
          253,
          124,
          44,
          172,
          114,
          142,
          109,
          180,
          144,
          163,
          147,
          97,
          220,
          190,
          109,
          191,
          122,
          230,
          242,
          248,
          249,
          192,
          131,
          237,
          78,
          135,
          244,
          199,
          270,
          164,
          72,
          96,
          306,
          91,
          214,
          95,
          216,
          263,
          178,
          113,
          200,
          139,
          139,
          88,
          148,
          88,
          243,
          71,
          77,
          109,
          272,
          60,
          54,
          221,
          90,
          311,
          281,
          182,
          321,
          58,
          262,
          206,
          233,
          242,
          123,
          167,
          63,
          197,
          71,
          168,
          140,
          217,
          121,
          235,
          245,
          40,
          52,
          104,
          132,
          88,
          69,
          219,
          72,
          201,
          110,
          51,
          277,
          63,
          118,
          69,
          273,
          258,
          43,
          198,
          242,
          232,
          175,
          93,
          168,
          275,
          293,
          281,
          72,
          140,
          189,
          181,
          209,
          136,
          261,
          113,
          131,
          174,
          257,
          55,
          84,
          42,
          146,
          212,
          233,
          91,
          111,
          152,
          120,
          67,
          310,
          94,
          183,
          66,
          173,
          72,
          49,
          64,
          48,
          178,
          104,
          132,
          220,
          57
         ],
         "yaxis": "y4"
        },
        {
         "mode": "markers",
         "type": "scatter",
         "x": [
          -0.04422349842444599,
          -0.008448724111216851,
          -0.04559945128264711,
          0.01219056876179996,
          0.003934851612593237,
          -0.06899064987206617,
          -0.04009563984984263,
          0.09061988167926385,
          -0.013952535544021335,
          -0.012576582685820214,
          -0.10338947132709418,
          -0.007072771253015731,
          -0.004320865536613489,
          -0.004320865536613489,
          0.017694380194604446,
          0.08924392882106273,
          0.024574144485610048,
          0.0342058144930179,
          -0.037343734133440394,
          -0.0029449126784123676,
          -0.04559945128264711,
          -0.037343734133440394,
          -0.0029449126784123676,
          0.028702003060213414,
          -0.030463969842434782,
          -0.015328488402222454,
          -0.08962994274508297,
          -0.04284754556624487,
          -0.04009563984984263,
          -0.04284754556624487,
          -0.009824676969417972,
          -0.038719686991641515,
          -0.05385516843185383,
          -0.04422349842444599,
          -0.0579830270064572,
          0.04934129593323023,
          0.0080627101871966,
          -0.0249601584096303,
          0.08786797596286161,
          0.0025588987543921156,
          0.05484510736603471,
          -0.07449446130487065,
          -0.04972730985725048,
          0.020446285911006685,
          -0.016704441260423575,
          -0.011200629827619093,
          -0.046975404140848234,
          -0.0841261313122785,
          0.0025588987543921156,
          -0.012576582685820214,
          -0.04422349842444599,
          -0.04147159270804375,
          0.039709625925822375,
          0.01219056876179996,
          0.020446285911006685,
          -0.007072771253015731,
          -0.0318399227006359,
          -0.08962994274508297,
          0.01219056876179996,
          0.06447677737344255,
          -0.06623874415566393,
          -0.04422349842444599,
          -0.011200629827619093,
          0.020446285911006685,
          -0.06348683843926169,
          0.005310804470794357,
          -0.02083229983502694,
          -0.005696818394814609,
          -0.033215875558837024,
          -0.07587041416307178,
          -0.00019300696201012598,
          0.024574144485610048,
          0.10300345740307394,
          0.03833367306762126,
          0.027326050202012293,
          -0.011200629827619093,
          -0.12678066991651324,
          -0.038719686991641515,
          -0.06761469701386505,
          0.0025588987543921156,
          0.07135654166444816,
          0.010814615903598841,
          0.03282986163481677,
          -0.05935897986465832,
          -0.029088016984233665,
          -0.009824676969417972,
          -0.051103262715451604,
          0.06310082451524143,
          -0.0318399227006359,
          -0.00019300696201012598,
          -0.030463969842434782,
          0.06310082451524143,
          0.005310804470794357,
          -0.0029449126784123676,
          -0.00019300696201012598,
          -0.04559945128264711,
          -0.004320865536613489,
          0.02182223876920781,
          -0.015328488402222454,
          0.027326050202012293,
          0.06034891879883919,
          0.010814615903598841,
          0.03695772020942014,
          0.041085578784023497,
          -0.0249601584096303,
          -0.0318399227006359,
          -0.04559945128264711,
          -0.0029449126784123676,
          -0.062110885581060565,
          0.001182945896190995,
          -0.04972730985725048,
          0.02319819162740893,
          0.005310804470794357,
          0.014942474478202204,
          0.013566521620001083,
          0.06447677737344255,
          0.013566521620001083,
          0.045213437358626866,
          0.02319819162740893,
          -0.019456346976825818,
          -0.037343734133440394,
          0.0080627101871966,
          0.04383748450042574,
          0.15253776029831428,
          -0.034591828417038145,
          -0.033215875558837024,
          -0.05523112129005496,
          0.03833367306762126,
          -0.005696818394814609,
          0.00943866304539772,
          -0.0029449126784123676,
          -0.019456346976825818,
          0.0342058144930179,
          -0.0841261313122785,
          0.01219056876179996,
          -0.04835135699904936,
          -0.060734932722859444,
          -0.015328488402222454,
          -0.0318399227006359,
          -0.034591828417038145,
          -0.030463969842434782,
          0.0342058144930179,
          0.05484510736603471,
          0.019070333052805567,
          0.020446285911006685,
          -0.033215875558837024,
          0.01219056876179996,
          0.014942474478202204,
          0.03695772020942014,
          -0.02083229983502694,
          -0.034591828417038145,
          -0.008448724111216851,
          0.039709625925822375,
          -0.004320865536613489,
          0.020446285911006685,
          0.08511607024645937,
          -0.037343734133440394,
          0.03145390877661565,
          0.001182945896190995,
          0.013566521620001083,
          -0.02358420555142918,
          0.1332744202834986,
          -0.02358420555142918,
          -0.008448724111216851,
          0.027326050202012293,
          -0.037343734133440394,
          -0.08825398988688185,
          0.02182223876920781,
          0.06172487165704031,
          0.05897296594063807,
          -0.013952535544021335,
          -0.07587041416307178,
          0.03833367306762126,
          -0.07174255558846841,
          -0.09650970703608859,
          -0.0318399227006359,
          0.020446285911006685,
          0.02319819162740893,
          0.024574144485610048,
          0.020446285911006685,
          -0.011200629827619093,
          0.045213437358626866,
          0.06447677737344255,
          -0.004320865536613489,
          -0.0249601584096303,
          -0.019456346976825818,
          0.039709625925822375,
          -0.07587041416307178,
          0.0741084473808504,
          -0.0029449126784123676,
          -0.018080394118624697,
          -0.07999827273767514,
          0.019070333052805567,
          0.06998058880624704,
          -0.051103262715451604,
          0.02595009734381117,
          0.03282986163481677,
          -0.008448724111216851,
          -0.05523112129005496,
          0.04383748450042574,
          0.05209320164963247,
          -0.009824676969417972,
          0.126394655992493,
          0.039709625925822375,
          -0.027712064126032544,
          -0.016704441260423575,
          0.024574144485610048,
          0.01219056876179996,
          0.017694380194604446,
          -0.051103262715451604,
          0.05484510736603471,
          -0.0249601584096303,
          0.04934129593323023,
          -0.001568959820211247,
          -0.046975404140848234,
          -0.034591828417038145,
          0.053469154507833586,
          0.04658939021682799,
          -0.005696818394814609,
          -0.06623874415566393,
          -0.04835135699904936,
          -0.015328488402222454,
          -0.05385516843185383,
          -0.0579830270064572,
          -0.04972730985725048,
          -0.04009563984984263,
          -0.0249601584096303,
          -0.00019300696201012598,
          -0.00019300696201012598,
          0.003934851612593237,
          0.15391371315651542,
          0.0080627101871966,
          0.039709625925822375,
          -0.02358420555142918,
          0.006686757328995478,
          -0.05935897986465832,
          0.07961225881365488,
          -0.00019300696201012598,
          -0.035967781275239266,
          0.08374011738825825,
          -0.009824676969417972,
          0.014942474478202204,
          -0.08687803702868073,
          -0.033215875558837024,
          -0.04972730985725048,
          -0.05660707414825608,
          0.07961225881365488,
          0.0025588987543921156,
          0.1277706088506941,
          0.04796534307502911,
          -0.013952535544021335,
          0.06034891879883919,
          0.024574144485610048,
          0.05209320164963247,
          0.04934129593323023,
          -0.007072771253015731,
          -0.029088016984233665,
          -0.007072771253015731,
          0.006686757328995478,
          -0.013952535544021335,
          0.0080627101871966,
          0.03558176735121902,
          0.016318427336403322,
          -0.046975404140848234,
          -0.04559945128264711,
          0.001182945896190995,
          -0.008448724111216851,
          0.07548440023905152,
          0.020446285911006685,
          0.04246153164222462,
          -0.037343734133440394,
          -0.04284754556624487,
          -0.07587041416307178,
          0.0741084473808504,
          -0.007072771253015731,
          -0.02220825269322806,
          0.12501870313429186,
          -0.05385516843185383,
          -0.007072771253015731,
          -0.026336111267831423,
          0.017694380194604446,
          -0.0249601584096303,
          0.08786797596286161,
          -0.04422349842444599,
          -0.06623874415566393,
          0.01219056876179996,
          -0.033215875558837024,
          0.12501870313429186,
          0.04383748450042574,
          0.053469154507833586,
          0.001182945896190995,
          0.06172487165704031,
          -0.04972730985725048,
          0.020446285911006685,
          -0.016704441260423575,
          -0.005696818394814609,
          -0.026336111267831423,
          -0.038719686991641515,
          -0.0910058956032841,
          -0.035967781275239266,
          -0.004320865536613489,
          0.027326050202012293,
          0.030077955918414535,
          0.05759701308243695,
          0.07686035309725264,
          -0.008448724111216851,
          -0.038719686991641515,
          0.024574144485610048,
          -0.07311850844666953,
          0.07961225881365488,
          -0.001568959820211247,
          0.045213437358626866,
          -0.02083229983502694,
          0.03282986163481677,
          -0.009824676969417972,
          0.03145390877661565,
          0.001182945896190995,
          0.0672286830898448,
          0.030077955918414535,
          -0.018080394118624697,
          0.08236416453005713,
          0.05484510736603471,
          0.024574144485610048,
          0.06034891879883919,
          0.07823630595545376,
          0.07273249452264928,
          -0.007072771253015731,
          0.024574144485610048,
          -0.029088016984233665,
          -0.027712064126032544,
          -0.0029449126784123676,
          -0.07036660273026729,
          -0.011200629827619093,
          -0.016704441260423575,
          -0.07174255558846841,
          0.001182945896190995,
          0.09199583453746497,
          -0.011200629827619093,
          0.001182945896190995,
          0.07548440023905152,
          -0.009824676969417972,
          -0.02220825269322806,
          -0.007072771253015731,
          0.003934851612593237,
          0.04934129593323023,
          0.04246153164222462,
          0.1277706088506941,
          -0.012576582685820214,
          -0.004320865536613489,
          -0.09650970703608859,
          0.01219056876179996,
          -0.08137422559587626,
          -0.051103262715451604,
          0.08924392882106273,
          0.10988322169407955,
          -0.037343734133440394,
          0.0080627101871966,
          -0.016704441260423575,
          -0.035967781275239266,
          0.006686757328995478,
          -0.013952535544021335,
          -0.04284754556624487,
          -0.035967781275239266,
          -0.046975404140848234,
          -0.009824676969417972,
          0.00943866304539772,
          0.041085578784023497,
          0.030077955918414535,
          0.02182223876920781,
          -0.0249601584096303,
          -0.001568959820211247,
          0.05071724879143135,
          0.013566521620001083,
          -0.06623874415566393,
          -0.06348683843926169,
          0.03558176735121902,
          0.11951489170148738,
          0.014942474478202204,
          -0.005696818394814609,
          -0.10889328275989867,
          -0.060734932722859444,
          -0.04284754556624487,
          -0.02358420555142918,
          -0.0318399227006359,
          0.0933717873956661,
          -0.06348683843926169,
          -0.008448724111216851,
          -0.04972730985725048,
          -0.007072771253015731,
          -0.011200629827619093,
          0.017694380194604446,
          -0.05935897986465832,
          0.02182223876920781,
          -0.029088016984233665,
          0.01219056876179996,
          -0.007072771253015731,
          -0.06348683843926169,
          -0.046975404140848234,
          0.041085578784023497,
          0.016318427336403322,
          -0.018080394118624697,
          -0.034591828417038145,
          -0.004320865536613489,
          -0.005696818394814609,
          -0.033215875558837024,
          -0.10476542418529532,
          -0.037343734133440394,
          0.0080627101871966,
          0.03145390877661565,
          0.05622106022423583,
          0.04796534307502911,
          -0.07311850844666953,
          0.014942474478202204,
          0.010814615903598841,
          0.10988322169407955,
          0.02595009734381117,
          -0.0029449126784123676,
          -0.015328488402222454,
          0.09887559882847057,
          -0.06623874415566393,
          0.001182945896190995,
          0.039709625925822375,
          0.07823630595545376,
          0.03833367306762126,
          -0.016704441260423575,
          -0.10063756561069194,
          0.05759701308243695,
          -0.07311850844666953,
          0.03558176735121902,
          0.04658939021682799,
          0.02182223876920781,
          -0.037343734133440394,
          0.05759701308243695,
          0.04658939021682799,
          0.005310804470794357,
          -0.016704441260423575,
          -0.0249601584096303,
          -0.005696818394814609,
          0.04934129593323023,
          -0.037343734133440394,
          0.016318427336403322,
          0.08374011738825825
         ],
         "xaxis": "x5",
         "y": [
          151,
          75,
          141,
          206,
          135,
          97,
          138,
          63,
          110,
          310,
          101,
          69,
          179,
          185,
          118,
          171,
          166,
          144,
          97,
          168,
          68,
          49,
          68,
          245,
          184,
          202,
          137,
          85,
          131,
          283,
          129,
          59,
          341,
          87,
          65,
          102,
          265,
          276,
          252,
          90,
          100,
          55,
          61,
          92,
          259,
          53,
          190,
          142,
          75,
          142,
          155,
          225,
          59,
          104,
          182,
          128,
          52,
          37,
          170,
          170,
          61,
          144,
          52,
          128,
          71,
          163,
          150,
          97,
          160,
          178,
          48,
          270,
          202,
          111,
          85,
          42,
          170,
          200,
          252,
          113,
          143,
          51,
          52,
          210,
          65,
          141,
          55,
          134,
          42,
          111,
          98,
          164,
          48,
          96,
          90,
          162,
          150,
          279,
          92,
          83,
          128,
          102,
          302,
          198,
          95,
          53,
          134,
          144,
          232,
          81,
          104,
          59,
          246,
          297,
          258,
          229,
          275,
          281,
          179,
          200,
          200,
          173,
          180,
          84,
          121,
          161,
          99,
          109,
          115,
          268,
          274,
          158,
          107,
          83,
          103,
          272,
          85,
          280,
          336,
          281,
          118,
          317,
          235,
          60,
          174,
          259,
          178,
          128,
          96,
          126,
          288,
          88,
          292,
          71,
          197,
          186,
          25,
          84,
          96,
          195,
          53,
          217,
          172,
          131,
          214,
          59,
          70,
          220,
          268,
          152,
          47,
          74,
          295,
          101,
          151,
          127,
          237,
          225,
          81,
          151,
          107,
          64,
          138,
          185,
          265,
          101,
          137,
          143,
          141,
          79,
          292,
          178,
          91,
          116,
          86,
          122,
          72,
          129,
          142,
          90,
          158,
          39,
          196,
          222,
          277,
          99,
          196,
          202,
          155,
          77,
          191,
          70,
          73,
          49,
          65,
          263,
          248,
          296,
          214,
          185,
          78,
          93,
          252,
          150,
          77,
          208,
          77,
          108,
          160,
          53,
          220,
          154,
          259,
          90,
          246,
          124,
          67,
          72,
          257,
          262,
          275,
          177,
          71,
          47,
          187,
          125,
          78,
          51,
          258,
          215,
          303,
          243,
          91,
          150,
          310,
          153,
          346,
          63,
          89,
          50,
          39,
          103,
          308,
          116,
          145,
          74,
          45,
          115,
          264,
          87,
          202,
          127,
          182,
          241,
          66,
          94,
          283,
          64,
          102,
          200,
          265,
          94,
          230,
          181,
          156,
          233,
          60,
          219,
          80,
          68,
          332,
          248,
          84,
          200,
          55,
          85,
          89,
          31,
          129,
          83,
          275,
          65,
          198,
          236,
          253,
          124,
          44,
          172,
          114,
          142,
          109,
          180,
          144,
          163,
          147,
          97,
          220,
          190,
          109,
          191,
          122,
          230,
          242,
          248,
          249,
          192,
          131,
          237,
          78,
          135,
          244,
          199,
          270,
          164,
          72,
          96,
          306,
          91,
          214,
          95,
          216,
          263,
          178,
          113,
          200,
          139,
          139,
          88,
          148,
          88,
          243,
          71,
          77,
          109,
          272,
          60,
          54,
          221,
          90,
          311,
          281,
          182,
          321,
          58,
          262,
          206,
          233,
          242,
          123,
          167,
          63,
          197,
          71,
          168,
          140,
          217,
          121,
          235,
          245,
          40,
          52,
          104,
          132,
          88,
          69,
          219,
          72,
          201,
          110,
          51,
          277,
          63,
          118,
          69,
          273,
          258,
          43,
          198,
          242,
          232,
          175,
          93,
          168,
          275,
          293,
          281,
          72,
          140,
          189,
          181,
          209,
          136,
          261,
          113,
          131,
          174,
          257,
          55,
          84,
          42,
          146,
          212,
          233,
          91,
          111,
          152,
          120,
          67,
          310,
          94,
          183,
          66,
          173,
          72,
          49,
          64,
          48,
          178,
          104,
          132,
          220,
          57
         ],
         "yaxis": "y5"
        },
        {
         "mode": "markers",
         "type": "scatter",
         "x": [
          -0.03482076283769895,
          -0.019163339748222204,
          -0.03419446591411989,
          0.02499059336410222,
          0.015596139510416171,
          -0.07928784441181291,
          -0.02480001206043385,
          0.10891438112369757,
          0.0062016856567301245,
          -0.034507614375909414,
          -0.09056118903623617,
          0.045971540304001066,
          -0.009768885894536158,
          -0.015718706668537318,
          -0.00006128357906057276,
          0.10766178727653941,
          -0.02386056667506523,
          0.04941617338368593,
          -0.019476488210011744,
          -0.011334628203483833,
          -0.043275771306016404,
          -0.02636575436938152,
          0.0077674279656778,
          -0.04734670130928034,
          -0.018850191286432668,
          0.00463594334778245,
          -0.09619786134844781,
          -0.04358891976780594,
          -0.03763909899380476,
          -0.09588471288665826,
          -0.007576846662009428,
          -0.05360967054507104,
          -0.012900370512431508,
          -0.0899348921126571,
          -0.048912443618228024,
          -0.004132213582324539,
          -0.02855779360190825,
          -0.04296262284422686,
          0.07540749571221732,
          0.0062016856567301245,
          0.07321545647969056,
          -0.07271172671423268,
          -0.02354741821327569,
          -0.010082034356325698,
          0.00463594334778245,
          0.0015044587298871017,
          -0.047659849771069886,
          -0.07427746902318036,
          0.0058885371949405855,
          0.0062016856567301245,
          -0.03732595053201525,
          -0.02918409052548733,
          0.04471894645684291,
          0.022172257207996385,
          0.017788178742942903,
          -0.022607972827907094,
          -0.030436684372645465,
          -0.1043397213549757,
          -0.05799374901012452,
          0.048476727998317336,
          -0.07866154748823384,
          -0.02730519975475012,
          -0.013839815897800126,
          0.043466352609684754,
          -0.05987263978086174,
          0.014969842586837095,
          0.012151506430731283,
          0.008393724889256856,
          -0.02417371513685477,
          -0.06143838208980942,
          -0.009142588970957101,
          0.02624318721126033,
          0.04878987646010685,
          0.05317395492516036,
          0.017161881819363848,
          -0.0010007289644291908,
          -0.10684490904929198,
          -0.02761834821653966,
          -0.0683276482491792,
          0.019980217975469634,
          0.053487103386949876,
          0.02843522644378708,
          0.017161881819363848,
          -0.05298337362149199,
          -0.03012353591085593,
          -0.0010007289644291908,
          -0.015092409744958261,
          0.01622243643399523,
          -0.037012802070225705,
          -0.016031855130326858,
          -0.045154662076753616,
          0.06476044801137316,
          -0.02072908205716988,
          -0.015405558206747801,
          -0.013526667436010586,
          -0.02887094206369779,
          -0.012274073588852453,
          0.04252690722431616,
          -0.013839815897800126,
          0.03751653183568362,
          0.04440579799505339,
          -0.00037443204085011215,
          0.02499059336410222,
          0.0707102687853743,
          -0.017284448977484993,
          -0.0216685274425385,
          -0.03482076283769895,
          0.04064801645357896,
          -0.0558017097775978,
          0.03751653183568362,
          -0.04014428668812105,
          0.01027261565999407,
          0.019667069513680118,
          0.020293366437259194,
          -0.03294187206696173,
          0.04941617338368593,
          0.020606514899048713,
          0.031566711061682434,
          0.04002171952999989,
          -0.04296262284422686,
          -0.01853704282464315,
          0.02154596028441731,
          0.06413415108779408,
          0.19878798965729408,
          -0.038891692840962916,
          -0.06363042132233616,
          -0.054549115930439665,
          0.013717248739678958,
          -0.005071658967693135,
          0.01058576412178361,
          -0.0047585105059035964,
          -0.010708331279904778,
          0.047850431074738256,
          -0.07177228132886408,
          0.00025186488272894433,
          -0.04296262284422686,
          -0.06801449978738965,
          -0.016345003592116398,
          -0.033881317452330355,
          -0.048912443618228024,
          -0.0013138774262187302,
          0.057244884928424306,
          0.04440579799505339,
          0.006827982580309182,
          0.05066876723084409,
          -0.03262872360517222,
          0.031566711061682434,
          0.023424851055154544,
          0.04816357953652778,
          -0.02041593359538034,
          -0.014466112821379181,
          -0.02386056667506523,
          0.06695248724389988,
          0.01622243643399523,
          0.02624318721126033,
          0.08636769187485104,
          -0.035760208223067566,
          0.042840055686105716,
          0.016848733357574308,
          0.0071411310420987206,
          -0.013213518974221048,
          0.1314610703725441,
          -0.011334628203483833,
          0.0055753887331510465,
          -0.013526667436010586,
          -0.043275771306016404,
          -0.07083283594349546,
          0.0015044587298871017,
          0.0631947057024255,
          -0.016031855130326858,
          -0.015092409744958261,
          -0.05987263978086174,
          0.01590928797220569,
          -0.06644875747844198,
          -0.09463211903950011,
          -0.02636575436938152,
          0.025930038749470818,
          0.018414475666521983,
          0.01622243643399523,
          0.04127431337715804,
          0.0058885371949405855,
          0.05004247030726501,
          0.08918602803095686,
          -0.0016270258880082473,
          -0.02605260590759198,
          -0.02480001206043385,
          0.05755803339021383,
          -0.08210618056791873,
          0.0707102687853743,
          0.003070201038834776,
          -0.005071658967693135,
          -0.07615635979391756,
          0.02123281182262779,
          0.08386250418053477,
          -0.049538740541807104,
          0.048476727998317336,
          0.03626393798852546,
          0.013404100277889418,
          -0.033881317452330355,
          -0.015718706668537318,
          0.049103024921896415,
          -0.007889995123798945,
          0.09106491880169407,
          0.056618588004845226,
          -0.007263698200219888,
          -0.047033552847490806,
          0.03845597722105221,
          -0.013839815897800126,
          0.037829680297473134,
          -0.016658152053905938,
          0.04722413415115918,
          -0.016658152053905938,
          0.03125356259989291,
          -0.0010007289644291908,
          -0.08116673518255012,
          -0.032002426681593144,
          0.07415490186505921,
          0.03689023491210454,
          0.014343545663258015,
          -0.07427746902318036,
          -0.033255020528751275,
          0.0008781618063080231,
          -0.047659849771069886,
          -0.06018578824265128,
          -0.041396880535279186,
          -0.04358891976780594,
          -0.02480001206043385,
          -0.015718706668537318,
          0.008080576427467316,
          -0.0006875805026396515,
          0.1558866503921278,
          0.008706873351046395,
          0.057244884928424306,
          -0.034507614375909414,
          -0.02417371513685477,
          -0.034507614375909414,
          0.0707102687853743,
          -0.0010007289644291908,
          -0.007576846662009428,
          0.03876912568284173,
          -0.002253322811587326,
          0.02749578105841849,
          -0.06770135132560012,
          -0.016031855130326858,
          -0.048912443618228024,
          -0.0586200459337036,
          0.05098191569263361,
          -0.01853704282464315,
          0.1280164372928592,
          0.02937467182915568,
          -0.03920484130275244,
          0.04878987646010685,
          0.052860806463370796,
          0.056618588004845226,
          -0.012274073588852453,
          -0.019476488210011744,
          -0.019789636671801284,
          -0.02354741821327569,
          0.052860806463370796,
          0.01293437758520512,
          -0.031376129758014064,
          -0.02573945744580244,
          0.017475030281153364,
          -0.03262872360517222,
          -0.009768885894536158,
          -0.0028796197351664047,
          -0.03669965360843617,
          0.07947842571548126,
          0.03751653183568362,
          -0.010395182818115238,
          -0.04734670130928034,
          -0.02104223051895942,
          -0.06644875747844198,
          0.032819304908840594,
          -0.003192768196955922,
          -0.015405558206747801,
          0.09169121572527314,
          -0.07803525056465478,
          0.019667069513680118,
          -0.02636575436938152,
          0.01058576412178361,
          -0.030436684372645465,
          0.10296456034969638,
          -0.036386505146646625,
          -0.045154662076753616,
          0.02123281182262779,
          -0.08649025903297221,
          0.1251981011367534,
          0.05630543954305571,
          0.05317395492516036,
          0.016848733357574308,
          0.042840055686105716,
          -0.06864079671096873,
          0.04252690722431616,
          0.017788178742942903,
          -0.012900370512431508,
          -0.02448686359864431,
          -0.02448686359864431,
          -0.07553006287033849,
          -0.021981675904328014,
          -0.013526667436010586,
          0.03000096875273476,
          0.02718263259662897,
          0.020293366437259194,
          0.11642994420664642,
          0.01622243643399523,
          -0.02480001206043385,
          0.03563764106494638,
          -0.08147988364433965,
          0.07008397186179521,
          0.014969842586837095,
          0.06068951800810917,
          -0.014152964359589643,
          0.019667069513680118,
          -0.0010007289644291908,
          0.020606514899048713,
          -0.02135537898074896,
          0.07415490186505921,
          0.008706873351046395,
          -0.054549115930439665,
          0.09200436418706266,
          0.036577086450315016,
          -0.03607335668485709,
          -0.004445362044114079,
          0.0779126834065336,
          0.056618588004845226,
          0.0011913102680975625,
          0.02499059336410222,
          -0.023234269751486174,
          -0.02918409052548733,
          0.03689023491210454,
          -0.046407255923911754,
          -0.011334628203483833,
          -0.0016270258880082473,
          -0.05768060054833501,
          -0.0066374012766408095,
          0.08949917649274639,
          0.0071411310420987206,
          0.024051147978733624,
          0.056618588004845226,
          -0.0038190651205350003,
          0.0011913102680975625,
          0.018101327204732443,
          0.008706873351046395,
          0.0644472995495836,
          0.057871181852003385,
          0.12739014036928015,
          -0.012587222050641968,
          -0.02949723898727687,
          -0.047033552847490806,
          -0.017597597439274533,
          -0.06958024209633733,
          -0.09713730673381639,
          -0.003192768196955922,
          0.08887287956916731,
          -0.0216685274425385,
          0.01622243643399523,
          -0.03012353591085593,
          -0.03419446591411989,
          0.017475030281153364,
          -0.013213518974221048,
          -0.048286146694648965,
          -0.02667890283117104,
          -0.02824464514011871,
          0.004949091809571968,
          0.0052622402713615075,
          0.03187985952347199,
          0.03375875029420919,
          -0.010082034356325698,
          -0.0038190651205350003,
          -0.012587222050641968,
          -0.019163339748222204,
          0.012777803354310339,
          -0.05705430362475593,
          -0.07051968748170592,
          0.02248540566978595,
          0.13020847652538595,
          0.04471894645684291,
          0.010898912583573148,
          -0.11561306597939897,
          -0.044215216691385,
          -0.02573945744580244,
          -0.07271172671423268,
          -0.02887094206369779,
          0.08699398879843012,
          -0.06112523362801988,
          -0.017597597439274533,
          -0.017284448977484993,
          -0.005071658967693135,
          -0.016658152053905938,
          -0.023234269751486174,
          -0.05047818592717569,
          0.036577086450315016,
          -0.023234269751486174,
          -0.054549115930439665,
          -0.0216685274425385,
          -0.05423596746865012,
          -0.05830689747191407,
          0.032193007985261514,
          0.011838357968941744,
          -0.03544705976127803,
          -0.053922819006860585,
          0.020293366437259194,
          -0.02386056667506523,
          -0.0279314966783292,
          -0.10089508827529081,
          -0.037012802070225705,
          0.039708571068210366,
          0.019353921051890578,
          0.07290230801790105,
          0.037203383373894054,
          -0.07239857825244314,
          0.013090951816099879,
          0.0071411310420987206,
          0.11705624113022545,
          0.04722413415115918,
          0.018101327204732443,
          -0.0013138774262187302,
          0.0941964034195894,
          -0.05736745208654548,
          0.034698195679577784,
          0.04503209491863242,
          0.0644472995495836,
          0.07352860494148013,
          -0.0038190651205350003,
          -0.11279472982329314,
          0.0688313780146371,
          -0.06269097593696756,
          0.02154596028441731,
          0.041587461838947556,
          0.04534524338042199,
          -0.047033552847490806,
          0.04471894645684291,
          0.019980217975469634,
          0.010898912583573148,
          0.00463594334778245,
          -0.047033552847490806,
          -0.0025664712733768653,
          0.07916527725369175,
          -0.013839815897800126,
          0.015282991048626631,
          0.027808929520208008
         ],
         "xaxis": "x6",
         "y": [
          151,
          75,
          141,
          206,
          135,
          97,
          138,
          63,
          110,
          310,
          101,
          69,
          179,
          185,
          118,
          171,
          166,
          144,
          97,
          168,
          68,
          49,
          68,
          245,
          184,
          202,
          137,
          85,
          131,
          283,
          129,
          59,
          341,
          87,
          65,
          102,
          265,
          276,
          252,
          90,
          100,
          55,
          61,
          92,
          259,
          53,
          190,
          142,
          75,
          142,
          155,
          225,
          59,
          104,
          182,
          128,
          52,
          37,
          170,
          170,
          61,
          144,
          52,
          128,
          71,
          163,
          150,
          97,
          160,
          178,
          48,
          270,
          202,
          111,
          85,
          42,
          170,
          200,
          252,
          113,
          143,
          51,
          52,
          210,
          65,
          141,
          55,
          134,
          42,
          111,
          98,
          164,
          48,
          96,
          90,
          162,
          150,
          279,
          92,
          83,
          128,
          102,
          302,
          198,
          95,
          53,
          134,
          144,
          232,
          81,
          104,
          59,
          246,
          297,
          258,
          229,
          275,
          281,
          179,
          200,
          200,
          173,
          180,
          84,
          121,
          161,
          99,
          109,
          115,
          268,
          274,
          158,
          107,
          83,
          103,
          272,
          85,
          280,
          336,
          281,
          118,
          317,
          235,
          60,
          174,
          259,
          178,
          128,
          96,
          126,
          288,
          88,
          292,
          71,
          197,
          186,
          25,
          84,
          96,
          195,
          53,
          217,
          172,
          131,
          214,
          59,
          70,
          220,
          268,
          152,
          47,
          74,
          295,
          101,
          151,
          127,
          237,
          225,
          81,
          151,
          107,
          64,
          138,
          185,
          265,
          101,
          137,
          143,
          141,
          79,
          292,
          178,
          91,
          116,
          86,
          122,
          72,
          129,
          142,
          90,
          158,
          39,
          196,
          222,
          277,
          99,
          196,
          202,
          155,
          77,
          191,
          70,
          73,
          49,
          65,
          263,
          248,
          296,
          214,
          185,
          78,
          93,
          252,
          150,
          77,
          208,
          77,
          108,
          160,
          53,
          220,
          154,
          259,
          90,
          246,
          124,
          67,
          72,
          257,
          262,
          275,
          177,
          71,
          47,
          187,
          125,
          78,
          51,
          258,
          215,
          303,
          243,
          91,
          150,
          310,
          153,
          346,
          63,
          89,
          50,
          39,
          103,
          308,
          116,
          145,
          74,
          45,
          115,
          264,
          87,
          202,
          127,
          182,
          241,
          66,
          94,
          283,
          64,
          102,
          200,
          265,
          94,
          230,
          181,
          156,
          233,
          60,
          219,
          80,
          68,
          332,
          248,
          84,
          200,
          55,
          85,
          89,
          31,
          129,
          83,
          275,
          65,
          198,
          236,
          253,
          124,
          44,
          172,
          114,
          142,
          109,
          180,
          144,
          163,
          147,
          97,
          220,
          190,
          109,
          191,
          122,
          230,
          242,
          248,
          249,
          192,
          131,
          237,
          78,
          135,
          244,
          199,
          270,
          164,
          72,
          96,
          306,
          91,
          214,
          95,
          216,
          263,
          178,
          113,
          200,
          139,
          139,
          88,
          148,
          88,
          243,
          71,
          77,
          109,
          272,
          60,
          54,
          221,
          90,
          311,
          281,
          182,
          321,
          58,
          262,
          206,
          233,
          242,
          123,
          167,
          63,
          197,
          71,
          168,
          140,
          217,
          121,
          235,
          245,
          40,
          52,
          104,
          132,
          88,
          69,
          219,
          72,
          201,
          110,
          51,
          277,
          63,
          118,
          69,
          273,
          258,
          43,
          198,
          242,
          232,
          175,
          93,
          168,
          275,
          293,
          281,
          72,
          140,
          189,
          181,
          209,
          136,
          261,
          113,
          131,
          174,
          257,
          55,
          84,
          42,
          146,
          212,
          233,
          91,
          111,
          152,
          120,
          67,
          310,
          94,
          183,
          66,
          173,
          72,
          49,
          64,
          48,
          178,
          104,
          132,
          220,
          57
         ],
         "yaxis": "y6"
        },
        {
         "mode": "markers",
         "type": "scatter",
         "x": [
          -0.04340084565202491,
          0.07441156407875721,
          -0.03235593223976409,
          -0.036037570043851025,
          0.008142083605192267,
          0.04127682384197474,
          0.0007788079970183853,
          0.022868634821540033,
          -0.028674294435677143,
          -0.024992656631590206,
          -0.01394774321932938,
          -0.06549067247654655,
          0.04495846164606168,
          -0.002902829807068556,
          0.0817748396869311,
          -0.03971920784793797,
          0.07441156407875721,
          -0.03971920784793797,
          -0.028674294435677143,
          0.0375951860378878,
          0.0007788079970183853,
          0.01550535921336615,
          0.022868634821540033,
          -0.05444575906428573,
          -0.006584467611155497,
          -0.05812739686837268,
          0.026550272625626974,
          0.01182372140927921,
          -0.006584467611155497,
          0.05232173725423556,
          0.022868634821540033,
          0.059685012862409445,
          -0.10230705051741597,
          0.1185912177278005,
          0.008142083605192267,
          0.13331776894414826,
          0.0375951860378878,
          0.030231910429713918,
          -0.02131101882750326,
          -0.01394774321932938,
          -0.024992656631590206,
          0.01550535921336615,
          -0.05812739686837268,
          0.1185912177278005,
          -0.07653558588880739,
          -0.010266105415242439,
          0.0044604458011053266,
          -0.024992656631590206,
          0.04127682384197474,
          -0.07285394808472044,
          -0.002902829807068556,
          -0.028674294435677143,
          0.026550272625626974,
          0.01550535921336615,
          0.05232173725423556,
          0.08545647749101803,
          -0.036037570043851025,
          0.05232173725423556,
          0.18117906039727852,
          0.030231910429713918,
          0.05232173725423556,
          -0.08021722369289432,
          0.059685012862409445,
          -0.01394774321932938,
          -0.002902829807068556,
          -0.05444575906428573,
          -0.07285394808472044,
          -0.01394774321932938,
          -0.010266105415242439,
          -0.01394774321932938,
          0.07072992627467027,
          -0.010266105415242439,
          0.05600337505832251,
          -0.006584467611155497,
          0.04127682384197474,
          -0.02131101882750326,
          -0.05444575906428573,
          0.01550535921336615,
          -0.05444575906428573,
          0.01182372140927921,
          0.05232173725423556,
          -0.02131101882750326,
          0.10018302870736581,
          -0.010266105415242439,
          0.04495846164606168,
          0.01550535921336615,
          -0.03971920784793797,
          0.09650139090327886,
          0.0375951860378878,
          0.06704828847058333,
          0.07809320188284416,
          -0.010266105415242439,
          0.06336665066649638,
          0.06336665066649638,
          0.07072992627467027,
          -0.04340084565202491,
          -0.04340084565202491,
          -0.03235593223976409,
          0.008142083605192267,
          -0.01394774321932938,
          0.030231910429713918,
          0.06336665066649638,
          0.05600337505832251,
          -0.036037570043851025,
          0.022868634821540033,
          -0.01394774321932938,
          0.008142083605192267,
          -0.05812739686837268,
          -0.07285394808472044,
          -0.05444575906428573,
          0.030231910429713918,
          0.06704828847058333,
          -0.002902829807068556,
          -0.04708248345611185,
          -0.024992656631590206,
          -0.04708248345611185,
          -0.02131101882750326,
          -0.04708248345611185,
          -0.03971920784793797,
          0.033913548233800855,
          -0.01762938102341632,
          -0.036037570043851025,
          -0.05444575906428573,
          -0.06180903467245962,
          0.022868634821540033,
          -0.036037570043851025,
          0.04127682384197474,
          0.07809320188284416,
          0.030231910429713918,
          -0.028674294435677143,
          -0.006584467611155497,
          0.01550535921336615,
          0.0007788079970183853,
          -0.002902829807068556,
          0.06336665066649638,
          -0.07285394808472044,
          0.04864009945014862,
          -0.006584467611155497,
          -0.02131101882750326,
          -0.028674294435677143,
          -0.04340084565202491,
          -0.08021722369289432,
          0.0044604458011053266,
          0.07441156407875721,
          -0.05812739686837268,
          0.01182372140927921,
          -0.04340084565202491,
          -0.028674294435677143,
          0.019186997017453092,
          -0.0691723102806335,
          -0.03235593223976409,
          0.05232173725423556,
          -0.06549067247654655,
          -0.01394774321932938,
          -0.002902829807068556,
          -0.002902829807068556,
          0.01182372140927921,
          -0.01394774321932938,
          -0.002902829807068556,
          -0.01394774321932938,
          0.0044604458011053266,
          -0.03971920784793797,
          -0.002902829807068556,
          -0.006584467611155497,
          0.10018302870736581,
          0.04864009945014862,
          -0.01394774321932938,
          -0.036037570043851025,
          -0.05812739686837268,
          -0.04708248345611185,
          0.059685012862409445,
          -0.01762938102341632,
          -0.01762938102341632,
          -0.010266105415242439,
          -0.03971920784793797,
          0.008142083605192267,
          0.008142083605192267,
          -0.06180903467245962,
          0.07072992627467027,
          -0.04340084565202491,
          -0.04708248345611185,
          0.033913548233800855,
          -0.03971920784793797,
          -0.010266105415242439,
          -0.03235593223976409,
          -0.06549067247654655,
          -0.0691723102806335,
          0.04864009945014862,
          0.04495846164606168,
          0.01182372140927921,
          -0.04708248345611185,
          -0.03235593223976409,
          0.033913548233800855,
          -0.03971920784793797,
          -0.010266105415242439,
          -0.03971920784793797,
          0.0375951860378878,
          -0.05444575906428573,
          -0.01394774321932938,
          0.0375951860378878,
          0.05600337505832251,
          0.0375951860378878,
          0.019186997017453092,
          -0.03971920784793797,
          -0.04708248345611185,
          0.0007788079970183853,
          -0.02131101882750326,
          0.026550272625626974,
          -0.028674294435677143,
          -0.07653558588880739,
          0.07072992627467027,
          0.0007788079970183853,
          0.07072992627467027,
          0.026550272625626974,
          0.10386466651145274,
          -0.04340084565202491,
          -0.0691723102806335,
          0.01550535921336615,
          -0.04340084565202491,
          0.008142083605192267,
          0.01182372140927921,
          -0.03235593223976409,
          -0.02131101882750326,
          0.01182372140927921,
          0.0007788079970183853,
          -0.0691723102806335,
          0.030231910429713918,
          0.07441156407875721,
          0.01182372140927921,
          0.04127682384197474,
          0.0007788079970183853,
          0.0044604458011053266,
          -0.03971920784793797,
          0.04864009945014862,
          0.008142083605192267,
          -0.06180903467245962,
          0.01550535921336615,
          0.04495846164606168,
          -0.07653558588880739,
          0.06336665066649638,
          -0.04340084565202491,
          0.008142083605192267,
          -0.01762938102341632,
          -0.010266105415242439,
          0.022868634821540033,
          0.030231910429713918,
          0.05600337505832251,
          0.07072992627467027,
          -0.024992656631590206,
          -0.01762938102341632,
          -0.03235593223976409,
          -0.05812739686837268,
          -0.04340084565202491,
          -0.01762938102341632,
          -0.036037570043851025,
          0.04127682384197474,
          -0.04708248345611185,
          0.05232173725423556,
          -0.0691723102806335,
          -0.026833475533633678,
          0.151725957964583,
          0.17749742259319157,
          -0.02131101882750326,
          0.0044604458011053266,
          -0.050764121260198795,
          0.008142083605192267,
          0.12227285553188745,
          0.0044604458011053266,
          -0.050764121260198795,
          0.15908923357275687,
          0.01550535921336615,
          -0.03971920784793797,
          -0.02131101882750326,
          -0.036037570043851025,
          -0.01394774321932938,
          -0.02131101882750326,
          0.06336665066649638,
          0.06704828847058333,
          -0.05444575906428573,
          0.01550535921336615,
          0.019186997017453092,
          -0.006584467611155497,
          0.01182372140927921,
          0.019186997017453092,
          -0.06180903467245962,
          -0.07653558588880739,
          0.14068104455232217,
          0.019186997017453092,
          0.0375951860378878,
          -0.04340084565202491,
          -0.05444575906428573,
          0.008142083605192267,
          0.07809320188284416,
          0.0007788079970183853,
          -0.03235593223976409,
          0.01182372140927921,
          0.033913548233800855,
          0.0044604458011053266,
          -0.03235593223976409,
          -0.01394774321932938,
          -0.01394774321932938,
          0.030231910429713918,
          -0.002902829807068556,
          0.022868634821540033,
          -0.03971920784793797,
          -0.06549067247654655,
          -0.006584467611155497,
          -0.028674294435677143,
          0.04495846164606168,
          0.033913548233800855,
          -0.01394774321932938,
          -0.02131101882750326,
          0.01550535921336615,
          -0.010266105415242439,
          -0.002902829807068556,
          0.05600337505832251,
          -0.03235593223976409,
          -0.006584467611155497,
          0.06336665066649638,
          0.06336665066649638,
          -0.01762938102341632,
          -0.07653558588880739,
          -0.09126213710515514,
          -0.05444575906428573,
          -0.04340084565202491,
          -0.04340084565202491,
          -0.03971920784793797,
          0.019186997017453092,
          -0.010266105415242439,
          0.019186997017453092,
          -0.06549067247654655,
          -0.03971920784793797,
          -0.05812739686837268,
          -0.05812739686837268,
          -0.006584467611155497,
          0.06336665066649638,
          -0.06180903467245962,
          -0.03971920784793797,
          -0.024992656631590206,
          0.033913548233800855,
          0.019186997017453092,
          -0.03235593223976409,
          -0.03235593223976409,
          0.0375951860378878,
          -0.01394774321932938,
          -0.010266105415242439,
          -0.02131101882750326,
          0.0044604458011053266,
          0.07809320188284416,
          -0.09862541271332903,
          -0.002902829807068556,
          -0.006584467611155497,
          0.1185912177278005,
          0.008142083605192267,
          0.0007788079970183853,
          -0.01394774321932938,
          0.01550535921336615,
          -0.01762938102341632,
          0.04127682384197474,
          -0.024992656631590206,
          -0.006584467611155497,
          0.05232173725423556,
          -0.024992656631590206,
          -0.06549067247654655,
          -0.03971920784793797,
          -0.006584467611155497,
          -0.04340084565202491,
          -0.02131101882750326,
          -0.024992656631590206,
          -0.04340084565202491,
          0.07441156407875721,
          -0.01394774321932938,
          0.026550272625626974,
          -0.002902829807068556,
          0.008142083605192267,
          0.026550272625626974,
          -0.024992656631590206,
          -0.06180903467245962,
          -0.050764121260198795,
          0.022868634821540033,
          -0.01394774321932938,
          -0.03235593223976409,
          -0.04340084565202491,
          0.008142083605192267,
          0.033913548233800855,
          0.0044604458011053266,
          0.05232173725423556,
          -0.028674294435677143,
          -0.02131101882750326,
          0.04864009945014862,
          -0.04708248345611185,
          0.019186997017453092,
          0.01182372140927921,
          0.01550535921336615,
          -0.0691723102806335,
          0.01182372140927921,
          0.019186997017453092,
          -0.01394774321932938,
          -0.002902829807068556,
          -0.01394774321932938,
          0.07072992627467027,
          0.07441156407875721,
          -0.06180903467245962,
          -0.02131101882750326,
          0.008142083605192267,
          -0.0691723102806335,
          0.033913548233800855,
          -0.028674294435677143,
          -0.01762938102341632,
          -0.03971920784793797,
          -0.028674294435677143,
          0.019186997017453092,
          0.01550535921336615,
          0.04864009945014862,
          -0.03235593223976409,
          -0.04340084565202491,
          -0.01762938102341632,
          0.0044604458011053266,
          0.07072992627467027,
          0.01182372140927921,
          -0.04340084565202491,
          -0.04340084565202491,
          0.026550272625626974,
          -0.07285394808472044,
          -0.04708248345611185,
          0.022868634821540033,
          -0.03235593223976409,
          -0.006584467611155497,
          -0.024992656631590206,
          0.05600337505832251,
          -0.028674294435677143,
          0.033913548233800855,
          -0.002902829807068556,
          0.12227285553188745,
          0.030231910429713918,
          -0.01762938102341632,
          0.09281975309919192,
          -0.028674294435677143,
          -0.028674294435677143,
          -0.024992656631590206,
          -0.028674294435677143,
          0.17381578478910462
         ],
         "xaxis": "x7",
         "y": [
          151,
          75,
          141,
          206,
          135,
          97,
          138,
          63,
          110,
          310,
          101,
          69,
          179,
          185,
          118,
          171,
          166,
          144,
          97,
          168,
          68,
          49,
          68,
          245,
          184,
          202,
          137,
          85,
          131,
          283,
          129,
          59,
          341,
          87,
          65,
          102,
          265,
          276,
          252,
          90,
          100,
          55,
          61,
          92,
          259,
          53,
          190,
          142,
          75,
          142,
          155,
          225,
          59,
          104,
          182,
          128,
          52,
          37,
          170,
          170,
          61,
          144,
          52,
          128,
          71,
          163,
          150,
          97,
          160,
          178,
          48,
          270,
          202,
          111,
          85,
          42,
          170,
          200,
          252,
          113,
          143,
          51,
          52,
          210,
          65,
          141,
          55,
          134,
          42,
          111,
          98,
          164,
          48,
          96,
          90,
          162,
          150,
          279,
          92,
          83,
          128,
          102,
          302,
          198,
          95,
          53,
          134,
          144,
          232,
          81,
          104,
          59,
          246,
          297,
          258,
          229,
          275,
          281,
          179,
          200,
          200,
          173,
          180,
          84,
          121,
          161,
          99,
          109,
          115,
          268,
          274,
          158,
          107,
          83,
          103,
          272,
          85,
          280,
          336,
          281,
          118,
          317,
          235,
          60,
          174,
          259,
          178,
          128,
          96,
          126,
          288,
          88,
          292,
          71,
          197,
          186,
          25,
          84,
          96,
          195,
          53,
          217,
          172,
          131,
          214,
          59,
          70,
          220,
          268,
          152,
          47,
          74,
          295,
          101,
          151,
          127,
          237,
          225,
          81,
          151,
          107,
          64,
          138,
          185,
          265,
          101,
          137,
          143,
          141,
          79,
          292,
          178,
          91,
          116,
          86,
          122,
          72,
          129,
          142,
          90,
          158,
          39,
          196,
          222,
          277,
          99,
          196,
          202,
          155,
          77,
          191,
          70,
          73,
          49,
          65,
          263,
          248,
          296,
          214,
          185,
          78,
          93,
          252,
          150,
          77,
          208,
          77,
          108,
          160,
          53,
          220,
          154,
          259,
          90,
          246,
          124,
          67,
          72,
          257,
          262,
          275,
          177,
          71,
          47,
          187,
          125,
          78,
          51,
          258,
          215,
          303,
          243,
          91,
          150,
          310,
          153,
          346,
          63,
          89,
          50,
          39,
          103,
          308,
          116,
          145,
          74,
          45,
          115,
          264,
          87,
          202,
          127,
          182,
          241,
          66,
          94,
          283,
          64,
          102,
          200,
          265,
          94,
          230,
          181,
          156,
          233,
          60,
          219,
          80,
          68,
          332,
          248,
          84,
          200,
          55,
          85,
          89,
          31,
          129,
          83,
          275,
          65,
          198,
          236,
          253,
          124,
          44,
          172,
          114,
          142,
          109,
          180,
          144,
          163,
          147,
          97,
          220,
          190,
          109,
          191,
          122,
          230,
          242,
          248,
          249,
          192,
          131,
          237,
          78,
          135,
          244,
          199,
          270,
          164,
          72,
          96,
          306,
          91,
          214,
          95,
          216,
          263,
          178,
          113,
          200,
          139,
          139,
          88,
          148,
          88,
          243,
          71,
          77,
          109,
          272,
          60,
          54,
          221,
          90,
          311,
          281,
          182,
          321,
          58,
          262,
          206,
          233,
          242,
          123,
          167,
          63,
          197,
          71,
          168,
          140,
          217,
          121,
          235,
          245,
          40,
          52,
          104,
          132,
          88,
          69,
          219,
          72,
          201,
          110,
          51,
          277,
          63,
          118,
          69,
          273,
          258,
          43,
          198,
          242,
          232,
          175,
          93,
          168,
          275,
          293,
          281,
          72,
          140,
          189,
          181,
          209,
          136,
          261,
          113,
          131,
          174,
          257,
          55,
          84,
          42,
          146,
          212,
          233,
          91,
          111,
          152,
          120,
          67,
          310,
          94,
          183,
          66,
          173,
          72,
          49,
          64,
          48,
          178,
          104,
          132,
          220,
          57
         ],
         "yaxis": "y7"
        },
        {
         "mode": "markers",
         "type": "scatter",
         "x": [
          -0.002592261998183278,
          -0.03949338287409329,
          -0.002592261998183278,
          0.03430885887772673,
          -0.002592261998183278,
          -0.0763945037500033,
          -0.03949338287409329,
          0.01770335448356722,
          -0.002592261998183278,
          -0.002592261998183278,
          -0.0763945037500033,
          0.07120997975363674,
          -0.03949338287409329,
          -0.002592261998183278,
          -0.03949338287409329,
          0.10811110062954676,
          -0.03949338287409329,
          0.03430885887772673,
          -0.002592261998183278,
          -0.03949338287409329,
          -0.03949338287409329,
          -0.03949338287409329,
          -0.03949338287409329,
          0.07120997975363674,
          -0.002592261998183278,
          0.03430885887772673,
          -0.0763945037500033,
          -0.03949338287409329,
          -0.03949338287409329,
          -0.0763945037500033,
          -0.03949338287409329,
          -0.0763945037500033,
          0.10811110062954676,
          -0.0763945037500033,
          -0.03949338287409329,
          -0.05351580880693909,
          -0.03949338287409329,
          -0.03949338287409329,
          0.07120997975363674,
          -0.002592261998183278,
          0.03430885887772673,
          -0.03949338287409329,
          0.01585829843977173,
          -0.0763945037500033,
          0.07120997975363674,
          -0.002592261998183278,
          -0.03949338287409329,
          -0.03949338287409329,
          -0.03949338287409329,
          0.07120997975363674,
          -0.03949338287409329,
          -0.002592261998183278,
          -0.002592261998183278,
          -0.002592261998183278,
          -0.03949338287409329,
          -0.03949338287409329,
          0.0029429061332032365,
          -0.0763945037500033,
          -0.0763945037500033,
          -0.002592261998183278,
          -0.0763945037500033,
          0.07120997975363674,
          -0.03949338287409329,
          -0.002592261998183278,
          -0.03949338287409329,
          0.07120997975363674,
          0.07120997975363674,
          -0.0018542395806650938,
          -0.002592261998183278,
          -0.03949338287409329,
          -0.03949338287409329,
          -0.002592261998183278,
          -0.002592261998183278,
          0.03430885887772673,
          -0.03949338287409329,
          -0.002592261998183278,
          -0.047980640675552584,
          -0.03949338287409329,
          -0.002592261998183278,
          -0.002592261998183278,
          -0.002592261998183278,
          0.03430885887772673,
          -0.03949338287409329,
          -0.03949338287409329,
          -0.05019470792810719,
          -0.03949338287409329,
          -0.002592261998183278,
          -0.03949338287409329,
          -0.03949338287409329,
          -0.03949338287409329,
          -0.0763945037500033,
          0.03430885887772673,
          -0.03949338287409329,
          -0.047242618258034386,
          -0.03949338287409329,
          -0.002592261998183278,
          0.03430885887772673,
          0.03430885887772673,
          -0.03949338287409329,
          0.03430885887772673,
          -0.002592261998183278,
          -0.03949338287409329,
          -0.03949338287409329,
          0.03430885887772673,
          -0.03949338287409329,
          -0.002592261998183278,
          -0.03949338287409329,
          0.05275941931568174,
          0.026928634702544724,
          0.05017634085436802,
          -0.03949338287409329,
          -0.03949338287409329,
          -0.002592261998183278,
          0.03430885887772673,
          0.020655444153640023,
          0.10811110062954676,
          0.03430885887772673,
          0.07120997975363674,
          0.03430885887772673,
          -0.03949338287409329,
          -0.002592261998183278,
          0.03430885887772673,
          0.07120997975363674,
          0.18523444326019867,
          -0.03949338287409329,
          -0.002592261998183278,
          -0.0763945037500033,
          -0.03949338287409329,
          -0.03949338287409329,
          0.03430885887772673,
          -0.002592261998183278,
          -0.03949338287409329,
          -0.002592261998183278,
          -0.03949338287409329,
          -0.03949338287409329,
          0.03799897096531772,
          -0.0763945037500033,
          -0.002592261998183278,
          -0.002592261998183278,
          -0.002592261998183278,
          -0.002592261998183278,
          0.13025177315509276,
          -0.002592261998183278,
          -0.03949338287409329,
          0.07120997975363674,
          -0.03949338287409329,
          0.03430885887772673,
          0.02545258986750832,
          -0.002592261998183278,
          0.07120997975363674,
          -0.002592261998183278,
          -0.03949338287409329,
          0.10811110062954676,
          -0.002592261998183278,
          -0.002592261998183278,
          0.03430885887772673,
          -0.03949338287409329,
          0.019917421736121838,
          -0.007020396503292483,
          -0.002592261998183278,
          -0.03949338287409329,
          0.10811110062954676,
          -0.002592261998183278,
          -0.002592261998183278,
          -0.03949338287409329,
          -0.03949338287409329,
          -0.03949338287409329,
          0.03910600459159503,
          0.10811110062954676,
          0.07120997975363674,
          -0.03949338287409329,
          -0.03949338287409329,
          0.03430885887772673,
          -0.03949338287409329,
          -0.03949338287409329,
          -0.03949338287409329,
          -0.002592261998183278,
          0.08006624876385515,
          -0.03949338287409329,
          0.03430885887772673,
          0.03430885887772673,
          -0.002592261998183278,
          0.07120997975363674,
          -0.002592261998183278,
          -0.002592261998183278,
          0.03430885887772673,
          0.10811110062954676,
          -0.0763945037500033,
          -0.002592261998183278,
          -0.002592261998183278,
          0.03430885887772673,
          -0.03949338287409329,
          -0.03949338287409329,
          0.07120997975363674,
          -0.03949338287409329,
          0.03430885887772673,
          -0.002592261998183278,
          0.03430885887772673,
          -0.03949338287409329,
          -0.014400620678474476,
          -0.021411833644897377,
          -0.03949338287409329,
          0.03430885887772673,
          0.07120997975363674,
          0.03430885887772673,
          -0.002592261998183278,
          0.03430885887772673,
          -0.03949338287409329,
          0.03430885887772673,
          0.03430885887772673,
          -0.03949338287409329,
          -0.03949338287409329,
          -0.03949338287409329,
          -0.03949338287409329,
          -0.0763945037500033,
          -0.002592261998183278,
          0.14501222150545676,
          -0.002592261998183278,
          0.03430885887772673,
          -0.03949338287409329,
          -0.03949338287409329,
          -0.002592261998183278,
          -0.03949338287409329,
          -0.03949338287409329,
          -0.03949338287409329,
          0.03430885887772673,
          -0.03949338287409329,
          -0.05056371913686628,
          -0.002592261998183278,
          -0.03949338287409329,
          0.07194800217115493,
          -0.002592261998183278,
          0.056080520194513636,
          -0.03949338287409329,
          -0.012555564634678981,
          0.012906208769698923,
          0.03430885887772673,
          -0.03764832683029779,
          0.07120997975363674,
          -0.002592261998183278,
          0.03430885887772673,
          -0.008127430129569777,
          -0.03949338287409329,
          -0.002592261998183278,
          -0.03949338287409329,
          -0.03949338287409329,
          -0.009972486173365287,
          -0.03949338287409329,
          0.10811110062954676,
          0.03430885887772673,
          -0.002592261998183278,
          0.10811110062954676,
          0.05091436327188625,
          0.03430885887772673,
          0.07120997975363674,
          -0.03949338287409329,
          0.03430885887772673,
          -0.03949338287409329,
          0.08080427118137334,
          0.005156973385757823,
          -0.0763945037500033,
          -0.0763945037500033,
          0.03430885887772673,
          -0.03949338287409329,
          -0.002592261998183278,
          -0.015507654304751785,
          -0.0763945037500033,
          0.03430885887772673,
          0.07120997975363674,
          -0.0763945037500033,
          -0.03949338287409329,
          -0.002592261998183278,
          -0.03764832683029779,
          0.07120997975363674,
          -0.002592261998183278,
          -0.002592261998183278,
          -0.002592261998183278,
          -0.0763945037500033,
          0.03430885887772673,
          -0.03949338287409329,
          -0.002592261998183278,
          -0.002592261998183278,
          0.03430885887772673,
          -0.03949338287409329,
          -0.002592261998183278,
          0.10811110062954676,
          -0.0763945037500033,
          0.03430885887772673,
          -0.002592261998183278,
          0.07120997975363674,
          0.03430885887772673,
          -0.002592261998183278,
          -0.0708593356186168,
          0.0003598276718895252,
          -0.002592261998183278,
          -0.03949338287409329,
          -0.03949338287409329,
          -0.03949338287409329,
          -0.03949338287409329,
          -0.002592261998183278,
          -0.0011162171631468765,
          -0.002592261998183278,
          0.00884708547334881,
          -0.002592261998183278,
          0.07120997975363674,
          0.07120997975363674,
          -0.03949338287409329,
          0.03430885887772673,
          -0.06938329078358041,
          -0.002592261998183278,
          0.0007288388806486174,
          0.03615391492152222,
          -0.03949338287409329,
          0.03430885887772673,
          -0.002592261998183278,
          -0.03949338287409329,
          0.03430885887772673,
          0.032832814042690325,
          -0.03949338287409329,
          -0.03949338287409329,
          0.07120997975363674,
          0.14132210941786577,
          0.15534453535071155,
          0.10811110062954676,
          0.10811110062954676,
          0.08486339447772344,
          0.03430885887772673,
          -0.002592261998183278,
          -0.002592261998183278,
          -0.03949338287409329,
          0.07120997975363674,
          -0.002592261998183278,
          0.03430885887772673,
          0.03430885887772673,
          -0.03949338287409329,
          -0.03949338287409329,
          0.14501222150545676,
          0.03430885887772673,
          -0.002592261998183278,
          -0.002592261998183278,
          -0.03949338287409329,
          -0.002592261998183278,
          -0.002592261998183278,
          -0.03949338287409329,
          0.03430885887772673,
          0.03430885887772673,
          0.07120997975363674,
          -0.002592261998183278,
          -0.03949338287409329,
          0.03430885887772673,
          -0.002592261998183278,
          -0.03949338287409329,
          -0.0763945037500033,
          0.03430885887772673,
          0.03430885887772673,
          -0.002592261998183278,
          -0.002592261998183278,
          -0.002592261998183278,
          -0.05167075276314359,
          0.03430885887772673,
          -0.002592261998183278,
          -0.0763945037500033,
          -0.002592261998183278,
          0.028404679537581124,
          0.03430885887772673,
          -0.002592261998183278,
          0.07120997975363674,
          0.03430885887772673,
          0.03430885887772673,
          0.01585829843977173,
          -0.03949338287409329,
          0.03430885887772673,
          -0.002592261998183278,
          -0.03949338287409329,
          -0.03949338287409329,
          -0.002592261998183278,
          0.08670845052151895,
          0.07120997975363674,
          0.03430885887772673,
          -0.0763945037500033,
          -0.03395821474270679,
          -0.002592261998183278,
          -0.002592261998183278,
          -0.03949338287409329,
          -0.002592261998183278,
          -0.03949338287409329,
          -0.03949338287409329,
          -0.002592261998183278,
          -0.002592261998183278,
          -0.03949338287409329,
          0.03430885887772673,
          -0.03949338287409329,
          -0.002592261998183278,
          -0.03949338287409329,
          0.07120997975363674,
          -0.002592261998183278,
          -0.03949338287409329,
          -0.02583996815000658,
          -0.002592261998183278,
          -0.002592261998183278,
          -0.03949338287409329,
          -0.0763945037500033,
          0.07120997975363674,
          -0.002592261998183278,
          -0.03949338287409329,
          -0.002592261998183278,
          -0.03949338287409329,
          0.021024455362399115,
          0.02360753382371283,
          0.07120997975363674,
          0.03430885887772673,
          -0.0763945037500033,
          -0.002592261998183278,
          -0.03949338287409329,
          0.09187460744414634,
          0.07120997975363674,
          0.003311917341962329,
          -0.021411833644897377,
          -0.002592261998183278,
          -0.03949338287409329,
          0.03430885887772673,
          0.07120997975363674,
          -0.002592261998183278,
          0.10811110062954676,
          0.03430885887772673,
          -0.0763945037500033,
          0.05755656502955003,
          -0.03949338287409329,
          0.03430885887772673,
          -0.024732934523729287,
          0.03430885887772673,
          -0.03949338287409329,
          0.023238522614953735,
          -0.03949338287409329,
          -0.03949338287409329,
          -0.002592261998183278,
          -0.0763945037500033,
          -0.002592261998183278,
          0.03430885887772673,
          -0.011079519799642579,
          0.02655962349378563,
          -0.03949338287409329
         ],
         "xaxis": "x8",
         "y": [
          151,
          75,
          141,
          206,
          135,
          97,
          138,
          63,
          110,
          310,
          101,
          69,
          179,
          185,
          118,
          171,
          166,
          144,
          97,
          168,
          68,
          49,
          68,
          245,
          184,
          202,
          137,
          85,
          131,
          283,
          129,
          59,
          341,
          87,
          65,
          102,
          265,
          276,
          252,
          90,
          100,
          55,
          61,
          92,
          259,
          53,
          190,
          142,
          75,
          142,
          155,
          225,
          59,
          104,
          182,
          128,
          52,
          37,
          170,
          170,
          61,
          144,
          52,
          128,
          71,
          163,
          150,
          97,
          160,
          178,
          48,
          270,
          202,
          111,
          85,
          42,
          170,
          200,
          252,
          113,
          143,
          51,
          52,
          210,
          65,
          141,
          55,
          134,
          42,
          111,
          98,
          164,
          48,
          96,
          90,
          162,
          150,
          279,
          92,
          83,
          128,
          102,
          302,
          198,
          95,
          53,
          134,
          144,
          232,
          81,
          104,
          59,
          246,
          297,
          258,
          229,
          275,
          281,
          179,
          200,
          200,
          173,
          180,
          84,
          121,
          161,
          99,
          109,
          115,
          268,
          274,
          158,
          107,
          83,
          103,
          272,
          85,
          280,
          336,
          281,
          118,
          317,
          235,
          60,
          174,
          259,
          178,
          128,
          96,
          126,
          288,
          88,
          292,
          71,
          197,
          186,
          25,
          84,
          96,
          195,
          53,
          217,
          172,
          131,
          214,
          59,
          70,
          220,
          268,
          152,
          47,
          74,
          295,
          101,
          151,
          127,
          237,
          225,
          81,
          151,
          107,
          64,
          138,
          185,
          265,
          101,
          137,
          143,
          141,
          79,
          292,
          178,
          91,
          116,
          86,
          122,
          72,
          129,
          142,
          90,
          158,
          39,
          196,
          222,
          277,
          99,
          196,
          202,
          155,
          77,
          191,
          70,
          73,
          49,
          65,
          263,
          248,
          296,
          214,
          185,
          78,
          93,
          252,
          150,
          77,
          208,
          77,
          108,
          160,
          53,
          220,
          154,
          259,
          90,
          246,
          124,
          67,
          72,
          257,
          262,
          275,
          177,
          71,
          47,
          187,
          125,
          78,
          51,
          258,
          215,
          303,
          243,
          91,
          150,
          310,
          153,
          346,
          63,
          89,
          50,
          39,
          103,
          308,
          116,
          145,
          74,
          45,
          115,
          264,
          87,
          202,
          127,
          182,
          241,
          66,
          94,
          283,
          64,
          102,
          200,
          265,
          94,
          230,
          181,
          156,
          233,
          60,
          219,
          80,
          68,
          332,
          248,
          84,
          200,
          55,
          85,
          89,
          31,
          129,
          83,
          275,
          65,
          198,
          236,
          253,
          124,
          44,
          172,
          114,
          142,
          109,
          180,
          144,
          163,
          147,
          97,
          220,
          190,
          109,
          191,
          122,
          230,
          242,
          248,
          249,
          192,
          131,
          237,
          78,
          135,
          244,
          199,
          270,
          164,
          72,
          96,
          306,
          91,
          214,
          95,
          216,
          263,
          178,
          113,
          200,
          139,
          139,
          88,
          148,
          88,
          243,
          71,
          77,
          109,
          272,
          60,
          54,
          221,
          90,
          311,
          281,
          182,
          321,
          58,
          262,
          206,
          233,
          242,
          123,
          167,
          63,
          197,
          71,
          168,
          140,
          217,
          121,
          235,
          245,
          40,
          52,
          104,
          132,
          88,
          69,
          219,
          72,
          201,
          110,
          51,
          277,
          63,
          118,
          69,
          273,
          258,
          43,
          198,
          242,
          232,
          175,
          93,
          168,
          275,
          293,
          281,
          72,
          140,
          189,
          181,
          209,
          136,
          261,
          113,
          131,
          174,
          257,
          55,
          84,
          42,
          146,
          212,
          233,
          91,
          111,
          152,
          120,
          67,
          310,
          94,
          183,
          66,
          173,
          72,
          49,
          64,
          48,
          178,
          104,
          132,
          220,
          57
         ],
         "yaxis": "y8"
        },
        {
         "mode": "markers",
         "type": "scatter",
         "x": [
          0.019907486170462722,
          -0.0683315470939731,
          0.002861309289833047,
          0.022687744966501246,
          -0.03198763948805312,
          -0.041176166918895155,
          -0.06291687914365544,
          -0.0358161925842373,
          -0.014959693812643405,
          0.06773705306493534,
          -0.06291687914365544,
          -0.09643494994048712,
          -0.030747917533098208,
          0.038393928263466416,
          -0.03198763948805312,
          0.036060333995316066,
          0.05227699103843915,
          0.02736404910541198,
          -0.018113692315690322,
          -0.00894339609006817,
          -0.011896851335695978,
          -0.07213275338232743,
          -0.061175799045152635,
          0.13359728192191356,
          -0.025953110560258,
          0.019196469166885697,
          -0.042570854118219384,
          -0.015998872510179042,
          -0.0006117353045626216,
          0.059423623484649676,
          -0.02712902329694316,
          -0.0371288393600719,
          0.00027247814860377354,
          -0.018113692315690322,
          -0.05947118135708968,
          0.021311288972396977,
          0.05471997253790904,
          0.017036071348324546,
          0.07142887212197009,
          0.019196469166885697,
          0.012551194864223063,
          -0.049872451808799324,
          -0.009918765569334137,
          -0.042570854118219384,
          0.03243232415655107,
          -0.014959693812643405,
          -0.007977142213412223,
          -0.018113692315690322,
          -0.05947118135708968,
          0.03545870422305857,
          -0.021395309255276825,
          -0.002398393416115213,
          -0.018113692315690322,
          -0.03324559264822791,
          -0.041176166918895155,
          -0.06649019536676071,
          0.033653814906286016,
          -0.05615310200706333,
          -0.0006117353045626216,
          0.038393928263466416,
          -0.05140387304727299,
          0.03664373256235367,
          -0.08237869071592514,
          -0.030747917533098208,
          -0.019198449026275908,
          0.04234098419358016,
          0.00027247814860377354,
          -0.011896851335695978,
          -0.012908683225401873,
          -0.05140387304727299,
          -0.06291687914365544,
          0.02671684132010462,
          0.08449153066204618,
          -0.005142189801713891,
          0.0037090603325595967,
          0.006206735447689297,
          -0.030747917533098208,
          -0.07409260794346935,
          0.04289703595278786,
          -0.0683315470939731,
          0.025395078941660074,
          -0.006081096870540014,
          -0.07020936123162536,
          -0.015998872510179042,
          -0.0683315470939731,
          -0.041176166918895155,
          -0.09643494994048712,
          0.04289703595278786,
          -0.03452177701362266,
          -0.024795429028792802,
          -0.07213275338232743,
          0.037236246732001224,
          0.012551194864223063,
          -0.03324559264822791,
          -0.041176166918895155,
          0.0011475759991601464,
          0.060790963876144,
          0.002861309289833047,
          -0.006081096870540014,
          0.011785484244986226,
          0.037236246732001224,
          -0.030747917533098208,
          -0.005142189801713891,
          -0.010903250651210127,
          -0.061175799045152635,
          -0.010903250651210127,
          -0.05947118135708968,
          -0.05296264109357657,
          0.0456043699279467,
          -0.025953110560258,
          -0.12609712083330468,
          -0.02364686309993755,
          -0.02364686309993755,
          0.04666177983070229,
          0.09924057568496533,
          0.08379874486368903,
          0.02200407477075404,
          0.07912244072477838,
          0.02060938757142981,
          0.02736404910541198,
          -0.03980882652740082,
          0.019907486170462722,
          0.03243232415655107,
          0.015568459328120622,
          -0.015998872510179042,
          0.0805900527449823,
          -0.09393727482535742,
          0.004547695772676124,
          -0.030747917533098208,
          0.03896821122789408,
          0.022687744966501246,
          -0.04688253415273158,
          -0.012908683225401873,
          -0.07213275338232743,
          -0.02712902329694316,
          0.050782032210405316,
          -0.06649019536676071,
          0.017036071348324546,
          0.02802037249332928,
          0.05471997253790904,
          -0.03324559264822791,
          0.04506654937395887,
          0.0456043699279467,
          -0.041176166918895155,
          0.006206735447689297,
          -0.015998872510179042,
          0.014820979914103668,
          0.026060517932187322,
          -0.030747917533098208,
          0.06123762840403217,
          -0.019198449026275908,
          -0.00894339609006817,
          0.02671684132010462,
          -0.03452177701362266,
          0.008640601344549246,
          0.037810529696428806,
          -0.021395309255276825,
          0.010226716198682649,
          -0.030747917533098208,
          0.04234098419358016,
          -0.0358161925842373,
          0.07574055215648227,
          -0.030747917533098208,
          -0.02364686309993755,
          0.017765319557121535,
          -0.05615310200706333,
          -0.07813993550229265,
          0.07763659749935449,
          0.0689858906225002,
          0.13359728192191356,
          -0.09643494994048712,
          -0.05140387304727299,
          0.07340695788833193,
          -0.018113692315690322,
          0.017036071348324546,
          -0.02712902329694316,
          -0.003300838074501491,
          0.07222192954903682,
          -0.04835926177554553,
          0.014073500500086794,
          0.016306823139527554,
          -0.025953110560258,
          0.015568459328120622,
          0.015568459328120622,
          0.037236246732001224,
          0.06731773534487707,
          0.04719048478208009,
          -0.08682710478958679,
          -0.0014959487577289358,
          -0.020292321339471356,
          0.02337141516224845,
          0.010226716198682649,
          -0.02952642678336326,
          0.03954249419232167,
          0.0020044426444966374,
          0.007838428314872565,
          -0.03324559264822791,
          0.013316905483459898,
          -0.07409260794346935,
          0.0898970830097539,
          -0.028323167238848198,
          -0.05296264109357657,
          0.08449153066204618,
          0.025395078941660074,
          0.0020044426444966374,
          0.06345271983825305,
          0.009433658771615987,
          0.04613307487932449,
          -0.0014959487577289358,
          -0.011896851335695978,
          -0.03324559264822791,
          -0.022516528376302174,
          -0.0006117353045626216,
          -0.022516528376302174,
          -0.03980882652740082,
          0.03664373256235367,
          0.0456043699279467,
          0.033653814906286016,
          0.007027139682585861,
          0.0011475759991601464,
          -0.10163995903077562,
          0.0011475759991601464,
          0.0011475759991601464,
          -0.018113692315690322,
          -0.0358161925842373,
          0.06301517091297482,
          -0.03980882652740082,
          -0.03845971734112638,
          -0.02712902329694316,
          -0.02364686309993755,
          0.050280674066857343,
          0.009433658771615987,
          0.024055085357995654,
          -0.025953110560258,
          0.06432781768880942,
          -0.005142189801713891,
          0.04067282891595704,
          -0.04835926177554553,
          0.011010658023139448,
          0.06605066658209234,
          0.033653814906286016,
          -0.02952642678336326,
          -0.07813993550229265,
          -0.04398377252276359,
          -0.04398377252276359,
          -0.049872451808799324,
          0.04506654937395887,
          -0.010903250651210127,
          0.0638902687635312,
          0.07020738137223513,
          0.07574055215648227,
          0.08449153066204618,
          -0.00422151393810765,
          0.03486619005341102,
          0.12005149644350945,
          -0.003300838074501491,
          0.02802037249332928,
          -0.005142189801713891,
          -0.0371288393600719,
          -0.04398377252276359,
          -0.08023652410258396,
          -0.012908683225401873,
          0.03486619005341102,
          -0.07213275338232743,
          -0.05947118135708968,
          0.014820979914103668,
          -0.08682710478958679,
          0.02337141516224845,
          0.02929655685872395,
          -0.011896851335695978,
          0.008640601344549246,
          -0.018113692315690322,
          -0.018113692315690322,
          0.10635074572073594,
          0.015568459328120622,
          0.011010658023139448,
          0.057573156154827256,
          -0.021395309255276825,
          0.0011475759991601464,
          -0.015998872510179042,
          0.016306823139527554,
          0.024055085357995654,
          -0.00894339609006817,
          -0.0683315470939731,
          0.002861309289833047,
          0.05987940361514779,
          -0.019198449026275908,
          0.03243232415655107,
          -0.07020936123162536,
          0.06123762840403217,
          0.02993464904142137,
          0.05803805188793539,
          -0.06291687914365544,
          -0.05453964034510003,
          -0.07409260794346935,
          0.016306823139527554,
          -0.05615310200706333,
          -0.06468530604998815,
          -0.030747917533098208,
          -0.025953110560258,
          0.04289703595278786,
          -0.021395309255276825,
          0.031192602201596156,
          0.07379892880056037,
          -0.022516528376302174,
          0.017765319557121535,
          -0.03980882652740082,
          0.02337141516224845,
          -0.061175799045152635,
          0.02671684132010462,
          -0.018113692315690322,
          0.012551194864223063,
          -0.03845971734112638,
          0.05520309947623713,
          -0.011896851335695978,
          -0.010903250651210127,
          0.0749657259346355,
          0.024729639951132837,
          0.009433658771615987,
          0.028658464676026615,
          0.0330430695314185,
          0.0986480615153178,
          0.13339673866449434,
          0.12902124941171242,
          0.06605066658209234,
          0.08449153066204618,
          0.02993464904142137,
          -0.0006117353045626216,
          -0.0014959487577289358,
          -0.017056282412934727,
          -0.02364686309993755,
          -0.041176166918895155,
          0.0571082604217192,
          0.02929655685872395,
          -0.06291687914365544,
          -0.05140387304727299,
          0.08094556124677081,
          0.005386331212792652,
          -0.022516528376302174,
          0.04344397210938562,
          -0.0358161925842373,
          -0.024795429028792802,
          -0.02364686309993755,
          -0.05780302607946657,
          0.007027139682585861,
          -0.0006117353045626216,
          0.06257762198769659,
          0.0037090603325595967,
          -0.010903250651210127,
          -0.061175799045152635,
          0.07020738137223513,
          -0.05780302607946657,
          -0.020292321339471356,
          0.1323757911721786,
          0.07419089971278872,
          -0.03324559264822791,
          -0.028323167238848198,
          0.04977020032069951,
          -0.08237869071592514,
          0.014820979914103668,
          0.013316905483459898,
          -0.07213275338232743,
          0.0037090603325595967,
          0.019196469166885697,
          0.014820979914103668,
          0.031192602201596156,
          0.07101867000452176,
          0.033653814906286016,
          0.08553070935958189,
          -0.005142189801713891,
          -0.061175799045152635,
          0.11934047943993234,
          -0.010903250651210127,
          -0.042570854118219384,
          -0.0006117353045626216,
          0.02802037249332928,
          0.04613307487932449,
          0.009433658771615987,
          0.022687744966501246,
          -0.04688253415273158,
          -0.05140387304727299,
          -0.012908683225401873,
          0.10413565428651514,
          -0.018113692315690322,
          0.024055085357995654,
          -0.025953110560258,
          -0.030747917533098208,
          -0.10436552421115437,
          0.02671684132010462,
          -0.041176166918895155,
          0.10329701884639861,
          -0.08913335224990723,
          -0.041176166918895155,
          -0.03980882652740082,
          0.13007865931446802,
          0.031812463179073616,
          -0.09643494994048712,
          0.036060333995316066,
          0.04506654937395887,
          0.03954249419232167,
          -0.03452177701362266,
          -0.042570854118219384,
          0.015568459328120622,
          0.06168429293192034,
          -0.02712902329694316,
          0.03664373256235367,
          -0.05615310200706333,
          -0.04835926177554553,
          0.05803805188793539,
          0.030563625621508765,
          0.06605066658209234,
          -0.05140387304727299,
          0.006206735447689297,
          -0.0358161925842373,
          0.05471997253790904,
          0.014820979914103668,
          -0.02952642678336326,
          -0.04688253415273158,
          -0.021395309255276825,
          -0.07409260794346935,
          -0.03324559264822791,
          0.04977020032069951,
          0.04067282891595704,
          0.015568459328120622,
          0.024055085357995654,
          -0.020292321339471356,
          0.03545870422305857,
          -0.04542403773513769,
          0.06605066658209234,
          -0.025953110560258,
          -0.009918765569334137,
          -0.014959693812643405,
          0.05568622641456506,
          -0.05140387304727299,
          -0.04542403773513769,
          -0.03845971734112638,
          -0.061175799045152635,
          0.031192602201596156,
          -0.018113692315690322,
          -0.04688253415273158,
          0.04452872881997113,
          -0.00422151393810765
         ],
         "xaxis": "x9",
         "y": [
          151,
          75,
          141,
          206,
          135,
          97,
          138,
          63,
          110,
          310,
          101,
          69,
          179,
          185,
          118,
          171,
          166,
          144,
          97,
          168,
          68,
          49,
          68,
          245,
          184,
          202,
          137,
          85,
          131,
          283,
          129,
          59,
          341,
          87,
          65,
          102,
          265,
          276,
          252,
          90,
          100,
          55,
          61,
          92,
          259,
          53,
          190,
          142,
          75,
          142,
          155,
          225,
          59,
          104,
          182,
          128,
          52,
          37,
          170,
          170,
          61,
          144,
          52,
          128,
          71,
          163,
          150,
          97,
          160,
          178,
          48,
          270,
          202,
          111,
          85,
          42,
          170,
          200,
          252,
          113,
          143,
          51,
          52,
          210,
          65,
          141,
          55,
          134,
          42,
          111,
          98,
          164,
          48,
          96,
          90,
          162,
          150,
          279,
          92,
          83,
          128,
          102,
          302,
          198,
          95,
          53,
          134,
          144,
          232,
          81,
          104,
          59,
          246,
          297,
          258,
          229,
          275,
          281,
          179,
          200,
          200,
          173,
          180,
          84,
          121,
          161,
          99,
          109,
          115,
          268,
          274,
          158,
          107,
          83,
          103,
          272,
          85,
          280,
          336,
          281,
          118,
          317,
          235,
          60,
          174,
          259,
          178,
          128,
          96,
          126,
          288,
          88,
          292,
          71,
          197,
          186,
          25,
          84,
          96,
          195,
          53,
          217,
          172,
          131,
          214,
          59,
          70,
          220,
          268,
          152,
          47,
          74,
          295,
          101,
          151,
          127,
          237,
          225,
          81,
          151,
          107,
          64,
          138,
          185,
          265,
          101,
          137,
          143,
          141,
          79,
          292,
          178,
          91,
          116,
          86,
          122,
          72,
          129,
          142,
          90,
          158,
          39,
          196,
          222,
          277,
          99,
          196,
          202,
          155,
          77,
          191,
          70,
          73,
          49,
          65,
          263,
          248,
          296,
          214,
          185,
          78,
          93,
          252,
          150,
          77,
          208,
          77,
          108,
          160,
          53,
          220,
          154,
          259,
          90,
          246,
          124,
          67,
          72,
          257,
          262,
          275,
          177,
          71,
          47,
          187,
          125,
          78,
          51,
          258,
          215,
          303,
          243,
          91,
          150,
          310,
          153,
          346,
          63,
          89,
          50,
          39,
          103,
          308,
          116,
          145,
          74,
          45,
          115,
          264,
          87,
          202,
          127,
          182,
          241,
          66,
          94,
          283,
          64,
          102,
          200,
          265,
          94,
          230,
          181,
          156,
          233,
          60,
          219,
          80,
          68,
          332,
          248,
          84,
          200,
          55,
          85,
          89,
          31,
          129,
          83,
          275,
          65,
          198,
          236,
          253,
          124,
          44,
          172,
          114,
          142,
          109,
          180,
          144,
          163,
          147,
          97,
          220,
          190,
          109,
          191,
          122,
          230,
          242,
          248,
          249,
          192,
          131,
          237,
          78,
          135,
          244,
          199,
          270,
          164,
          72,
          96,
          306,
          91,
          214,
          95,
          216,
          263,
          178,
          113,
          200,
          139,
          139,
          88,
          148,
          88,
          243,
          71,
          77,
          109,
          272,
          60,
          54,
          221,
          90,
          311,
          281,
          182,
          321,
          58,
          262,
          206,
          233,
          242,
          123,
          167,
          63,
          197,
          71,
          168,
          140,
          217,
          121,
          235,
          245,
          40,
          52,
          104,
          132,
          88,
          69,
          219,
          72,
          201,
          110,
          51,
          277,
          63,
          118,
          69,
          273,
          258,
          43,
          198,
          242,
          232,
          175,
          93,
          168,
          275,
          293,
          281,
          72,
          140,
          189,
          181,
          209,
          136,
          261,
          113,
          131,
          174,
          257,
          55,
          84,
          42,
          146,
          212,
          233,
          91,
          111,
          152,
          120,
          67,
          310,
          94,
          183,
          66,
          173,
          72,
          49,
          64,
          48,
          178,
          104,
          132,
          220,
          57
         ],
         "yaxis": "y9"
        },
        {
         "mode": "markers",
         "type": "scatter",
         "x": [
          -0.01764612515980379,
          -0.092204049626824,
          -0.025930338989472702,
          -0.009361911330134878,
          -0.04664087356364498,
          -0.09634615654165846,
          -0.03835665973397607,
          0.0030644094143684884,
          0.0113486232440374,
          -0.013504018244969336,
          -0.03421455281914162,
          -0.05906719430814835,
          -0.042498766648810526,
          -0.013504018244969336,
          -0.07563562196748617,
          -0.042498766648810526,
          0.027917050903375224,
          -0.0010776975004659671,
          -0.01764612515980379,
          -0.05492508739331389,
          0.015490730158871856,
          -0.01764612515980379,
          -0.013504018244969336,
          0.13561183068907107,
          -0.05492508739331389,
          -0.03421455281914162,
          -0.005219804415300423,
          0.040343371647878594,
          -0.05492508739331389,
          0.05276969239238195,
          -0.009361911330134878,
          -0.042498766648810526,
          0.027917050903375224,
          0.0030644094143684884,
          -0.06735140813781726,
          0.019632837073706312,
          -0.025930338989472702,
          -0.005219804415300423,
          0.02377494398854077,
          0.0030644094143684884,
          0.09419076154072652,
          -0.009361911330134878,
          -0.03421455281914162,
          0.07348022696655424,
          -0.01764612515980379,
          -0.05078298047847944,
          -0.08806194271198954,
          -0.08391983579715509,
          -0.021788232074638245,
          -0.013504018244969336,
          0.007206516329202944,
          -0.021788232074638245,
          -0.013504018244969336,
          0.0486275854775475,
          0.007206516329202944,
          0.007206516329202944,
          -0.01764612515980379,
          -0.06735140813781726,
          -0.05078298047847944,
          0.019632837073706312,
          -0.03421455281914162,
          0.019632837073706312,
          -0.025930338989472702,
          -0.07149351505265171,
          0.0113486232440374,
          0.015490730158871856,
          0.019632837073706312,
          0.0030644094143684884,
          0.0030644094143684884,
          0.019632837073706312,
          0.040343371647878594,
          0.06105390622205087,
          -0.01764612515980379,
          -0.009361911330134878,
          0.07348022696655424,
          0.027917050903375224,
          0.015490730158871856,
          -0.0010776975004659671,
          -0.08391983579715509,
          -0.025930338989472702,
          -0.005219804415300423,
          -0.0010776975004659671,
          -0.07977772888232063,
          -0.042498766648810526,
          -0.1294830118603341,
          -0.07149351505265171,
          -0.03421455281914162,
          -0.03835665973397607,
          0.06933812005171978,
          0.019632837073706312,
          0.0113486232440374,
          0.019632837073706312,
          0.0113486232440374,
          -0.05492508739331389,
          -0.092204049626824,
          -0.005219804415300423,
          0.03205915781820968,
          0.07762233388138869,
          -0.06735140813781726,
          -0.05492508739331389,
          -0.0010776975004659671,
          0.036201264733044136,
          -0.0010776975004659671,
          -0.03007244590430716,
          -0.0632093012229828,
          0.019632837073706312,
          -0.08391983579715509,
          -0.005219804415300423,
          0.040343371647878594,
          0.1066170822852299,
          0.015490730158871856,
          -0.04664087356364498,
          0.0030644094143684884,
          0.09004865462589207,
          0.02377494398854077,
          0.0030644094143684884,
          0.027917050903375224,
          0.13561183068907107,
          0.05691179930721642,
          0.027917050903375224,
          -0.021788232074638245,
          0.0113486232440374,
          0.0486275854775475,
          0.07348022696655424,
          -0.013504018244969336,
          0.007206516329202944,
          -0.05492508739331389,
          -0.09634615654165846,
          -0.07149351505265171,
          0.11904340302973325,
          0.07348022696655424,
          -0.07977772888232063,
          0.02377494398854077,
          -0.03007244590430716,
          -0.04664087356364498,
          0.05691179930721642,
          -0.021788232074638245,
          -0.013504018244969336,
          0.07348022696655424,
          -0.005219804415300423,
          0.015490730158871856,
          0.13146972377423663,
          -0.0010776975004659671,
          -0.042498766648810526,
          0.007206516329202944,
          -0.05078298047847944,
          0.007206516329202944,
          0.040343371647878594,
          -0.0010776975004659671,
          -0.03835665973397607,
          -0.009361911330134878,
          -0.013504018244969336,
          0.07348022696655424,
          0.0113486232440374,
          0.0030644094143684884,
          0.0486275854775475,
          -0.03421455281914162,
          0.027917050903375224,
          -0.05078298047847944,
          -0.01764612515980379,
          -0.04664087356364498,
          0.0859065477110576,
          -0.0010776975004659671,
          0.06105390622205087,
          -0.013504018244969336,
          -0.013504018244969336,
          -0.10463037037132736,
          0.1066170822852299,
          0.12732761685940217,
          0.019632837073706312,
          -0.01764612515980379,
          -0.04664087356364498,
          0.0859065477110576,
          -0.05492508739331389,
          0.007206516329202944,
          0.0030644094143684884,
          0.019632837073706312,
          0.03205915781820968,
          -0.03007244590430716,
          -0.009361911330134878,
          -0.0010776975004659671,
          -0.0632093012229828,
          -0.009361911330134878,
          0.05691179930721642,
          0.03205915781820968,
          -0.01764612515980379,
          -0.03835665973397607,
          -0.10463037037132736,
          -0.009361911330134878,
          -0.025930338989472702,
          -0.005219804415300423,
          -0.009361911330134878,
          -0.05906719430814835,
          0.019632837073706312,
          0.02377494398854077,
          0.02377494398854077,
          0.0113486232440374,
          0.036201264733044136,
          -0.05906719430814835,
          0.007206516329202944,
          0.044485478562713045,
          0.027917050903375224,
          -0.03007244590430716,
          0.027917050903375224,
          0.07762233388138869,
          -0.025930338989472702,
          0.0030644094143684884,
          0.036201264733044136,
          0.11904340302973325,
          -0.013504018244969336,
          -0.05906719430814835,
          -0.021788232074638245,
          0.019632837073706312,
          0.007206516329202944,
          -0.05492508739331389,
          0.1066170822852299,
          0.0486275854775475,
          0.044485478562713045,
          -0.013504018244969336,
          -0.03007244590430716,
          -0.06735140813781726,
          -0.03835665973397607,
          0.019632837073706312,
          -0.05078298047847944,
          -0.009361911330134878,
          0.0030644094143684884,
          -0.05492508739331389,
          0.007206516329202944,
          -0.05078298047847944,
          0.0113486232440374,
          0.06933812005171978,
          0.0113486232440374,
          0.03205915781820968,
          -0.03835665973397607,
          0.05691179930721642,
          0.0486275854775475,
          0.0113486232440374,
          -0.0010776975004659671,
          -0.021788232074638245,
          0.0486275854775475,
          0.019632837073706312,
          0.05691179930721642,
          -0.07149351505265171,
          -0.042498766648810526,
          -0.005219804415300423,
          -0.1294830118603341,
          -0.05906719430814835,
          -0.092204049626824,
          0.040343371647878594,
          0.007206516329202944,
          0.036201264733044136,
          0.040343371647878594,
          -0.03007244590430716,
          0.06933812005171978,
          0.09004865462589207,
          0.007206516329202944,
          0.0113486232440374,
          -0.05078298047847944,
          0.05691179930721642,
          0.007206516329202944,
          -0.01764612515980379,
          0.015490730158871856,
          0.0030644094143684884,
          -0.01764612515980379,
          -0.021788232074638245,
          0.040343371647878594,
          0.0030644094143684884,
          0.027917050903375224,
          0.07348022696655424,
          -0.03835665973397607,
          0.015490730158871856,
          0.007206516329202944,
          -0.092204049626824,
          0.036201264733044136,
          0.015490730158871856,
          0.06933812005171978,
          -0.021788232074638245,
          0.015490730158871856,
          0.03205915781820968,
          -0.025930338989472702,
          -0.01764612515980379,
          0.0030644094143684884,
          0.027917050903375224,
          -0.03007244590430716,
          -0.05492508739331389,
          -0.021788232074638245,
          -0.005219804415300423,
          -0.005219804415300423,
          -0.01764612515980379,
          -0.03421455281914162,
          0.044485478562713045,
          -0.05906719430814835,
          -0.03835665973397607,
          -0.0010776975004659671,
          -0.03421455281914162,
          0.0030644094143684884,
          -0.05906719430814835,
          -0.05492508739331389,
          -0.013504018244969336,
          -0.0010776975004659671,
          0.044485478562713045,
          0.036201264733044136,
          0.027917050903375224,
          -0.021788232074638245,
          -0.013504018244969336,
          -0.06735140813781726,
          -0.013504018244969336,
          0.08176444079622315,
          -0.07977772888232063,
          0.08176444079622315,
          0.03205915781820968,
          0.02377494398854077,
          -0.03007244590430716,
          -0.0010776975004659671,
          -0.03835665973397607,
          -0.0010776975004659671,
          0.040343371647878594,
          0.06933812005171978,
          0.03205915781820968,
          0.06105390622205087,
          0.0030644094143684884,
          0.06105390622205087,
          0.08176444079622315,
          0.05691179930721642,
          0.019632837073706312,
          0.0486275854775475,
          0.027917050903375224,
          -0.005219804415300423,
          0.019632837073706312,
          0.044485478562713045,
          0.015490730158871856,
          -0.005219804415300423,
          0.036201264733044136,
          0.03205915781820968,
          -0.05492508739331389,
          -0.05906719430814835,
          0.05276969239238195,
          0.0030644094143684884,
          -0.05906719430814835,
          0.015490730158871856,
          -0.03007244590430716,
          -0.01764612515980379,
          0.02377494398854077,
          0.007206516329202944,
          -0.03007244590430716,
          -0.0010776975004659671,
          0.015490730158871856,
          -0.03007244590430716,
          -0.0010776975004659671,
          -0.07149351505265171,
          0.13561183068907107,
          -0.042498766648810526,
          -0.03835665973397607,
          0.0030644094143684884,
          0.06105390622205087,
          0.0113486232440374,
          -0.07563562196748617,
          -0.05906719430814835,
          -0.04664087356364498,
          0.06105390622205087,
          0.040343371647878594,
          0.02377494398854077,
          0.040343371647878594,
          0.0113486232440374,
          0.09833286845556097,
          0.09833286845556097,
          0.0486275854775475,
          0.03205915781820968,
          0.08176444079622315,
          0.027917050903375224,
          -0.07563562196748617,
          -0.01764612515980379,
          -0.021788232074638245,
          -0.0010776975004659671,
          -0.07977772888232063,
          0.019632837073706312,
          -0.0010776975004659671,
          -0.0632093012229828,
          -0.03835665973397607,
          0.02377494398854077,
          -0.025930338989472702,
          -0.05492508739331389,
          0.036201264733044136,
          0.007206516329202944,
          -0.03835665973397607,
          -0.013504018244969336,
          0.0030644094143684884,
          -0.07563562196748617,
          -0.03835665973397607,
          -0.08806194271198954,
          0.07348022696655424,
          -0.05078298047847944,
          0.06519601313688532,
          -0.021788232074638245,
          0.007206516329202944,
          -0.05492508739331389,
          -0.03421455281914162,
          0.02377494398854077,
          -0.06735140813781726,
          0.019632837073706312,
          -0.009361911330134878,
          0.040343371647878594,
          0.044485478562713045,
          0.040343371647878594,
          -0.009361911330134878,
          -0.03007244590430716,
          -0.13776722569000302,
          0.019632837073706312,
          0.040343371647878594,
          -0.005219804415300423,
          -0.042498766648810526,
          -0.025930338989472702,
          0.0859065477110576,
          0.019632837073706312,
          0.007206516329202944,
          0.0030644094143684884,
          0.036201264733044136,
          0.0030644094143684884,
          0.007206516329202944,
          -0.005219804415300423,
          0.06105390622205087,
          0.015490730158871856,
          -0.009361911330134878,
          -0.04664087356364498,
          0.02377494398854077,
          -0.05078298047847944,
          0.0859065477110576,
          0.03205915781820968,
          0.13146972377423663,
          -0.03835665973397607,
          -0.01764612515980379,
          -0.0010776975004659671,
          0.1066170822852299,
          -0.009361911330134878,
          0.03205915781820968,
          -0.03835665973397607,
          -0.04664087356364498,
          0.007206516329202944,
          0.044485478562713045,
          0.015490730158871856,
          -0.025930338989472702,
          0.0030644094143684884
         ],
         "xaxis": "x10",
         "y": [
          151,
          75,
          141,
          206,
          135,
          97,
          138,
          63,
          110,
          310,
          101,
          69,
          179,
          185,
          118,
          171,
          166,
          144,
          97,
          168,
          68,
          49,
          68,
          245,
          184,
          202,
          137,
          85,
          131,
          283,
          129,
          59,
          341,
          87,
          65,
          102,
          265,
          276,
          252,
          90,
          100,
          55,
          61,
          92,
          259,
          53,
          190,
          142,
          75,
          142,
          155,
          225,
          59,
          104,
          182,
          128,
          52,
          37,
          170,
          170,
          61,
          144,
          52,
          128,
          71,
          163,
          150,
          97,
          160,
          178,
          48,
          270,
          202,
          111,
          85,
          42,
          170,
          200,
          252,
          113,
          143,
          51,
          52,
          210,
          65,
          141,
          55,
          134,
          42,
          111,
          98,
          164,
          48,
          96,
          90,
          162,
          150,
          279,
          92,
          83,
          128,
          102,
          302,
          198,
          95,
          53,
          134,
          144,
          232,
          81,
          104,
          59,
          246,
          297,
          258,
          229,
          275,
          281,
          179,
          200,
          200,
          173,
          180,
          84,
          121,
          161,
          99,
          109,
          115,
          268,
          274,
          158,
          107,
          83,
          103,
          272,
          85,
          280,
          336,
          281,
          118,
          317,
          235,
          60,
          174,
          259,
          178,
          128,
          96,
          126,
          288,
          88,
          292,
          71,
          197,
          186,
          25,
          84,
          96,
          195,
          53,
          217,
          172,
          131,
          214,
          59,
          70,
          220,
          268,
          152,
          47,
          74,
          295,
          101,
          151,
          127,
          237,
          225,
          81,
          151,
          107,
          64,
          138,
          185,
          265,
          101,
          137,
          143,
          141,
          79,
          292,
          178,
          91,
          116,
          86,
          122,
          72,
          129,
          142,
          90,
          158,
          39,
          196,
          222,
          277,
          99,
          196,
          202,
          155,
          77,
          191,
          70,
          73,
          49,
          65,
          263,
          248,
          296,
          214,
          185,
          78,
          93,
          252,
          150,
          77,
          208,
          77,
          108,
          160,
          53,
          220,
          154,
          259,
          90,
          246,
          124,
          67,
          72,
          257,
          262,
          275,
          177,
          71,
          47,
          187,
          125,
          78,
          51,
          258,
          215,
          303,
          243,
          91,
          150,
          310,
          153,
          346,
          63,
          89,
          50,
          39,
          103,
          308,
          116,
          145,
          74,
          45,
          115,
          264,
          87,
          202,
          127,
          182,
          241,
          66,
          94,
          283,
          64,
          102,
          200,
          265,
          94,
          230,
          181,
          156,
          233,
          60,
          219,
          80,
          68,
          332,
          248,
          84,
          200,
          55,
          85,
          89,
          31,
          129,
          83,
          275,
          65,
          198,
          236,
          253,
          124,
          44,
          172,
          114,
          142,
          109,
          180,
          144,
          163,
          147,
          97,
          220,
          190,
          109,
          191,
          122,
          230,
          242,
          248,
          249,
          192,
          131,
          237,
          78,
          135,
          244,
          199,
          270,
          164,
          72,
          96,
          306,
          91,
          214,
          95,
          216,
          263,
          178,
          113,
          200,
          139,
          139,
          88,
          148,
          88,
          243,
          71,
          77,
          109,
          272,
          60,
          54,
          221,
          90,
          311,
          281,
          182,
          321,
          58,
          262,
          206,
          233,
          242,
          123,
          167,
          63,
          197,
          71,
          168,
          140,
          217,
          121,
          235,
          245,
          40,
          52,
          104,
          132,
          88,
          69,
          219,
          72,
          201,
          110,
          51,
          277,
          63,
          118,
          69,
          273,
          258,
          43,
          198,
          242,
          232,
          175,
          93,
          168,
          275,
          293,
          281,
          72,
          140,
          189,
          181,
          209,
          136,
          261,
          113,
          131,
          174,
          257,
          55,
          84,
          42,
          146,
          212,
          233,
          91,
          111,
          152,
          120,
          67,
          310,
          94,
          183,
          66,
          173,
          72,
          49,
          64,
          48,
          178,
          104,
          132,
          220,
          57
         ],
         "yaxis": "y10"
        }
       ],
       "layout": {
        "height": 6000,
        "showlegend": false,
        "template": {
         "data": {
          "bar": [
           {
            "error_x": {
             "color": "#2a3f5f"
            },
            "error_y": {
             "color": "#2a3f5f"
            },
            "marker": {
             "line": {
              "color": "#E5ECF6",
              "width": 0.5
             },
             "pattern": {
              "fillmode": "overlay",
              "size": 10,
              "solidity": 0.2
             }
            },
            "type": "bar"
           }
          ],
          "barpolar": [
           {
            "marker": {
             "line": {
              "color": "#E5ECF6",
              "width": 0.5
             },
             "pattern": {
              "fillmode": "overlay",
              "size": 10,
              "solidity": 0.2
             }
            },
            "type": "barpolar"
           }
          ],
          "carpet": [
           {
            "aaxis": {
             "endlinecolor": "#2a3f5f",
             "gridcolor": "white",
             "linecolor": "white",
             "minorgridcolor": "white",
             "startlinecolor": "#2a3f5f"
            },
            "baxis": {
             "endlinecolor": "#2a3f5f",
             "gridcolor": "white",
             "linecolor": "white",
             "minorgridcolor": "white",
             "startlinecolor": "#2a3f5f"
            },
            "type": "carpet"
           }
          ],
          "choropleth": [
           {
            "colorbar": {
             "outlinewidth": 0,
             "ticks": ""
            },
            "type": "choropleth"
           }
          ],
          "contour": [
           {
            "colorbar": {
             "outlinewidth": 0,
             "ticks": ""
            },
            "colorscale": [
             [
              0,
              "#0d0887"
             ],
             [
              0.1111111111111111,
              "#46039f"
             ],
             [
              0.2222222222222222,
              "#7201a8"
             ],
             [
              0.3333333333333333,
              "#9c179e"
             ],
             [
              0.4444444444444444,
              "#bd3786"
             ],
             [
              0.5555555555555556,
              "#d8576b"
             ],
             [
              0.6666666666666666,
              "#ed7953"
             ],
             [
              0.7777777777777778,
              "#fb9f3a"
             ],
             [
              0.8888888888888888,
              "#fdca26"
             ],
             [
              1,
              "#f0f921"
             ]
            ],
            "type": "contour"
           }
          ],
          "contourcarpet": [
           {
            "colorbar": {
             "outlinewidth": 0,
             "ticks": ""
            },
            "type": "contourcarpet"
           }
          ],
          "heatmap": [
           {
            "colorbar": {
             "outlinewidth": 0,
             "ticks": ""
            },
            "colorscale": [
             [
              0,
              "#0d0887"
             ],
             [
              0.1111111111111111,
              "#46039f"
             ],
             [
              0.2222222222222222,
              "#7201a8"
             ],
             [
              0.3333333333333333,
              "#9c179e"
             ],
             [
              0.4444444444444444,
              "#bd3786"
             ],
             [
              0.5555555555555556,
              "#d8576b"
             ],
             [
              0.6666666666666666,
              "#ed7953"
             ],
             [
              0.7777777777777778,
              "#fb9f3a"
             ],
             [
              0.8888888888888888,
              "#fdca26"
             ],
             [
              1,
              "#f0f921"
             ]
            ],
            "type": "heatmap"
           }
          ],
          "heatmapgl": [
           {
            "colorbar": {
             "outlinewidth": 0,
             "ticks": ""
            },
            "colorscale": [
             [
              0,
              "#0d0887"
             ],
             [
              0.1111111111111111,
              "#46039f"
             ],
             [
              0.2222222222222222,
              "#7201a8"
             ],
             [
              0.3333333333333333,
              "#9c179e"
             ],
             [
              0.4444444444444444,
              "#bd3786"
             ],
             [
              0.5555555555555556,
              "#d8576b"
             ],
             [
              0.6666666666666666,
              "#ed7953"
             ],
             [
              0.7777777777777778,
              "#fb9f3a"
             ],
             [
              0.8888888888888888,
              "#fdca26"
             ],
             [
              1,
              "#f0f921"
             ]
            ],
            "type": "heatmapgl"
           }
          ],
          "histogram": [
           {
            "marker": {
             "pattern": {
              "fillmode": "overlay",
              "size": 10,
              "solidity": 0.2
             }
            },
            "type": "histogram"
           }
          ],
          "histogram2d": [
           {
            "colorbar": {
             "outlinewidth": 0,
             "ticks": ""
            },
            "colorscale": [
             [
              0,
              "#0d0887"
             ],
             [
              0.1111111111111111,
              "#46039f"
             ],
             [
              0.2222222222222222,
              "#7201a8"
             ],
             [
              0.3333333333333333,
              "#9c179e"
             ],
             [
              0.4444444444444444,
              "#bd3786"
             ],
             [
              0.5555555555555556,
              "#d8576b"
             ],
             [
              0.6666666666666666,
              "#ed7953"
             ],
             [
              0.7777777777777778,
              "#fb9f3a"
             ],
             [
              0.8888888888888888,
              "#fdca26"
             ],
             [
              1,
              "#f0f921"
             ]
            ],
            "type": "histogram2d"
           }
          ],
          "histogram2dcontour": [
           {
            "colorbar": {
             "outlinewidth": 0,
             "ticks": ""
            },
            "colorscale": [
             [
              0,
              "#0d0887"
             ],
             [
              0.1111111111111111,
              "#46039f"
             ],
             [
              0.2222222222222222,
              "#7201a8"
             ],
             [
              0.3333333333333333,
              "#9c179e"
             ],
             [
              0.4444444444444444,
              "#bd3786"
             ],
             [
              0.5555555555555556,
              "#d8576b"
             ],
             [
              0.6666666666666666,
              "#ed7953"
             ],
             [
              0.7777777777777778,
              "#fb9f3a"
             ],
             [
              0.8888888888888888,
              "#fdca26"
             ],
             [
              1,
              "#f0f921"
             ]
            ],
            "type": "histogram2dcontour"
           }
          ],
          "mesh3d": [
           {
            "colorbar": {
             "outlinewidth": 0,
             "ticks": ""
            },
            "type": "mesh3d"
           }
          ],
          "parcoords": [
           {
            "line": {
             "colorbar": {
              "outlinewidth": 0,
              "ticks": ""
             }
            },
            "type": "parcoords"
           }
          ],
          "pie": [
           {
            "automargin": true,
            "type": "pie"
           }
          ],
          "scatter": [
           {
            "fillpattern": {
             "fillmode": "overlay",
             "size": 10,
             "solidity": 0.2
            },
            "type": "scatter"
           }
          ],
          "scatter3d": [
           {
            "line": {
             "colorbar": {
              "outlinewidth": 0,
              "ticks": ""
             }
            },
            "marker": {
             "colorbar": {
              "outlinewidth": 0,
              "ticks": ""
             }
            },
            "type": "scatter3d"
           }
          ],
          "scattercarpet": [
           {
            "marker": {
             "colorbar": {
              "outlinewidth": 0,
              "ticks": ""
             }
            },
            "type": "scattercarpet"
           }
          ],
          "scattergeo": [
           {
            "marker": {
             "colorbar": {
              "outlinewidth": 0,
              "ticks": ""
             }
            },
            "type": "scattergeo"
           }
          ],
          "scattergl": [
           {
            "marker": {
             "colorbar": {
              "outlinewidth": 0,
              "ticks": ""
             }
            },
            "type": "scattergl"
           }
          ],
          "scattermapbox": [
           {
            "marker": {
             "colorbar": {
              "outlinewidth": 0,
              "ticks": ""
             }
            },
            "type": "scattermapbox"
           }
          ],
          "scatterpolar": [
           {
            "marker": {
             "colorbar": {
              "outlinewidth": 0,
              "ticks": ""
             }
            },
            "type": "scatterpolar"
           }
          ],
          "scatterpolargl": [
           {
            "marker": {
             "colorbar": {
              "outlinewidth": 0,
              "ticks": ""
             }
            },
            "type": "scatterpolargl"
           }
          ],
          "scatterternary": [
           {
            "marker": {
             "colorbar": {
              "outlinewidth": 0,
              "ticks": ""
             }
            },
            "type": "scatterternary"
           }
          ],
          "surface": [
           {
            "colorbar": {
             "outlinewidth": 0,
             "ticks": ""
            },
            "colorscale": [
             [
              0,
              "#0d0887"
             ],
             [
              0.1111111111111111,
              "#46039f"
             ],
             [
              0.2222222222222222,
              "#7201a8"
             ],
             [
              0.3333333333333333,
              "#9c179e"
             ],
             [
              0.4444444444444444,
              "#bd3786"
             ],
             [
              0.5555555555555556,
              "#d8576b"
             ],
             [
              0.6666666666666666,
              "#ed7953"
             ],
             [
              0.7777777777777778,
              "#fb9f3a"
             ],
             [
              0.8888888888888888,
              "#fdca26"
             ],
             [
              1,
              "#f0f921"
             ]
            ],
            "type": "surface"
           }
          ],
          "table": [
           {
            "cells": {
             "fill": {
              "color": "#EBF0F8"
             },
             "line": {
              "color": "white"
             }
            },
            "header": {
             "fill": {
              "color": "#C8D4E3"
             },
             "line": {
              "color": "white"
             }
            },
            "type": "table"
           }
          ]
         },
         "layout": {
          "annotationdefaults": {
           "arrowcolor": "#2a3f5f",
           "arrowhead": 0,
           "arrowwidth": 1
          },
          "autotypenumbers": "strict",
          "coloraxis": {
           "colorbar": {
            "outlinewidth": 0,
            "ticks": ""
           }
          },
          "colorscale": {
           "diverging": [
            [
             0,
             "#8e0152"
            ],
            [
             0.1,
             "#c51b7d"
            ],
            [
             0.2,
             "#de77ae"
            ],
            [
             0.3,
             "#f1b6da"
            ],
            [
             0.4,
             "#fde0ef"
            ],
            [
             0.5,
             "#f7f7f7"
            ],
            [
             0.6,
             "#e6f5d0"
            ],
            [
             0.7,
             "#b8e186"
            ],
            [
             0.8,
             "#7fbc41"
            ],
            [
             0.9,
             "#4d9221"
            ],
            [
             1,
             "#276419"
            ]
           ],
           "sequential": [
            [
             0,
             "#0d0887"
            ],
            [
             0.1111111111111111,
             "#46039f"
            ],
            [
             0.2222222222222222,
             "#7201a8"
            ],
            [
             0.3333333333333333,
             "#9c179e"
            ],
            [
             0.4444444444444444,
             "#bd3786"
            ],
            [
             0.5555555555555556,
             "#d8576b"
            ],
            [
             0.6666666666666666,
             "#ed7953"
            ],
            [
             0.7777777777777778,
             "#fb9f3a"
            ],
            [
             0.8888888888888888,
             "#fdca26"
            ],
            [
             1,
             "#f0f921"
            ]
           ],
           "sequentialminus": [
            [
             0,
             "#0d0887"
            ],
            [
             0.1111111111111111,
             "#46039f"
            ],
            [
             0.2222222222222222,
             "#7201a8"
            ],
            [
             0.3333333333333333,
             "#9c179e"
            ],
            [
             0.4444444444444444,
             "#bd3786"
            ],
            [
             0.5555555555555556,
             "#d8576b"
            ],
            [
             0.6666666666666666,
             "#ed7953"
            ],
            [
             0.7777777777777778,
             "#fb9f3a"
            ],
            [
             0.8888888888888888,
             "#fdca26"
            ],
            [
             1,
             "#f0f921"
            ]
           ]
          },
          "colorway": [
           "#636efa",
           "#EF553B",
           "#00cc96",
           "#ab63fa",
           "#FFA15A",
           "#19d3f3",
           "#FF6692",
           "#B6E880",
           "#FF97FF",
           "#FECB52"
          ],
          "font": {
           "color": "#2a3f5f"
          },
          "geo": {
           "bgcolor": "white",
           "lakecolor": "white",
           "landcolor": "#E5ECF6",
           "showlakes": true,
           "showland": true,
           "subunitcolor": "white"
          },
          "hoverlabel": {
           "align": "left"
          },
          "hovermode": "closest",
          "mapbox": {
           "style": "light"
          },
          "paper_bgcolor": "white",
          "plot_bgcolor": "#E5ECF6",
          "polar": {
           "angularaxis": {
            "gridcolor": "white",
            "linecolor": "white",
            "ticks": ""
           },
           "bgcolor": "#E5ECF6",
           "radialaxis": {
            "gridcolor": "white",
            "linecolor": "white",
            "ticks": ""
           }
          },
          "scene": {
           "xaxis": {
            "backgroundcolor": "#E5ECF6",
            "gridcolor": "white",
            "gridwidth": 2,
            "linecolor": "white",
            "showbackground": true,
            "ticks": "",
            "zerolinecolor": "white"
           },
           "yaxis": {
            "backgroundcolor": "#E5ECF6",
            "gridcolor": "white",
            "gridwidth": 2,
            "linecolor": "white",
            "showbackground": true,
            "ticks": "",
            "zerolinecolor": "white"
           },
           "zaxis": {
            "backgroundcolor": "#E5ECF6",
            "gridcolor": "white",
            "gridwidth": 2,
            "linecolor": "white",
            "showbackground": true,
            "ticks": "",
            "zerolinecolor": "white"
           }
          },
          "shapedefaults": {
           "line": {
            "color": "#2a3f5f"
           }
          },
          "ternary": {
           "aaxis": {
            "gridcolor": "white",
            "linecolor": "white",
            "ticks": ""
           },
           "baxis": {
            "gridcolor": "white",
            "linecolor": "white",
            "ticks": ""
           },
           "bgcolor": "#E5ECF6",
           "caxis": {
            "gridcolor": "white",
            "linecolor": "white",
            "ticks": ""
           }
          },
          "title": {
           "x": 0.05
          },
          "xaxis": {
           "automargin": true,
           "gridcolor": "white",
           "linecolor": "white",
           "ticks": "",
           "title": {
            "standoff": 15
           },
           "zerolinecolor": "white",
           "zerolinewidth": 2
          },
          "yaxis": {
           "automargin": true,
           "gridcolor": "white",
           "linecolor": "white",
           "ticks": "",
           "title": {
            "standoff": 15
           },
           "zerolinecolor": "white",
           "zerolinewidth": 2
          }
         }
        },
        "xaxis": {
         "anchor": "y",
         "domain": [
          0,
          1
         ],
         "title": {
          "text": "Feature age"
         }
        },
        "xaxis10": {
         "anchor": "y10",
         "domain": [
          0,
          1
         ],
         "title": {
          "text": "Feature s6"
         }
        },
        "xaxis2": {
         "anchor": "y2",
         "domain": [
          0,
          1
         ],
         "title": {
          "text": "Feature sex"
         }
        },
        "xaxis3": {
         "anchor": "y3",
         "domain": [
          0,
          1
         ],
         "title": {
          "text": "Feature bmi"
         }
        },
        "xaxis4": {
         "anchor": "y4",
         "domain": [
          0,
          1
         ],
         "title": {
          "text": "Feature bp"
         }
        },
        "xaxis5": {
         "anchor": "y5",
         "domain": [
          0,
          1
         ],
         "title": {
          "text": "Feature s1"
         }
        },
        "xaxis6": {
         "anchor": "y6",
         "domain": [
          0,
          1
         ],
         "title": {
          "text": "Feature s2"
         }
        },
        "xaxis7": {
         "anchor": "y7",
         "domain": [
          0,
          1
         ],
         "title": {
          "text": "Feature s3"
         }
        },
        "xaxis8": {
         "anchor": "y8",
         "domain": [
          0,
          1
         ],
         "title": {
          "text": "Feature s4"
         }
        },
        "xaxis9": {
         "anchor": "y9",
         "domain": [
          0,
          1
         ],
         "title": {
          "text": "Feature s5"
         }
        },
        "yaxis": {
         "anchor": "x",
         "domain": [
          0.9269999999999999,
          0.9999999999999999
         ],
         "title": {
          "text": "Diab progression"
         }
        },
        "yaxis10": {
         "anchor": "x10",
         "domain": [
          0,
          0.073
         ],
         "title": {
          "text": "Diab progression"
         }
        },
        "yaxis2": {
         "anchor": "x2",
         "domain": [
          0.824,
          0.8969999999999999
         ],
         "title": {
          "text": "Diab progression"
         }
        },
        "yaxis3": {
         "anchor": "x3",
         "domain": [
          0.721,
          0.7939999999999999
         ],
         "title": {
          "text": "Diab progression"
         }
        },
        "yaxis4": {
         "anchor": "x4",
         "domain": [
          0.618,
          0.691
         ],
         "title": {
          "text": "Diab progression"
         }
        },
        "yaxis5": {
         "anchor": "x5",
         "domain": [
          0.515,
          0.588
         ],
         "title": {
          "text": "Diab progression"
         }
        },
        "yaxis6": {
         "anchor": "x6",
         "domain": [
          0.412,
          0.485
         ],
         "title": {
          "text": "Diab progression"
         }
        },
        "yaxis7": {
         "anchor": "x7",
         "domain": [
          0.30899999999999994,
          0.38199999999999995
         ],
         "title": {
          "text": "Diab progression"
         }
        },
        "yaxis8": {
         "anchor": "x8",
         "domain": [
          0.206,
          0.27899999999999997
         ],
         "title": {
          "text": "Diab progression"
         }
        },
        "yaxis9": {
         "anchor": "x9",
         "domain": [
          0.103,
          0.176
         ],
         "title": {
          "text": "Diab progression"
         }
        }
       }
      }
     },
     "metadata": {},
     "output_type": "display_data"
    }
   ],
   "source": [
    "# Get the number of features\n",
    "num_features = X_diab.shape[1]\n",
    "\n",
    "# Create a figure with subplots\n",
    "fig = make_subplots(rows=num_features, cols=1)\n",
    "\n",
    "# Iterate over each feature\n",
    "for i in range(num_features):\n",
    "    # Scatter plot of the feature with y_diab\n",
    "    fig.add_trace(go.Scatter(x=X_diab[:, i], y=y_diab, mode='markers'), row=i+1, col=1)\n",
    "\n",
    "    # Set x and y axis labels\n",
    "    fig.update_xaxes(title_text=f'Feature {feature_names[i]}', row=i+1, col=1)\n",
    "    fig.update_yaxes(title_text='Diab progression', row=i+1, col=1)\n",
    "\n",
    "# Update layout\n",
    "fig.update_layout(height=600*num_features, showlegend=False)\n",
    "\n",
    "# Show the plot\n",
    "fig.show()\n"
   ]
  },
  {
   "cell_type": "markdown",
   "metadata": {},
   "source": [
    "Let's define a function creating pairs of our variables"
   ]
  },
  {
   "cell_type": "code",
   "execution_count": null,
   "metadata": {},
   "outputs": [],
   "source": [
    "from itertools import combinations\n",
    "\n",
    "def get_pairs(X):\n",
    "    num_features = X.shape[1]\n",
    "    pairs = list(combinations(range(num_features), 2))\n",
    "    return num_features, pairs"
   ]
  },
  {
   "cell_type": "markdown",
   "metadata": {},
   "source": [
    "Run the function of our features"
   ]
  },
  {
   "cell_type": "code",
   "execution_count": null,
   "metadata": {},
   "outputs": [],
   "source": [
    "num_features, pairs = get_pairs(X_diab)\n",
    "print(\"Number of features:\", num_features)\n",
    "print(\"Pairs of features:\", pairs)\n",
    "print(\"Number of pairs:\", len(pairs))\n"
   ]
  },
  {
   "cell_type": "code",
   "execution_count": null,
   "metadata": {},
   "outputs": [],
   "source": [
    "fig = make_subplots(rows=len(pairs), cols=1)\n",
    "\n",
    "# Plot pairwise scatter plots\n",
    "for i, (feature1, feature2) in enumerate(pairs):\n",
    "    fig.add_trace(\n",
    "         go.Scatter(\n",
    "              x=X_diab[:, feature1],\n",
    "              y=X_diab[:, feature2],\n",
    "              mode='markers',\n",
    "              marker=dict(color='#C00000')\n",
    "              ),\n",
    "              col=1,\n",
    "              row=i+1\n",
    "            )\n",
    "    fig.update_xaxes(title_text=f'Feature {feature_names[feature1]}', row=i+1, col=1)\n",
    "    fig.update_yaxes(title_text=f'Feature {feature_names[feature2]}', row=i+1, col=1)\n",
    "\n",
    "# Update layout\n",
    "fig.update_layout(height=len(pairs)*300, showlegend=False)\n",
    "\n",
    "# Show the plot\n",
    "fig.show()\n"
   ]
  },
  {
   "cell_type": "markdown",
   "metadata": {},
   "source": [
    "## Dimentionality reduction template"
   ]
  },
  {
   "cell_type": "markdown",
   "metadata": {},
   "source": [
    "Let's implement PCA decomposition to compress our data into a 3-dimensional subspace so we can visualize it as a scatter plot.\n",
    "Showing it on diab dataset example"
   ]
  },
  {
   "cell_type": "code",
   "execution_count": 35,
   "metadata": {},
   "outputs": [],
   "source": [
    "# initializing t-SNE dimensionality reduction and implementing it\n",
    "pca_3D = PCA(n_components = 3).fit(X_diab)\n",
    "X_pca = pca_3D.transform(X_diab)\n",
    "\n",
    "#\n",
    "df_pca_3D = pd.DataFrame(X_pca,columns = ['principal_component_1','principal_component_2','principal_component_3'])\n",
    "df_pca_3D['Diabetes Progression'] = y_diab"
   ]
  },
  {
   "cell_type": "code",
   "execution_count": 36,
   "metadata": {},
   "outputs": [
    {
     "data": {
      "text/html": [
       "<div>\n",
       "<style scoped>\n",
       "    .dataframe tbody tr th:only-of-type {\n",
       "        vertical-align: middle;\n",
       "    }\n",
       "\n",
       "    .dataframe tbody tr th {\n",
       "        vertical-align: top;\n",
       "    }\n",
       "\n",
       "    .dataframe thead th {\n",
       "        text-align: right;\n",
       "    }\n",
       "</style>\n",
       "<table border=\"1\" class=\"dataframe\">\n",
       "  <thead>\n",
       "    <tr style=\"text-align: right;\">\n",
       "      <th></th>\n",
       "      <th>principal_component_1</th>\n",
       "      <th>principal_component_2</th>\n",
       "      <th>principal_component_3</th>\n",
       "      <th>Diabetes Progression</th>\n",
       "    </tr>\n",
       "  </thead>\n",
       "  <tbody>\n",
       "    <tr>\n",
       "      <th>0</th>\n",
       "      <td>0.027930</td>\n",
       "      <td>-0.092601</td>\n",
       "      <td>0.028026</td>\n",
       "      <td>151.0</td>\n",
       "    </tr>\n",
       "    <tr>\n",
       "      <th>1</th>\n",
       "      <td>-0.134687</td>\n",
       "      <td>0.065263</td>\n",
       "      <td>0.001328</td>\n",
       "      <td>75.0</td>\n",
       "    </tr>\n",
       "    <tr>\n",
       "      <th>2</th>\n",
       "      <td>0.012944</td>\n",
       "      <td>-0.077764</td>\n",
       "      <td>0.035162</td>\n",
       "      <td>141.0</td>\n",
       "    </tr>\n",
       "    <tr>\n",
       "      <th>3</th>\n",
       "      <td>0.002344</td>\n",
       "      <td>0.018183</td>\n",
       "      <td>-0.095750</td>\n",
       "      <td>206.0</td>\n",
       "    </tr>\n",
       "    <tr>\n",
       "      <th>4</th>\n",
       "      <td>-0.035979</td>\n",
       "      <td>0.038621</td>\n",
       "      <td>-0.002723</td>\n",
       "      <td>135.0</td>\n",
       "    </tr>\n",
       "  </tbody>\n",
       "</table>\n",
       "</div>"
      ],
      "text/plain": [
       "   principal_component_1  principal_component_2  principal_component_3  \\\n",
       "0               0.027930              -0.092601               0.028026   \n",
       "1              -0.134687               0.065263               0.001328   \n",
       "2               0.012944              -0.077764               0.035162   \n",
       "3               0.002344               0.018183              -0.095750   \n",
       "4              -0.035979               0.038621              -0.002723   \n",
       "\n",
       "   Diabetes Progression  \n",
       "0                 151.0  \n",
       "1                  75.0  \n",
       "2                 141.0  \n",
       "3                 206.0  \n",
       "4                 135.0  "
      ]
     },
     "execution_count": 36,
     "metadata": {},
     "output_type": "execute_result"
    }
   ],
   "source": [
    "df_pca_3D.head()"
   ]
  },
  {
   "cell_type": "markdown",
   "metadata": {},
   "source": [
    "We preserved around 67% of the variance with PCA"
   ]
  },
  {
   "cell_type": "code",
   "execution_count": 37,
   "metadata": {},
   "outputs": [
    {
     "data": {
      "text/plain": [
       "0.6722496686876479"
      ]
     },
     "execution_count": 37,
     "metadata": {},
     "output_type": "execute_result"
    }
   ],
   "source": [
    "# pca.explained_variance_ration_ returns a list where it shows the amount of variance explained by each principal component.\n",
    "sum(pca_3D.explained_variance_ratio_)"
   ]
  },
  {
   "cell_type": "code",
   "execution_count": 38,
   "metadata": {},
   "outputs": [
    {
     "data": {
      "application/vnd.plotly.v1+json": {
       "config": {
        "plotlyServerURL": "https://plot.ly"
       },
       "data": [
        {
         "hovertemplate": "principal_component_1=%{x}<br>principal_component_2=%{y}<br>principal_component_3=%{z}<br>Diabetes Progression=%{marker.color}<extra></extra>",
         "legendgroup": "",
         "marker": {
          "color": [
           151,
           75,
           141,
           206,
           135,
           97,
           138,
           63,
           110,
           310,
           101,
           69,
           179,
           185,
           118,
           171,
           166,
           144,
           97,
           168,
           68,
           49,
           68,
           245,
           184,
           202,
           137,
           85,
           131,
           283,
           129,
           59,
           341,
           87,
           65,
           102,
           265,
           276,
           252,
           90,
           100,
           55,
           61,
           92,
           259,
           53,
           190,
           142,
           75,
           142,
           155,
           225,
           59,
           104,
           182,
           128,
           52,
           37,
           170,
           170,
           61,
           144,
           52,
           128,
           71,
           163,
           150,
           97,
           160,
           178,
           48,
           270,
           202,
           111,
           85,
           42,
           170,
           200,
           252,
           113,
           143,
           51,
           52,
           210,
           65,
           141,
           55,
           134,
           42,
           111,
           98,
           164,
           48,
           96,
           90,
           162,
           150,
           279,
           92,
           83,
           128,
           102,
           302,
           198,
           95,
           53,
           134,
           144,
           232,
           81,
           104,
           59,
           246,
           297,
           258,
           229,
           275,
           281,
           179,
           200,
           200,
           173,
           180,
           84,
           121,
           161,
           99,
           109,
           115,
           268,
           274,
           158,
           107,
           83,
           103,
           272,
           85,
           280,
           336,
           281,
           118,
           317,
           235,
           60,
           174,
           259,
           178,
           128,
           96,
           126,
           288,
           88,
           292,
           71,
           197,
           186,
           25,
           84,
           96,
           195,
           53,
           217,
           172,
           131,
           214,
           59,
           70,
           220,
           268,
           152,
           47,
           74,
           295,
           101,
           151,
           127,
           237,
           225,
           81,
           151,
           107,
           64,
           138,
           185,
           265,
           101,
           137,
           143,
           141,
           79,
           292,
           178,
           91,
           116,
           86,
           122,
           72,
           129,
           142,
           90,
           158,
           39,
           196,
           222,
           277,
           99,
           196,
           202,
           155,
           77,
           191,
           70,
           73,
           49,
           65,
           263,
           248,
           296,
           214,
           185,
           78,
           93,
           252,
           150,
           77,
           208,
           77,
           108,
           160,
           53,
           220,
           154,
           259,
           90,
           246,
           124,
           67,
           72,
           257,
           262,
           275,
           177,
           71,
           47,
           187,
           125,
           78,
           51,
           258,
           215,
           303,
           243,
           91,
           150,
           310,
           153,
           346,
           63,
           89,
           50,
           39,
           103,
           308,
           116,
           145,
           74,
           45,
           115,
           264,
           87,
           202,
           127,
           182,
           241,
           66,
           94,
           283,
           64,
           102,
           200,
           265,
           94,
           230,
           181,
           156,
           233,
           60,
           219,
           80,
           68,
           332,
           248,
           84,
           200,
           55,
           85,
           89,
           31,
           129,
           83,
           275,
           65,
           198,
           236,
           253,
           124,
           44,
           172,
           114,
           142,
           109,
           180,
           144,
           163,
           147,
           97,
           220,
           190,
           109,
           191,
           122,
           230,
           242,
           248,
           249,
           192,
           131,
           237,
           78,
           135,
           244,
           199,
           270,
           164,
           72,
           96,
           306,
           91,
           214,
           95,
           216,
           263,
           178,
           113,
           200,
           139,
           139,
           88,
           148,
           88,
           243,
           71,
           77,
           109,
           272,
           60,
           54,
           221,
           90,
           311,
           281,
           182,
           321,
           58,
           262,
           206,
           233,
           242,
           123,
           167,
           63,
           197,
           71,
           168,
           140,
           217,
           121,
           235,
           245,
           40,
           52,
           104,
           132,
           88,
           69,
           219,
           72,
           201,
           110,
           51,
           277,
           63,
           118,
           69,
           273,
           258,
           43,
           198,
           242,
           232,
           175,
           93,
           168,
           275,
           293,
           281,
           72,
           140,
           189,
           181,
           209,
           136,
           261,
           113,
           131,
           174,
           257,
           55,
           84,
           42,
           146,
           212,
           233,
           91,
           111,
           152,
           120,
           67,
           310,
           94,
           183,
           66,
           173,
           72,
           49,
           64,
           48,
           178,
           104,
           132,
           220,
           57
          ],
          "coloraxis": "coloraxis",
          "symbol": "circle"
         },
         "mode": "markers",
         "name": "",
         "scene": "scene",
         "showlegend": false,
         "type": "scatter3d",
         "x": [
          0.02793021430775242,
          -0.13468668440828674,
          0.012943835088335432,
          0.0023440650095196626,
          -0.03597929477521216,
          -0.18865864812409394,
          -0.09483621691911896,
          0.09873891409489155,
          0.028682263056201796,
          -0.010090580339882626,
          -0.18342094400946535,
          0.018879143594194205,
          -0.07593104336522956,
          0.015147634571074249,
          -0.0801680343169581,
          0.14048967957593503,
          0.007584722754605119,
          0.10883769306065776,
          -0.05499288952758035,
          -0.08426474450673548,
          -0.09559389994513302,
          -0.09187364358648466,
          -0.07972647845231538,
          0.17948892484515563,
          -0.06133959323872777,
          0.003922897972468746,
          -0.1848279788137223,
          -0.0496968645892729,
          -0.08367947541821266,
          -0.017188845157392173,
          -0.05586127056803854,
          -0.16496845360281048,
          0.12405641267623144,
          -0.13651207026518108,
          -0.1401616695211403,
          -0.033442470121850296,
          -0.006776147628327848,
          -0.06694458348681602,
          0.18519306599254548,
          0.007286754502146295,
          0.1155071137210368,
          -0.17446400512564958,
          -0.027653573830820382,
          -0.08569073618342049,
          0.09679971092446386,
          -0.010148631727656275,
          -0.1155696036478734,
          -0.1617630818186127,
          -0.040702017614885,
          0.06125962352327731,
          -0.049236149796260696,
          0.00978358812546922,
          -0.01461706488353004,
          0.013467575293208928,
          -0.040883262200180404,
          -0.11662162674956603,
          -0.015202150357941313,
          -0.20513665249309376,
          -0.1259062025385206,
          0.06899439481576185,
          -0.1642544046136189,
          0.03577286390397417,
          -0.09159180128268399,
          -0.05323210570442696,
          -0.05724126439521931,
          0.08245918680373757,
          0.04766207200209759,
          0.009975910720015866,
          -0.024269619171210417,
          -0.09412942497455053,
          -0.08434508959002747,
          0.08470772989777066,
          0.08047915460375192,
          0.04895582183865355,
          0.04014723655676773,
          0.002999860639409119,
          -0.06256716578746446,
          -0.1332011771186154,
          -0.07474659165133522,
          -0.08004701338388526,
          0.05755784985382689,
          0.02914012079515959,
          -0.1099659142179657,
          -0.09916784619703059,
          -0.16980174295612233,
          -0.04022225444092137,
          -0.09984014096265564,
          -0.010218025561077834,
          -0.07489474504482559,
          -0.08273882572226364,
          -0.12908481925853993,
          0.08507360428999136,
          -0.016668501222625136,
          -0.14110777339003983,
          -0.12085999345113757,
          -0.07929171899708988,
          0.09260945018741448,
          0.07816749105152108,
          -0.04848113580506779,
          0.0028558705491342077,
          0.03470620695171443,
          -0.014706178454113131,
          -0.03775006582001551,
          0.08812316573089987,
          -0.07674996985953395,
          -0.019576929229943973,
          -0.16084151265552674,
          0.02829763848046798,
          0.05714622524980848,
          0.09051893846519596,
          -0.09686042472274174,
          -0.05808034136623974,
          -0.027217664888491543,
          0.12224166745395092,
          0.10154406827651187,
          0.13353772975599695,
          0.10680462271637965,
          0.16598546555176913,
          0.07508098663133253,
          -0.04868111803359335,
          -0.05201683045298503,
          0.06308187228225438,
          0.16207882150921946,
          0.26964467787092383,
          -0.05943258717516421,
          0.013252541532434345,
          -0.1891553737232375,
          -0.03738321195027044,
          -0.10967761737057201,
          0.08273479153927567,
          0.08358663697725768,
          -0.14395075368922128,
          0.034085602667916756,
          -0.133981221295638,
          -0.07621232206906044,
          0.04029050046400966,
          -0.19220854672973015,
          0.02628864566274,
          0.08791678711992416,
          0.026756076181363213,
          0.02701684273848364,
          0.15724799787985624,
          0.08179568005839508,
          -0.07409353029589738,
          0.10239881691545703,
          -0.026845914674608222,
          0.07135497536043153,
          0.057599841413639816,
          0.0069727301710792895,
          0.0310930000167368,
          0.005724447960790123,
          -0.061482651438423803,
          0.15662276522188512,
          0.019993308889381965,
          0.0489716148210068,
          0.14049130697543874,
          -0.07955737036797937,
          0.04526110604845175,
          -0.07383219317066177,
          0.0476711433361279,
          -0.10897879973845438,
          0.2439699211875423,
          -0.055148633195863564,
          0.06641014992659537,
          -0.03662785730210725,
          -0.1346796330026357,
          -0.16241353834517816,
          0.13698692297672516,
          0.2006437057304784,
          0.11192900422426894,
          -0.08760882580906393,
          -0.14701278502640705,
          0.13626744929765602,
          -0.11653588495572066,
          -0.05918365191769821,
          -0.06138054739387656,
          0.053677030403569435,
          0.10756323986189639,
          -0.059776715698635116,
          0.02911897905640121,
          0.044342845914384116,
          -0.0331303374752172,
          0.13444732682264965,
          0.0497179077302216,
          0.010945640165622932,
          0.027677526323851304,
          0.10460200007050904,
          -0.21466030822281973,
          0.038271421876705396,
          -0.04902213861963262,
          0.024764505795423553,
          -0.07741224374068674,
          -0.028255313828243377,
          0.1090082229132452,
          -0.07263731719371684,
          0.08954773706196745,
          -0.03309960113113032,
          0.08878757093549132,
          -0.10145787864199303,
          0.025494423686137576,
          -0.002139971371805745,
          -0.06402820492220145,
          0.14426488624772715,
          0.12657707894188652,
          0.08500446132352403,
          -0.004786231851652594,
          0.06255630691541637,
          0.019232245783328904,
          0.11138651610689188,
          0.0344176908337562,
          -0.031084404062090926,
          -0.0183106544780107,
          0.01404343686233002,
          -0.06720167656848278,
          -0.15749486782849242,
          0.10662625747559745,
          0.195605139211081,
          0.09532813414718842,
          -0.0197790212317339,
          -0.12293194053678402,
          -0.10773578067590191,
          -0.0458754083193239,
          -0.03126796805491087,
          -0.13911087153194268,
          -0.1303477471512054,
          0.06944886824177815,
          -0.10960746848405195,
          -0.029993048812337064,
          -0.06841923777930177,
          -0.042129348119499456,
          0.18696935295410536,
          0.0008394118883186015,
          0.09766555397498168,
          -0.06942584076670964,
          0.05459856171445317,
          0.039630998805211363,
          0.09085787578920948,
          -0.08361536668214102,
          0.06459369999047355,
          0.06334996330061474,
          0.10267847059585844,
          0.03105039424804998,
          -0.14449217276620516,
          -0.04343523737568923,
          -0.06838664231804609,
          -0.1591819170184575,
          -0.0026569485839672037,
          -0.13809219438866072,
          0.1927991964999982,
          0.09702403224435556,
          0.07301398363499455,
          0.19724331154058344,
          0.045443042423218324,
          0.11477398943445166,
          0.18192577230027335,
          -0.06616417311995176,
          0.04235144343782398,
          -0.06720325804553602,
          0.08676669909176099,
          -0.009861821149652152,
          -0.13737884872337427,
          -0.061646567175363355,
          0.1177551670572999,
          -0.1216674643178799,
          -0.01892070853820869,
          -0.0013743309410889175,
          -0.13266927567173778,
          0.06647720634201781,
          0.16899376110324338,
          -0.10691082710145701,
          0.00012130262571835822,
          0.015424880117872916,
          -0.11494908197291835,
          0.16157271765249373,
          0.0075885852635086985,
          0.02627576319358853,
          0.09042782269051071,
          -0.13414243024641082,
          0.03526280950079633,
          -0.04249832504377638,
          0.03143836781826477,
          -0.0619630095455513,
          0.0872464305525537,
          -0.12275414982513037,
          -0.019357554659760124,
          0.07919947133370012,
          -0.17766717786552427,
          0.1020947550658302,
          0.01644805893616983,
          0.09121230125284346,
          0.11468205452990181,
          0.06635393914595566,
          -0.15173823948175735,
          0.008853149160349433,
          -0.026890247443231097,
          -0.020601543943186883,
          -0.10771982002266499,
          -0.11023734656835374,
          -0.09115754475665588,
          -0.01822632866987791,
          0.03406231092778338,
          0.02984400517922185,
          0.05896547525677194,
          0.08414366529683712,
          0.11741136516254788,
          0.021457659664235757,
          -0.03972047327347392,
          0.09485304617454905,
          -0.17604912765388073,
          0.0850519387429429,
          0.03228134218471909,
          0.07987717730042099,
          -0.09082442671778086,
          0.10924201259312384,
          -0.025592544638663922,
          -0.046344594387807046,
          0.07578081302128134,
          0.09738765822301908,
          0.012275238851707157,
          -0.01987005090549307,
          0.10387535473490252,
          0.22071230648170298,
          0.21512161875475078,
          0.18408773579733007,
          0.1473941016765611,
          0.13078570803538778,
          0.051979058456670446,
          0.059069981893157784,
          -0.02340075006322315,
          -0.04506931600234353,
          0.08925308082375738,
          -0.03822099307054381,
          0.10759120443303152,
          0.06753583123726023,
          -0.12554285283648864,
          -0.10047358407098393,
          0.19360835256678374,
          0.05661033812700125,
          -0.053934322587954456,
          0.0382061987638124,
          -0.030506891213165244,
          0.035243107596738835,
          0.05423547971436853,
          -0.025099861271786424,
          0.005272036352729756,
          0.06919540844464006,
          0.17861951955223385,
          -0.031007443268412937,
          -0.06467809327957708,
          -0.07284779089423542,
          0.11924877984152275,
          -0.13344574449229343,
          -0.16038403779860202,
          0.0463969763256813,
          0.1553394651997426,
          -0.03199098345114742,
          -0.03822324724735745,
          0.003954580818310866,
          -0.14998429753260248,
          0.0836770746329229,
          0.016757488577153864,
          -0.09259965220535844,
          0.06321673413095419,
          0.0069725692497956925,
          0.06428252818368609,
          0.033342909985747765,
          0.14753417999801072,
          0.12927958346211493,
          0.09516979571619547,
          0.0064873618913041,
          -0.12762725510955564,
          0.10024484160128298,
          -0.01849774625632522,
          -0.1046004796009452,
          -0.15208686120983425,
          0.07616921671570177,
          0.1585710546065041,
          0.073878304592435,
          0.03935289669967386,
          -0.1418622873668095,
          -0.05582081237280156,
          -0.09148359231162403,
          0.04296906481033028,
          -0.04543889168076595,
          0.057845801727812715,
          -0.05347564337209969,
          -0.0721817307897893,
          -0.11383346821642369,
          0.02717666633001933,
          -0.09871270529562055,
          0.13734587687985647,
          -0.1626766981292967,
          0.012069317476918747,
          -0.11184822891785712,
          0.10667783321047473,
          -0.04917114017739271,
          -0.13539585665899556,
          -0.029056476366158088,
          0.010521315847359217,
          0.07669373846405188,
          -0.04669197251866722,
          -0.12178588817751132,
          0.09104996700679666,
          0.046170137666138374,
          -0.03019364535041356,
          0.031335218505348476,
          -0.18603573330869774,
          0.03325540309628012,
          0.08713346895043005,
          0.10644060987882376,
          0.0649625072590785,
          -0.11785860447125386,
          0.08509085472833272,
          -0.058846660780623075,
          0.1784407893540876,
          0.05436788294708969,
          0.049077918109120794,
          -0.05129680488176204,
          0.019230720268357263,
          -0.1368408618438645,
          0.03240948590192229,
          0.12474577156035106,
          0.08383114682414922,
          0.10406667660748485,
          0.0456184400520933,
          -0.1972207110284321,
          0.13654571583663713,
          -0.06693820613492044,
          0.17959840564077573,
          -0.051653668652736254,
          -0.004451448066414479,
          -0.040554540994899115,
          0.11053197415424153,
          -0.09149275702865389,
          -0.028901954578405158,
          -0.05627279291154035,
          -0.17899893082317328,
          0.05895818601965705,
          0.06015655786610476,
          -0.009760672302898864,
          0.03295651832963224,
          -0.09056122261222582
         ],
         "y": [
          -0.09260136461319614,
          0.06526327269524711,
          -0.07776432196626316,
          0.018183111545431684,
          0.03862101040214441,
          -0.018125181050053677,
          -0.03831530197316466,
          0.08694456761835623,
          -0.041916593189305934,
          -0.023444351621490996,
          -0.07287386360221114,
          -0.030086610935846355,
          0.046683454581159106,
          -0.03096925308792213,
          0.08647020452949977,
          0.04519004382347722,
          0.043393828694868915,
          -0.007068479220569903,
          -0.020372179879547814,
          0.04418091133826898,
          -0.013793937680985843,
          -0.03954224821068263,
          0.034231663597443895,
          -0.08392395101681813,
          -0.01186478194418015,
          -0.05108158305198495,
          -0.04678732759759668,
          -0.02631180632614662,
          -0.002873150842038711,
          -0.06699185655661327,
          0.017026190005635534,
          0.031072168625040354,
          -0.13990225391395758,
          0.0259189069594957,
          -0.0056335553545707965,
          0.08954529981370604,
          0.021024832490694624,
          0.007152792495554309,
          0.020869821163307083,
          -0.014952907629009046,
          0.02041930145299581,
          -0.02473915884616027,
          -0.08512644138761777,
          0.09886945266853607,
          -0.079760421132822,
          -0.023365896740940778,
          -0.014848434267307007,
          -0.05130322306412048,
          0.01946875767893433,
          -0.06879025454214727,
          -0.023338039279071392,
          -0.07297381395103114,
          0.07555845319404034,
          0.031508193289550415,
          0.05951515421612012,
          0.06089789541378942,
          -0.037350627379529905,
          -0.027131230164977493,
          0.10604626976132746,
          0.05749053692271452,
          -0.017585372261438043,
          -0.10059514188644672,
          0.01041987965292419,
          0.06150603030897019,
          -0.06998171528024903,
          -0.05100869707311555,
          -0.062389766217285536,
          -0.019373781580961962,
          -0.04267906083049903,
          -0.050213320251900034,
          0.06225696231644734,
          0.009745600998972,
          0.09467967555396414,
          0.02590640290861113,
          0.013541565315608137,
          -0.031532171482281934,
          -0.18123770569779982,
          0.0067672862943698765,
          -0.061564567727725006,
          0.04288551103505948,
          0.10434056521488183,
          -0.005131364268352329,
          0.11434800674560144,
          -0.036146295446682006,
          0.04604916667082159,
          0.01954938053164132,
          -0.05610508247974596,
          0.11587693660742815,
          -0.024599660096951716,
          0.053662352417863685,
          0.03498618389316096,
          0.0740964738444909,
          0.029225985904199052,
          0.07138060860582213,
          0.059310374851725946,
          -0.026252073271175458,
          -0.06218226630390038,
          0.012181175273428213,
          -0.019373664607071996,
          0.053363235247784885,
          0.0878325309175133,
          0.017956941222733332,
          0.07477732615537111,
          0.013068598221918831,
          0.005262854855439483,
          -0.044379935495913306,
          0.004416074128516973,
          0.003930780768809747,
          -0.1343278907913628,
          -0.0383286337860246,
          -0.036378219603985976,
          0.08025863379001849,
          0.024941233901682517,
          -0.04690446415129026,
          -0.03358226987188607,
          0.005428715171218399,
          -0.03514875310274545,
          0.0091906268646795,
          -0.020227978412682587,
          0.011692568827823366,
          -0.02293857528340731,
          0.006689184062100063,
          -0.016151940594028046,
          0.10284325436350025,
          -0.009573755895030104,
          -0.08705501108754442,
          0.0032154232181065352,
          0.06248250508010522,
          0.04758427086138082,
          -0.0033085782925646374,
          -0.06574445895753601,
          0.03575824843461296,
          0.02602744374609986,
          -0.08278474775615072,
          0.0583073343754757,
          -0.07965184780607296,
          0.0014395356119855341,
          -0.02248257426182976,
          -0.09737366564089793,
          -0.05610179362991959,
          -0.06614617923405806,
          -0.0010483190636001026,
          0.02796852484778682,
          0.0753525512451698,
          -0.02353287358486819,
          -0.033921293905000476,
          -0.03436879308893732,
          0.0017982999470905988,
          0.031961027743277116,
          -0.07393519683167865,
          -0.03751179090736036,
          0.03359175171491011,
          -0.024870797807568044,
          -0.021634655004844773,
          0.002833509661472241,
          0.0421148355636878,
          -0.0075549102735849895,
          0.014536522594602044,
          0.04908295550145064,
          0.002700227578624226,
          0.027195496072065097,
          0.058273638976462726,
          0.0013853896374383691,
          -0.05085807003642776,
          0.08281709115119135,
          0.02110241172335894,
          -0.08393227713266736,
          -0.01448169969294237,
          -0.013746868352700527,
          0.007137492826265808,
          0.011737801988652867,
          -0.034492213310571965,
          -0.02128171719367295,
          -0.07797706140462916,
          -0.1313267744780259,
          0.006896332732775629,
          0.00020040865099655236,
          -0.001014460027602899,
          0.08785162364775678,
          0.02707883616146195,
          -0.05717138681169355,
          0.10569352121459198,
          0.026789510841870614,
          -0.03427780416602215,
          -0.028686801063777613,
          -0.07940777041253788,
          -0.018509707465026868,
          -0.013455733614388335,
          0.10960387445242162,
          0.0360160246017988,
          -0.023355383317746656,
          -0.10100982787946673,
          0.032889528460454995,
          0.04115903317214847,
          -0.03740404130175521,
          -0.01207038418501354,
          0.08246217529257523,
          -0.05970777253123824,
          -0.034413468139412824,
          0.05637005266581483,
          0.1089219092960265,
          0.0013191328279818758,
          0.10055940016457722,
          -0.01116901301762636,
          -0.07171751314909815,
          -0.023377188326214958,
          -0.004355612202888259,
          0.019089999276033033,
          0.0021681050453321855,
          -0.1007952950784716,
          0.11069983992855034,
          -0.0037996170279479082,
          0.09413118943467948,
          0.04632992117129567,
          0.026539981838986103,
          -0.11280084443377389,
          -0.01724116842866908,
          0.048541262475240037,
          0.011106391165642287,
          -0.03996246926639938,
          -0.03737759838285133,
          0.003543906796419695,
          -0.08490350904162847,
          -0.021837842780804372,
          -0.0005615128597434313,
          -0.11226705913970311,
          -0.015248618231742095,
          0.014357450719863137,
          0.04005773135611683,
          0.010985260244093336,
          0.12303496375121113,
          0.029289607112654582,
          0.00407980282873429,
          0.023445696944835007,
          -0.0019247147692286425,
          -0.1083117012103201,
          0.09382297485872171,
          0.0661180744613231,
          -0.09095044100617357,
          0.1090208128110654,
          -0.07180996540655542,
          0.004152938694553363,
          -0.09612106349261991,
          -0.03986334818500894,
          -0.06295854770467803,
          -0.0031835296910854437,
          0.1344099659774418,
          0.07156367391074112,
          0.1061475115806311,
          0.02707109714355608,
          -0.04586172671618046,
          -0.034978077232596196,
          0.03136291500769595,
          0.052095316915177034,
          -0.04887815970045449,
          0.0384818160814986,
          -0.05712794553994053,
          0.003255512815460404,
          -0.02288764176502514,
          0.002129129698117758,
          0.1042706807850744,
          0.11424896122671307,
          -0.05071472255791208,
          -0.03776993001841745,
          -0.07058764541438829,
          -0.014024371782447996,
          0.03374975200544993,
          0.10820021398016808,
          -0.04905595131647368,
          0.13521649317215595,
          -0.06968770159026859,
          -0.07938497532741179,
          -0.04915395850459144,
          0.008984720210515756,
          0.002767123800546625,
          -0.05615918172730433,
          0.15104090057794423,
          -0.0032669401656754936,
          -0.02693372691395547,
          -0.028660342405116376,
          -0.001571112992132526,
          -0.03389711542213983,
          0.12078704523740148,
          0.004151599094370346,
          -0.10328652981148616,
          -0.005978125773334525,
          0.053796261901706346,
          0.15813999320795352,
          0.0565181890045773,
          0.0033759396049671602,
          -0.05853908642513822,
          0.07161524877626581,
          0.015067499071124115,
          0.03082604522113866,
          -0.025735599408013475,
          -0.02364571790464404,
          0.03543280912140521,
          0.0054755143418049185,
          -0.10451548059068246,
          -0.05028569426653793,
          -0.008345454686908085,
          0.019154756795010053,
          0.032313493392704534,
          0.056034625325892665,
          0.05487745292995344,
          -0.03845793741652353,
          -0.053864150815868324,
          -0.006494369653624248,
          -0.01405134464540323,
          0.06737654932032743,
          -0.0014974867169517821,
          0.06115301665742235,
          0.014111731079257598,
          -0.013647766847022558,
          0.007859600671884681,
          0.08710431616498965,
          -0.054434723329298274,
          0.07608604668683147,
          0.06965631568008251,
          0.004671283712449175,
          0.08647256178419428,
          -0.005607283529391043,
          -0.10636375217778199,
          -0.032736776024283376,
          0.06375939556451368,
          0.05129696720295621,
          -0.04079134350595388,
          0.03451048775587487,
          -0.02043339956972903,
          -0.031243506903720075,
          -0.05340126835147279,
          -0.08678677470490416,
          -0.05631972616181802,
          -0.06696088698993202,
          -0.0734541857585003,
          0.06555687799192558,
          0.0538302570927494,
          -0.052425164399607385,
          0.028981563949009068,
          0.11053354305645219,
          0.008947118708400939,
          -0.06155036315000274,
          -0.04169246570748509,
          0.0297686369844922,
          0.07048381641235674,
          0.03237861701025284,
          0.08616066849407918,
          -0.010974206815411123,
          0.04924532699577134,
          -0.12577632299764185,
          -0.06088970531522649,
          -0.0862991771434195,
          -0.005826510547867327,
          0.07644202299140772,
          0.06363237994602736,
          -0.06175017247550364,
          0.014767767285161841,
          -0.060929944341171674,
          0.027610137576203602,
          -0.03200296506119356,
          -0.009239150815291381,
          0.0012653915747749497,
          -0.09354932138297793,
          -0.09429989229978433,
          -0.050415878142334176,
          0.022024678391932548,
          -0.035566992505281926,
          -0.03282767601731148,
          -0.039037369721587785,
          -0.024875064368093006,
          0.0768709416843952,
          -0.013314781328709146,
          0.0144289945951001,
          -0.045163558257129595,
          -0.02772425770764071,
          0.009818324629475864,
          0.11547611532065429,
          -0.024882794248407867,
          -0.04213047765135035,
          -0.07894640702619435,
          -0.05036744300233152,
          -0.045979120859949534,
          -0.061143850143670915,
          -0.038316134946819645,
          0.09911170830253346,
          -0.07985855865271384,
          0.04357176651220827,
          -0.018412656689619295,
          -0.03562566548900697,
          0.01355039192023382,
          -0.0738472595195472,
          -0.0019853517784952255,
          0.014421093958003384,
          0.013345631110654545,
          -0.05368166093945263,
          0.014563607935007364,
          -0.0586427484346331,
          -0.03726940066488103,
          0.061480325255419875,
          -0.022183374854899816,
          0.010221373450369508,
          0.029095308781749683,
          -0.03988788432078567,
          -0.02784738341949396,
          -0.025072038327185766,
          -0.1875349756258237,
          0.03384022486365477,
          0.01760053082494413,
          0.024391606947854905,
          0.012233386061605265,
          0.012695845706298989,
          -0.042059067588904646,
          0.013569952472265308,
          0.054723492680408006,
          0.07525639218827306,
          0.031522306877628824,
          -0.015001872368470486,
          0.009365586528397876,
          0.1606672344285063,
          -0.020685843462438597,
          0.011848020222785636,
          -0.009651449782136372,
          0.04502814535588324,
          -0.0021821703667906037,
          -0.05868678954524666,
          -0.056060086801216734,
          0.016946063763973493,
          -0.09388001735421572,
          -0.041015527026993355,
          0.10337870416623059,
          0.0507923514187077,
          -0.03712979711511593,
          0.04963349223112758,
          0.13209281134188322,
          0.04112501548105825,
          0.013957551704976206,
          0.05532354216696601,
          -0.049275953232538486,
          0.03621223672303181,
          -0.05733918033538709,
          0.009994727011042018,
          0.18910840649056135
         ],
         "z": [
          0.028025646775111032,
          0.001328488234824538,
          0.03516223903793079,
          -0.09575015048396654,
          -0.0027225423184795415,
          -0.01604762644485571,
          -0.033876467803475634,
          0.02496930616033718,
          -0.00365008588086691,
          -0.038735557031913496,
          -0.011023667027018288,
          -0.09288743063031948,
          0.02491100817416833,
          0.004196196075711584,
          0.038891662396249936,
          -0.09435278603505877,
          0.09407081661984557,
          0.01791198078694177,
          -0.043023332757044015,
          -0.015326761133231009,
          -0.01774333210242324,
          -0.029583088929550968,
          -0.028509504142686697,
          0.051840423897794335,
          -0.043697401032070766,
          -0.10535707899552543,
          -0.0074808222944654015,
          0.026882535365193198,
          -0.0009009492284354864,
          0.15567258340858478,
          -0.005187234102640016,
          -0.004616291188446324,
          -0.018350715494009167,
          0.1122698640300125,
          -0.014304595347414184,
          0.06466171072130977,
          0.07500838940730539,
          0.012302831732499025,
          0.00517575974037956,
          -0.04640659638748247,
          -0.012261509989866932,
          -0.07199195373259311,
          -0.07331069564649405,
          0.06799769714177654,
          -0.026987182133722643,
          0.0010263573423113135,
          -0.034169471514376666,
          -0.06876184631424768,
          0.046113472109305095,
          -0.0841583404778089,
          0.055931758452418864,
          0.036169728134061475,
          -0.034248935191646374,
          0.04507168486509615,
          0.017244756506827674,
          0.009355781265245373,
          -0.029926004921596153,
          0.016100744162689168,
          0.13264720396531526,
          0.030676234681191534,
          0.010719932627783533,
          -0.09292409495645246,
          -0.010584179372730929,
          -0.089081936608991,
          0.039245595384232244,
          -0.046881019750896334,
          -0.08165195385980058,
          -0.0025283801661734485,
          -0.00633859331363116,
          0.035778286686974664,
          0.037680886738607575,
          0.08062152603579982,
          0.021745285807079552,
          -0.0391810547173588,
          0.07520464703202054,
          -0.026732662283128376,
          0.05709221879044746,
          -0.06113956151811733,
          -0.03149596593855755,
          -0.0778099390737784,
          0.06568648985113464,
          -0.04857960981864467,
          -0.002508781657108511,
          -0.01994289457794153,
          -0.046449367633267055,
          0.0393353804814173,
          -0.09605665999182714,
          0.06778357871317957,
          -0.01434808591215018,
          0.013321892674234337,
          0.05819098019685813,
          -0.022767969779598256,
          0.0944158481152138,
          -0.0532488920149401,
          -0.025335467984593924,
          -0.0880455484731568,
          0.03598567244888796,
          -0.023671903067751535,
          -0.00792907746792755,
          -0.04591427240541153,
          0.0026178000669258615,
          0.07446926827295434,
          -0.0178074868710685,
          -0.020844736593350746,
          0.009838674748615888,
          -0.011364085452766919,
          -0.07433912048545738,
          -0.05978423831538239,
          0.022418709212911916,
          -0.00940783407679762,
          0.03529632709345335,
          0.024004912101434354,
          -0.05399399050269335,
          0.02944104038430417,
          0.07066900428549105,
          -0.09430929768664582,
          0.045944494508386884,
          0.061327416432207835,
          -0.045772050860766376,
          0.05429575470143484,
          -0.019648930087956006,
          0.021422058929528642,
          -0.009274123681115309,
          -0.13460595423842736,
          0.042186041527475765,
          0.0029479587833727504,
          -0.02072318361298489,
          0.017325476463888347,
          -0.03855258737842025,
          0.022178493860651894,
          0.054604513930851396,
          -0.08913832145422747,
          -0.013812760172397135,
          -0.029566720396029138,
          -0.017935954519312396,
          -0.016049912920961206,
          -0.024092590721659077,
          0.06716509462469199,
          0.09599359781460898,
          0.06141787484697191,
          0.028298172976844154,
          -0.08395095920250693,
          0.02689476563534752,
          0.011955455723560915,
          -0.05280770494423601,
          0.05365447810565586,
          -0.046349172420006156,
          -0.032800212572827454,
          -0.05189537829354067,
          -0.10829410693617447,
          0.0321560198797614,
          0.0399848030238659,
          -0.051843117622123756,
          0.03277638632621696,
          0.021141181881926315,
          -0.010834571290870794,
          0.016484626374628195,
          -0.03959952220135196,
          -0.06753363528199355,
          0.04469201554468436,
          -0.04171222907868979,
          -0.053705787023284136,
          -0.052207038714187914,
          0.06722085783090687,
          0.08810003469349369,
          -0.010475926403419262,
          -0.0613265273885784,
          0.07462292881865189,
          -0.040950801095329135,
          -0.006320770417685568,
          0.01609937123933498,
          -0.05012155879059784,
          0.03300500499075925,
          -0.03557057332605974,
          0.01686493697666212,
          0.044596814751066284,
          0.041340287963567895,
          -0.02680971441381828,
          0.035356216323077894,
          -0.06009945894988975,
          -0.03656102044491254,
          -0.02751726833716138,
          -0.02564263163344031,
          0.05805387629341723,
          0.013566224711717745,
          -0.07207164231679655,
          -0.14249823983181956,
          -0.01047678729676582,
          0.023816840337986214,
          -0.010232110945312588,
          -0.006709666503913275,
          -0.010876172928461526,
          0.02423226728624286,
          -0.09669174298041561,
          0.012791067641638131,
          -0.016244473399611613,
          -0.027224908788385543,
          0.02913759045691884,
          -0.02425782276278226,
          0.06452765272232984,
          0.04225488109166495,
          -0.0033736226885252773,
          0.011681466171405782,
          -0.02519029476091932,
          0.05949348992982347,
          0.016945408580326313,
          -0.03674829543548184,
          0.07276448180965069,
          0.0635750826284135,
          0.005507907769653606,
          0.026691646727392358,
          0.08204949506289676,
          0.09279382806734476,
          0.008233615140513701,
          0.07925470314036015,
          0.10099669872849885,
          -0.05698639627247317,
          0.10704025770496507,
          -0.08407428744691474,
          -0.021769414082665556,
          0.0034521716922480787,
          -0.058935708290866216,
          0.02928634869038686,
          -0.05698093077699154,
          -0.052575833402905545,
          0.020263804692313113,
          -0.060535361731527695,
          0.10405428293558108,
          -0.06704249271134967,
          -0.004357872548164516,
          -0.09907901664527864,
          0.01882039635666928,
          -0.04941774387353916,
          0.050730006917926354,
          0.09118567974631243,
          0.05314791131703457,
          0.011772665882882718,
          0.014350444732641967,
          -0.01675122192484608,
          0.04017822129162056,
          0.04457445420980493,
          0.022490546637343765,
          -0.06466094867504346,
          -0.010093104359908945,
          0.00020982344885796326,
          -0.022566418895636424,
          -0.019035046078452595,
          -0.04902251395056024,
          -0.05611178156535887,
          0.011135212554240041,
          0.10003670428754625,
          -0.03454730493852608,
          -0.0721141951808446,
          0.03767604529696652,
          0.05025627848474128,
          0.030244937159008316,
          -0.03568193030119598,
          0.012412112356536706,
          -0.051487348911529965,
          0.011116947953598464,
          0.08013837816989977,
          0.1812366743183424,
          0.03389544020642919,
          -0.0600692519269967,
          -0.0233609532416598,
          -0.01375501021738549,
          0.0460797094690963,
          -0.03806367711541285,
          0.04081607026197441,
          0.06934723303797137,
          0.08659415157816647,
          0.031858888160245145,
          -0.014146282519579776,
          0.013447102800441023,
          0.029248262444779058,
          0.014176480122781571,
          0.03763330260763114,
          0.061034745150919514,
          -0.051829837913814285,
          0.03344202700506563,
          0.022708566741626298,
          -0.0850831130366789,
          0.0008752322530940552,
          -0.006595465992625974,
          0.005060501432012701,
          -0.08006130928460788,
          0.0429883227651046,
          -0.02943045718626823,
          0.02593471604656243,
          -0.12107120022682814,
          0.025581918202521047,
          0.052822664885849774,
          0.05342932615607816,
          -0.024693601765380255,
          -0.031215184137368464,
          -0.02019874140354386,
          0.023749400399786413,
          -0.02204104934017268,
          -0.0007148132713888245,
          0.004946476108233717,
          0.017998915631271706,
          0.028043287211270487,
          0.029620660830194084,
          0.0948162866561869,
          -0.04837744320623037,
          -0.11087201842014795,
          0.02552409217651447,
          0.013690648014061656,
          0.02563708674517068,
          0.0031933578472482624,
          0.029357214425776153,
          -0.004431186536916868,
          -0.02344626530964277,
          0.038873114868683716,
          -0.017231563319402416,
          0.0061239808490453,
          0.0017186842008241172,
          0.018337158558973877,
          0.10745098826640175,
          0.11316999502125889,
          -0.06617832453447081,
          0.027984630030342374,
          -0.0067649181882717705,
          0.01260099898079645,
          -0.047762573896535314,
          -0.07172274435105304,
          -0.02004175263515123,
          0.0740118442581109,
          -0.023468676181356195,
          0.021215269543209986,
          -0.03336759090170411,
          0.01079658879835541,
          0.059074454961964784,
          -0.001417900998220127,
          -0.04099181390337751,
          0.014485029186842416,
          -0.09941220348069488,
          0.009938344767392318,
          -0.08233236967728357,
          -0.008218185519350333,
          0.07570271848498152,
          0.03194959338166648,
          0.04414996556158613,
          0.06981071001683174,
          -0.11789425824583512,
          -0.018453695966558468,
          -0.05346563454561784,
          -0.030991617813774457,
          0.06615266078478227,
          -0.09213373667285447,
          0.09245324012665077,
          -0.050155924258543705,
          0.05731019778823795,
          -0.055393373769803605,
          -0.020908613503232393,
          -0.031135826533023332,
          -0.042610998181186466,
          -0.027017336577798486,
          -0.003747887484572173,
          0.020868327990861614,
          0.042513043788618726,
          0.10618400429225844,
          0.07038515889138923,
          -0.05466767904300073,
          -0.01646316023493073,
          0.03448964267432792,
          -0.05044760727759407,
          0.004890863186462952,
          0.001159076947358635,
          -0.026632344124489605,
          -0.0020899710366984307,
          0.0303569713588204,
          -0.030936452558045117,
          -0.005936334479370365,
          -0.06931866704653872,
          0.08190155440572336,
          -0.07098443453181905,
          -0.06538397475657474,
          -0.044250709575562805,
          0.08877211633864672,
          0.06048348411433812,
          -0.11135653506396073,
          0.049506377117641893,
          0.016724807357635953,
          -0.015871877767383902,
          0.06060822502733244,
          0.03903609578419004,
          -0.0830173260516497,
          0.031106062832692752,
          -0.039426744752744304,
          0.04205794801408428,
          -0.031210419728695617,
          -0.02264968819722829,
          -0.04146483137153534,
          0.024172728554270176,
          -0.04127709274320544,
          -0.03880742621651254,
          0.04651706713912757,
          -0.030870135104282447,
          0.052656222783795247,
          0.09563110318473107,
          0.05903154245098752,
          -0.010788559906779648,
          0.02291672513492007,
          0.06538112676401854,
          0.08518269158555938,
          -0.0812357377680332,
          -0.02127241992982537,
          0.07487048761097105,
          -0.06998936958458071,
          -0.05544644202096629,
          0.045444419283700306,
          0.11492811791753996,
          -0.0006752442548680881,
          -0.04731255830629627,
          -0.07895351838413128,
          0.05077963541543735,
          -0.03848756319855667,
          -0.011659974439745728,
          -0.008523038951243863,
          -0.014103624298154984,
          -0.023870656684605286,
          -0.015404985388516078,
          -0.09648390899137528,
          -0.03363334841478218,
          -0.022643430721559225,
          -0.004358927101675255,
          0.0159143750978502,
          0.08812705009811361,
          -0.028879367204237633,
          -0.07855023968154484,
          0.07775279290543402,
          0.022652803869451305,
          0.013693784933611407,
          0.04659510760929266,
          -0.04506269233707217,
          0.001077563050390641,
          0.044172734757329815,
          -0.08324810640106743,
          0.023601170793627595,
          -0.04132099438913078,
          -0.002299200148261189
         ]
        }
       ],
       "layout": {
        "coloraxis": {
         "colorbar": {
          "title": {
           "text": "Diabetes Progression"
          }
         },
         "colorscale": [
          [
           0,
           "#0d0887"
          ],
          [
           0.1111111111111111,
           "#46039f"
          ],
          [
           0.2222222222222222,
           "#7201a8"
          ],
          [
           0.3333333333333333,
           "#9c179e"
          ],
          [
           0.4444444444444444,
           "#bd3786"
          ],
          [
           0.5555555555555556,
           "#d8576b"
          ],
          [
           0.6666666666666666,
           "#ed7953"
          ],
          [
           0.7777777777777778,
           "#fb9f3a"
          ],
          [
           0.8888888888888888,
           "#fdca26"
          ],
          [
           1,
           "#f0f921"
          ]
         ]
        },
        "legend": {
         "tracegroupgap": 0
        },
        "margin": {
         "t": 60
        },
        "scene": {
         "domain": {
          "x": [
           0,
           1
          ],
          "y": [
           0,
           1
          ]
         },
         "xaxis": {
          "title": {
           "text": "principal_component_1"
          }
         },
         "yaxis": {
          "title": {
           "text": "principal_component_2"
          }
         },
         "zaxis": {
          "title": {
           "text": "principal_component_3"
          }
         }
        },
        "template": {
         "data": {
          "bar": [
           {
            "error_x": {
             "color": "#2a3f5f"
            },
            "error_y": {
             "color": "#2a3f5f"
            },
            "marker": {
             "line": {
              "color": "#E5ECF6",
              "width": 0.5
             },
             "pattern": {
              "fillmode": "overlay",
              "size": 10,
              "solidity": 0.2
             }
            },
            "type": "bar"
           }
          ],
          "barpolar": [
           {
            "marker": {
             "line": {
              "color": "#E5ECF6",
              "width": 0.5
             },
             "pattern": {
              "fillmode": "overlay",
              "size": 10,
              "solidity": 0.2
             }
            },
            "type": "barpolar"
           }
          ],
          "carpet": [
           {
            "aaxis": {
             "endlinecolor": "#2a3f5f",
             "gridcolor": "white",
             "linecolor": "white",
             "minorgridcolor": "white",
             "startlinecolor": "#2a3f5f"
            },
            "baxis": {
             "endlinecolor": "#2a3f5f",
             "gridcolor": "white",
             "linecolor": "white",
             "minorgridcolor": "white",
             "startlinecolor": "#2a3f5f"
            },
            "type": "carpet"
           }
          ],
          "choropleth": [
           {
            "colorbar": {
             "outlinewidth": 0,
             "ticks": ""
            },
            "type": "choropleth"
           }
          ],
          "contour": [
           {
            "colorbar": {
             "outlinewidth": 0,
             "ticks": ""
            },
            "colorscale": [
             [
              0,
              "#0d0887"
             ],
             [
              0.1111111111111111,
              "#46039f"
             ],
             [
              0.2222222222222222,
              "#7201a8"
             ],
             [
              0.3333333333333333,
              "#9c179e"
             ],
             [
              0.4444444444444444,
              "#bd3786"
             ],
             [
              0.5555555555555556,
              "#d8576b"
             ],
             [
              0.6666666666666666,
              "#ed7953"
             ],
             [
              0.7777777777777778,
              "#fb9f3a"
             ],
             [
              0.8888888888888888,
              "#fdca26"
             ],
             [
              1,
              "#f0f921"
             ]
            ],
            "type": "contour"
           }
          ],
          "contourcarpet": [
           {
            "colorbar": {
             "outlinewidth": 0,
             "ticks": ""
            },
            "type": "contourcarpet"
           }
          ],
          "heatmap": [
           {
            "colorbar": {
             "outlinewidth": 0,
             "ticks": ""
            },
            "colorscale": [
             [
              0,
              "#0d0887"
             ],
             [
              0.1111111111111111,
              "#46039f"
             ],
             [
              0.2222222222222222,
              "#7201a8"
             ],
             [
              0.3333333333333333,
              "#9c179e"
             ],
             [
              0.4444444444444444,
              "#bd3786"
             ],
             [
              0.5555555555555556,
              "#d8576b"
             ],
             [
              0.6666666666666666,
              "#ed7953"
             ],
             [
              0.7777777777777778,
              "#fb9f3a"
             ],
             [
              0.8888888888888888,
              "#fdca26"
             ],
             [
              1,
              "#f0f921"
             ]
            ],
            "type": "heatmap"
           }
          ],
          "heatmapgl": [
           {
            "colorbar": {
             "outlinewidth": 0,
             "ticks": ""
            },
            "colorscale": [
             [
              0,
              "#0d0887"
             ],
             [
              0.1111111111111111,
              "#46039f"
             ],
             [
              0.2222222222222222,
              "#7201a8"
             ],
             [
              0.3333333333333333,
              "#9c179e"
             ],
             [
              0.4444444444444444,
              "#bd3786"
             ],
             [
              0.5555555555555556,
              "#d8576b"
             ],
             [
              0.6666666666666666,
              "#ed7953"
             ],
             [
              0.7777777777777778,
              "#fb9f3a"
             ],
             [
              0.8888888888888888,
              "#fdca26"
             ],
             [
              1,
              "#f0f921"
             ]
            ],
            "type": "heatmapgl"
           }
          ],
          "histogram": [
           {
            "marker": {
             "pattern": {
              "fillmode": "overlay",
              "size": 10,
              "solidity": 0.2
             }
            },
            "type": "histogram"
           }
          ],
          "histogram2d": [
           {
            "colorbar": {
             "outlinewidth": 0,
             "ticks": ""
            },
            "colorscale": [
             [
              0,
              "#0d0887"
             ],
             [
              0.1111111111111111,
              "#46039f"
             ],
             [
              0.2222222222222222,
              "#7201a8"
             ],
             [
              0.3333333333333333,
              "#9c179e"
             ],
             [
              0.4444444444444444,
              "#bd3786"
             ],
             [
              0.5555555555555556,
              "#d8576b"
             ],
             [
              0.6666666666666666,
              "#ed7953"
             ],
             [
              0.7777777777777778,
              "#fb9f3a"
             ],
             [
              0.8888888888888888,
              "#fdca26"
             ],
             [
              1,
              "#f0f921"
             ]
            ],
            "type": "histogram2d"
           }
          ],
          "histogram2dcontour": [
           {
            "colorbar": {
             "outlinewidth": 0,
             "ticks": ""
            },
            "colorscale": [
             [
              0,
              "#0d0887"
             ],
             [
              0.1111111111111111,
              "#46039f"
             ],
             [
              0.2222222222222222,
              "#7201a8"
             ],
             [
              0.3333333333333333,
              "#9c179e"
             ],
             [
              0.4444444444444444,
              "#bd3786"
             ],
             [
              0.5555555555555556,
              "#d8576b"
             ],
             [
              0.6666666666666666,
              "#ed7953"
             ],
             [
              0.7777777777777778,
              "#fb9f3a"
             ],
             [
              0.8888888888888888,
              "#fdca26"
             ],
             [
              1,
              "#f0f921"
             ]
            ],
            "type": "histogram2dcontour"
           }
          ],
          "mesh3d": [
           {
            "colorbar": {
             "outlinewidth": 0,
             "ticks": ""
            },
            "type": "mesh3d"
           }
          ],
          "parcoords": [
           {
            "line": {
             "colorbar": {
              "outlinewidth": 0,
              "ticks": ""
             }
            },
            "type": "parcoords"
           }
          ],
          "pie": [
           {
            "automargin": true,
            "type": "pie"
           }
          ],
          "scatter": [
           {
            "fillpattern": {
             "fillmode": "overlay",
             "size": 10,
             "solidity": 0.2
            },
            "type": "scatter"
           }
          ],
          "scatter3d": [
           {
            "line": {
             "colorbar": {
              "outlinewidth": 0,
              "ticks": ""
             }
            },
            "marker": {
             "colorbar": {
              "outlinewidth": 0,
              "ticks": ""
             }
            },
            "type": "scatter3d"
           }
          ],
          "scattercarpet": [
           {
            "marker": {
             "colorbar": {
              "outlinewidth": 0,
              "ticks": ""
             }
            },
            "type": "scattercarpet"
           }
          ],
          "scattergeo": [
           {
            "marker": {
             "colorbar": {
              "outlinewidth": 0,
              "ticks": ""
             }
            },
            "type": "scattergeo"
           }
          ],
          "scattergl": [
           {
            "marker": {
             "colorbar": {
              "outlinewidth": 0,
              "ticks": ""
             }
            },
            "type": "scattergl"
           }
          ],
          "scattermapbox": [
           {
            "marker": {
             "colorbar": {
              "outlinewidth": 0,
              "ticks": ""
             }
            },
            "type": "scattermapbox"
           }
          ],
          "scatterpolar": [
           {
            "marker": {
             "colorbar": {
              "outlinewidth": 0,
              "ticks": ""
             }
            },
            "type": "scatterpolar"
           }
          ],
          "scatterpolargl": [
           {
            "marker": {
             "colorbar": {
              "outlinewidth": 0,
              "ticks": ""
             }
            },
            "type": "scatterpolargl"
           }
          ],
          "scatterternary": [
           {
            "marker": {
             "colorbar": {
              "outlinewidth": 0,
              "ticks": ""
             }
            },
            "type": "scatterternary"
           }
          ],
          "surface": [
           {
            "colorbar": {
             "outlinewidth": 0,
             "ticks": ""
            },
            "colorscale": [
             [
              0,
              "#0d0887"
             ],
             [
              0.1111111111111111,
              "#46039f"
             ],
             [
              0.2222222222222222,
              "#7201a8"
             ],
             [
              0.3333333333333333,
              "#9c179e"
             ],
             [
              0.4444444444444444,
              "#bd3786"
             ],
             [
              0.5555555555555556,
              "#d8576b"
             ],
             [
              0.6666666666666666,
              "#ed7953"
             ],
             [
              0.7777777777777778,
              "#fb9f3a"
             ],
             [
              0.8888888888888888,
              "#fdca26"
             ],
             [
              1,
              "#f0f921"
             ]
            ],
            "type": "surface"
           }
          ],
          "table": [
           {
            "cells": {
             "fill": {
              "color": "#EBF0F8"
             },
             "line": {
              "color": "white"
             }
            },
            "header": {
             "fill": {
              "color": "#C8D4E3"
             },
             "line": {
              "color": "white"
             }
            },
            "type": "table"
           }
          ]
         },
         "layout": {
          "annotationdefaults": {
           "arrowcolor": "#2a3f5f",
           "arrowhead": 0,
           "arrowwidth": 1
          },
          "autotypenumbers": "strict",
          "coloraxis": {
           "colorbar": {
            "outlinewidth": 0,
            "ticks": ""
           }
          },
          "colorscale": {
           "diverging": [
            [
             0,
             "#8e0152"
            ],
            [
             0.1,
             "#c51b7d"
            ],
            [
             0.2,
             "#de77ae"
            ],
            [
             0.3,
             "#f1b6da"
            ],
            [
             0.4,
             "#fde0ef"
            ],
            [
             0.5,
             "#f7f7f7"
            ],
            [
             0.6,
             "#e6f5d0"
            ],
            [
             0.7,
             "#b8e186"
            ],
            [
             0.8,
             "#7fbc41"
            ],
            [
             0.9,
             "#4d9221"
            ],
            [
             1,
             "#276419"
            ]
           ],
           "sequential": [
            [
             0,
             "#0d0887"
            ],
            [
             0.1111111111111111,
             "#46039f"
            ],
            [
             0.2222222222222222,
             "#7201a8"
            ],
            [
             0.3333333333333333,
             "#9c179e"
            ],
            [
             0.4444444444444444,
             "#bd3786"
            ],
            [
             0.5555555555555556,
             "#d8576b"
            ],
            [
             0.6666666666666666,
             "#ed7953"
            ],
            [
             0.7777777777777778,
             "#fb9f3a"
            ],
            [
             0.8888888888888888,
             "#fdca26"
            ],
            [
             1,
             "#f0f921"
            ]
           ],
           "sequentialminus": [
            [
             0,
             "#0d0887"
            ],
            [
             0.1111111111111111,
             "#46039f"
            ],
            [
             0.2222222222222222,
             "#7201a8"
            ],
            [
             0.3333333333333333,
             "#9c179e"
            ],
            [
             0.4444444444444444,
             "#bd3786"
            ],
            [
             0.5555555555555556,
             "#d8576b"
            ],
            [
             0.6666666666666666,
             "#ed7953"
            ],
            [
             0.7777777777777778,
             "#fb9f3a"
            ],
            [
             0.8888888888888888,
             "#fdca26"
            ],
            [
             1,
             "#f0f921"
            ]
           ]
          },
          "colorway": [
           "#636efa",
           "#EF553B",
           "#00cc96",
           "#ab63fa",
           "#FFA15A",
           "#19d3f3",
           "#FF6692",
           "#B6E880",
           "#FF97FF",
           "#FECB52"
          ],
          "font": {
           "color": "#2a3f5f"
          },
          "geo": {
           "bgcolor": "white",
           "lakecolor": "white",
           "landcolor": "#E5ECF6",
           "showlakes": true,
           "showland": true,
           "subunitcolor": "white"
          },
          "hoverlabel": {
           "align": "left"
          },
          "hovermode": "closest",
          "mapbox": {
           "style": "light"
          },
          "paper_bgcolor": "white",
          "plot_bgcolor": "#E5ECF6",
          "polar": {
           "angularaxis": {
            "gridcolor": "white",
            "linecolor": "white",
            "ticks": ""
           },
           "bgcolor": "#E5ECF6",
           "radialaxis": {
            "gridcolor": "white",
            "linecolor": "white",
            "ticks": ""
           }
          },
          "scene": {
           "xaxis": {
            "backgroundcolor": "#E5ECF6",
            "gridcolor": "white",
            "gridwidth": 2,
            "linecolor": "white",
            "showbackground": true,
            "ticks": "",
            "zerolinecolor": "white"
           },
           "yaxis": {
            "backgroundcolor": "#E5ECF6",
            "gridcolor": "white",
            "gridwidth": 2,
            "linecolor": "white",
            "showbackground": true,
            "ticks": "",
            "zerolinecolor": "white"
           },
           "zaxis": {
            "backgroundcolor": "#E5ECF6",
            "gridcolor": "white",
            "gridwidth": 2,
            "linecolor": "white",
            "showbackground": true,
            "ticks": "",
            "zerolinecolor": "white"
           }
          },
          "shapedefaults": {
           "line": {
            "color": "#2a3f5f"
           }
          },
          "ternary": {
           "aaxis": {
            "gridcolor": "white",
            "linecolor": "white",
            "ticks": ""
           },
           "baxis": {
            "gridcolor": "white",
            "linecolor": "white",
            "ticks": ""
           },
           "bgcolor": "#E5ECF6",
           "caxis": {
            "gridcolor": "white",
            "linecolor": "white",
            "ticks": ""
           }
          },
          "title": {
           "x": 0.05
          },
          "xaxis": {
           "automargin": true,
           "gridcolor": "white",
           "linecolor": "white",
           "ticks": "",
           "title": {
            "standoff": 15
           },
           "zerolinecolor": "white",
           "zerolinewidth": 2
          },
          "yaxis": {
           "automargin": true,
           "gridcolor": "white",
           "linecolor": "white",
           "ticks": "",
           "title": {
            "standoff": 15
           },
           "zerolinecolor": "white",
           "zerolinewidth": 2
          }
         }
        },
        "title": {
         "text": "3D PCA Clustering attempt of Diabetes Dataset"
        }
       }
      }
     },
     "metadata": {},
     "output_type": "display_data"
    }
   ],
   "source": [
    "fig_pca = px.scatter_3d(\n",
    "    df_pca_3D, \n",
    "    x = 'principal_component_1', \n",
    "    y = 'principal_component_2', \n",
    "    z = 'principal_component_3',\n",
    "    color='Diabetes Progression')\n",
    "fig_pca.update_layout(title=\"3D PCA Clustering attempt of Diabetes Dataset\")\n",
    "\n",
    "fig_pca.show()"
   ]
  },
  {
   "cell_type": "markdown",
   "metadata": {},
   "source": [
    "### t-SNE dimensionality reduction"
   ]
  },
  {
   "cell_type": "code",
   "execution_count": 39,
   "metadata": {},
   "outputs": [
    {
     "data": {
      "application/vnd.plotly.v1+json": {
       "config": {
        "plotlyServerURL": "https://plot.ly"
       },
       "data": [
        {
         "hovertemplate": "Dimension 1=%{x}<br>Dimension 2=%{y}<br>Dimension 3=%{z}<br>Diabetes Progression=%{marker.color}<extra></extra>",
         "legendgroup": "",
         "marker": {
          "color": [
           151,
           75,
           141,
           206,
           135,
           97,
           138,
           63,
           110,
           310,
           101,
           69,
           179,
           185,
           118,
           171,
           166,
           144,
           97,
           168,
           68,
           49,
           68,
           245,
           184,
           202,
           137,
           85,
           131,
           283,
           129,
           59,
           341,
           87,
           65,
           102,
           265,
           276,
           252,
           90,
           100,
           55,
           61,
           92,
           259,
           53,
           190,
           142,
           75,
           142,
           155,
           225,
           59,
           104,
           182,
           128,
           52,
           37,
           170,
           170,
           61,
           144,
           52,
           128,
           71,
           163,
           150,
           97,
           160,
           178,
           48,
           270,
           202,
           111,
           85,
           42,
           170,
           200,
           252,
           113,
           143,
           51,
           52,
           210,
           65,
           141,
           55,
           134,
           42,
           111,
           98,
           164,
           48,
           96,
           90,
           162,
           150,
           279,
           92,
           83,
           128,
           102,
           302,
           198,
           95,
           53,
           134,
           144,
           232,
           81,
           104,
           59,
           246,
           297,
           258,
           229,
           275,
           281,
           179,
           200,
           200,
           173,
           180,
           84,
           121,
           161,
           99,
           109,
           115,
           268,
           274,
           158,
           107,
           83,
           103,
           272,
           85,
           280,
           336,
           281,
           118,
           317,
           235,
           60,
           174,
           259,
           178,
           128,
           96,
           126,
           288,
           88,
           292,
           71,
           197,
           186,
           25,
           84,
           96,
           195,
           53,
           217,
           172,
           131,
           214,
           59,
           70,
           220,
           268,
           152,
           47,
           74,
           295,
           101,
           151,
           127,
           237,
           225,
           81,
           151,
           107,
           64,
           138,
           185,
           265,
           101,
           137,
           143,
           141,
           79,
           292,
           178,
           91,
           116,
           86,
           122,
           72,
           129,
           142,
           90,
           158,
           39,
           196,
           222,
           277,
           99,
           196,
           202,
           155,
           77,
           191,
           70,
           73,
           49,
           65,
           263,
           248,
           296,
           214,
           185,
           78,
           93,
           252,
           150,
           77,
           208,
           77,
           108,
           160,
           53,
           220,
           154,
           259,
           90,
           246,
           124,
           67,
           72,
           257,
           262,
           275,
           177,
           71,
           47,
           187,
           125,
           78,
           51,
           258,
           215,
           303,
           243,
           91,
           150,
           310,
           153,
           346,
           63,
           89,
           50,
           39,
           103,
           308,
           116,
           145,
           74,
           45,
           115,
           264,
           87,
           202,
           127,
           182,
           241,
           66,
           94,
           283,
           64,
           102,
           200,
           265,
           94,
           230,
           181,
           156,
           233,
           60,
           219,
           80,
           68,
           332,
           248,
           84,
           200,
           55,
           85,
           89,
           31,
           129,
           83,
           275,
           65,
           198,
           236,
           253,
           124,
           44,
           172,
           114,
           142,
           109,
           180,
           144,
           163,
           147,
           97,
           220,
           190,
           109,
           191,
           122,
           230,
           242,
           248,
           249,
           192,
           131,
           237,
           78,
           135,
           244,
           199,
           270,
           164,
           72,
           96,
           306,
           91,
           214,
           95,
           216,
           263,
           178,
           113,
           200,
           139,
           139,
           88,
           148,
           88,
           243,
           71,
           77,
           109,
           272,
           60,
           54,
           221,
           90,
           311,
           281,
           182,
           321,
           58,
           262,
           206,
           233,
           242,
           123,
           167,
           63,
           197,
           71,
           168,
           140,
           217,
           121,
           235,
           245,
           40,
           52,
           104,
           132,
           88,
           69,
           219,
           72,
           201,
           110,
           51,
           277,
           63,
           118,
           69,
           273,
           258,
           43,
           198,
           242,
           232,
           175,
           93,
           168,
           275,
           293,
           281,
           72,
           140,
           189,
           181,
           209,
           136,
           261,
           113,
           131,
           174,
           257,
           55,
           84,
           42,
           146,
           212,
           233,
           91,
           111,
           152,
           120,
           67,
           310,
           94,
           183,
           66,
           173,
           72,
           49,
           64,
           48,
           178,
           104,
           132,
           220,
           57
          ],
          "coloraxis": "coloraxis",
          "symbol": "circle"
         },
         "mode": "markers",
         "name": "",
         "scene": "scene",
         "showlegend": false,
         "type": "scatter3d",
         "x": [
          4.094811916351318,
          -9.409947395324707,
          4.093303680419922,
          -4.979108810424805,
          -4.822857856750488,
          -13.32826042175293,
          2.791531801223755,
          7.701632022857666,
          3.7229995727539062,
          -4.694698333740234,
          -13.777960777282715,
          4.94416618347168,
          -7.698748588562012,
          5.7687811851501465,
          -7.803582668304443,
          4.493443965911865,
          -3.3442511558532715,
          6.587090969085693,
          -7.465991497039795,
          -8.696588516235352,
          -10.077950477600098,
          3.2664201259613037,
          -8.295259475708008,
          2.8989169597625732,
          -7.276208877563477,
          2.042908191680908,
          -13.433005332946777,
          -5.58745813369751,
          -9.570189476013184,
          5.973565101623535,
          -6.943789005279541,
          -11.264392852783203,
          4.33439826965332,
          -10.904475212097168,
          -10.638877868652344,
          -6.490225791931152,
          -3.1482536792755127,
          -6.5039167404174805,
          5.288801670074463,
          4.124192237854004,
          7.4401397705078125,
          -12.020434379577637,
          1.6637870073318481,
          -8.756484031677246,
          4.506415367126465,
          6.952087879180908,
          -10.0032377243042,
          -12.462190628051758,
          8.696630477905273,
          2.63657283782959,
          -7.120822429656982,
          4.843493938446045,
          -6.620612621307373,
          -4.069160461425781,
          -6.9695916175842285,
          -9.194979667663574,
          -4.732593059539795,
          -12.962855339050293,
          -6.800006866455078,
          8.584818840026855,
          -13.269466400146484,
          2.6881608963012695,
          6.382805347442627,
          -6.824559211730957,
          3.2878916263580322,
          2.762727975845337,
          3.3961639404296875,
          5.078950881958008,
          4.363156795501709,
          -8.960050582885742,
          -8.456550598144531,
          -1.5180286169052124,
          9.252449989318848,
          6.214672088623047,
          8.633851051330566,
          5.126583099365234,
          3.7348222732543945,
          -10.591447830200195,
          -10.268574714660645,
          -8.522377967834473,
          -2.6268107891082764,
          5.590208053588867,
          -8.666446685791016,
          -9.412800788879395,
          -12.063620567321777,
          -6.988299369812012,
          2.074753999710083,
          -5.155098915100098,
          4.742528915405273,
          -8.524619102478027,
          -9.642607688903809,
          -1.041691541671753,
          -4.049588680267334,
          -10.782466888427734,
          -9.536182403564453,
          -9.155237197875977,
          4.93532657623291,
          -2.2458813190460205,
          7.0558881759643555,
          -4.6135382652282715,
          -2.9074041843414307,
          8.832653045654297,
          -6.954538345336914,
          6.696853160858154,
          -7.621263027191162,
          4.50191068649292,
          -11.67385482788086,
          -2.09887433052063,
          3.5595831871032715,
          8.526124954223633,
          6.308894157409668,
          -7.107007026672363,
          -6.479970932006836,
          4.656294345855713,
          -0.5381781458854675,
          3.3831019401550293,
          6.053871154785156,
          0.8138200640678406,
          3.190208911895752,
          -6.418241500854492,
          -7.77143669128418,
          -2.328361749649048,
          5.15318489074707,
          4.22369909286499,
          -6.907325744628906,
          2.6856849193573,
          -12.864156723022461,
          8.677799224853516,
          -9.848011016845703,
          -0.58498615026474,
          5.474207401275635,
          -11.232402801513672,
          6.905153751373291,
          1.7740132808685303,
          -7.403224945068359,
          -3.144148826599121,
          -12.774150848388672,
          -2.7404768466949463,
          5.552868366241455,
          -1.573909878730774,
          5.785495281219482,
          1.968580961227417,
          7.990647792816162,
          -7.6445746421813965,
          5.279006481170654,
          -4.478445529937744,
          4.334734916687012,
          -2.4976954460144043,
          6.906916618347168,
          2.3407232761383057,
          -4.32427978515625,
          -6.824438095092773,
          4.1428985595703125,
          7.357599258422852,
          7.043271541595459,
          5.951998710632324,
          -7.384700298309326,
          6.334202766418457,
          -7.0344133377075195,
          -2.483395576477051,
          -9.963666915893555,
          4.4153361320495605,
          -5.995885848999023,
          6.290101051330566,
          -5.478893756866455,
          -10.6295166015625,
          1.024949073791504,
          0.35848337411880493,
          3.5740253925323486,
          0.2631096839904785,
          6.40153169631958,
          -11.0994291305542,
          4.254525661468506,
          1.235638976097107,
          2.1858787536621094,
          -7.540002822875977,
          7.161758899688721,
          -0.1860743910074234,
          -7.070066452026367,
          -4.027047157287598,
          2.8108396530151367,
          -5.289151191711426,
          6.265700817108154,
          7.482466220855713,
          -3.5122082233428955,
          1.6502435207366943,
          2.7638156414031982,
          -13.283836364746094,
          -2.3567678928375244,
          -4.94553804397583,
          -3.151768207550049,
          2.193150758743286,
          8.582508087158203,
          6.4657697677612305,
          -10.48717212677002,
          5.617026329040527,
          -6.30185604095459,
          5.822177886962891,
          -7.998649597167969,
          -3.538259506225586,
          -4.488685131072998,
          5.348343849182129,
          9.28778076171875,
          4.962627410888672,
          7.721352577209473,
          -4.455860614776611,
          5.274233341217041,
          -2.824190139770508,
          -0.3624025583267212,
          5.889498710632324,
          -6.904567241668701,
          -6.878683567047119,
          -3.9891717433929443,
          -7.480559349060059,
          -11.248319625854492,
          5.244109630584717,
          4.186970233917236,
          -1.207370638847351,
          -5.302298069000244,
          -11.447511672973633,
          6.205031871795654,
          -6.613379001617432,
          4.526734352111816,
          -11.897385597229004,
          -11.076728820800781,
          3.7283124923706055,
          3.1496405601501465,
          8.954798698425293,
          -7.339108467102051,
          5.809212684631348,
          5.016993999481201,
          -3.748350143432617,
          5.728776931762695,
          -7.833418846130371,
          -1.7515827417373657,
          6.961759090423584,
          -1.616739273071289,
          -8.424123764038086,
          5.705435752868652,
          -2.6733601093292236,
          5.712385654449463,
          7.495299339294434,
          1.6089121103286743,
          6.469261169433594,
          3.7358522415161133,
          -12.87026596069336,
          -4.35447359085083,
          -10.377848625183105,
          3.0546672344207764,
          -1.6241614818572998,
          -0.9938446879386902,
          4.976343154907227,
          -2.220111608505249,
          -0.5444265604019165,
          3.1979808807373047,
          -7.157685279846191,
          -2.7363243103027344,
          6.949823379516602,
          9.496981620788574,
          -3.8145534992218018,
          -8.746147155761719,
          -6.395605087280273,
          6.063257694244385,
          2.3944320678710938,
          3.9704654216766357,
          5.489118576049805,
          5.887022495269775,
          -1.3473033905029297,
          5.2746453285217285,
          -7.651302814483643,
          5.0518479347229,
          5.556783676147461,
          -9.87561321258545,
          2.327287435531616,
          -3.4979546070098877,
          5.596263408660889,
          -1.9247171878814697,
          -10.345138549804688,
          10.000669479370117,
          6.057224750518799,
          6.566857814788818,
          1.6369786262512207,
          -1.2122377157211304,
          -10.633421897888184,
          5.340095043182373,
          -0.6224550008773804,
          -11.477331161499023,
          -1.3311792612075806,
          9.324198722839355,
          2.722905397415161,
          5.440268516540527,
          -1.9716527462005615,
          -11.022086143493652,
          -5.568134307861328,
          6.355031490325928,
          4.912047386169434,
          -9.396994590759277,
          -9.785536766052246,
          2.3537325859069824,
          4.774221897125244,
          -3.0565500259399414,
          8.286664009094238,
          -2.2277321815490723,
          -1.8345096111297607,
          6.579975128173828,
          3.2956323623657227,
          5.316861629486084,
          8.12362003326416,
          -12.701577186584473,
          7.684347629547119,
          -3.553335428237915,
          -0.9308422207832336,
          -9.025653839111328,
          6.508833408355713,
          -6.75914192199707,
          -6.333329200744629,
          3.5016233921051025,
          -0.8430044054985046,
          -4.042957782745361,
          -4.251373767852783,
          1.7818516492843628,
          1.8138765096664429,
          2.520831823348999,
          2.327162742614746,
          1.1868246793746948,
          1.2092487812042236,
          4.29986047744751,
          -0.442396342754364,
          -5.132702827453613,
          5.0207061767578125,
          4.617438793182373,
          3.3744876384735107,
          -0.49128004908561707,
          4.980078220367432,
          1.8020594120025635,
          -8.615519523620605,
          1.839964509010315,
          5.948369026184082,
          -6.770898818969727,
          -2.73341965675354,
          -4.292105197906494,
          5.126702785491943,
          6.223039627075195,
          -4.429733753204346,
          -5.061723232269287,
          7.170027256011963,
          5.573892116546631,
          3.8743278980255127,
          -6.725943565368652,
          1.1040288209915161,
          4.720303535461426,
          1.7639756202697754,
          -11.94469928741455,
          0.02689335122704506,
          5.857320785522461,
          3.7450616359710693,
          7.396653652191162,
          0.3206619620323181,
          -11.014894485473633,
          5.573083400726318,
          -3.187346935272217,
          -8.503334045410156,
          5.872356414794922,
          1.8904169797897339,
          8.243712425231934,
          -1.3102320432662964,
          5.646989822387695,
          5.766831398010254,
          3.4306256771087646,
          -4.105101585388184,
          -9.416952133178711,
          2.1420445442199707,
          6.626238822937012,
          -10.437602043151855,
          -12.176087379455566,
          8.25519847869873,
          2.2502224445343018,
          4.542100429534912,
          4.239104270935059,
          -9.726530075073242,
          -5.56939172744751,
          1.619752049446106,
          -2.3845553398132324,
          5.137972354888916,
          8.910938262939453,
          5.1619977951049805,
          -7.3171820640563965,
          -8.419118881225586,
          7.036134719848633,
          7.596565246582031,
          3.530670642852783,
          -11.285829544067383,
          7.199934482574463,
          -10.004685401916504,
          0.23410724103450775,
          -6.06942892074585,
          2.4851467609405518,
          -3.8777434825897217,
          -3.694571018218994,
          6.7388739585876465,
          -4.480238437652588,
          -9.547721862792969,
          9.393339157104492,
          -2.7680904865264893,
          -4.654160976409912,
          3.201425790786743,
          -12.11337947845459,
          -2.0550553798675537,
          -0.506960928440094,
          4.259928226470947,
          4.849257469177246,
          -8.035158157348633,
          -0.4773353636264801,
          -7.232226848602295,
          6.15762996673584,
          -2.4307878017425537,
          -3.445387363433838,
          -5.947502613067627,
          -3.1136178970336914,
          -11.036590576171875,
          -2.8707289695739746,
          5.524140357971191,
          6.497138023376465,
          4.914488315582275,
          3.9209346771240234,
          -13.08659839630127,
          7.3800129890441895,
          3.790541172027588,
          4.3196187019348145,
          -6.863533973693848,
          -4.939887046813965,
          6.219780921936035,
          -0.2431510090827942,
          -8.290935516357422,
          -5.751439094543457,
          -7.217343807220459,
          -11.269306182861328,
          6.312170028686523,
          6.745289325714111,
          5.385729789733887,
          -4.234265327453613,
          -8.378579139709473
         ],
         "y": [
          2.288625717163086,
          2.163207530975342,
          2.024916887283325,
          -3.1086630821228027,
          0.2020014524459839,
          0.4216293692588806,
          -2.8509573936462402,
          -3.2969794273376465,
          0.06850775331258774,
          -2.539346218109131,
          -0.004319577477872372,
          -5.54071044921875,
          2.5074427127838135,
          -0.8735246658325195,
          2.660332679748535,
          -3.4256622791290283,
          4.448094367980957,
          -0.5869220495223999,
          -2.3042991161346436,
          0.6887410879135132,
          -1.841474175453186,
          -2.5690393447875977,
          -0.5828309655189514,
          2.343414306640625,
          -1.539435863494873,
          -3.551011323928833,
          -0.01397327333688736,
          -0.20166808366775513,
          1.4111591577529907,
          2.1252052783966064,
          -0.2902792692184448,
          2.256107807159424,
          3.6963050365448,
          5.001440525054932,
          1.7703088521957397,
          5.576981544494629,
          4.45697546005249,
          0.8884742856025696,
          -1.0844258069992065,
          -2.443881034851074,
          -0.7064088582992554,
          -0.3027251362800598,
          -3.1163315773010254,
          5.416484832763672,
          3.158139705657959,
          0.26098597049713135,
          -0.8296008706092834,
          -1.5206087827682495,
          -0.36211323738098145,
          -3.0381741523742676,
          3.0716662406921387,
          1.9821661710739136,
          0.048116352409124374,
          2.290433883666992,
          0.6642471551895142,
          2.974252700805664,
          -2.1981654167175293,
          2.067028760910034,
          5.4865546226501465,
          -1.8156522512435913,
          -0.08127899467945099,
          -2.9307124614715576,
          -2.5666909217834473,
          -2.3301877975463867,
          0.0759749636054039,
          -2.350071430206299,
          -2.542091131210327,
          -0.8103100657463074,
          -0.7974444031715393,
          3.675164222717285,
          3.6987545490264893,
          3.228105306625366,
          -2.331454277038574,
          -2.8328053951263428,
          -1.1835957765579224,
          -2.2292730808258057,
          0.8909315466880798,
          -0.49066972732543945,
          0.06642792373895645,
          -1.1615103483200073,
          3.470088243484497,
          -2.771523952484131,
          2.182055950164795,
          -0.5786321759223938,
          1.284354329109192,
          2.30831241607666,
          -3.7442703247070312,
          4.2641425132751465,
          -3.259920358657837,
          2.7741260528564453,
          4.700647830963135,
          -0.13076937198638916,
          4.71277379989624,
          1.4049586057662964,
          0.15407337248325348,
          -2.8842077255249023,
          1.275833010673523,
          -1.6756757497787476,
          -1.2074358463287354,
          -1.1666390895843506,
          0.8701464533805847,
          -0.9951688051223755,
          0.09746542572975159,
          -1.957053542137146,
          -0.4688781797885895,
          -1.0630489587783813,
          -0.36680614948272705,
          -2.884274959564209,
          2.425919532775879,
          0.9795961976051331,
          -1.7830705642700195,
          2.292922019958496,
          -0.871288001537323,
          0.8632171750068665,
          2.6470682621002197,
          -3.894946336746216,
          1.4718620777130127,
          2.446401834487915,
          -2.092604637145996,
          3.8788650035858154,
          -1.7781203985214233,
          0.9242514371871948,
          0.3352227509021759,
          -3.1128451824188232,
          1.8140113353729248,
          0.25455471873283386,
          0.7391260862350464,
          -1.1360678672790527,
          0.12890292704105377,
          1.1962530612945557,
          3.816720485687256,
          -0.2958109974861145,
          -2.653341293334961,
          -2.298318386077881,
          0.1222333088517189,
          -0.6057724356651306,
          0.5096594095230103,
          3.319655418395996,
          3.9735593795776367,
          2.8758983612060547,
          1.4312207698822021,
          -0.5702095031738281,
          -1.0847097635269165,
          1.2314616441726685,
          -1.8488000631332397,
          3.283879280090332,
          -2.0387325286865234,
          -1.6630899906158447,
          -3.579427719116211,
          -3.6249423027038574,
          2.1127681732177734,
          2.631023645401001,
          -1.611804723739624,
          0.7277100682258606,
          -1.2250274419784546,
          -1.5966955423355103,
          1.5721595287322998,
          -2.9961235523223877,
          -2.134195566177368,
          3.1899492740631104,
          1.0109598636627197,
          -2.0538244247436523,
          -0.9974364042282104,
          3.6888885498046875,
          4.334909915924072,
          1.9721717834472656,
          -2.551654577255249,
          2.0905954837799072,
          -0.39758965373039246,
          0.19915606081485748,
          -2.2116141319274902,
          0.8928033113479614,
          1.5172582864761353,
          -2.7532172203063965,
          0.24766027927398682,
          3.486680507659912,
          -0.549773097038269,
          -1.4959383010864258,
          2.618743658065796,
          -2.1917262077331543,
          -2.328193426132202,
          0.915866494178772,
          -2.8553805351257324,
          0.9210027456283569,
          0.040331996977329254,
          -2.9551243782043457,
          -4.468533992767334,
          1.077082872390747,
          2.8665945529937744,
          0.20607143640518188,
          0.5944849848747253,
          -0.0070808203890919685,
          -0.575667679309845,
          -3.902086019515991,
          -2.635075330734253,
          -1.5985934734344482,
          0.5657781958580017,
          1.4471977949142456,
          -0.9748331904411316,
          4.450435161590576,
          2.887068033218384,
          -2.938767433166504,
          -2.588320016860962,
          -1.6091991662979126,
          2.4234230518341064,
          -2.666912317276001,
          -2.2391128540039062,
          3.9092702865600586,
          2.6417665481567383,
          2.969729423522949,
          1.8520225286483765,
          2.862248182296753,
          3.7914159297943115,
          3.412482738494873,
          4.528507709503174,
          4.022321701049805,
          -1.2415775060653687,
          3.8195388317108154,
          -2.439385175704956,
          -1.759092926979065,
          -1.1119943857192993,
          -2.5975990295410156,
          0.3965912461280823,
          -1.3185299634933472,
          0.5563639402389526,
          2.3422067165374756,
          -3.2994613647460938,
          -0.6868071556091309,
          -1.947144865989685,
          -3.0176103115081787,
          -2.8166069984436035,
          1.3418760299682617,
          -2.514336585998535,
          2.2764148712158203,
          3.492405414581299,
          2.662994861602783,
          2.4242546558380127,
          3.856567621231079,
          3.1159985065460205,
          1.3154172897338867,
          2.1084682941436768,
          -2.1005172729492188,
          -2.6861069202423096,
          -0.1170082539319992,
          -0.9488711357116699,
          1.280631184577942,
          0.7972804307937622,
          0.17719995975494385,
          -2.2812888622283936,
          1.9726166725158691,
          3.07939076423645,
          -0.5588061213493347,
          -2.6661007404327393,
          0.7658395767211914,
          2.110712766647339,
          3.5462777614593506,
          -2.0437581539154053,
          -2.1054158210754395,
          1.2182599306106567,
          0.9054281115531921,
          5.357470989227295,
          5.598508358001709,
          2.682149887084961,
          -3.368842840194702,
          0.44836607575416565,
          -2.761542320251465,
          -3.805190086364746,
          0.1316034495830536,
          1.2656705379486084,
          4.928171157836914,
          1.7240866422653198,
          1.6662909984588623,
          0.41037893295288086,
          0.5262582302093506,
          1.2592498064041138,
          -2.2390329837799072,
          3.2303805351257324,
          4.505502223968506,
          1.099872350692749,
          -0.16628481447696686,
          -0.6900797486305237,
          -4.119255065917969,
          1.3174060583114624,
          1.919118881225586,
          2.6508536338806152,
          -1.9416446685791016,
          4.0197434425354,
          1.4466009140014648,
          -0.05994584411382675,
          -4.508131504058838,
          1.7700588703155518,
          4.347836971282959,
          4.156390190124512,
          -0.11038148403167725,
          -0.304168164730072,
          -3.6503098011016846,
          3.363085985183716,
          1.17503023147583,
          -0.043237872421741486,
          -0.21944670379161835,
          -0.5428465604782104,
          -1.3990871906280518,
          2.0240583419799805,
          4.3397979736328125,
          -3.2678511142730713,
          -4.146355628967285,
          0.09018806368112564,
          0.29683756828308105,
          2.3947906494140625,
          -1.295034646987915,
          2.06058406829834,
          -0.08872908353805542,
          -0.7483072280883789,
          0.6036351323127747,
          -1.507763385772705,
          2.1035633087158203,
          0.5435879230499268,
          2.460919141769409,
          3.9037771224975586,
          4.517210483551025,
          -2.269056558609009,
          1.4488561153411865,
          1.9546194076538086,
          0.8608892560005188,
          -2.0705244541168213,
          -1.101489543914795,
          -1.3187658786773682,
          4.687861919403076,
          -0.8358579277992249,
          -2.2078683376312256,
          -1.1056432723999023,
          0.34176966547966003,
          2.738801956176758,
          0.8579680919647217,
          -2.6748056411743164,
          2.304875135421753,
          -1.1761045455932617,
          1.7457667589187622,
          -2.468550682067871,
          0.8968015909194946,
          5.002552509307861,
          1.6710249185562134,
          1.1390653848648071,
          4.663991451263428,
          -3.5251522064208984,
          -2.1972146034240723,
          -2.7375826835632324,
          -1.509843111038208,
          3.5470404624938965,
          -1.751030445098877,
          3.7389769554138184,
          -2.671562910079956,
          5.003457546234131,
          -0.7079957723617554,
          -1.9022921323776245,
          -1.7775447368621826,
          -1.5209944248199463,
          -2.9584109783172607,
          2.1842751502990723,
          0.5267452597618103,
          1.6372623443603516,
          4.887683391571045,
          3.852023124694824,
          -2.684828042984009,
          1.3632559776306152,
          0.9660323262214661,
          1.506661295890808,
          1.764552354812622,
          0.7144299149513245,
          -0.6756173968315125,
          2.4526190757751465,
          0.2872805893421173,
          -2.7557430267333984,
          -1.847348928451538,
          -1.472111463546753,
          -0.04107396677136421,
          -2.27311110496521,
          -3.8014001846313477,
          -3.32234787940979,
          4.2722601890563965,
          3.1050944328308105,
          -3.9647293090820312,
          0.3480983376502991,
          -1.0015342235565186,
          -2.4448556900024414,
          0.8032069206237793,
          3.337191581726074,
          -1.6283613443374634,
          1.2584916353225708,
          -2.2205045223236084,
          2.22340989112854,
          1.7812068462371826,
          -3.12656831741333,
          -0.7217868566513062,
          0.5120542645454407,
          -2.6853256225585938,
          -2.6824088096618652,
          0.7278040051460266,
          -0.017367329448461533,
          0.363689661026001,
          4.381206035614014,
          4.848340034484863,
          1.3498245477676392,
          -0.9429539442062378,
          3.498701810836792,
          3.405395269393921,
          0.6776107549667358,
          -2.8779280185699463,
          3.5316219329833984,
          -3.1086864471435547,
          -4.141714572906494,
          0.4526223838329315,
          3.777740001678467,
          0.8133149743080139,
          -3.2790963649749756,
          -2.301841974258423,
          2.6085543632507324,
          -0.8072338700294495,
          1.9973920583724976,
          1.8752776384353638,
          0.51413893699646,
          -1.5577521324157715,
          -1.2851855754852295,
          -3.944035530090332,
          -1.6984825134277344,
          -0.9181497097015381,
          -0.5590758919715881,
          -0.5567424297332764,
          2.468968629837036,
          0.449411541223526,
          -2.129801034927368,
          0.7364851236343384,
          0.9258886575698853,
          4.088469505310059,
          2.4623332023620605,
          -2.3112409114837646,
          2.438979148864746,
          0.8487196564674377,
          -3.942214250564575,
          0.6101687550544739,
          -2.411902904510498,
          4.432474613189697
         ],
         "z": [
          -3.9228122234344482,
          5.3157758712768555,
          -4.584667205810547,
          2.9507627487182617,
          3.9458327293395996,
          2.9478511810302734,
          -8.747509956359863,
          1.1177769899368286,
          -3.9782981872558594,
          0.4315241575241089,
          0.8883191347122192,
          -2.7199888229370117,
          4.283032417297363,
          -3.3551883697509766,
          5.557600021362305,
          1.8701658248901367,
          1.9317232370376587,
          -0.1386697143316269,
          1.8955374956130981,
          3.951486825942993,
          1.9442880153656006,
          -9.06118106842041,
          2.7957231998443604,
          1.4032666683197021,
          0.7436736226081848,
          -2.6269218921661377,
          1.072557806968689,
          -0.5352461338043213,
          -0.764855682849884,
          -7.918732643127441,
          1.5642722845077515,
          3.192181348800659,
          -1.062571406364441,
          2.51149582862854,
          0.7411191463470459,
          4.652389049530029,
          1.827261209487915,
          -0.0007364961784332991,
          3.604510545730591,
          -4.419898509979248,
          1.9372508525848389,
          1.228334903717041,
          -3.2602055072784424,
          3.701319456100464,
          -1.1004887819290161,
          -5.701807975769043,
          0.2182355672121048,
          2.4777536392211914,
          -6.2340569496154785,
          -1.7457736730575562,
          0.45926433801651,
          -4.599812984466553,
          4.48159122467041,
          2.7474753856658936,
          3.066918134689331,
          2.8703830242156982,
          0.355956107378006,
          2.4934003353118896,
          6.229918003082275,
          -0.7899041771888733,
          2.386805534362793,
          -2.676787853240967,
          -8.777603149414062,
          4.1816511154174805,
          -6.286555767059326,
          -0.26567336916923523,
          -2.507189989089966,
          -4.6001176834106445,
          -5.476169586181641,
          0.2904016971588135,
          2.898817300796509,
          2.9372053146362305,
          -0.23188723623752594,
          -1.8020830154418945,
          -3.4802496433258057,
          -4.628754138946533,
          -8.547420501708984,
          2.2711949348449707,
          -1.539138674736023,
          3.348036766052246,
          5.699819087982178,
          -2.3612143993377686,
          5.996302127838135,
          0.05308212712407112,
          5.049858093261719,
          -1.3921921253204346,
          -8.552967071533203,
          5.2529683113098145,
          -7.120583534240723,
          2.799846887588501,
          2.7923648357391357,
          5.734242916107178,
          0.8608302474021912,
          3.8876523971557617,
          4.874631404876709,
          2.2933177947998047,
          -1.3433281183242798,
          1.0279905796051025,
          -7.002518177032471,
          4.30748987197876,
          6.233504772186279,
          -4.358420372009277,
          2.9444580078125,
          -0.09789920598268509,
          -0.2175355851650238,
          -5.411820411682129,
          3.5912375450134277,
          2.8056108951568604,
          -2.3528506755828857,
          0.7748118042945862,
          -9.511439323425293,
          5.296879768371582,
          2.1764726638793945,
          -0.16597729921340942,
          0.14473654329776764,
          1.2222464084625244,
          -0.08523380756378174,
          3.707814931869507,
          0.20245985686779022,
          2.3640151023864746,
          1.3012663125991821,
          2.280336380004883,
          1.5108985900878906,
          4.322990417480469,
          0.5832240581512451,
          -2.3251285552978516,
          2.313441514968872,
          -7.360954284667969,
          4.1339898109436035,
          3.291217803955078,
          2.050199508666992,
          3.8461670875549316,
          -2.643554925918579,
          -8.95467758178711,
          2.345902442932129,
          -1.0199295282363892,
          1.6635295152664185,
          0.22126968204975128,
          0.807252049446106,
          -0.12494712322950363,
          -3.929624319076538,
          3.8811793327331543,
          -1.0109295845031738,
          4.652425765991211,
          -0.13997496664524078,
          -1.2678695917129517,
          -0.8775762915611267,
          0.7505137324333191,
          -5.2171759605407715,
          -2.180919647216797,
          0.0006013396196067333,
          3.2495110034942627,
          1.9878138303756714,
          -3.888972759246826,
          -1.7369186878204346,
          4.014580249786377,
          0.7967991232872009,
          -2.318288803100586,
          4.409397602081299,
          0.544359028339386,
          1.470085859298706,
          4.1805195808410645,
          0.31906363368034363,
          0.6334478855133057,
          5.0486273765563965,
          2.3946878910064697,
          -9.579242706298828,
          2.66162109375,
          2.910874366760254,
          0.6225258111953735,
          -9.088165283203125,
          0.5138369798660278,
          1.1525322198867798,
          -8.610950469970703,
          -7.035223960876465,
          0.9321302175521851,
          -2.227424383163452,
          4.093062877655029,
          5.352656364440918,
          3.6310458183288574,
          -1.044804573059082,
          6.601904392242432,
          1.3724291324615479,
          -2.8201348781585693,
          -0.3628663420677185,
          -2.080681800842285,
          0.8685454726219177,
          2.9564104080200195,
          6.273875713348389,
          3.9399635791778564,
          2.258239507675171,
          -7.024810791015625,
          -6.631944179534912,
          -0.5514654517173767,
          1.3020000457763672,
          -0.35937827825546265,
          4.840317249298096,
          -1.7158081531524658,
          -0.3939479887485504,
          3.7476723194122314,
          6.203397750854492,
          -7.1787214279174805,
          0.28860458731651306,
          1.2443124055862427,
          -1.725024938583374,
          0.14931724965572357,
          -1.0901570320129395,
          1.8813420534133911,
          3.1094157695770264,
          -3.3153882026672363,
          6.15139627456665,
          -0.9740219712257385,
          5.5502095222473145,
          2.832974433898926,
          2.712164878845215,
          1.0068984031677246,
          2.3317975997924805,
          3.9246346950531006,
          3.7759816646575928,
          1.519065499305725,
          -9.152140617370605,
          2.8530681133270264,
          -7.85493803024292,
          1.9286839962005615,
          0.9089257717132568,
          -2.2851853370666504,
          -9.32032299041748,
          -5.070207118988037,
          3.4397294521331787,
          -6.433160305023193,
          4.744706630706787,
          2.809163808822632,
          -0.30145788192749023,
          -1.2169017791748047,
          1.5869886875152588,
          -2.979539632797241,
          5.922836780548096,
          4.1507368087768555,
          -2.895277261734009,
          5.964982509613037,
          -0.0897226482629776,
          -3.217242956161499,
          -9.917041778564453,
          -6.044500350952148,
          -8.98241138458252,
          4.023591995239258,
          6.733118057250977,
          4.59553337097168,
          4.728909015655518,
          1.3628767728805542,
          0.415742963552475,
          3.499847888946533,
          3.2421252727508545,
          4.813774585723877,
          1.3261491060256958,
          2.7328717708587646,
          -0.288178950548172,
          -6.938924789428711,
          -0.2194455862045288,
          3.291552782058716,
          4.8876566886901855,
          6.329261779785156,
          2.519981622695923,
          -8.714264869689941,
          -4.780656337738037,
          -5.121140480041504,
          -8.599742889404297,
          6.247896194458008,
          1.2435812950134277,
          5.8336710929870605,
          -7.653652191162109,
          -4.26181173324585,
          -0.8271051049232483,
          1.1349023580551147,
          2.53371262550354,
          -4.2237229347229,
          6.632272720336914,
          1.4830185174942017,
          -0.8011267185211182,
          -6.8731560707092285,
          -2.904686212539673,
          -7.156878471374512,
          6.686919212341309,
          1.6466258764266968,
          -5.135470390319824,
          3.98406720161438,
          3.735433578491211,
          6.992111682891846,
          -6.186177730560303,
          0.868809163570404,
          0.3548103868961334,
          5.1131768226623535,
          2.638657808303833,
          1.7582385540008545,
          -5.602900505065918,
          -5.454606056213379,
          4.589474678039551,
          0.4938594102859497,
          -6.852209568023682,
          -5.473911762237549,
          -0.15287847816944122,
          -3.606785774230957,
          1.9206750392913818,
          4.814147472381592,
          1.3979746103286743,
          -1.9654921293258667,
          -6.855379581451416,
          0.6913821697235107,
          2.593778133392334,
          2.764671802520752,
          0.6668206453323364,
          5.712663650512695,
          2.5743496417999268,
          -0.24129638075828552,
          0.9556726217269897,
          4.9337968826293945,
          -1.2758541107177734,
          5.3187103271484375,
          5.437977313995361,
          2.1801528930664062,
          4.935989856719971,
          3.0040299892425537,
          1.7697417736053467,
          1.3313647508621216,
          4.661048412322998,
          4.419905662536621,
          -2.665529489517212,
          2.2566440105438232,
          -0.14878851175308228,
          -6.846691608428955,
          -0.029283469542860985,
          -5.866368293762207,
          0.1474360227584839,
          -1.7734490633010864,
          -9.105325698852539,
          4.993273735046387,
          4.389344692230225,
          -2.3830888271331787,
          3.47707200050354,
          6.358910083770752,
          -0.061945002526044846,
          -3.5595860481262207,
          -3.1983890533447266,
          0.07068857550621033,
          3.0945045948028564,
          -1.0923607349395752,
          3.5323970317840576,
          -5.191650390625,
          3.787498712539673,
          -6.5550336837768555,
          1.9009873867034912,
          -9.381499290466309,
          3.034848928451538,
          0.9180277585983276,
          4.012690544128418,
          -8.31414794921875,
          -6.638533592224121,
          -2.077528238296509,
          2.1381735801696777,
          -0.9346141815185547,
          1.5443941354751587,
          1.403044581413269,
          0.6558356285095215,
          -2.9023284912109375,
          1.0413568019866943,
          3.2810940742492676,
          3.558811664581299,
          3.396596670150757,
          -0.6577442288398743,
          -0.03812861442565918,
          5.225921154022217,
          0.3063799738883972,
          -5.962885856628418,
          1.2134523391723633,
          2.1221771240234375,
          -2.2415249347686768,
          4.918254375457764,
          -0.41351577639579773,
          -1.6315817832946777,
          0.38217830657958984,
          -0.22069552540779114,
          -7.447213649749756,
          -1.045233964920044,
          -6.744136333465576,
          -0.42381754517555237,
          -7.39530086517334,
          3.3277368545532227,
          -0.7756629586219788,
          -4.8376145362854,
          -8.318321228027344,
          1.0187265872955322,
          1.4535056352615356,
          -4.149890422821045,
          2.4753246307373047,
          0.4892553389072418,
          1.2354182004928589,
          -9.56436538696289,
          -1.100335955619812,
          6.281241416931152,
          -1.4970247745513916,
          0.12177523225545883,
          2.8476226329803467,
          -0.4643753170967102,
          -0.09941919147968292,
          -0.293904572725296,
          -3.379793882369995,
          4.646712303161621,
          2.470740556716919,
          4.426651954650879,
          1.5465366840362549,
          -1.0860289335250854,
          -1.145613670349121,
          2.6100575923919678,
          3.116903305053711,
          2.859529495239258,
          3.7509405612945557,
          0.37696874141693115,
          0.21295735239982605,
          7.136354923248291,
          1.2706444263458252,
          3.516310214996338,
          0.7216177582740784,
          4.533533573150635,
          0.5863525867462158,
          -2.471344470977783,
          1.7649394273757935,
          1.726426362991333,
          -8.490277290344238,
          1.5929385423660278,
          4.944721221923828,
          4.1622233390808105,
          -7.255105972290039,
          3.7265989780426025,
          6.283971309661865,
          3.047276735305786,
          2.8725314140319824,
          3.3922715187072754,
          -2.0674638748168945,
          -1.3378257751464844,
          -5.261244297027588,
          1.558005690574646,
          6.648305416107178
         ]
        }
       ],
       "layout": {
        "coloraxis": {
         "colorbar": {
          "title": {
           "text": "Diabetes Progression"
          }
         },
         "colorscale": [
          [
           0,
           "#0d0887"
          ],
          [
           0.1111111111111111,
           "#46039f"
          ],
          [
           0.2222222222222222,
           "#7201a8"
          ],
          [
           0.3333333333333333,
           "#9c179e"
          ],
          [
           0.4444444444444444,
           "#bd3786"
          ],
          [
           0.5555555555555556,
           "#d8576b"
          ],
          [
           0.6666666666666666,
           "#ed7953"
          ],
          [
           0.7777777777777778,
           "#fb9f3a"
          ],
          [
           0.8888888888888888,
           "#fdca26"
          ],
          [
           1,
           "#f0f921"
          ]
         ]
        },
        "legend": {
         "tracegroupgap": 0
        },
        "margin": {
         "t": 60
        },
        "scene": {
         "domain": {
          "x": [
           0,
           1
          ],
          "y": [
           0,
           1
          ]
         },
         "xaxis": {
          "title": {
           "text": "Dimension 1"
          }
         },
         "yaxis": {
          "title": {
           "text": "Dimension 2"
          }
         },
         "zaxis": {
          "title": {
           "text": "Dimension 3"
          }
         }
        },
        "template": {
         "data": {
          "bar": [
           {
            "error_x": {
             "color": "#2a3f5f"
            },
            "error_y": {
             "color": "#2a3f5f"
            },
            "marker": {
             "line": {
              "color": "#E5ECF6",
              "width": 0.5
             },
             "pattern": {
              "fillmode": "overlay",
              "size": 10,
              "solidity": 0.2
             }
            },
            "type": "bar"
           }
          ],
          "barpolar": [
           {
            "marker": {
             "line": {
              "color": "#E5ECF6",
              "width": 0.5
             },
             "pattern": {
              "fillmode": "overlay",
              "size": 10,
              "solidity": 0.2
             }
            },
            "type": "barpolar"
           }
          ],
          "carpet": [
           {
            "aaxis": {
             "endlinecolor": "#2a3f5f",
             "gridcolor": "white",
             "linecolor": "white",
             "minorgridcolor": "white",
             "startlinecolor": "#2a3f5f"
            },
            "baxis": {
             "endlinecolor": "#2a3f5f",
             "gridcolor": "white",
             "linecolor": "white",
             "minorgridcolor": "white",
             "startlinecolor": "#2a3f5f"
            },
            "type": "carpet"
           }
          ],
          "choropleth": [
           {
            "colorbar": {
             "outlinewidth": 0,
             "ticks": ""
            },
            "type": "choropleth"
           }
          ],
          "contour": [
           {
            "colorbar": {
             "outlinewidth": 0,
             "ticks": ""
            },
            "colorscale": [
             [
              0,
              "#0d0887"
             ],
             [
              0.1111111111111111,
              "#46039f"
             ],
             [
              0.2222222222222222,
              "#7201a8"
             ],
             [
              0.3333333333333333,
              "#9c179e"
             ],
             [
              0.4444444444444444,
              "#bd3786"
             ],
             [
              0.5555555555555556,
              "#d8576b"
             ],
             [
              0.6666666666666666,
              "#ed7953"
             ],
             [
              0.7777777777777778,
              "#fb9f3a"
             ],
             [
              0.8888888888888888,
              "#fdca26"
             ],
             [
              1,
              "#f0f921"
             ]
            ],
            "type": "contour"
           }
          ],
          "contourcarpet": [
           {
            "colorbar": {
             "outlinewidth": 0,
             "ticks": ""
            },
            "type": "contourcarpet"
           }
          ],
          "heatmap": [
           {
            "colorbar": {
             "outlinewidth": 0,
             "ticks": ""
            },
            "colorscale": [
             [
              0,
              "#0d0887"
             ],
             [
              0.1111111111111111,
              "#46039f"
             ],
             [
              0.2222222222222222,
              "#7201a8"
             ],
             [
              0.3333333333333333,
              "#9c179e"
             ],
             [
              0.4444444444444444,
              "#bd3786"
             ],
             [
              0.5555555555555556,
              "#d8576b"
             ],
             [
              0.6666666666666666,
              "#ed7953"
             ],
             [
              0.7777777777777778,
              "#fb9f3a"
             ],
             [
              0.8888888888888888,
              "#fdca26"
             ],
             [
              1,
              "#f0f921"
             ]
            ],
            "type": "heatmap"
           }
          ],
          "heatmapgl": [
           {
            "colorbar": {
             "outlinewidth": 0,
             "ticks": ""
            },
            "colorscale": [
             [
              0,
              "#0d0887"
             ],
             [
              0.1111111111111111,
              "#46039f"
             ],
             [
              0.2222222222222222,
              "#7201a8"
             ],
             [
              0.3333333333333333,
              "#9c179e"
             ],
             [
              0.4444444444444444,
              "#bd3786"
             ],
             [
              0.5555555555555556,
              "#d8576b"
             ],
             [
              0.6666666666666666,
              "#ed7953"
             ],
             [
              0.7777777777777778,
              "#fb9f3a"
             ],
             [
              0.8888888888888888,
              "#fdca26"
             ],
             [
              1,
              "#f0f921"
             ]
            ],
            "type": "heatmapgl"
           }
          ],
          "histogram": [
           {
            "marker": {
             "pattern": {
              "fillmode": "overlay",
              "size": 10,
              "solidity": 0.2
             }
            },
            "type": "histogram"
           }
          ],
          "histogram2d": [
           {
            "colorbar": {
             "outlinewidth": 0,
             "ticks": ""
            },
            "colorscale": [
             [
              0,
              "#0d0887"
             ],
             [
              0.1111111111111111,
              "#46039f"
             ],
             [
              0.2222222222222222,
              "#7201a8"
             ],
             [
              0.3333333333333333,
              "#9c179e"
             ],
             [
              0.4444444444444444,
              "#bd3786"
             ],
             [
              0.5555555555555556,
              "#d8576b"
             ],
             [
              0.6666666666666666,
              "#ed7953"
             ],
             [
              0.7777777777777778,
              "#fb9f3a"
             ],
             [
              0.8888888888888888,
              "#fdca26"
             ],
             [
              1,
              "#f0f921"
             ]
            ],
            "type": "histogram2d"
           }
          ],
          "histogram2dcontour": [
           {
            "colorbar": {
             "outlinewidth": 0,
             "ticks": ""
            },
            "colorscale": [
             [
              0,
              "#0d0887"
             ],
             [
              0.1111111111111111,
              "#46039f"
             ],
             [
              0.2222222222222222,
              "#7201a8"
             ],
             [
              0.3333333333333333,
              "#9c179e"
             ],
             [
              0.4444444444444444,
              "#bd3786"
             ],
             [
              0.5555555555555556,
              "#d8576b"
             ],
             [
              0.6666666666666666,
              "#ed7953"
             ],
             [
              0.7777777777777778,
              "#fb9f3a"
             ],
             [
              0.8888888888888888,
              "#fdca26"
             ],
             [
              1,
              "#f0f921"
             ]
            ],
            "type": "histogram2dcontour"
           }
          ],
          "mesh3d": [
           {
            "colorbar": {
             "outlinewidth": 0,
             "ticks": ""
            },
            "type": "mesh3d"
           }
          ],
          "parcoords": [
           {
            "line": {
             "colorbar": {
              "outlinewidth": 0,
              "ticks": ""
             }
            },
            "type": "parcoords"
           }
          ],
          "pie": [
           {
            "automargin": true,
            "type": "pie"
           }
          ],
          "scatter": [
           {
            "fillpattern": {
             "fillmode": "overlay",
             "size": 10,
             "solidity": 0.2
            },
            "type": "scatter"
           }
          ],
          "scatter3d": [
           {
            "line": {
             "colorbar": {
              "outlinewidth": 0,
              "ticks": ""
             }
            },
            "marker": {
             "colorbar": {
              "outlinewidth": 0,
              "ticks": ""
             }
            },
            "type": "scatter3d"
           }
          ],
          "scattercarpet": [
           {
            "marker": {
             "colorbar": {
              "outlinewidth": 0,
              "ticks": ""
             }
            },
            "type": "scattercarpet"
           }
          ],
          "scattergeo": [
           {
            "marker": {
             "colorbar": {
              "outlinewidth": 0,
              "ticks": ""
             }
            },
            "type": "scattergeo"
           }
          ],
          "scattergl": [
           {
            "marker": {
             "colorbar": {
              "outlinewidth": 0,
              "ticks": ""
             }
            },
            "type": "scattergl"
           }
          ],
          "scattermapbox": [
           {
            "marker": {
             "colorbar": {
              "outlinewidth": 0,
              "ticks": ""
             }
            },
            "type": "scattermapbox"
           }
          ],
          "scatterpolar": [
           {
            "marker": {
             "colorbar": {
              "outlinewidth": 0,
              "ticks": ""
             }
            },
            "type": "scatterpolar"
           }
          ],
          "scatterpolargl": [
           {
            "marker": {
             "colorbar": {
              "outlinewidth": 0,
              "ticks": ""
             }
            },
            "type": "scatterpolargl"
           }
          ],
          "scatterternary": [
           {
            "marker": {
             "colorbar": {
              "outlinewidth": 0,
              "ticks": ""
             }
            },
            "type": "scatterternary"
           }
          ],
          "surface": [
           {
            "colorbar": {
             "outlinewidth": 0,
             "ticks": ""
            },
            "colorscale": [
             [
              0,
              "#0d0887"
             ],
             [
              0.1111111111111111,
              "#46039f"
             ],
             [
              0.2222222222222222,
              "#7201a8"
             ],
             [
              0.3333333333333333,
              "#9c179e"
             ],
             [
              0.4444444444444444,
              "#bd3786"
             ],
             [
              0.5555555555555556,
              "#d8576b"
             ],
             [
              0.6666666666666666,
              "#ed7953"
             ],
             [
              0.7777777777777778,
              "#fb9f3a"
             ],
             [
              0.8888888888888888,
              "#fdca26"
             ],
             [
              1,
              "#f0f921"
             ]
            ],
            "type": "surface"
           }
          ],
          "table": [
           {
            "cells": {
             "fill": {
              "color": "#EBF0F8"
             },
             "line": {
              "color": "white"
             }
            },
            "header": {
             "fill": {
              "color": "#C8D4E3"
             },
             "line": {
              "color": "white"
             }
            },
            "type": "table"
           }
          ]
         },
         "layout": {
          "annotationdefaults": {
           "arrowcolor": "#2a3f5f",
           "arrowhead": 0,
           "arrowwidth": 1
          },
          "autotypenumbers": "strict",
          "coloraxis": {
           "colorbar": {
            "outlinewidth": 0,
            "ticks": ""
           }
          },
          "colorscale": {
           "diverging": [
            [
             0,
             "#8e0152"
            ],
            [
             0.1,
             "#c51b7d"
            ],
            [
             0.2,
             "#de77ae"
            ],
            [
             0.3,
             "#f1b6da"
            ],
            [
             0.4,
             "#fde0ef"
            ],
            [
             0.5,
             "#f7f7f7"
            ],
            [
             0.6,
             "#e6f5d0"
            ],
            [
             0.7,
             "#b8e186"
            ],
            [
             0.8,
             "#7fbc41"
            ],
            [
             0.9,
             "#4d9221"
            ],
            [
             1,
             "#276419"
            ]
           ],
           "sequential": [
            [
             0,
             "#0d0887"
            ],
            [
             0.1111111111111111,
             "#46039f"
            ],
            [
             0.2222222222222222,
             "#7201a8"
            ],
            [
             0.3333333333333333,
             "#9c179e"
            ],
            [
             0.4444444444444444,
             "#bd3786"
            ],
            [
             0.5555555555555556,
             "#d8576b"
            ],
            [
             0.6666666666666666,
             "#ed7953"
            ],
            [
             0.7777777777777778,
             "#fb9f3a"
            ],
            [
             0.8888888888888888,
             "#fdca26"
            ],
            [
             1,
             "#f0f921"
            ]
           ],
           "sequentialminus": [
            [
             0,
             "#0d0887"
            ],
            [
             0.1111111111111111,
             "#46039f"
            ],
            [
             0.2222222222222222,
             "#7201a8"
            ],
            [
             0.3333333333333333,
             "#9c179e"
            ],
            [
             0.4444444444444444,
             "#bd3786"
            ],
            [
             0.5555555555555556,
             "#d8576b"
            ],
            [
             0.6666666666666666,
             "#ed7953"
            ],
            [
             0.7777777777777778,
             "#fb9f3a"
            ],
            [
             0.8888888888888888,
             "#fdca26"
            ],
            [
             1,
             "#f0f921"
            ]
           ]
          },
          "colorway": [
           "#636efa",
           "#EF553B",
           "#00cc96",
           "#ab63fa",
           "#FFA15A",
           "#19d3f3",
           "#FF6692",
           "#B6E880",
           "#FF97FF",
           "#FECB52"
          ],
          "font": {
           "color": "#2a3f5f"
          },
          "geo": {
           "bgcolor": "white",
           "lakecolor": "white",
           "landcolor": "#E5ECF6",
           "showlakes": true,
           "showland": true,
           "subunitcolor": "white"
          },
          "hoverlabel": {
           "align": "left"
          },
          "hovermode": "closest",
          "mapbox": {
           "style": "light"
          },
          "paper_bgcolor": "white",
          "plot_bgcolor": "#E5ECF6",
          "polar": {
           "angularaxis": {
            "gridcolor": "white",
            "linecolor": "white",
            "ticks": ""
           },
           "bgcolor": "#E5ECF6",
           "radialaxis": {
            "gridcolor": "white",
            "linecolor": "white",
            "ticks": ""
           }
          },
          "scene": {
           "xaxis": {
            "backgroundcolor": "#E5ECF6",
            "gridcolor": "white",
            "gridwidth": 2,
            "linecolor": "white",
            "showbackground": true,
            "ticks": "",
            "zerolinecolor": "white"
           },
           "yaxis": {
            "backgroundcolor": "#E5ECF6",
            "gridcolor": "white",
            "gridwidth": 2,
            "linecolor": "white",
            "showbackground": true,
            "ticks": "",
            "zerolinecolor": "white"
           },
           "zaxis": {
            "backgroundcolor": "#E5ECF6",
            "gridcolor": "white",
            "gridwidth": 2,
            "linecolor": "white",
            "showbackground": true,
            "ticks": "",
            "zerolinecolor": "white"
           }
          },
          "shapedefaults": {
           "line": {
            "color": "#2a3f5f"
           }
          },
          "ternary": {
           "aaxis": {
            "gridcolor": "white",
            "linecolor": "white",
            "ticks": ""
           },
           "baxis": {
            "gridcolor": "white",
            "linecolor": "white",
            "ticks": ""
           },
           "bgcolor": "#E5ECF6",
           "caxis": {
            "gridcolor": "white",
            "linecolor": "white",
            "ticks": ""
           }
          },
          "title": {
           "x": 0.05
          },
          "xaxis": {
           "automargin": true,
           "gridcolor": "white",
           "linecolor": "white",
           "ticks": "",
           "title": {
            "standoff": 15
           },
           "zerolinecolor": "white",
           "zerolinewidth": 2
          },
          "yaxis": {
           "automargin": true,
           "gridcolor": "white",
           "linecolor": "white",
           "ticks": "",
           "title": {
            "standoff": 15
           },
           "zerolinecolor": "white",
           "zerolinewidth": 2
          }
         }
        },
        "title": {
         "text": "3D t-SNE Clustering attempt of Diabetes Dataset"
        }
       }
      }
     },
     "metadata": {},
     "output_type": "display_data"
    }
   ],
   "source": [
    "# initializing t-SNE dimensionality reduction implementation\n",
    "tsne = TSNE(n_components=3, random_state=42) #make instance of t-SNE\n",
    "X_tsne = tsne.fit_transform(X_diab)\n",
    "\n",
    "# dataframe with the t-SNE results\n",
    "df_tsne = pd.DataFrame(X_tsne, columns=['Dimension 1', 'Dimension 2', 'Dimension 3'])\n",
    "df_tsne['Diabetes Progression'] = y_diab\n",
    "\n",
    "# 3D plot\n",
    "fig_tsne = px.scatter_3d(df_tsne, \n",
    "                    x='Dimension 1', \n",
    "                    y='Dimension 2', \n",
    "                    z='Dimension 3', \n",
    "                    color='Diabetes Progression')\n",
    "fig_tsne.update_layout(title=\"3D t-SNE Clustering attempt of Diabetes Dataset\")\n",
    "fig_tsne.show()\n"
   ]
  },
  {
   "cell_type": "markdown",
   "metadata": {},
   "source": [
    "### Save the plots"
   ]
  },
  {
   "cell_type": "code",
   "execution_count": null,
   "metadata": {},
   "outputs": [],
   "source": [
    "import os\n",
    "import plotly.offline as offline\n",
    "\n",
    "\n",
    "results_folder = '/Users/vschastlivaia/Library/CloudStorage/OneDrive-IBEC/Documents/GitHub/model-implementation-and-validation/Results'\n",
    "\n",
    "# the line below will create the 'Results' folder if it doesn't exist\n",
    "# os.makedirs(results_folder, exist_ok=True) \n",
    "\n",
    "# Save the plots in the 'Results' folder\n",
    "offline.plot(fig_pca, filename=os.path.join(results_folder, 'pca_plot.html'), auto_open=False)\n",
    "offline.plot(fig_tsne, filename=os.path.join(results_folder, 'tsne_plot.html'), auto_open=False)"
   ]
  },
  {
   "cell_type": "markdown",
   "metadata": {},
   "source": [
    "To save as static png images uncomment the code below"
   ]
  },
  {
   "cell_type": "code",
   "execution_count": null,
   "metadata": {},
   "outputs": [],
   "source": [
    "#import kaleido\n",
    "#import plotly.io as pio\n",
    "#\n",
    "#fig_pca.write_image(os.path.join(results_folder, 'pca_plot.png'))\n",
    "#fig_tsne.write_image(os.path.join(results_folder, 'tsne_plot.png'))"
   ]
  },
  {
   "cell_type": "markdown",
   "metadata": {},
   "source": [
    "### Chosing a color palette"
   ]
  },
  {
   "cell_type": "code",
   "execution_count": 23,
   "metadata": {},
   "outputs": [
    {
     "data": {
      "application/vnd.plotly.v1+json": {
       "config": {
        "plotlyServerURL": "https://plot.ly"
       },
       "data": [
        {
         "customdata": [
          0,
          1,
          2,
          3,
          4,
          5,
          6,
          7,
          8,
          9,
          10
         ],
         "hovertemplate": "%{y}[%{customdata}] = %{marker.color}<extra></extra>",
         "marker": {
          "color": [
           "rgb(229, 134, 6)",
           "rgb(93, 105, 177)",
           "rgb(82, 188, 163)",
           "rgb(153, 201, 69)",
           "rgb(204, 97, 176)",
           "rgb(36, 121, 108)",
           "rgb(218, 165, 27)",
           "rgb(47, 138, 196)",
           "rgb(118, 78, 159)",
           "rgb(237, 100, 90)",
           "rgb(165, 170, 153)"
          ]
         },
         "orientation": "h",
         "type": "bar",
         "x": [
          1,
          1,
          1,
          1,
          1,
          1,
          1,
          1,
          1,
          1,
          1
         ],
         "y": [
          "Vivid",
          "Vivid",
          "Vivid",
          "Vivid",
          "Vivid",
          "Vivid",
          "Vivid",
          "Vivid",
          "Vivid",
          "Vivid",
          "Vivid"
         ]
        },
        {
         "customdata": [
          0,
          1,
          2,
          3,
          4,
          5,
          6,
          7,
          8,
          9,
          10
         ],
         "hovertemplate": "%{y}[%{customdata}] = %{marker.color}<extra></extra>",
         "marker": {
          "color": [
           "rgb(136, 204, 238)",
           "rgb(204, 102, 119)",
           "rgb(221, 204, 119)",
           "rgb(17, 119, 51)",
           "rgb(51, 34, 136)",
           "rgb(170, 68, 153)",
           "rgb(68, 170, 153)",
           "rgb(153, 153, 51)",
           "rgb(136, 34, 85)",
           "rgb(102, 17, 0)",
           "rgb(136, 136, 136)"
          ]
         },
         "orientation": "h",
         "type": "bar",
         "x": [
          1,
          1,
          1,
          1,
          1,
          1,
          1,
          1,
          1,
          1,
          1
         ],
         "y": [
          "Safe",
          "Safe",
          "Safe",
          "Safe",
          "Safe",
          "Safe",
          "Safe",
          "Safe",
          "Safe",
          "Safe",
          "Safe"
         ]
        },
        {
         "customdata": [
          0,
          1,
          2,
          3,
          4,
          5,
          6,
          7,
          8,
          9,
          10
         ],
         "hovertemplate": "%{y}[%{customdata}] = %{marker.color}<extra></extra>",
         "marker": {
          "color": [
           "rgb(95, 70, 144)",
           "rgb(29, 105, 150)",
           "rgb(56, 166, 165)",
           "rgb(15, 133, 84)",
           "rgb(115, 175, 72)",
           "rgb(237, 173, 8)",
           "rgb(225, 124, 5)",
           "rgb(204, 80, 62)",
           "rgb(148, 52, 110)",
           "rgb(111, 64, 112)",
           "rgb(102, 102, 102)"
          ]
         },
         "orientation": "h",
         "type": "bar",
         "x": [
          1,
          1,
          1,
          1,
          1,
          1,
          1,
          1,
          1,
          1,
          1
         ],
         "y": [
          "Prism",
          "Prism",
          "Prism",
          "Prism",
          "Prism",
          "Prism",
          "Prism",
          "Prism",
          "Prism",
          "Prism",
          "Prism"
         ]
        },
        {
         "customdata": [
          0,
          1,
          2,
          3,
          4,
          5,
          6,
          7,
          8,
          9,
          10
         ],
         "hovertemplate": "%{y}[%{customdata}] = %{marker.color}<extra></extra>",
         "marker": {
          "color": [
           "rgb(102, 197, 204)",
           "rgb(246, 207, 113)",
           "rgb(248, 156, 116)",
           "rgb(220, 176, 242)",
           "rgb(135, 197, 95)",
           "rgb(158, 185, 243)",
           "rgb(254, 136, 177)",
           "rgb(201, 219, 116)",
           "rgb(139, 224, 164)",
           "rgb(180, 151, 231)",
           "rgb(179, 179, 179)"
          ]
         },
         "orientation": "h",
         "type": "bar",
         "x": [
          1,
          1,
          1,
          1,
          1,
          1,
          1,
          1,
          1,
          1,
          1
         ],
         "y": [
          "Pastel",
          "Pastel",
          "Pastel",
          "Pastel",
          "Pastel",
          "Pastel",
          "Pastel",
          "Pastel",
          "Pastel",
          "Pastel",
          "Pastel"
         ]
        },
        {
         "customdata": [
          0,
          1,
          2,
          3,
          4,
          5,
          6,
          7,
          8,
          9,
          10
         ],
         "hovertemplate": "%{y}[%{customdata}] = %{marker.color}<extra></extra>",
         "marker": {
          "color": [
           "rgb(127, 60, 141)",
           "rgb(17, 165, 121)",
           "rgb(57, 105, 172)",
           "rgb(242, 183, 1)",
           "rgb(231, 63, 116)",
           "rgb(128, 186, 90)",
           "rgb(230, 131, 16)",
           "rgb(0, 134, 149)",
           "rgb(207, 28, 144)",
           "rgb(249, 123, 114)",
           "rgb(165, 170, 153)"
          ]
         },
         "orientation": "h",
         "type": "bar",
         "x": [
          1,
          1,
          1,
          1,
          1,
          1,
          1,
          1,
          1,
          1,
          1
         ],
         "y": [
          "Bold",
          "Bold",
          "Bold",
          "Bold",
          "Bold",
          "Bold",
          "Bold",
          "Bold",
          "Bold",
          "Bold",
          "Bold"
         ]
        },
        {
         "customdata": [
          0,
          1,
          2,
          3,
          4,
          5,
          6,
          7,
          8,
          9,
          10
         ],
         "hovertemplate": "%{y}[%{customdata}] = %{marker.color}<extra></extra>",
         "marker": {
          "color": [
           "rgb(133, 92, 117)",
           "rgb(217, 175, 107)",
           "rgb(175, 100, 88)",
           "rgb(115, 111, 76)",
           "rgb(82, 106, 131)",
           "rgb(98, 83, 119)",
           "rgb(104, 133, 92)",
           "rgb(156, 156, 94)",
           "rgb(160, 97, 119)",
           "rgb(140, 120, 93)",
           "rgb(124, 124, 124)"
          ]
         },
         "orientation": "h",
         "type": "bar",
         "x": [
          1,
          1,
          1,
          1,
          1,
          1,
          1,
          1,
          1,
          1,
          1
         ],
         "y": [
          "Antique",
          "Antique",
          "Antique",
          "Antique",
          "Antique",
          "Antique",
          "Antique",
          "Antique",
          "Antique",
          "Antique",
          "Antique"
         ]
        },
        {
         "customdata": [
          0,
          1,
          2,
          3,
          4,
          5,
          6,
          7,
          8,
          9,
          10,
          11
         ],
         "hovertemplate": "%{y}[%{customdata}] = %{marker.color}<extra></extra>",
         "marker": {
          "color": [
           "rgb(141,211,199)",
           "rgb(255,255,179)",
           "rgb(190,186,218)",
           "rgb(251,128,114)",
           "rgb(128,177,211)",
           "rgb(253,180,98)",
           "rgb(179,222,105)",
           "rgb(252,205,229)",
           "rgb(217,217,217)",
           "rgb(188,128,189)",
           "rgb(204,235,197)",
           "rgb(255,237,111)"
          ]
         },
         "orientation": "h",
         "type": "bar",
         "x": [
          1,
          1,
          1,
          1,
          1,
          1,
          1,
          1,
          1,
          1,
          1,
          1
         ],
         "y": [
          "Set3",
          "Set3",
          "Set3",
          "Set3",
          "Set3",
          "Set3",
          "Set3",
          "Set3",
          "Set3",
          "Set3",
          "Set3",
          "Set3"
         ]
        },
        {
         "customdata": [
          0,
          1,
          2,
          3,
          4,
          5,
          6,
          7
         ],
         "hovertemplate": "%{y}[%{customdata}] = %{marker.color}<extra></extra>",
         "marker": {
          "color": [
           "rgb(179,226,205)",
           "rgb(253,205,172)",
           "rgb(203,213,232)",
           "rgb(244,202,228)",
           "rgb(230,245,201)",
           "rgb(255,242,174)",
           "rgb(241,226,204)",
           "rgb(204,204,204)"
          ]
         },
         "orientation": "h",
         "type": "bar",
         "x": [
          1,
          1,
          1,
          1,
          1,
          1,
          1,
          1
         ],
         "y": [
          "Pastel2",
          "Pastel2",
          "Pastel2",
          "Pastel2",
          "Pastel2",
          "Pastel2",
          "Pastel2",
          "Pastel2"
         ]
        },
        {
         "customdata": [
          0,
          1,
          2,
          3,
          4,
          5,
          6,
          7
         ],
         "hovertemplate": "%{y}[%{customdata}] = %{marker.color}<extra></extra>",
         "marker": {
          "color": [
           "rgb(102,194,165)",
           "rgb(252,141,98)",
           "rgb(141,160,203)",
           "rgb(231,138,195)",
           "rgb(166,216,84)",
           "rgb(255,217,47)",
           "rgb(229,196,148)",
           "rgb(179,179,179)"
          ]
         },
         "orientation": "h",
         "type": "bar",
         "x": [
          1,
          1,
          1,
          1,
          1,
          1,
          1,
          1
         ],
         "y": [
          "Set2",
          "Set2",
          "Set2",
          "Set2",
          "Set2",
          "Set2",
          "Set2",
          "Set2"
         ]
        },
        {
         "customdata": [
          0,
          1,
          2,
          3,
          4,
          5,
          6,
          7
         ],
         "hovertemplate": "%{y}[%{customdata}] = %{marker.color}<extra></extra>",
         "marker": {
          "color": [
           "rgb(27,158,119)",
           "rgb(217,95,2)",
           "rgb(117,112,179)",
           "rgb(231,41,138)",
           "rgb(102,166,30)",
           "rgb(230,171,2)",
           "rgb(166,118,29)",
           "rgb(102,102,102)"
          ]
         },
         "orientation": "h",
         "type": "bar",
         "x": [
          1,
          1,
          1,
          1,
          1,
          1,
          1,
          1
         ],
         "y": [
          "Dark2",
          "Dark2",
          "Dark2",
          "Dark2",
          "Dark2",
          "Dark2",
          "Dark2",
          "Dark2"
         ]
        },
        {
         "customdata": [
          0,
          1,
          2,
          3,
          4,
          5,
          6,
          7,
          8
         ],
         "hovertemplate": "%{y}[%{customdata}] = %{marker.color}<extra></extra>",
         "marker": {
          "color": [
           "rgb(251,180,174)",
           "rgb(179,205,227)",
           "rgb(204,235,197)",
           "rgb(222,203,228)",
           "rgb(254,217,166)",
           "rgb(255,255,204)",
           "rgb(229,216,189)",
           "rgb(253,218,236)",
           "rgb(242,242,242)"
          ]
         },
         "orientation": "h",
         "type": "bar",
         "x": [
          1,
          1,
          1,
          1,
          1,
          1,
          1,
          1,
          1
         ],
         "y": [
          "Pastel1",
          "Pastel1",
          "Pastel1",
          "Pastel1",
          "Pastel1",
          "Pastel1",
          "Pastel1",
          "Pastel1",
          "Pastel1"
         ]
        },
        {
         "customdata": [
          0,
          1,
          2,
          3,
          4,
          5,
          6,
          7,
          8
         ],
         "hovertemplate": "%{y}[%{customdata}] = %{marker.color}<extra></extra>",
         "marker": {
          "color": [
           "rgb(228,26,28)",
           "rgb(55,126,184)",
           "rgb(77,175,74)",
           "rgb(152,78,163)",
           "rgb(255,127,0)",
           "rgb(255,255,51)",
           "rgb(166,86,40)",
           "rgb(247,129,191)",
           "rgb(153,153,153)"
          ]
         },
         "orientation": "h",
         "type": "bar",
         "x": [
          1,
          1,
          1,
          1,
          1,
          1,
          1,
          1,
          1
         ],
         "y": [
          "Set1",
          "Set1",
          "Set1",
          "Set1",
          "Set1",
          "Set1",
          "Set1",
          "Set1",
          "Set1"
         ]
        },
        {
         "customdata": [
          0,
          1,
          2,
          3,
          4,
          5,
          6,
          7,
          8,
          9,
          10,
          11,
          12,
          13,
          14,
          15,
          16,
          17,
          18,
          19,
          20,
          21,
          22,
          23
         ],
         "hovertemplate": "%{y}[%{customdata}] = %{marker.color}<extra></extra>",
         "marker": {
          "color": [
           "#FD3216",
           "#00FE35",
           "#6A76FC",
           "#FED4C4",
           "#FE00CE",
           "#0DF9FF",
           "#F6F926",
           "#FF9616",
           "#479B55",
           "#EEA6FB",
           "#DC587D",
           "#D626FF",
           "#6E899C",
           "#00B5F7",
           "#B68E00",
           "#C9FBE5",
           "#FF0092",
           "#22FFA7",
           "#E3EE9E",
           "#86CE00",
           "#BC7196",
           "#7E7DCD",
           "#FC6955",
           "#E48F72"
          ]
         },
         "orientation": "h",
         "type": "bar",
         "x": [
          1,
          1,
          1,
          1,
          1,
          1,
          1,
          1,
          1,
          1,
          1,
          1,
          1,
          1,
          1,
          1,
          1,
          1,
          1,
          1,
          1,
          1,
          1,
          1
         ],
         "y": [
          "Light24",
          "Light24",
          "Light24",
          "Light24",
          "Light24",
          "Light24",
          "Light24",
          "Light24",
          "Light24",
          "Light24",
          "Light24",
          "Light24",
          "Light24",
          "Light24",
          "Light24",
          "Light24",
          "Light24",
          "Light24",
          "Light24",
          "Light24",
          "Light24",
          "Light24",
          "Light24",
          "Light24"
         ]
        },
        {
         "customdata": [
          0,
          1,
          2,
          3,
          4,
          5,
          6,
          7,
          8,
          9,
          10,
          11,
          12,
          13,
          14,
          15,
          16,
          17,
          18,
          19,
          20,
          21,
          22,
          23
         ],
         "hovertemplate": "%{y}[%{customdata}] = %{marker.color}<extra></extra>",
         "marker": {
          "color": [
           "#2E91E5",
           "#E15F99",
           "#1CA71C",
           "#FB0D0D",
           "#DA16FF",
           "#222A2A",
           "#B68100",
           "#750D86",
           "#EB663B",
           "#511CFB",
           "#00A08B",
           "#FB00D1",
           "#FC0080",
           "#B2828D",
           "#6C7C32",
           "#778AAE",
           "#862A16",
           "#A777F1",
           "#620042",
           "#1616A7",
           "#DA60CA",
           "#6C4516",
           "#0D2A63",
           "#AF0038"
          ]
         },
         "orientation": "h",
         "type": "bar",
         "x": [
          1,
          1,
          1,
          1,
          1,
          1,
          1,
          1,
          1,
          1,
          1,
          1,
          1,
          1,
          1,
          1,
          1,
          1,
          1,
          1,
          1,
          1,
          1,
          1
         ],
         "y": [
          "Dark24",
          "Dark24",
          "Dark24",
          "Dark24",
          "Dark24",
          "Dark24",
          "Dark24",
          "Dark24",
          "Dark24",
          "Dark24",
          "Dark24",
          "Dark24",
          "Dark24",
          "Dark24",
          "Dark24",
          "Dark24",
          "Dark24",
          "Dark24",
          "Dark24",
          "Dark24",
          "Dark24",
          "Dark24",
          "Dark24",
          "Dark24"
         ]
        },
        {
         "customdata": [
          0,
          1,
          2,
          3,
          4,
          5,
          6,
          7,
          8,
          9,
          10,
          11,
          12,
          13,
          14,
          15,
          16,
          17,
          18,
          19,
          20,
          21,
          22,
          23,
          24,
          25
         ],
         "hovertemplate": "%{y}[%{customdata}] = %{marker.color}<extra></extra>",
         "marker": {
          "color": [
           "#AA0DFE",
           "#3283FE",
           "#85660D",
           "#782AB6",
           "#565656",
           "#1C8356",
           "#16FF32",
           "#F7E1A0",
           "#E2E2E2",
           "#1CBE4F",
           "#C4451C",
           "#DEA0FD",
           "#FE00FA",
           "#325A9B",
           "#FEAF16",
           "#F8A19F",
           "#90AD1C",
           "#F6222E",
           "#1CFFCE",
           "#2ED9FF",
           "#B10DA1",
           "#C075A6",
           "#FC1CBF",
           "#B00068",
           "#FBE426",
           "#FA0087"
          ]
         },
         "orientation": "h",
         "type": "bar",
         "x": [
          1,
          1,
          1,
          1,
          1,
          1,
          1,
          1,
          1,
          1,
          1,
          1,
          1,
          1,
          1,
          1,
          1,
          1,
          1,
          1,
          1,
          1,
          1,
          1,
          1,
          1
         ],
         "y": [
          "Alphabet",
          "Alphabet",
          "Alphabet",
          "Alphabet",
          "Alphabet",
          "Alphabet",
          "Alphabet",
          "Alphabet",
          "Alphabet",
          "Alphabet",
          "Alphabet",
          "Alphabet",
          "Alphabet",
          "Alphabet",
          "Alphabet",
          "Alphabet",
          "Alphabet",
          "Alphabet",
          "Alphabet",
          "Alphabet",
          "Alphabet",
          "Alphabet",
          "Alphabet",
          "Alphabet",
          "Alphabet",
          "Alphabet"
         ]
        },
        {
         "customdata": [
          0,
          1,
          2,
          3,
          4,
          5,
          6,
          7,
          8,
          9
         ],
         "hovertemplate": "%{y}[%{customdata}] = %{marker.color}<extra></extra>",
         "marker": {
          "color": [
           "#4C78A8",
           "#F58518",
           "#E45756",
           "#72B7B2",
           "#54A24B",
           "#EECA3B",
           "#B279A2",
           "#FF9DA6",
           "#9D755D",
           "#BAB0AC"
          ]
         },
         "orientation": "h",
         "type": "bar",
         "x": [
          1,
          1,
          1,
          1,
          1,
          1,
          1,
          1,
          1,
          1
         ],
         "y": [
          "T10",
          "T10",
          "T10",
          "T10",
          "T10",
          "T10",
          "T10",
          "T10",
          "T10",
          "T10"
         ]
        },
        {
         "customdata": [
          0,
          1,
          2,
          3,
          4,
          5,
          6,
          7,
          8,
          9
         ],
         "hovertemplate": "%{y}[%{customdata}] = %{marker.color}<extra></extra>",
         "marker": {
          "color": [
           "#3366CC",
           "#DC3912",
           "#FF9900",
           "#109618",
           "#990099",
           "#0099C6",
           "#DD4477",
           "#66AA00",
           "#B82E2E",
           "#316395"
          ]
         },
         "orientation": "h",
         "type": "bar",
         "x": [
          1,
          1,
          1,
          1,
          1,
          1,
          1,
          1,
          1,
          1
         ],
         "y": [
          "G10",
          "G10",
          "G10",
          "G10",
          "G10",
          "G10",
          "G10",
          "G10",
          "G10",
          "G10"
         ]
        },
        {
         "customdata": [
          0,
          1,
          2,
          3,
          4,
          5,
          6,
          7,
          8,
          9
         ],
         "hovertemplate": "%{y}[%{customdata}] = %{marker.color}<extra></extra>",
         "marker": {
          "color": [
           "#1F77B4",
           "#FF7F0E",
           "#2CA02C",
           "#D62728",
           "#9467BD",
           "#8C564B",
           "#E377C2",
           "#7F7F7F",
           "#BCBD22",
           "#17BECF"
          ]
         },
         "orientation": "h",
         "type": "bar",
         "x": [
          1,
          1,
          1,
          1,
          1,
          1,
          1,
          1,
          1,
          1
         ],
         "y": [
          "D3",
          "D3",
          "D3",
          "D3",
          "D3",
          "D3",
          "D3",
          "D3",
          "D3",
          "D3"
         ]
        },
        {
         "customdata": [
          0,
          1,
          2,
          3,
          4,
          5,
          6,
          7,
          8,
          9
         ],
         "hovertemplate": "%{y}[%{customdata}] = %{marker.color}<extra></extra>",
         "marker": {
          "color": [
           "#636EFA",
           "#EF553B",
           "#00CC96",
           "#AB63FA",
           "#FFA15A",
           "#19D3F3",
           "#FF6692",
           "#B6E880",
           "#FF97FF",
           "#FECB52"
          ]
         },
         "orientation": "h",
         "type": "bar",
         "x": [
          1,
          1,
          1,
          1,
          1,
          1,
          1,
          1,
          1,
          1
         ],
         "y": [
          "Plotly",
          "Plotly",
          "Plotly",
          "Plotly",
          "Plotly",
          "Plotly",
          "Plotly",
          "Plotly",
          "Plotly",
          "Plotly"
         ]
        }
       ],
       "layout": {
        "bargap": 0.5,
        "barmode": "stack",
        "barnorm": "fraction",
        "height": 760,
        "margin": {
         "b": 10
        },
        "showlegend": false,
        "template": {
         "data": {
          "bar": [
           {
            "error_x": {
             "color": "#2a3f5f"
            },
            "error_y": {
             "color": "#2a3f5f"
            },
            "marker": {
             "line": {
              "color": "#E5ECF6",
              "width": 0.5
             },
             "pattern": {
              "fillmode": "overlay",
              "size": 10,
              "solidity": 0.2
             }
            },
            "type": "bar"
           }
          ],
          "barpolar": [
           {
            "marker": {
             "line": {
              "color": "#E5ECF6",
              "width": 0.5
             },
             "pattern": {
              "fillmode": "overlay",
              "size": 10,
              "solidity": 0.2
             }
            },
            "type": "barpolar"
           }
          ],
          "carpet": [
           {
            "aaxis": {
             "endlinecolor": "#2a3f5f",
             "gridcolor": "white",
             "linecolor": "white",
             "minorgridcolor": "white",
             "startlinecolor": "#2a3f5f"
            },
            "baxis": {
             "endlinecolor": "#2a3f5f",
             "gridcolor": "white",
             "linecolor": "white",
             "minorgridcolor": "white",
             "startlinecolor": "#2a3f5f"
            },
            "type": "carpet"
           }
          ],
          "choropleth": [
           {
            "colorbar": {
             "outlinewidth": 0,
             "ticks": ""
            },
            "type": "choropleth"
           }
          ],
          "contour": [
           {
            "colorbar": {
             "outlinewidth": 0,
             "ticks": ""
            },
            "colorscale": [
             [
              0,
              "#0d0887"
             ],
             [
              0.1111111111111111,
              "#46039f"
             ],
             [
              0.2222222222222222,
              "#7201a8"
             ],
             [
              0.3333333333333333,
              "#9c179e"
             ],
             [
              0.4444444444444444,
              "#bd3786"
             ],
             [
              0.5555555555555556,
              "#d8576b"
             ],
             [
              0.6666666666666666,
              "#ed7953"
             ],
             [
              0.7777777777777778,
              "#fb9f3a"
             ],
             [
              0.8888888888888888,
              "#fdca26"
             ],
             [
              1,
              "#f0f921"
             ]
            ],
            "type": "contour"
           }
          ],
          "contourcarpet": [
           {
            "colorbar": {
             "outlinewidth": 0,
             "ticks": ""
            },
            "type": "contourcarpet"
           }
          ],
          "heatmap": [
           {
            "colorbar": {
             "outlinewidth": 0,
             "ticks": ""
            },
            "colorscale": [
             [
              0,
              "#0d0887"
             ],
             [
              0.1111111111111111,
              "#46039f"
             ],
             [
              0.2222222222222222,
              "#7201a8"
             ],
             [
              0.3333333333333333,
              "#9c179e"
             ],
             [
              0.4444444444444444,
              "#bd3786"
             ],
             [
              0.5555555555555556,
              "#d8576b"
             ],
             [
              0.6666666666666666,
              "#ed7953"
             ],
             [
              0.7777777777777778,
              "#fb9f3a"
             ],
             [
              0.8888888888888888,
              "#fdca26"
             ],
             [
              1,
              "#f0f921"
             ]
            ],
            "type": "heatmap"
           }
          ],
          "heatmapgl": [
           {
            "colorbar": {
             "outlinewidth": 0,
             "ticks": ""
            },
            "colorscale": [
             [
              0,
              "#0d0887"
             ],
             [
              0.1111111111111111,
              "#46039f"
             ],
             [
              0.2222222222222222,
              "#7201a8"
             ],
             [
              0.3333333333333333,
              "#9c179e"
             ],
             [
              0.4444444444444444,
              "#bd3786"
             ],
             [
              0.5555555555555556,
              "#d8576b"
             ],
             [
              0.6666666666666666,
              "#ed7953"
             ],
             [
              0.7777777777777778,
              "#fb9f3a"
             ],
             [
              0.8888888888888888,
              "#fdca26"
             ],
             [
              1,
              "#f0f921"
             ]
            ],
            "type": "heatmapgl"
           }
          ],
          "histogram": [
           {
            "marker": {
             "pattern": {
              "fillmode": "overlay",
              "size": 10,
              "solidity": 0.2
             }
            },
            "type": "histogram"
           }
          ],
          "histogram2d": [
           {
            "colorbar": {
             "outlinewidth": 0,
             "ticks": ""
            },
            "colorscale": [
             [
              0,
              "#0d0887"
             ],
             [
              0.1111111111111111,
              "#46039f"
             ],
             [
              0.2222222222222222,
              "#7201a8"
             ],
             [
              0.3333333333333333,
              "#9c179e"
             ],
             [
              0.4444444444444444,
              "#bd3786"
             ],
             [
              0.5555555555555556,
              "#d8576b"
             ],
             [
              0.6666666666666666,
              "#ed7953"
             ],
             [
              0.7777777777777778,
              "#fb9f3a"
             ],
             [
              0.8888888888888888,
              "#fdca26"
             ],
             [
              1,
              "#f0f921"
             ]
            ],
            "type": "histogram2d"
           }
          ],
          "histogram2dcontour": [
           {
            "colorbar": {
             "outlinewidth": 0,
             "ticks": ""
            },
            "colorscale": [
             [
              0,
              "#0d0887"
             ],
             [
              0.1111111111111111,
              "#46039f"
             ],
             [
              0.2222222222222222,
              "#7201a8"
             ],
             [
              0.3333333333333333,
              "#9c179e"
             ],
             [
              0.4444444444444444,
              "#bd3786"
             ],
             [
              0.5555555555555556,
              "#d8576b"
             ],
             [
              0.6666666666666666,
              "#ed7953"
             ],
             [
              0.7777777777777778,
              "#fb9f3a"
             ],
             [
              0.8888888888888888,
              "#fdca26"
             ],
             [
              1,
              "#f0f921"
             ]
            ],
            "type": "histogram2dcontour"
           }
          ],
          "mesh3d": [
           {
            "colorbar": {
             "outlinewidth": 0,
             "ticks": ""
            },
            "type": "mesh3d"
           }
          ],
          "parcoords": [
           {
            "line": {
             "colorbar": {
              "outlinewidth": 0,
              "ticks": ""
             }
            },
            "type": "parcoords"
           }
          ],
          "pie": [
           {
            "automargin": true,
            "type": "pie"
           }
          ],
          "scatter": [
           {
            "fillpattern": {
             "fillmode": "overlay",
             "size": 10,
             "solidity": 0.2
            },
            "type": "scatter"
           }
          ],
          "scatter3d": [
           {
            "line": {
             "colorbar": {
              "outlinewidth": 0,
              "ticks": ""
             }
            },
            "marker": {
             "colorbar": {
              "outlinewidth": 0,
              "ticks": ""
             }
            },
            "type": "scatter3d"
           }
          ],
          "scattercarpet": [
           {
            "marker": {
             "colorbar": {
              "outlinewidth": 0,
              "ticks": ""
             }
            },
            "type": "scattercarpet"
           }
          ],
          "scattergeo": [
           {
            "marker": {
             "colorbar": {
              "outlinewidth": 0,
              "ticks": ""
             }
            },
            "type": "scattergeo"
           }
          ],
          "scattergl": [
           {
            "marker": {
             "colorbar": {
              "outlinewidth": 0,
              "ticks": ""
             }
            },
            "type": "scattergl"
           }
          ],
          "scattermapbox": [
           {
            "marker": {
             "colorbar": {
              "outlinewidth": 0,
              "ticks": ""
             }
            },
            "type": "scattermapbox"
           }
          ],
          "scatterpolar": [
           {
            "marker": {
             "colorbar": {
              "outlinewidth": 0,
              "ticks": ""
             }
            },
            "type": "scatterpolar"
           }
          ],
          "scatterpolargl": [
           {
            "marker": {
             "colorbar": {
              "outlinewidth": 0,
              "ticks": ""
             }
            },
            "type": "scatterpolargl"
           }
          ],
          "scatterternary": [
           {
            "marker": {
             "colorbar": {
              "outlinewidth": 0,
              "ticks": ""
             }
            },
            "type": "scatterternary"
           }
          ],
          "surface": [
           {
            "colorbar": {
             "outlinewidth": 0,
             "ticks": ""
            },
            "colorscale": [
             [
              0,
              "#0d0887"
             ],
             [
              0.1111111111111111,
              "#46039f"
             ],
             [
              0.2222222222222222,
              "#7201a8"
             ],
             [
              0.3333333333333333,
              "#9c179e"
             ],
             [
              0.4444444444444444,
              "#bd3786"
             ],
             [
              0.5555555555555556,
              "#d8576b"
             ],
             [
              0.6666666666666666,
              "#ed7953"
             ],
             [
              0.7777777777777778,
              "#fb9f3a"
             ],
             [
              0.8888888888888888,
              "#fdca26"
             ],
             [
              1,
              "#f0f921"
             ]
            ],
            "type": "surface"
           }
          ],
          "table": [
           {
            "cells": {
             "fill": {
              "color": "#EBF0F8"
             },
             "line": {
              "color": "white"
             }
            },
            "header": {
             "fill": {
              "color": "#C8D4E3"
             },
             "line": {
              "color": "white"
             }
            },
            "type": "table"
           }
          ]
         },
         "layout": {
          "annotationdefaults": {
           "arrowcolor": "#2a3f5f",
           "arrowhead": 0,
           "arrowwidth": 1
          },
          "autotypenumbers": "strict",
          "coloraxis": {
           "colorbar": {
            "outlinewidth": 0,
            "ticks": ""
           }
          },
          "colorscale": {
           "diverging": [
            [
             0,
             "#8e0152"
            ],
            [
             0.1,
             "#c51b7d"
            ],
            [
             0.2,
             "#de77ae"
            ],
            [
             0.3,
             "#f1b6da"
            ],
            [
             0.4,
             "#fde0ef"
            ],
            [
             0.5,
             "#f7f7f7"
            ],
            [
             0.6,
             "#e6f5d0"
            ],
            [
             0.7,
             "#b8e186"
            ],
            [
             0.8,
             "#7fbc41"
            ],
            [
             0.9,
             "#4d9221"
            ],
            [
             1,
             "#276419"
            ]
           ],
           "sequential": [
            [
             0,
             "#0d0887"
            ],
            [
             0.1111111111111111,
             "#46039f"
            ],
            [
             0.2222222222222222,
             "#7201a8"
            ],
            [
             0.3333333333333333,
             "#9c179e"
            ],
            [
             0.4444444444444444,
             "#bd3786"
            ],
            [
             0.5555555555555556,
             "#d8576b"
            ],
            [
             0.6666666666666666,
             "#ed7953"
            ],
            [
             0.7777777777777778,
             "#fb9f3a"
            ],
            [
             0.8888888888888888,
             "#fdca26"
            ],
            [
             1,
             "#f0f921"
            ]
           ],
           "sequentialminus": [
            [
             0,
             "#0d0887"
            ],
            [
             0.1111111111111111,
             "#46039f"
            ],
            [
             0.2222222222222222,
             "#7201a8"
            ],
            [
             0.3333333333333333,
             "#9c179e"
            ],
            [
             0.4444444444444444,
             "#bd3786"
            ],
            [
             0.5555555555555556,
             "#d8576b"
            ],
            [
             0.6666666666666666,
             "#ed7953"
            ],
            [
             0.7777777777777778,
             "#fb9f3a"
            ],
            [
             0.8888888888888888,
             "#fdca26"
            ],
            [
             1,
             "#f0f921"
            ]
           ]
          },
          "colorway": [
           "#636efa",
           "#EF553B",
           "#00cc96",
           "#ab63fa",
           "#FFA15A",
           "#19d3f3",
           "#FF6692",
           "#B6E880",
           "#FF97FF",
           "#FECB52"
          ],
          "font": {
           "color": "#2a3f5f"
          },
          "geo": {
           "bgcolor": "white",
           "lakecolor": "white",
           "landcolor": "#E5ECF6",
           "showlakes": true,
           "showland": true,
           "subunitcolor": "white"
          },
          "hoverlabel": {
           "align": "left"
          },
          "hovermode": "closest",
          "mapbox": {
           "style": "light"
          },
          "paper_bgcolor": "white",
          "plot_bgcolor": "#E5ECF6",
          "polar": {
           "angularaxis": {
            "gridcolor": "white",
            "linecolor": "white",
            "ticks": ""
           },
           "bgcolor": "#E5ECF6",
           "radialaxis": {
            "gridcolor": "white",
            "linecolor": "white",
            "ticks": ""
           }
          },
          "scene": {
           "xaxis": {
            "backgroundcolor": "#E5ECF6",
            "gridcolor": "white",
            "gridwidth": 2,
            "linecolor": "white",
            "showbackground": true,
            "ticks": "",
            "zerolinecolor": "white"
           },
           "yaxis": {
            "backgroundcolor": "#E5ECF6",
            "gridcolor": "white",
            "gridwidth": 2,
            "linecolor": "white",
            "showbackground": true,
            "ticks": "",
            "zerolinecolor": "white"
           },
           "zaxis": {
            "backgroundcolor": "#E5ECF6",
            "gridcolor": "white",
            "gridwidth": 2,
            "linecolor": "white",
            "showbackground": true,
            "ticks": "",
            "zerolinecolor": "white"
           }
          },
          "shapedefaults": {
           "line": {
            "color": "#2a3f5f"
           }
          },
          "ternary": {
           "aaxis": {
            "gridcolor": "white",
            "linecolor": "white",
            "ticks": ""
           },
           "baxis": {
            "gridcolor": "white",
            "linecolor": "white",
            "ticks": ""
           },
           "bgcolor": "#E5ECF6",
           "caxis": {
            "gridcolor": "white",
            "linecolor": "white",
            "ticks": ""
           }
          },
          "title": {
           "x": 0.05
          },
          "xaxis": {
           "automargin": true,
           "gridcolor": "white",
           "linecolor": "white",
           "ticks": "",
           "title": {
            "standoff": 15
           },
           "zerolinecolor": "white",
           "zerolinewidth": 2
          },
          "yaxis": {
           "automargin": true,
           "gridcolor": "white",
           "linecolor": "white",
           "ticks": "",
           "title": {
            "standoff": 15
           },
           "zerolinecolor": "white",
           "zerolinewidth": 2
          }
         }
        },
        "title": {
         "text": "plotly.colors.qualitative"
        },
        "xaxis": {
         "range": [
          -0.02,
          1.02
         ],
         "showgrid": false,
         "showticklabels": false
        }
       }
      }
     },
     "metadata": {},
     "output_type": "display_data"
    }
   ],
   "source": [
    "px.colors.qualitative.swatches()"
   ]
  },
  {
   "cell_type": "code",
   "execution_count": 25,
   "metadata": {},
   "outputs": [
    {
     "data": {
      "text/plain": [
       "['rgb(95, 70, 144)',\n",
       " 'rgb(29, 105, 150)',\n",
       " 'rgb(56, 166, 165)',\n",
       " 'rgb(15, 133, 84)',\n",
       " 'rgb(115, 175, 72)',\n",
       " 'rgb(237, 173, 8)',\n",
       " 'rgb(225, 124, 5)',\n",
       " 'rgb(204, 80, 62)',\n",
       " 'rgb(148, 52, 110)',\n",
       " 'rgb(111, 64, 112)',\n",
       " 'rgb(102, 102, 102)']"
      ]
     },
     "execution_count": 25,
     "metadata": {},
     "output_type": "execute_result"
    }
   ],
   "source": [
    "px.colors.qualitative.Prism"
   ]
  },
  {
   "cell_type": "markdown",
   "metadata": {},
   "source": [
    "# References"
   ]
  },
  {
   "cell_type": "markdown",
   "metadata": {},
   "source": [
    "1. [Scikit-learn documentation](https://scikit-learn.org/stable/index.html)\n",
    "2. [Plotly documentation](https://plotly.com/python/)\n",
    "3. Great ideas from Conor's [GitHub](https://github.com/conormm) and [blog](https://conormm.github.io/blog/)\n",
    "4. Multiple publications at [Towardsdatascience](https://towardsdatascience.com/)\n",
    "5. Foundations from Deeplearning.AI [cources](https://www.deeplearning.ai/courses/machine-learning-specialization/) by Andrew Ng\n",
    "6. My previous projects for NARMYD and IDIBAPS under NDA untill they publish their results"
   ]
  }
 ],
 "metadata": {
  "kernelspec": {
   "display_name": "molecularbionics",
   "language": "python",
   "name": "python3"
  },
  "language_info": {
   "codemirror_mode": {
    "name": "ipython",
    "version": 3
   },
   "file_extension": ".py",
   "mimetype": "text/x-python",
   "name": "python",
   "nbconvert_exporter": "python",
   "pygments_lexer": "ipython3",
   "version": "3.11.0"
  }
 },
 "nbformat": 4,
 "nbformat_minor": 2
}
